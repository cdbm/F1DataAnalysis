{
  "nbformat": 4,
  "nbformat_minor": 0,
  "metadata": {
    "colab": {
      "name": "Prediction.ipynb",
      "provenance": [],
      "collapsed_sections": [],
      "authorship_tag": "ABX9TyPiPxfiITBtesFjVYV0XAD3",
      "include_colab_link": true
    },
    "kernelspec": {
      "name": "python3",
      "display_name": "Python 3"
    }
  },
  "cells": [
    {
      "cell_type": "markdown",
      "metadata": {
        "id": "view-in-github",
        "colab_type": "text"
      },
      "source": [
        "<a href=\"https://colab.research.google.com/github/cdbm/F1DataAnalysis/blob/master/Prediction.ipynb\" target=\"_parent\"><img src=\"https://colab.research.google.com/assets/colab-badge.svg\" alt=\"Open In Colab\"/></a>"
      ]
    },
    {
      "cell_type": "code",
      "metadata": {
        "id": "DoVoCe3xAaIe"
      },
      "source": [
        "import numpy as np\n",
        "import pandas as pd\n",
        "import matplotlib.pyplot as plt"
      ],
      "execution_count": 1,
      "outputs": []
    },
    {
      "cell_type": "code",
      "metadata": {
        "id": "ZShIwjxqWSj1"
      },
      "source": [
        ""
      ],
      "execution_count": 1,
      "outputs": []
    },
    {
      "cell_type": "code",
      "metadata": {
        "id": "q1Kt_gC7AiCN"
      },
      "source": [
        "results=pd.read_csv(\"https://raw.githubusercontent.com/cdbm/F1DataAnalysis/master/f1_data/results.csv\")\n",
        "lap_times=pd.read_csv(\"https://raw.githubusercontent.com/cdbm/F1DataAnalysis/master/f1_data/lap_times.csv\")\n",
        "races=pd.read_csv(\"https://raw.githubusercontent.com/cdbm/F1DataAnalysis/master/f1_data/races.csv\")"
      ],
      "execution_count": 2,
      "outputs": []
    },
    {
      "cell_type": "code",
      "metadata": {
        "id": "fugQtyVrGG30"
      },
      "source": [
        "results = results[results.position != '\\\\N']\n",
        "results = results[results.milliseconds != '\\\\N']\n",
        "results = results[results.fastestLapSpeed != '\\\\N']"
      ],
      "execution_count": 3,
      "outputs": []
    },
    {
      "cell_type": "code",
      "metadata": {
        "id": "f_VdOcj3dhu9",
        "outputId": "779e28ac-681e-4abe-b749-b50e7c17eb97",
        "colab": {
          "base_uri": "https://localhost:8080/",
          "height": 419
        }
      },
      "source": [
        "races[races.circuitId == 6]"
      ],
      "execution_count": 4,
      "outputs": [
        {
          "output_type": "execute_result",
          "data": {
            "text/html": [
              "<div>\n",
              "<style scoped>\n",
              "    .dataframe tbody tr th:only-of-type {\n",
              "        vertical-align: middle;\n",
              "    }\n",
              "\n",
              "    .dataframe tbody tr th {\n",
              "        vertical-align: top;\n",
              "    }\n",
              "\n",
              "    .dataframe thead th {\n",
              "        text-align: right;\n",
              "    }\n",
              "</style>\n",
              "<table border=\"1\" class=\"dataframe\">\n",
              "  <thead>\n",
              "    <tr style=\"text-align: right;\">\n",
              "      <th></th>\n",
              "      <th>raceId</th>\n",
              "      <th>year</th>\n",
              "      <th>round</th>\n",
              "      <th>circuitId</th>\n",
              "      <th>name</th>\n",
              "      <th>date</th>\n",
              "      <th>time</th>\n",
              "      <th>url</th>\n",
              "    </tr>\n",
              "  </thead>\n",
              "  <tbody>\n",
              "    <tr>\n",
              "      <th>5</th>\n",
              "      <td>6</td>\n",
              "      <td>2009</td>\n",
              "      <td>6</td>\n",
              "      <td>6</td>\n",
              "      <td>Monaco Grand Prix</td>\n",
              "      <td>2009-05-24</td>\n",
              "      <td>12:00:00</td>\n",
              "      <td>http://en.wikipedia.org/wiki/2009_Monaco_Grand...</td>\n",
              "    </tr>\n",
              "    <tr>\n",
              "      <th>22</th>\n",
              "      <td>23</td>\n",
              "      <td>2008</td>\n",
              "      <td>6</td>\n",
              "      <td>6</td>\n",
              "      <td>Monaco Grand Prix</td>\n",
              "      <td>2008-05-25</td>\n",
              "      <td>12:00:00</td>\n",
              "      <td>http://en.wikipedia.org/wiki/2008_Monaco_Grand...</td>\n",
              "    </tr>\n",
              "    <tr>\n",
              "      <th>39</th>\n",
              "      <td>40</td>\n",
              "      <td>2007</td>\n",
              "      <td>5</td>\n",
              "      <td>6</td>\n",
              "      <td>Monaco Grand Prix</td>\n",
              "      <td>2007-05-27</td>\n",
              "      <td>12:00:00</td>\n",
              "      <td>http://en.wikipedia.org/wiki/2007_Monaco_Grand...</td>\n",
              "    </tr>\n",
              "    <tr>\n",
              "      <th>58</th>\n",
              "      <td>59</td>\n",
              "      <td>2006</td>\n",
              "      <td>7</td>\n",
              "      <td>6</td>\n",
              "      <td>Monaco Grand Prix</td>\n",
              "      <td>2006-05-28</td>\n",
              "      <td>14:00:00</td>\n",
              "      <td>http://en.wikipedia.org/wiki/2006_Monaco_Grand...</td>\n",
              "    </tr>\n",
              "    <tr>\n",
              "      <th>75</th>\n",
              "      <td>76</td>\n",
              "      <td>2005</td>\n",
              "      <td>6</td>\n",
              "      <td>6</td>\n",
              "      <td>Monaco Grand Prix</td>\n",
              "      <td>2005-05-22</td>\n",
              "      <td>14:00:00</td>\n",
              "      <td>http://en.wikipedia.org/wiki/2005_Monaco_Grand...</td>\n",
              "    </tr>\n",
              "    <tr>\n",
              "      <th>...</th>\n",
              "      <td>...</td>\n",
              "      <td>...</td>\n",
              "      <td>...</td>\n",
              "      <td>...</td>\n",
              "      <td>...</td>\n",
              "      <td>...</td>\n",
              "      <td>...</td>\n",
              "      <td>...</td>\n",
              "    </tr>\n",
              "    <tr>\n",
              "      <th>916</th>\n",
              "      <td>931</td>\n",
              "      <td>2015</td>\n",
              "      <td>6</td>\n",
              "      <td>6</td>\n",
              "      <td>Monaco Grand Prix</td>\n",
              "      <td>2015-05-24</td>\n",
              "      <td>12:00:00</td>\n",
              "      <td>http://en.wikipedia.org/wiki/2015_Monaco_Grand...</td>\n",
              "    </tr>\n",
              "    <tr>\n",
              "      <th>940</th>\n",
              "      <td>953</td>\n",
              "      <td>2016</td>\n",
              "      <td>6</td>\n",
              "      <td>6</td>\n",
              "      <td>Monaco Grand Prix</td>\n",
              "      <td>2016-05-29</td>\n",
              "      <td>12:00:00</td>\n",
              "      <td>https://en.wikipedia.org/wiki/2016_Monaco_Gran...</td>\n",
              "    </tr>\n",
              "    <tr>\n",
              "      <th>961</th>\n",
              "      <td>974</td>\n",
              "      <td>2017</td>\n",
              "      <td>6</td>\n",
              "      <td>6</td>\n",
              "      <td>Monaco Grand Prix</td>\n",
              "      <td>2017-05-28</td>\n",
              "      <td>12:00:00</td>\n",
              "      <td>https://en.wikipedia.org/wiki/2017_Monaco_Gran...</td>\n",
              "    </tr>\n",
              "    <tr>\n",
              "      <th>981</th>\n",
              "      <td>994</td>\n",
              "      <td>2018</td>\n",
              "      <td>6</td>\n",
              "      <td>6</td>\n",
              "      <td>Monaco Grand Prix</td>\n",
              "      <td>2018-05-27</td>\n",
              "      <td>13:10:00</td>\n",
              "      <td>https://en.wikipedia.org/wiki/2018_Monaco_Gran...</td>\n",
              "    </tr>\n",
              "    <tr>\n",
              "      <th>1002</th>\n",
              "      <td>1015</td>\n",
              "      <td>2019</td>\n",
              "      <td>6</td>\n",
              "      <td>6</td>\n",
              "      <td>Monaco Grand Prix</td>\n",
              "      <td>2019-05-26</td>\n",
              "      <td>13:10:00</td>\n",
              "      <td>https://en.wikipedia.org/wiki/2019_Monaco_Gran...</td>\n",
              "    </tr>\n",
              "  </tbody>\n",
              "</table>\n",
              "<p>66 rows × 8 columns</p>\n",
              "</div>"
            ],
            "text/plain": [
              "      raceId  year  ...      time                                                url\n",
              "5          6  2009  ...  12:00:00  http://en.wikipedia.org/wiki/2009_Monaco_Grand...\n",
              "22        23  2008  ...  12:00:00  http://en.wikipedia.org/wiki/2008_Monaco_Grand...\n",
              "39        40  2007  ...  12:00:00  http://en.wikipedia.org/wiki/2007_Monaco_Grand...\n",
              "58        59  2006  ...  14:00:00  http://en.wikipedia.org/wiki/2006_Monaco_Grand...\n",
              "75        76  2005  ...  14:00:00  http://en.wikipedia.org/wiki/2005_Monaco_Grand...\n",
              "...      ...   ...  ...       ...                                                ...\n",
              "916      931  2015  ...  12:00:00  http://en.wikipedia.org/wiki/2015_Monaco_Grand...\n",
              "940      953  2016  ...  12:00:00  https://en.wikipedia.org/wiki/2016_Monaco_Gran...\n",
              "961      974  2017  ...  12:00:00  https://en.wikipedia.org/wiki/2017_Monaco_Gran...\n",
              "981      994  2018  ...  13:10:00  https://en.wikipedia.org/wiki/2018_Monaco_Gran...\n",
              "1002    1015  2019  ...  13:10:00  https://en.wikipedia.org/wiki/2019_Monaco_Gran...\n",
              "\n",
              "[66 rows x 8 columns]"
            ]
          },
          "metadata": {
            "tags": []
          },
          "execution_count": 4
        }
      ]
    },
    {
      "cell_type": "code",
      "metadata": {
        "id": "TYcRLhbpdnHx"
      },
      "source": [
        "results[\"circuitId\"] = results.raceId.map(races.set_index('raceId')['circuitId'])"
      ],
      "execution_count": 5,
      "outputs": []
    },
    {
      "cell_type": "code",
      "metadata": {
        "id": "aA4Xij9ObrmL"
      },
      "source": [
        "results = results[results.circuitId == 6]"
      ],
      "execution_count": 6,
      "outputs": []
    },
    {
      "cell_type": "code",
      "metadata": {
        "id": "37BlbHY_Ankw",
        "outputId": "9b418b52-d736-4034-f948-1e7a05719bb5",
        "colab": {
          "base_uri": "https://localhost:8080/"
        }
      },
      "source": [
        "results.positionText.unique()"
      ],
      "execution_count": 7,
      "outputs": [
        {
          "output_type": "execute_result",
          "data": {
            "text/plain": [
              "array(['1', '2', '3', '4', '5', '6', '7', '8', '9', '10', '11', '12',\n",
              "       '13', '14', '15'], dtype=object)"
            ]
          },
          "metadata": {
            "tags": []
          },
          "execution_count": 7
        }
      ]
    },
    {
      "cell_type": "code",
      "metadata": {
        "id": "ZevSAjdVCc5r",
        "outputId": "68721714-e15a-425a-ab63-9f3e16a8341e",
        "colab": {
          "base_uri": "https://localhost:8080/"
        }
      },
      "source": [
        "results.positionOrder.unique()"
      ],
      "execution_count": 8,
      "outputs": [
        {
          "output_type": "execute_result",
          "data": {
            "text/plain": [
              "array([ 1,  2,  3,  4,  5,  6,  7,  8,  9, 10, 11, 12, 13, 14, 15])"
            ]
          },
          "metadata": {
            "tags": []
          },
          "execution_count": 8
        }
      ]
    },
    {
      "cell_type": "code",
      "metadata": {
        "id": "lbHRxhm1ReGK"
      },
      "source": [
        "races = results.raceId.unique()"
      ],
      "execution_count": 9,
      "outputs": []
    },
    {
      "cell_type": "code",
      "metadata": {
        "id": "9sryAt2dTq9-"
      },
      "source": [
        "results = results.drop('number', axis=1)\n",
        "results = results.drop('statusId', axis=1)\n",
        "results = results.drop('time', axis=1)\n",
        "results = results.drop('fastestLapTime', axis=1)\n",
        "results = results.drop('positionOrder', axis=1)\n",
        "results = results.drop('positionText', axis=1)\n",
        "results = results.drop('resultId', axis=1)"
      ],
      "execution_count": 10,
      "outputs": []
    },
    {
      "cell_type": "code",
      "metadata": {
        "id": "6NGRe6mLBd_5",
        "outputId": "99ca3a51-9066-49f4-f76c-14dc4c1cab29",
        "colab": {
          "base_uri": "https://localhost:8080/",
          "height": 419
        }
      },
      "source": [
        "results"
      ],
      "execution_count": 11,
      "outputs": [
        {
          "output_type": "execute_result",
          "data": {
            "text/html": [
              "<div>\n",
              "<style scoped>\n",
              "    .dataframe tbody tr th:only-of-type {\n",
              "        vertical-align: middle;\n",
              "    }\n",
              "\n",
              "    .dataframe tbody tr th {\n",
              "        vertical-align: top;\n",
              "    }\n",
              "\n",
              "    .dataframe thead th {\n",
              "        text-align: right;\n",
              "    }\n",
              "</style>\n",
              "<table border=\"1\" class=\"dataframe\">\n",
              "  <thead>\n",
              "    <tr style=\"text-align: right;\">\n",
              "      <th></th>\n",
              "      <th>raceId</th>\n",
              "      <th>driverId</th>\n",
              "      <th>constructorId</th>\n",
              "      <th>grid</th>\n",
              "      <th>position</th>\n",
              "      <th>points</th>\n",
              "      <th>laps</th>\n",
              "      <th>milliseconds</th>\n",
              "      <th>fastestLap</th>\n",
              "      <th>rank</th>\n",
              "      <th>fastestLapSpeed</th>\n",
              "      <th>circuitId</th>\n",
              "    </tr>\n",
              "  </thead>\n",
              "  <tbody>\n",
              "    <tr>\n",
              "      <th>108</th>\n",
              "      <td>23</td>\n",
              "      <td>1</td>\n",
              "      <td>1</td>\n",
              "      <td>3</td>\n",
              "      <td>1</td>\n",
              "      <td>10.0</td>\n",
              "      <td>76</td>\n",
              "      <td>7242742</td>\n",
              "      <td>71</td>\n",
              "      <td>6</td>\n",
              "      <td>153.152</td>\n",
              "      <td>6</td>\n",
              "    </tr>\n",
              "    <tr>\n",
              "      <th>109</th>\n",
              "      <td>23</td>\n",
              "      <td>9</td>\n",
              "      <td>2</td>\n",
              "      <td>5</td>\n",
              "      <td>2</td>\n",
              "      <td>8.0</td>\n",
              "      <td>76</td>\n",
              "      <td>7245806</td>\n",
              "      <td>75</td>\n",
              "      <td>5</td>\n",
              "      <td>154.286</td>\n",
              "      <td>6</td>\n",
              "    </tr>\n",
              "    <tr>\n",
              "      <th>110</th>\n",
              "      <td>23</td>\n",
              "      <td>13</td>\n",
              "      <td>6</td>\n",
              "      <td>1</td>\n",
              "      <td>3</td>\n",
              "      <td>6.0</td>\n",
              "      <td>76</td>\n",
              "      <td>7247553</td>\n",
              "      <td>76</td>\n",
              "      <td>4</td>\n",
              "      <td>154.379</td>\n",
              "      <td>6</td>\n",
              "    </tr>\n",
              "    <tr>\n",
              "      <th>111</th>\n",
              "      <td>23</td>\n",
              "      <td>17</td>\n",
              "      <td>9</td>\n",
              "      <td>9</td>\n",
              "      <td>4</td>\n",
              "      <td>5.0</td>\n",
              "      <td>76</td>\n",
              "      <td>7262037</td>\n",
              "      <td>74</td>\n",
              "      <td>8</td>\n",
              "      <td>152.133</td>\n",
              "      <td>6</td>\n",
              "    </tr>\n",
              "    <tr>\n",
              "      <th>112</th>\n",
              "      <td>23</td>\n",
              "      <td>20</td>\n",
              "      <td>5</td>\n",
              "      <td>19</td>\n",
              "      <td>5</td>\n",
              "      <td>4.0</td>\n",
              "      <td>76</td>\n",
              "      <td>7267399</td>\n",
              "      <td>74</td>\n",
              "      <td>7</td>\n",
              "      <td>152.614</td>\n",
              "      <td>6</td>\n",
              "    </tr>\n",
              "    <tr>\n",
              "      <th>...</th>\n",
              "      <td>...</td>\n",
              "      <td>...</td>\n",
              "      <td>...</td>\n",
              "      <td>...</td>\n",
              "      <td>...</td>\n",
              "      <td>...</td>\n",
              "      <td>...</td>\n",
              "      <td>...</td>\n",
              "      <td>...</td>\n",
              "      <td>...</td>\n",
              "      <td>...</td>\n",
              "      <td>...</td>\n",
              "    </tr>\n",
              "    <tr>\n",
              "      <th>24306</th>\n",
              "      <td>1015</td>\n",
              "      <td>826</td>\n",
              "      <td>5</td>\n",
              "      <td>7</td>\n",
              "      <td>7</td>\n",
              "      <td>6.0</td>\n",
              "      <td>78</td>\n",
              "      <td>6263011</td>\n",
              "      <td>31</td>\n",
              "      <td>10</td>\n",
              "      <td>157.471</td>\n",
              "      <td>6</td>\n",
              "    </tr>\n",
              "    <tr>\n",
              "      <th>24307</th>\n",
              "      <td>1015</td>\n",
              "      <td>848</td>\n",
              "      <td>5</td>\n",
              "      <td>10</td>\n",
              "      <td>8</td>\n",
              "      <td>4.0</td>\n",
              "      <td>78</td>\n",
              "      <td>6263637</td>\n",
              "      <td>43</td>\n",
              "      <td>3</td>\n",
              "      <td>158.890</td>\n",
              "      <td>6</td>\n",
              "    </tr>\n",
              "    <tr>\n",
              "      <th>24308</th>\n",
              "      <td>1015</td>\n",
              "      <td>817</td>\n",
              "      <td>4</td>\n",
              "      <td>6</td>\n",
              "      <td>9</td>\n",
              "      <td>2.0</td>\n",
              "      <td>78</td>\n",
              "      <td>6269331</td>\n",
              "      <td>78</td>\n",
              "      <td>4</td>\n",
              "      <td>158.701</td>\n",
              "      <td>6</td>\n",
              "    </tr>\n",
              "    <tr>\n",
              "      <th>24309</th>\n",
              "      <td>1015</td>\n",
              "      <td>154</td>\n",
              "      <td>210</td>\n",
              "      <td>13</td>\n",
              "      <td>10</td>\n",
              "      <td>1.0</td>\n",
              "      <td>78</td>\n",
              "      <td>6269471</td>\n",
              "      <td>41</td>\n",
              "      <td>16</td>\n",
              "      <td>156.531</td>\n",
              "      <td>6</td>\n",
              "    </tr>\n",
              "    <tr>\n",
              "      <th>24310</th>\n",
              "      <td>1015</td>\n",
              "      <td>846</td>\n",
              "      <td>1</td>\n",
              "      <td>12</td>\n",
              "      <td>11</td>\n",
              "      <td>0.0</td>\n",
              "      <td>78</td>\n",
              "      <td>6275238</td>\n",
              "      <td>61</td>\n",
              "      <td>13</td>\n",
              "      <td>157.214</td>\n",
              "      <td>6</td>\n",
              "    </tr>\n",
              "  </tbody>\n",
              "</table>\n",
              "<p>143 rows × 12 columns</p>\n",
              "</div>"
            ],
            "text/plain": [
              "       raceId  driverId  constructorId  ...  rank fastestLapSpeed  circuitId\n",
              "108        23         1              1  ...     6         153.152          6\n",
              "109        23         9              2  ...     5         154.286          6\n",
              "110        23        13              6  ...     4         154.379          6\n",
              "111        23        17              9  ...     8         152.133          6\n",
              "112        23        20              5  ...     7         152.614          6\n",
              "...       ...       ...            ...  ...   ...             ...        ...\n",
              "24306    1015       826              5  ...    10         157.471          6\n",
              "24307    1015       848              5  ...     3         158.890          6\n",
              "24308    1015       817              4  ...     4         158.701          6\n",
              "24309    1015       154            210  ...    16         156.531          6\n",
              "24310    1015       846              1  ...    13         157.214          6\n",
              "\n",
              "[143 rows x 12 columns]"
            ]
          },
          "metadata": {
            "tags": []
          },
          "execution_count": 11
        }
      ]
    },
    {
      "cell_type": "code",
      "metadata": {
        "id": "nJAFRV2fU6g6"
      },
      "source": [
        "results.fastestLapSpeed = results.fastestLapSpeed.astype('float64')\n",
        "results.milliseconds = results.milliseconds.astype('int64')\n",
        "results.fastestLap = results.fastestLap.astype('int64')\n",
        "results[\"rank\"] = results[\"rank\"].astype('int64')"
      ],
      "execution_count": 12,
      "outputs": []
    },
    {
      "cell_type": "code",
      "metadata": {
        "id": "NXZUDadRC1In",
        "outputId": "f4437b57-2ad4-467a-f3b0-17283000c8c2",
        "colab": {
          "base_uri": "https://localhost:8080/"
        }
      },
      "source": [
        "results.dtypes"
      ],
      "execution_count": 13,
      "outputs": [
        {
          "output_type": "execute_result",
          "data": {
            "text/plain": [
              "raceId               int64\n",
              "driverId             int64\n",
              "constructorId        int64\n",
              "grid                 int64\n",
              "position            object\n",
              "points             float64\n",
              "laps                 int64\n",
              "milliseconds         int64\n",
              "fastestLap           int64\n",
              "rank                 int64\n",
              "fastestLapSpeed    float64\n",
              "circuitId            int64\n",
              "dtype: object"
            ]
          },
          "metadata": {
            "tags": []
          },
          "execution_count": 13
        }
      ]
    },
    {
      "cell_type": "code",
      "metadata": {
        "id": "Kc00Tdf8Vqid",
        "outputId": "915d6a08-5b40-41ce-c662-27d3654ba864",
        "colab": {
          "base_uri": "https://localhost:8080/"
        }
      },
      "source": [
        "results.position.unique()"
      ],
      "execution_count": 14,
      "outputs": [
        {
          "output_type": "execute_result",
          "data": {
            "text/plain": [
              "array(['1', '2', '3', '4', '5', '6', '7', '8', '9', '10', '11', '12',\n",
              "       '13', '14', '15'], dtype=object)"
            ]
          },
          "metadata": {
            "tags": []
          },
          "execution_count": 14
        }
      ]
    },
    {
      "cell_type": "code",
      "metadata": {
        "id": "UwsFFiaSWvGN"
      },
      "source": [
        "from sklearn.model_selection import train_test_split\n",
        "x_results = results.drop('position', axis=1)\n",
        "y_results = results['position']"
      ],
      "execution_count": 15,
      "outputs": []
    },
    {
      "cell_type": "code",
      "metadata": {
        "id": "1YCQASmOW8Lm"
      },
      "source": [
        "x_results"
      ],
      "execution_count": null,
      "outputs": []
    },
    {
      "cell_type": "code",
      "metadata": {
        "id": "RbR392i8W959"
      },
      "source": [
        "y_results"
      ],
      "execution_count": null,
      "outputs": []
    },
    {
      "cell_type": "code",
      "metadata": {
        "id": "gCZo_TIiYcug"
      },
      "source": [
        "Xtrain, Xtest, ytrain, ytest = train_test_split(x_results, y_results, random_state=1)"
      ],
      "execution_count": 18,
      "outputs": []
    },
    {
      "cell_type": "code",
      "metadata": {
        "id": "ZnGQAZDlYsn6"
      },
      "source": [
        "from sklearn.neighbors import KNeighborsClassifier\n",
        "model = KNeighborsClassifier(n_neighbors=4)             \n",
        "model.fit(Xtrain, ytrain)                  \n",
        "prediction = model.predict(Xtest)   "
      ],
      "execution_count": 19,
      "outputs": []
    },
    {
      "cell_type": "code",
      "metadata": {
        "id": "o7bZk-czYx85",
        "outputId": "c3c85209-fc52-4ebe-ec0b-f899e3771694",
        "colab": {
          "base_uri": "https://localhost:8080/"
        }
      },
      "source": [
        "from sklearn.metrics import accuracy_score\n",
        "from sklearn.metrics import accuracy_score\n",
        "accuracy = accuracy_score(ytest, prediction)\n",
        "print(prediction.shape)\n",
        "print(ytest.shape)\n",
        "print('accuracy', accuracy)"
      ],
      "execution_count": 20,
      "outputs": [
        {
          "output_type": "stream",
          "text": [
            "(36,)\n",
            "(36,)\n",
            "accuracy 0.05555555555555555\n"
          ],
          "name": "stdout"
        }
      ]
    },
    {
      "cell_type": "code",
      "metadata": {
        "id": "2T1woEsQhJ5a"
      },
      "source": [
        "qualifying=pd.read_csv(\"https://raw.githubusercontent.com/cdbm/F1DataAnalysis/master/f1_data/qualifying.csv\")"
      ],
      "execution_count": 88,
      "outputs": []
    },
    {
      "cell_type": "code",
      "metadata": {
        "id": "OjMQlD5IhKrK",
        "outputId": "653acb66-3b57-4755-9813-e4e61321cbbd",
        "colab": {
          "base_uri": "https://localhost:8080/"
        }
      },
      "source": [
        "qualifying = qualifying[qualifying.q1 != '\\\\N']\n",
        "qualifying = qualifying[qualifying.q2 != '\\\\N']\n",
        "qualifying = qualifying[qualifying.q3 != '\\\\N']\n",
        "qualifying.dtypes"
      ],
      "execution_count": 96,
      "outputs": [
        {
          "output_type": "execute_result",
          "data": {
            "text/plain": [
              "qualifyId          int64\n",
              "raceId             int64\n",
              "driverId           int64\n",
              "constructorId      int64\n",
              "number             int64\n",
              "position           int64\n",
              "q1               float64\n",
              "q2               float64\n",
              "q3               float64\n",
              "dtype: object"
            ]
          },
          "metadata": {
            "tags": []
          },
          "execution_count": 96
        }
      ]
    },
    {
      "cell_type": "code",
      "metadata": {
        "id": "3UDlWX8OoVTU"
      },
      "source": [
        "from datetime import datetime\n",
        "\n",
        "qualifying.q1 = [(pd.to_datetime(qtime, format='%M:%S.%f') - datetime(1970,1,1)).total_seconds() for qtime in qualifying.q1]\n",
        "\n",
        "qualifying.q2 = [(pd.to_datetime(qtime, format='%M:%S.%f') - datetime(1970,1,1)).total_seconds() for qtime in qualifying.q2]\n",
        "qualifying.q3 = [(pd.to_datetime(qtime, format='%M:%S.%f') - datetime(1970,1,1)).total_seconds() for qtime in qualifying.q3]\n"
      ],
      "execution_count": 95,
      "outputs": []
    },
    {
      "cell_type": "code",
      "metadata": {
        "id": "rtq6pDoUpHs6",
        "outputId": "01c0a8ab-fd18-457f-ba14-4cb4522bfe1c",
        "colab": {
          "base_uri": "https://localhost:8080/",
          "height": 419
        }
      },
      "source": [
        "qualifying"
      ],
      "execution_count": 97,
      "outputs": [
        {
          "output_type": "execute_result",
          "data": {
            "text/html": [
              "<div>\n",
              "<style scoped>\n",
              "    .dataframe tbody tr th:only-of-type {\n",
              "        vertical-align: middle;\n",
              "    }\n",
              "\n",
              "    .dataframe tbody tr th {\n",
              "        vertical-align: top;\n",
              "    }\n",
              "\n",
              "    .dataframe thead th {\n",
              "        text-align: right;\n",
              "    }\n",
              "</style>\n",
              "<table border=\"1\" class=\"dataframe\">\n",
              "  <thead>\n",
              "    <tr style=\"text-align: right;\">\n",
              "      <th></th>\n",
              "      <th>qualifyId</th>\n",
              "      <th>raceId</th>\n",
              "      <th>driverId</th>\n",
              "      <th>constructorId</th>\n",
              "      <th>number</th>\n",
              "      <th>position</th>\n",
              "      <th>q1</th>\n",
              "      <th>q2</th>\n",
              "      <th>q3</th>\n",
              "    </tr>\n",
              "  </thead>\n",
              "  <tbody>\n",
              "    <tr>\n",
              "      <th>0</th>\n",
              "      <td>1</td>\n",
              "      <td>18</td>\n",
              "      <td>1</td>\n",
              "      <td>1</td>\n",
              "      <td>22</td>\n",
              "      <td>1</td>\n",
              "      <td>-2.208989e+09</td>\n",
              "      <td>-2.208989e+09</td>\n",
              "      <td>-2.208989e+09</td>\n",
              "    </tr>\n",
              "    <tr>\n",
              "      <th>1</th>\n",
              "      <td>2</td>\n",
              "      <td>18</td>\n",
              "      <td>9</td>\n",
              "      <td>2</td>\n",
              "      <td>4</td>\n",
              "      <td>2</td>\n",
              "      <td>-2.208989e+09</td>\n",
              "      <td>-2.208989e+09</td>\n",
              "      <td>-2.208989e+09</td>\n",
              "    </tr>\n",
              "    <tr>\n",
              "      <th>2</th>\n",
              "      <td>3</td>\n",
              "      <td>18</td>\n",
              "      <td>5</td>\n",
              "      <td>1</td>\n",
              "      <td>23</td>\n",
              "      <td>3</td>\n",
              "      <td>-2.208989e+09</td>\n",
              "      <td>-2.208989e+09</td>\n",
              "      <td>-2.208989e+09</td>\n",
              "    </tr>\n",
              "    <tr>\n",
              "      <th>3</th>\n",
              "      <td>4</td>\n",
              "      <td>18</td>\n",
              "      <td>13</td>\n",
              "      <td>6</td>\n",
              "      <td>2</td>\n",
              "      <td>4</td>\n",
              "      <td>-2.208989e+09</td>\n",
              "      <td>-2.208989e+09</td>\n",
              "      <td>-2.208989e+09</td>\n",
              "    </tr>\n",
              "    <tr>\n",
              "      <th>4</th>\n",
              "      <td>5</td>\n",
              "      <td>18</td>\n",
              "      <td>2</td>\n",
              "      <td>2</td>\n",
              "      <td>3</td>\n",
              "      <td>5</td>\n",
              "      <td>-2.208989e+09</td>\n",
              "      <td>-2.208989e+09</td>\n",
              "      <td>-2.208989e+09</td>\n",
              "    </tr>\n",
              "    <tr>\n",
              "      <th>...</th>\n",
              "      <td>...</td>\n",
              "      <td>...</td>\n",
              "      <td>...</td>\n",
              "      <td>...</td>\n",
              "      <td>...</td>\n",
              "      <td>...</td>\n",
              "      <td>...</td>\n",
              "      <td>...</td>\n",
              "      <td>...</td>\n",
              "    </tr>\n",
              "    <tr>\n",
              "      <th>8459</th>\n",
              "      <td>8483</td>\n",
              "      <td>1036</td>\n",
              "      <td>848</td>\n",
              "      <td>9</td>\n",
              "      <td>23</td>\n",
              "      <td>6</td>\n",
              "      <td>-2.208989e+09</td>\n",
              "      <td>-2.208989e+09</td>\n",
              "      <td>-2.208989e+09</td>\n",
              "    </tr>\n",
              "    <tr>\n",
              "      <th>8460</th>\n",
              "      <td>8484</td>\n",
              "      <td>1036</td>\n",
              "      <td>832</td>\n",
              "      <td>1</td>\n",
              "      <td>55</td>\n",
              "      <td>7</td>\n",
              "      <td>-2.208989e+09</td>\n",
              "      <td>-2.208989e+09</td>\n",
              "      <td>-2.208989e+09</td>\n",
              "    </tr>\n",
              "    <tr>\n",
              "      <th>8461</th>\n",
              "      <td>8485</td>\n",
              "      <td>1036</td>\n",
              "      <td>846</td>\n",
              "      <td>1</td>\n",
              "      <td>4</td>\n",
              "      <td>8</td>\n",
              "      <td>-2.208989e+09</td>\n",
              "      <td>-2.208989e+09</td>\n",
              "      <td>-2.208989e+09</td>\n",
              "    </tr>\n",
              "    <tr>\n",
              "      <th>8462</th>\n",
              "      <td>8486</td>\n",
              "      <td>1036</td>\n",
              "      <td>844</td>\n",
              "      <td>6</td>\n",
              "      <td>16</td>\n",
              "      <td>9</td>\n",
              "      <td>-2.208989e+09</td>\n",
              "      <td>-2.208989e+09</td>\n",
              "      <td>-2.208989e+09</td>\n",
              "    </tr>\n",
              "    <tr>\n",
              "      <th>8463</th>\n",
              "      <td>8487</td>\n",
              "      <td>1036</td>\n",
              "      <td>842</td>\n",
              "      <td>213</td>\n",
              "      <td>10</td>\n",
              "      <td>10</td>\n",
              "      <td>-2.208989e+09</td>\n",
              "      <td>-2.208989e+09</td>\n",
              "      <td>-2.208989e+09</td>\n",
              "    </tr>\n",
              "  </tbody>\n",
              "</table>\n",
              "<p>2877 rows × 9 columns</p>\n",
              "</div>"
            ],
            "text/plain": [
              "      qualifyId  raceId  driverId  ...            q1            q2            q3\n",
              "0             1      18         1  ... -2.208989e+09 -2.208989e+09 -2.208989e+09\n",
              "1             2      18         9  ... -2.208989e+09 -2.208989e+09 -2.208989e+09\n",
              "2             3      18         5  ... -2.208989e+09 -2.208989e+09 -2.208989e+09\n",
              "3             4      18        13  ... -2.208989e+09 -2.208989e+09 -2.208989e+09\n",
              "4             5      18         2  ... -2.208989e+09 -2.208989e+09 -2.208989e+09\n",
              "...         ...     ...       ...  ...           ...           ...           ...\n",
              "8459       8483    1036       848  ... -2.208989e+09 -2.208989e+09 -2.208989e+09\n",
              "8460       8484    1036       832  ... -2.208989e+09 -2.208989e+09 -2.208989e+09\n",
              "8461       8485    1036       846  ... -2.208989e+09 -2.208989e+09 -2.208989e+09\n",
              "8462       8486    1036       844  ... -2.208989e+09 -2.208989e+09 -2.208989e+09\n",
              "8463       8487    1036       842  ... -2.208989e+09 -2.208989e+09 -2.208989e+09\n",
              "\n",
              "[2877 rows x 9 columns]"
            ]
          },
          "metadata": {
            "tags": []
          },
          "execution_count": 97
        }
      ]
    },
    {
      "cell_type": "code",
      "metadata": {
        "id": "vI2F82BrpfLP",
        "outputId": "e4d8a20f-0166-46f6-fd7c-da1843dabf3f",
        "colab": {
          "base_uri": "https://localhost:8080/"
        }
      },
      "source": [
        "qualifying.dtypes"
      ],
      "execution_count": 98,
      "outputs": [
        {
          "output_type": "execute_result",
          "data": {
            "text/plain": [
              "qualifyId          int64\n",
              "raceId             int64\n",
              "driverId           int64\n",
              "constructorId      int64\n",
              "number             int64\n",
              "position           int64\n",
              "q1               float64\n",
              "q2               float64\n",
              "q3               float64\n",
              "dtype: object"
            ]
          },
          "metadata": {
            "tags": []
          },
          "execution_count": 98
        }
      ]
    },
    {
      "cell_type": "code",
      "metadata": {
        "id": "wjrKWijUpi5i"
      },
      "source": [
        "from sklearn.model_selection import train_test_split\n",
        "x = qualifying.drop('position', axis=1)\n",
        "y = qualifying['position']\n",
        "Xtrain, Xtest, ytrain, ytest = train_test_split(x, y, random_state=1)"
      ],
      "execution_count": 99,
      "outputs": []
    },
    {
      "cell_type": "code",
      "metadata": {
        "id": "F798P_tBpuZ2",
        "outputId": "059e8cb8-8630-4978-b10c-3f50f558dffb",
        "colab": {
          "base_uri": "https://localhost:8080/",
          "height": 357
        }
      },
      "source": [
        "from sklearn.neighbors import KNeighborsClassifier\n",
        "model = KNeighborsClassifier(n_neighbors=4)             \n",
        "model.fit(Xtrain, ytrain)                  \n",
        "prediction = model.predict(Xtest)  "
      ],
      "execution_count": 100,
      "outputs": [
        {
          "output_type": "error",
          "ename": "ValueError",
          "evalue": "ignored",
          "traceback": [
            "\u001b[0;31m---------------------------------------------------------------------------\u001b[0m",
            "\u001b[0;31mValueError\u001b[0m                                Traceback (most recent call last)",
            "\u001b[0;32m<ipython-input-100-87f03f9062f0>\u001b[0m in \u001b[0;36m<module>\u001b[0;34m()\u001b[0m\n\u001b[1;32m      1\u001b[0m \u001b[0;32mfrom\u001b[0m \u001b[0msklearn\u001b[0m\u001b[0;34m.\u001b[0m\u001b[0mneighbors\u001b[0m \u001b[0;32mimport\u001b[0m \u001b[0mKNeighborsClassifier\u001b[0m\u001b[0;34m\u001b[0m\u001b[0;34m\u001b[0m\u001b[0m\n\u001b[1;32m      2\u001b[0m \u001b[0mmodel\u001b[0m \u001b[0;34m=\u001b[0m \u001b[0mKNeighborsClassifier\u001b[0m\u001b[0;34m(\u001b[0m\u001b[0mn_neighbors\u001b[0m\u001b[0;34m=\u001b[0m\u001b[0;36m4\u001b[0m\u001b[0;34m)\u001b[0m\u001b[0;34m\u001b[0m\u001b[0;34m\u001b[0m\u001b[0m\n\u001b[0;32m----> 3\u001b[0;31m \u001b[0mmodel\u001b[0m\u001b[0;34m.\u001b[0m\u001b[0mfit\u001b[0m\u001b[0;34m(\u001b[0m\u001b[0mXtrain\u001b[0m\u001b[0;34m,\u001b[0m \u001b[0mytrain\u001b[0m\u001b[0;34m)\u001b[0m\u001b[0;34m\u001b[0m\u001b[0;34m\u001b[0m\u001b[0m\n\u001b[0m\u001b[1;32m      4\u001b[0m \u001b[0mprediction\u001b[0m \u001b[0;34m=\u001b[0m \u001b[0mmodel\u001b[0m\u001b[0;34m.\u001b[0m\u001b[0mpredict\u001b[0m\u001b[0;34m(\u001b[0m\u001b[0mXtest\u001b[0m\u001b[0;34m)\u001b[0m\u001b[0;34m\u001b[0m\u001b[0;34m\u001b[0m\u001b[0m\n",
            "\u001b[0;32m/usr/local/lib/python3.6/dist-packages/sklearn/neighbors/_base.py\u001b[0m in \u001b[0;36mfit\u001b[0;34m(self, X, y)\u001b[0m\n\u001b[1;32m   1124\u001b[0m         \"\"\"\n\u001b[1;32m   1125\u001b[0m         \u001b[0;32mif\u001b[0m \u001b[0;32mnot\u001b[0m \u001b[0misinstance\u001b[0m\u001b[0;34m(\u001b[0m\u001b[0mX\u001b[0m\u001b[0;34m,\u001b[0m \u001b[0;34m(\u001b[0m\u001b[0mKDTree\u001b[0m\u001b[0;34m,\u001b[0m \u001b[0mBallTree\u001b[0m\u001b[0;34m)\u001b[0m\u001b[0;34m)\u001b[0m\u001b[0;34m:\u001b[0m\u001b[0;34m\u001b[0m\u001b[0;34m\u001b[0m\u001b[0m\n\u001b[0;32m-> 1126\u001b[0;31m             \u001b[0mX\u001b[0m\u001b[0;34m,\u001b[0m \u001b[0my\u001b[0m \u001b[0;34m=\u001b[0m \u001b[0mcheck_X_y\u001b[0m\u001b[0;34m(\u001b[0m\u001b[0mX\u001b[0m\u001b[0;34m,\u001b[0m \u001b[0my\u001b[0m\u001b[0;34m,\u001b[0m \u001b[0;34m\"csr\"\u001b[0m\u001b[0;34m,\u001b[0m \u001b[0mmulti_output\u001b[0m\u001b[0;34m=\u001b[0m\u001b[0;32mTrue\u001b[0m\u001b[0;34m)\u001b[0m\u001b[0;34m\u001b[0m\u001b[0;34m\u001b[0m\u001b[0m\n\u001b[0m\u001b[1;32m   1127\u001b[0m \u001b[0;34m\u001b[0m\u001b[0m\n\u001b[1;32m   1128\u001b[0m         \u001b[0;32mif\u001b[0m \u001b[0my\u001b[0m\u001b[0;34m.\u001b[0m\u001b[0mndim\u001b[0m \u001b[0;34m==\u001b[0m \u001b[0;36m1\u001b[0m \u001b[0;32mor\u001b[0m \u001b[0my\u001b[0m\u001b[0;34m.\u001b[0m\u001b[0mndim\u001b[0m \u001b[0;34m==\u001b[0m \u001b[0;36m2\u001b[0m \u001b[0;32mand\u001b[0m \u001b[0my\u001b[0m\u001b[0;34m.\u001b[0m\u001b[0mshape\u001b[0m\u001b[0;34m[\u001b[0m\u001b[0;36m1\u001b[0m\u001b[0;34m]\u001b[0m \u001b[0;34m==\u001b[0m \u001b[0;36m1\u001b[0m\u001b[0;34m:\u001b[0m\u001b[0;34m\u001b[0m\u001b[0;34m\u001b[0m\u001b[0m\n",
            "\u001b[0;32m/usr/local/lib/python3.6/dist-packages/sklearn/utils/validation.py\u001b[0m in \u001b[0;36mcheck_X_y\u001b[0;34m(X, y, accept_sparse, accept_large_sparse, dtype, order, copy, force_all_finite, ensure_2d, allow_nd, multi_output, ensure_min_samples, ensure_min_features, y_numeric, warn_on_dtype, estimator)\u001b[0m\n\u001b[1;32m    753\u001b[0m                     \u001b[0mensure_min_features\u001b[0m\u001b[0;34m=\u001b[0m\u001b[0mensure_min_features\u001b[0m\u001b[0;34m,\u001b[0m\u001b[0;34m\u001b[0m\u001b[0;34m\u001b[0m\u001b[0m\n\u001b[1;32m    754\u001b[0m                     \u001b[0mwarn_on_dtype\u001b[0m\u001b[0;34m=\u001b[0m\u001b[0mwarn_on_dtype\u001b[0m\u001b[0;34m,\u001b[0m\u001b[0;34m\u001b[0m\u001b[0;34m\u001b[0m\u001b[0m\n\u001b[0;32m--> 755\u001b[0;31m                     estimator=estimator)\n\u001b[0m\u001b[1;32m    756\u001b[0m     \u001b[0;32mif\u001b[0m \u001b[0mmulti_output\u001b[0m\u001b[0;34m:\u001b[0m\u001b[0;34m\u001b[0m\u001b[0;34m\u001b[0m\u001b[0m\n\u001b[1;32m    757\u001b[0m         y = check_array(y, 'csr', force_all_finite=True, ensure_2d=False,\n",
            "\u001b[0;32m/usr/local/lib/python3.6/dist-packages/sklearn/utils/validation.py\u001b[0m in \u001b[0;36mcheck_array\u001b[0;34m(array, accept_sparse, accept_large_sparse, dtype, order, copy, force_all_finite, ensure_2d, allow_nd, ensure_min_samples, ensure_min_features, warn_on_dtype, estimator)\u001b[0m\n\u001b[1;32m    576\u001b[0m         \u001b[0;32mif\u001b[0m \u001b[0mforce_all_finite\u001b[0m\u001b[0;34m:\u001b[0m\u001b[0;34m\u001b[0m\u001b[0;34m\u001b[0m\u001b[0m\n\u001b[1;32m    577\u001b[0m             _assert_all_finite(array,\n\u001b[0;32m--> 578\u001b[0;31m                                allow_nan=force_all_finite == 'allow-nan')\n\u001b[0m\u001b[1;32m    579\u001b[0m \u001b[0;34m\u001b[0m\u001b[0m\n\u001b[1;32m    580\u001b[0m     \u001b[0;32mif\u001b[0m \u001b[0mensure_min_samples\u001b[0m \u001b[0;34m>\u001b[0m \u001b[0;36m0\u001b[0m\u001b[0;34m:\u001b[0m\u001b[0;34m\u001b[0m\u001b[0;34m\u001b[0m\u001b[0m\n",
            "\u001b[0;32m/usr/local/lib/python3.6/dist-packages/sklearn/utils/validation.py\u001b[0m in \u001b[0;36m_assert_all_finite\u001b[0;34m(X, allow_nan, msg_dtype)\u001b[0m\n\u001b[1;32m     58\u001b[0m                     \u001b[0mmsg_err\u001b[0m\u001b[0;34m.\u001b[0m\u001b[0mformat\u001b[0m\u001b[0;34m\u001b[0m\u001b[0;34m\u001b[0m\u001b[0m\n\u001b[1;32m     59\u001b[0m                     (type_err,\n\u001b[0;32m---> 60\u001b[0;31m                      msg_dtype if msg_dtype is not None else X.dtype)\n\u001b[0m\u001b[1;32m     61\u001b[0m             )\n\u001b[1;32m     62\u001b[0m     \u001b[0;31m# for object dtype data, we only check for NaNs (GH-13254)\u001b[0m\u001b[0;34m\u001b[0m\u001b[0;34m\u001b[0m\u001b[0;34m\u001b[0m\u001b[0m\n",
            "\u001b[0;31mValueError\u001b[0m: Input contains NaN, infinity or a value too large for dtype('float64')."
          ]
        }
      ]
    },
    {
      "cell_type": "code",
      "metadata": {
        "id": "FYdSd5lDp4zI"
      },
      "source": [
        "from sklearn.metrics import accuracy_score\n",
        "from sklearn.metrics import accuracy_score\n",
        "accuracy = accuracy_score(ytest, prediction)\n",
        "print(prediction.shape)\n",
        "print(ytest.shape)\n",
        "print('accuracy', accuracy)"
      ],
      "execution_count": null,
      "outputs": []
    }
  ]
}