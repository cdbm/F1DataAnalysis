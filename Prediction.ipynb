{
  "nbformat": 4,
  "nbformat_minor": 0,
  "metadata": {
    "colab": {
      "name": "Prediction.ipynb",
      "provenance": [],
      "collapsed_sections": [],
      "include_colab_link": true
    },
    "kernelspec": {
      "name": "python3",
      "display_name": "Python 3"
    }
  },
  "cells": [
    {
      "cell_type": "markdown",
      "metadata": {
        "id": "view-in-github",
        "colab_type": "text"
      },
      "source": [
        "<a href=\"https://colab.research.google.com/github/cdbm/F1DataAnalysis/blob/master/Prediction.ipynb\" target=\"_parent\"><img src=\"https://colab.research.google.com/assets/colab-badge.svg\" alt=\"Open In Colab\"/></a>"
      ]
    },
    {
      "cell_type": "markdown",
      "metadata": {
        "id": "b3Y0pk8fnH_B"
      },
      "source": [
        "# Classificação \n",
        "o seguinte notebook foi feito para fazer predições usando modelos de classificação em cima do dataset da fórmula 1. Escolhemos o dataset de resultados, que contém os resultados de cada piloto em todas as corridas, para fazer nossa classificação. Para a classificação escolhemos a columa positions, que define em que posição o piloto terminou a corrida."
      ]
    },
    {
      "cell_type": "code",
      "metadata": {
        "id": "DoVoCe3xAaIe"
      },
      "source": [
        "import numpy as np\n",
        "import pandas as pd\n",
        "import matplotlib.pyplot as plt"
      ],
      "execution_count": 1,
      "outputs": []
    },
    {
      "cell_type": "code",
      "metadata": {
        "id": "q1Kt_gC7AiCN"
      },
      "source": [
        "results=pd.read_csv(\"https://raw.githubusercontent.com/cdbm/F1DataAnalysis/master/f1_data/results.csv\")\n",
        "races=pd.read_csv(\"https://raw.githubusercontent.com/cdbm/F1DataAnalysis/master/f1_data/races.csv\")"
      ],
      "execution_count": 2,
      "outputs": []
    },
    {
      "cell_type": "markdown",
      "metadata": {
        "id": "UBEzsW39npp2"
      },
      "source": [
        "Limpando o dataset para ter apenas pilotos que de fato terminaram as corridas."
      ]
    },
    {
      "cell_type": "code",
      "metadata": {
        "id": "fugQtyVrGG30"
      },
      "source": [
        "results = results[results.position != '\\\\N']\n",
        "results = results[results.milliseconds != '\\\\N']"
      ],
      "execution_count": 3,
      "outputs": []
    },
    {
      "cell_type": "markdown",
      "metadata": {
        "id": "9T5p3jcIn1Om"
      },
      "source": [
        "O código a seguir foi feito para tornar mais possível a classificação. Como depois da limpeza restam poucas linhas (aproximadamente 6 mil) e o dataset não tem tantas features que podem ser usadas para o modelo e existem muitas classes possíveis para se predizer (19), resolvemos então transformar as 19 classes que seriam cada posição de chegada em classes mais abrangentes. O nosso modelo agora busca classificar entre as quatro classes de posições que um piloto pode chegar, entre os 5 primeiros, entre o 6º e o 10º, entre o 11º e o 15º e entre o 16º e 19º."
      ]
    },
    {
      "cell_type": "code",
      "metadata": {
        "id": "7K31gY-9y8e9"
      },
      "source": [
        "results.position = results.position.astype('int64')"
      ],
      "execution_count": 4,
      "outputs": []
    },
    {
      "cell_type": "code",
      "metadata": {
        "id": "1T-UFEQq_twD"
      },
      "source": [
        "results.loc[results['position'] <= 5, 'beans'] = 'TOP5'\n",
        "results.loc[(results['position'] > 5) & (results['position'] <= 10) , 'beans'] = 'SIX_TO_TEN'\n",
        "results.loc[(results['position'] > 10) & (results['position'] <= 15) , 'beans'] = 'EL_TO_FIFTEEN'\n",
        "results.loc[(results['position'] > 15) & (results['position'] <= 20) , 'beans'] = 'SIXTEEN_TO_TWENTY'"
      ],
      "execution_count": 5,
      "outputs": []
    },
    {
      "cell_type": "markdown",
      "metadata": {
        "id": "Zj0Nd-2ipNDn"
      },
      "source": [
        "Adicionando a informação de qual circuito foi o dado resultado\n"
      ]
    },
    {
      "cell_type": "code",
      "metadata": {
        "id": "TYcRLhbpdnHx"
      },
      "source": [
        "results[\"circuitId\"] = results.raceId.map(races.set_index('raceId')['circuitId'])"
      ],
      "execution_count": 6,
      "outputs": []
    },
    {
      "cell_type": "code",
      "metadata": {
        "id": "uz5x95lqydwG",
        "outputId": "2447f15d-b660-4f5b-d551-5de481e4dba5",
        "colab": {
          "base_uri": "https://localhost:8080/",
          "height": 224
        }
      },
      "source": [
        "results.head()"
      ],
      "execution_count": 7,
      "outputs": [
        {
          "output_type": "execute_result",
          "data": {
            "text/html": [
              "<div>\n",
              "<style scoped>\n",
              "    .dataframe tbody tr th:only-of-type {\n",
              "        vertical-align: middle;\n",
              "    }\n",
              "\n",
              "    .dataframe tbody tr th {\n",
              "        vertical-align: top;\n",
              "    }\n",
              "\n",
              "    .dataframe thead th {\n",
              "        text-align: right;\n",
              "    }\n",
              "</style>\n",
              "<table border=\"1\" class=\"dataframe\">\n",
              "  <thead>\n",
              "    <tr style=\"text-align: right;\">\n",
              "      <th></th>\n",
              "      <th>resultId</th>\n",
              "      <th>raceId</th>\n",
              "      <th>driverId</th>\n",
              "      <th>constructorId</th>\n",
              "      <th>number</th>\n",
              "      <th>grid</th>\n",
              "      <th>position</th>\n",
              "      <th>positionText</th>\n",
              "      <th>positionOrder</th>\n",
              "      <th>points</th>\n",
              "      <th>laps</th>\n",
              "      <th>time</th>\n",
              "      <th>milliseconds</th>\n",
              "      <th>fastestLap</th>\n",
              "      <th>rank</th>\n",
              "      <th>fastestLapTime</th>\n",
              "      <th>fastestLapSpeed</th>\n",
              "      <th>statusId</th>\n",
              "      <th>beans</th>\n",
              "      <th>circuitId</th>\n",
              "    </tr>\n",
              "  </thead>\n",
              "  <tbody>\n",
              "    <tr>\n",
              "      <th>0</th>\n",
              "      <td>1</td>\n",
              "      <td>18</td>\n",
              "      <td>1</td>\n",
              "      <td>1</td>\n",
              "      <td>22</td>\n",
              "      <td>1</td>\n",
              "      <td>1</td>\n",
              "      <td>1</td>\n",
              "      <td>1</td>\n",
              "      <td>10.0</td>\n",
              "      <td>58</td>\n",
              "      <td>1:34:50.616</td>\n",
              "      <td>5690616</td>\n",
              "      <td>39</td>\n",
              "      <td>2</td>\n",
              "      <td>1:27.452</td>\n",
              "      <td>218.300</td>\n",
              "      <td>1</td>\n",
              "      <td>TOP5</td>\n",
              "      <td>1</td>\n",
              "    </tr>\n",
              "    <tr>\n",
              "      <th>1</th>\n",
              "      <td>2</td>\n",
              "      <td>18</td>\n",
              "      <td>2</td>\n",
              "      <td>2</td>\n",
              "      <td>3</td>\n",
              "      <td>5</td>\n",
              "      <td>2</td>\n",
              "      <td>2</td>\n",
              "      <td>2</td>\n",
              "      <td>8.0</td>\n",
              "      <td>58</td>\n",
              "      <td>+5.478</td>\n",
              "      <td>5696094</td>\n",
              "      <td>41</td>\n",
              "      <td>3</td>\n",
              "      <td>1:27.739</td>\n",
              "      <td>217.586</td>\n",
              "      <td>1</td>\n",
              "      <td>TOP5</td>\n",
              "      <td>1</td>\n",
              "    </tr>\n",
              "    <tr>\n",
              "      <th>2</th>\n",
              "      <td>3</td>\n",
              "      <td>18</td>\n",
              "      <td>3</td>\n",
              "      <td>3</td>\n",
              "      <td>7</td>\n",
              "      <td>7</td>\n",
              "      <td>3</td>\n",
              "      <td>3</td>\n",
              "      <td>3</td>\n",
              "      <td>6.0</td>\n",
              "      <td>58</td>\n",
              "      <td>+8.163</td>\n",
              "      <td>5698779</td>\n",
              "      <td>41</td>\n",
              "      <td>5</td>\n",
              "      <td>1:28.090</td>\n",
              "      <td>216.719</td>\n",
              "      <td>1</td>\n",
              "      <td>TOP5</td>\n",
              "      <td>1</td>\n",
              "    </tr>\n",
              "    <tr>\n",
              "      <th>3</th>\n",
              "      <td>4</td>\n",
              "      <td>18</td>\n",
              "      <td>4</td>\n",
              "      <td>4</td>\n",
              "      <td>5</td>\n",
              "      <td>11</td>\n",
              "      <td>4</td>\n",
              "      <td>4</td>\n",
              "      <td>4</td>\n",
              "      <td>5.0</td>\n",
              "      <td>58</td>\n",
              "      <td>+17.181</td>\n",
              "      <td>5707797</td>\n",
              "      <td>58</td>\n",
              "      <td>7</td>\n",
              "      <td>1:28.603</td>\n",
              "      <td>215.464</td>\n",
              "      <td>1</td>\n",
              "      <td>TOP5</td>\n",
              "      <td>1</td>\n",
              "    </tr>\n",
              "    <tr>\n",
              "      <th>4</th>\n",
              "      <td>5</td>\n",
              "      <td>18</td>\n",
              "      <td>5</td>\n",
              "      <td>1</td>\n",
              "      <td>23</td>\n",
              "      <td>3</td>\n",
              "      <td>5</td>\n",
              "      <td>5</td>\n",
              "      <td>5</td>\n",
              "      <td>4.0</td>\n",
              "      <td>58</td>\n",
              "      <td>+18.014</td>\n",
              "      <td>5708630</td>\n",
              "      <td>43</td>\n",
              "      <td>1</td>\n",
              "      <td>1:27.418</td>\n",
              "      <td>218.385</td>\n",
              "      <td>1</td>\n",
              "      <td>TOP5</td>\n",
              "      <td>1</td>\n",
              "    </tr>\n",
              "  </tbody>\n",
              "</table>\n",
              "</div>"
            ],
            "text/plain": [
              "   resultId  raceId  driverId  ...  statusId beans  circuitId\n",
              "0         1      18         1  ...         1  TOP5          1\n",
              "1         2      18         2  ...         1  TOP5          1\n",
              "2         3      18         3  ...         1  TOP5          1\n",
              "3         4      18         4  ...         1  TOP5          1\n",
              "4         5      18         5  ...         1  TOP5          1\n",
              "\n",
              "[5 rows x 20 columns]"
            ]
          },
          "metadata": {
            "tags": []
          },
          "execution_count": 7
        }
      ]
    },
    {
      "cell_type": "markdown",
      "metadata": {
        "id": "TA3fX_afpZ8Z"
      },
      "source": [
        "Dropando features que ou não podem ser usadas, ou não são úteis ou são úteis até demais para o modelo."
      ]
    },
    {
      "cell_type": "code",
      "metadata": {
        "id": "9sryAt2dTq9-"
      },
      "source": [
        "results = results.drop('number', axis=1)\n",
        "results = results.drop('statusId', axis=1)\n",
        "results = results.drop('time', axis=1)\n",
        "results = results.drop('fastestLapTime', axis=1)\n",
        "results = results.drop('positionOrder', axis=1)\n",
        "results = results.drop('positionText', axis=1)\n",
        "results = results.drop('resultId', axis=1)\n",
        "results = results.drop('fastestLapSpeed', axis=1)\n",
        "results = results.drop('rank', axis=1)\n",
        "results = results.drop('fastestLap',axis=1)"
      ],
      "execution_count": 8,
      "outputs": []
    },
    {
      "cell_type": "code",
      "metadata": {
        "id": "6NGRe6mLBd_5"
      },
      "source": [
        "results = results.drop('position', axis=1)"
      ],
      "execution_count": 9,
      "outputs": []
    },
    {
      "cell_type": "markdown",
      "metadata": {
        "id": "tbtikj1spja3"
      },
      "source": [
        "Definição de tipos"
      ]
    },
    {
      "cell_type": "code",
      "metadata": {
        "id": "nJAFRV2fU6g6"
      },
      "source": [
        "results.milliseconds = results.milliseconds.astype('int64')\n",
        "results.beans = results.beans.astype('category')"
      ],
      "execution_count": 10,
      "outputs": []
    },
    {
      "cell_type": "code",
      "metadata": {
        "id": "NXZUDadRC1In",
        "outputId": "1eece406-84d8-40eb-8c15-c82e86d53349",
        "colab": {
          "base_uri": "https://localhost:8080/"
        }
      },
      "source": [
        "results.dtypes"
      ],
      "execution_count": 11,
      "outputs": [
        {
          "output_type": "execute_result",
          "data": {
            "text/plain": [
              "raceId              int64\n",
              "driverId            int64\n",
              "constructorId       int64\n",
              "grid                int64\n",
              "points            float64\n",
              "laps                int64\n",
              "milliseconds        int64\n",
              "beans            category\n",
              "circuitId           int64\n",
              "dtype: object"
            ]
          },
          "metadata": {
            "tags": []
          },
          "execution_count": 11
        }
      ]
    },
    {
      "cell_type": "markdown",
      "metadata": {
        "id": "GLuVqsXEqdTT"
      },
      "source": [
        "# Divisão do dataset em treinamento validação e teste"
      ]
    },
    {
      "cell_type": "code",
      "metadata": {
        "id": "UwsFFiaSWvGN"
      },
      "source": [
        "from sklearn.model_selection import train_test_split\n",
        "features_results = results.drop('beans', axis=1)\n",
        "labels_results = results['beans']"
      ],
      "execution_count": 12,
      "outputs": []
    },
    {
      "cell_type": "code",
      "metadata": {
        "id": "1YCQASmOW8Lm",
        "outputId": "98adaeb6-61b7-4754-fd34-8cc90758bb3e",
        "colab": {
          "base_uri": "https://localhost:8080/",
          "height": 419
        }
      },
      "source": [
        "features_results"
      ],
      "execution_count": 13,
      "outputs": [
        {
          "output_type": "execute_result",
          "data": {
            "text/html": [
              "<div>\n",
              "<style scoped>\n",
              "    .dataframe tbody tr th:only-of-type {\n",
              "        vertical-align: middle;\n",
              "    }\n",
              "\n",
              "    .dataframe tbody tr th {\n",
              "        vertical-align: top;\n",
              "    }\n",
              "\n",
              "    .dataframe thead th {\n",
              "        text-align: right;\n",
              "    }\n",
              "</style>\n",
              "<table border=\"1\" class=\"dataframe\">\n",
              "  <thead>\n",
              "    <tr style=\"text-align: right;\">\n",
              "      <th></th>\n",
              "      <th>raceId</th>\n",
              "      <th>driverId</th>\n",
              "      <th>constructorId</th>\n",
              "      <th>grid</th>\n",
              "      <th>points</th>\n",
              "      <th>laps</th>\n",
              "      <th>milliseconds</th>\n",
              "      <th>circuitId</th>\n",
              "    </tr>\n",
              "  </thead>\n",
              "  <tbody>\n",
              "    <tr>\n",
              "      <th>0</th>\n",
              "      <td>18</td>\n",
              "      <td>1</td>\n",
              "      <td>1</td>\n",
              "      <td>1</td>\n",
              "      <td>10.0</td>\n",
              "      <td>58</td>\n",
              "      <td>5690616</td>\n",
              "      <td>1</td>\n",
              "    </tr>\n",
              "    <tr>\n",
              "      <th>1</th>\n",
              "      <td>18</td>\n",
              "      <td>2</td>\n",
              "      <td>2</td>\n",
              "      <td>5</td>\n",
              "      <td>8.0</td>\n",
              "      <td>58</td>\n",
              "      <td>5696094</td>\n",
              "      <td>1</td>\n",
              "    </tr>\n",
              "    <tr>\n",
              "      <th>2</th>\n",
              "      <td>18</td>\n",
              "      <td>3</td>\n",
              "      <td>3</td>\n",
              "      <td>7</td>\n",
              "      <td>6.0</td>\n",
              "      <td>58</td>\n",
              "      <td>5698779</td>\n",
              "      <td>1</td>\n",
              "    </tr>\n",
              "    <tr>\n",
              "      <th>3</th>\n",
              "      <td>18</td>\n",
              "      <td>4</td>\n",
              "      <td>4</td>\n",
              "      <td>11</td>\n",
              "      <td>5.0</td>\n",
              "      <td>58</td>\n",
              "      <td>5707797</td>\n",
              "      <td>1</td>\n",
              "    </tr>\n",
              "    <tr>\n",
              "      <th>4</th>\n",
              "      <td>18</td>\n",
              "      <td>5</td>\n",
              "      <td>1</td>\n",
              "      <td>3</td>\n",
              "      <td>4.0</td>\n",
              "      <td>58</td>\n",
              "      <td>5708630</td>\n",
              "      <td>1</td>\n",
              "    </tr>\n",
              "    <tr>\n",
              "      <th>...</th>\n",
              "      <td>...</td>\n",
              "      <td>...</td>\n",
              "      <td>...</td>\n",
              "      <td>...</td>\n",
              "      <td>...</td>\n",
              "      <td>...</td>\n",
              "      <td>...</td>\n",
              "      <td>...</td>\n",
              "    </tr>\n",
              "    <tr>\n",
              "      <th>24711</th>\n",
              "      <td>1035</td>\n",
              "      <td>20</td>\n",
              "      <td>6</td>\n",
              "      <td>11</td>\n",
              "      <td>0.0</td>\n",
              "      <td>52</td>\n",
              "      <td>4855363</td>\n",
              "      <td>9</td>\n",
              "    </tr>\n",
              "    <tr>\n",
              "      <th>24712</th>\n",
              "      <td>1035</td>\n",
              "      <td>832</td>\n",
              "      <td>1</td>\n",
              "      <td>12</td>\n",
              "      <td>0.0</td>\n",
              "      <td>52</td>\n",
              "      <td>4856063</td>\n",
              "      <td>9</td>\n",
              "    </tr>\n",
              "    <tr>\n",
              "      <th>24720</th>\n",
              "      <td>1036</td>\n",
              "      <td>1</td>\n",
              "      <td>131</td>\n",
              "      <td>1</td>\n",
              "      <td>25.0</td>\n",
              "      <td>66</td>\n",
              "      <td>5505279</td>\n",
              "      <td>4</td>\n",
              "    </tr>\n",
              "    <tr>\n",
              "      <th>24721</th>\n",
              "      <td>1036</td>\n",
              "      <td>830</td>\n",
              "      <td>9</td>\n",
              "      <td>3</td>\n",
              "      <td>18.0</td>\n",
              "      <td>66</td>\n",
              "      <td>5529456</td>\n",
              "      <td>4</td>\n",
              "    </tr>\n",
              "    <tr>\n",
              "      <th>24722</th>\n",
              "      <td>1036</td>\n",
              "      <td>822</td>\n",
              "      <td>131</td>\n",
              "      <td>2</td>\n",
              "      <td>16.0</td>\n",
              "      <td>66</td>\n",
              "      <td>5550031</td>\n",
              "      <td>4</td>\n",
              "    </tr>\n",
              "  </tbody>\n",
              "</table>\n",
              "<p>6452 rows × 8 columns</p>\n",
              "</div>"
            ],
            "text/plain": [
              "       raceId  driverId  constructorId  ...  laps  milliseconds  circuitId\n",
              "0          18         1              1  ...    58       5690616          1\n",
              "1          18         2              2  ...    58       5696094          1\n",
              "2          18         3              3  ...    58       5698779          1\n",
              "3          18         4              4  ...    58       5707797          1\n",
              "4          18         5              1  ...    58       5708630          1\n",
              "...       ...       ...            ...  ...   ...           ...        ...\n",
              "24711    1035        20              6  ...    52       4855363          9\n",
              "24712    1035       832              1  ...    52       4856063          9\n",
              "24720    1036         1            131  ...    66       5505279          4\n",
              "24721    1036       830              9  ...    66       5529456          4\n",
              "24722    1036       822            131  ...    66       5550031          4\n",
              "\n",
              "[6452 rows x 8 columns]"
            ]
          },
          "metadata": {
            "tags": []
          },
          "execution_count": 13
        }
      ]
    },
    {
      "cell_type": "code",
      "metadata": {
        "id": "RbR392i8W959",
        "outputId": "b7a493b6-98ce-47bf-871b-c0ce7ba1e00b",
        "colab": {
          "base_uri": "https://localhost:8080/"
        }
      },
      "source": [
        "labels_results"
      ],
      "execution_count": 14,
      "outputs": [
        {
          "output_type": "execute_result",
          "data": {
            "text/plain": [
              "0                 TOP5\n",
              "1                 TOP5\n",
              "2                 TOP5\n",
              "3                 TOP5\n",
              "4                 TOP5\n",
              "             ...      \n",
              "24711    EL_TO_FIFTEEN\n",
              "24712    EL_TO_FIFTEEN\n",
              "24720             TOP5\n",
              "24721             TOP5\n",
              "24722             TOP5\n",
              "Name: beans, Length: 6452, dtype: category\n",
              "Categories (4, object): ['EL_TO_FIFTEEN', 'SIXTEEN_TO_TWENTY', 'SIX_TO_TEN', 'TOP5']"
            ]
          },
          "metadata": {
            "tags": []
          },
          "execution_count": 14
        }
      ]
    },
    {
      "cell_type": "code",
      "metadata": {
        "id": "gCZo_TIiYcug"
      },
      "source": [
        "feature_train, feature_test, label_train, label_test = train_test_split(features_results, labels_results, test_size=0.2,random_state=1)\n",
        "feature_train, feature_validation, label_train, label_validation =  train_test_split(feature_train, label_train, test_size=0.25,random_state=1)"
      ],
      "execution_count": 15,
      "outputs": []
    },
    {
      "cell_type": "code",
      "metadata": {
        "id": "8-YEeG_A4peS",
        "outputId": "a0d20fb7-b99a-44ff-9c8a-6f362d6d58b7",
        "colab": {
          "base_uri": "https://localhost:8080/"
        }
      },
      "source": [
        "print(feature_train.shape)\n",
        "print(feature_test.shape)\n",
        "print(feature_validation.shape)"
      ],
      "execution_count": 16,
      "outputs": [
        {
          "output_type": "stream",
          "text": [
            "(3870, 8)\n",
            "(1291, 8)\n",
            "(1291, 8)\n"
          ],
          "name": "stdout"
        }
      ]
    },
    {
      "cell_type": "markdown",
      "metadata": {
        "id": "nkdr8yL5x2rT"
      },
      "source": [
        "Dicionário para guardar as métricas\n"
      ]
    },
    {
      "cell_type": "code",
      "metadata": {
        "id": "Km1nfVs_xzxQ"
      },
      "source": [
        "stats = {}"
      ],
      "execution_count": 17,
      "outputs": []
    },
    {
      "cell_type": "markdown",
      "metadata": {
        "id": "vgQx_OHkusWL"
      },
      "source": [
        "# Criação, treinamento e avaliação dos modelos"
      ]
    },
    {
      "cell_type": "markdown",
      "metadata": {
        "id": "s393ewI3yAas"
      },
      "source": [
        "Modelos escolhidos:\n",
        "\n",
        "\n",
        "*   Naive bayes\n",
        "*   KNN\n",
        "*   MLP\n",
        "*   \n",
        "\n",
        "\n",
        "\n"
      ]
    },
    {
      "cell_type": "code",
      "metadata": {
        "id": "yKFFOROQzRZb"
      },
      "source": [
        "from sklearn.metrics import accuracy_score"
      ],
      "execution_count": 18,
      "outputs": []
    },
    {
      "cell_type": "markdown",
      "metadata": {
        "id": "DulPFloK0VjO"
      },
      "source": [
        "Naive Bayes"
      ]
    },
    {
      "cell_type": "code",
      "metadata": {
        "id": "vjJRwqH1x6-x",
        "outputId": "323786e9-b34d-4728-9784-0aadf8692a76",
        "colab": {
          "base_uri": "https://localhost:8080/"
        }
      },
      "source": [
        "from sklearn.naive_bayes import GaussianNB \n",
        "model_naive = GaussianNB()                       \n",
        "model_naive.fit(feature_train, label_train)                  \n",
        "\n",
        "prediction_test = model_naive.predict(feature_test)\n",
        "prediction_train = model_naive.predict(feature_train)   \n",
        "\n",
        "stats['naive_bayes_test'] = accuracy_score(label_test, prediction_test)\n",
        "stats['naive_bayes_train'] = accuracy_score(label_train, prediction_train)\n",
        "\n",
        "print('precisão nos casos de teste: ' + str(stats['naive_bayes_test']))\n",
        "print('precisão nos casos de treino: ' + str(stats['naive_bayes_train']))"
      ],
      "execution_count": 19,
      "outputs": [
        {
          "output_type": "stream",
          "text": [
            "precisão nos casos de teste: 0.6893880712625872\n",
            "precisão nos casos de treino: 0.6545219638242894\n"
          ],
          "name": "stdout"
        }
      ]
    },
    {
      "cell_type": "markdown",
      "metadata": {
        "id": "O7qPax-F0Xvj"
      },
      "source": [
        "KNN"
      ]
    },
    {
      "cell_type": "code",
      "metadata": {
        "id": "ZnGQAZDlYsn6",
        "outputId": "a205a1d5-f5d3-4c70-e978-ca0d28a96c4e",
        "colab": {
          "base_uri": "https://localhost:8080/"
        }
      },
      "source": [
        "from sklearn.neighbors import KNeighborsClassifier\n",
        "model_knn = KNeighborsClassifier(n_neighbors=4)             \n",
        "model_knn.fit(feature_train, label_train) \n",
        "\n",
        "prediction_test = model_knn.predict(feature_test)\n",
        "prediction_train = model_knn.predict(feature_train)   \n",
        "\n",
        "stats['knn_test'] = accuracy_score(label_test, prediction_test)\n",
        "stats['knn_train'] = accuracy_score(label_train, prediction_train)\n",
        "\n",
        "print('precisão nos casos de teste: ' + str(stats['knn_test']))\n",
        "print('precisão nos casos de treino: ' + str(stats['knn_train']))"
      ],
      "execution_count": 20,
      "outputs": [
        {
          "output_type": "stream",
          "text": [
            "precisão nos casos de teste: 0.5894655305964369\n",
            "precisão nos casos de treino: 0.7423772609819121\n"
          ],
          "name": "stdout"
        }
      ]
    },
    {
      "cell_type": "markdown",
      "metadata": {
        "id": "0L6gST1m07iz"
      },
      "source": [
        "MLP\n"
      ]
    },
    {
      "cell_type": "code",
      "metadata": {
        "id": "HOAJpRSS-7wk",
        "outputId": "587a00b9-37a8-46a7-f5dd-9b6df4f5f72e",
        "colab": {
          "base_uri": "https://localhost:8080/"
        }
      },
      "source": [
        "from sklearn.neural_network import MLPClassifier\n",
        "model_mlp = MLPClassifier(hidden_layer_sizes=(150,100,50), max_iter=300,activation = 'relu',solver='sgd',random_state=1)\n",
        "model_mlp.fit(feature_train, label_train) \n",
        "\n",
        "prediction_test = model_mlp.predict(feature_test)\n",
        "prediction_train = model_mlp.predict(feature_train)   \n",
        "\n",
        "stats['mlp_test'] = accuracy_score(label_test, prediction_test)\n",
        "stats['mlp_train'] = accuracy_score(label_train, prediction_train)\n",
        "\n",
        "print('precisão nos casos de teste: ' + str(stats['mlp_test']))\n",
        "print('precisão nos casos de treino: ' + str(stats['mlp_train']))"
      ],
      "execution_count": 21,
      "outputs": [
        {
          "output_type": "stream",
          "text": [
            "precisão nos casos de teste: 0.6901626646010844\n",
            "precisão nos casos de treino: 0.6591731266149871\n"
          ],
          "name": "stdout"
        }
      ]
    },
    {
      "cell_type": "markdown",
      "metadata": {
        "id": "3qIrVCgS3eaH"
      },
      "source": [
        "Random Forrest"
      ]
    },
    {
      "cell_type": "code",
      "metadata": {
        "id": "Gy0TLpvW3hDq",
        "outputId": "aefedf8c-c6b9-4cbd-8530-0c37609bf2f8",
        "colab": {
          "base_uri": "https://localhost:8080/"
        }
      },
      "source": [
        "from sklearn.ensemble import RandomForestClassifier\n",
        "model_forrest = RandomForestClassifier(n_estimators=1000)\n",
        "model_forrest.fit(feature_train, label_train) \n",
        "\n",
        "prediction_test = model_forrest.predict(feature_test)\n",
        "prediction_train = model_forrest.predict(feature_train)   \n",
        "\n",
        "stats['forrest_test'] = accuracy_score(label_test, prediction_test)\n",
        "stats['forrest_train'] = accuracy_score(label_train, prediction_train)\n",
        "\n",
        "print('precisão nos casos de teste: ' + str(stats['forrest_test']))\n",
        "print('precisão nos casos de treino: ' + str(stats['forrest_train']))\n"
      ],
      "execution_count": 22,
      "outputs": [
        {
          "output_type": "stream",
          "text": [
            "precisão nos casos de teste: 0.9744384198295895\n",
            "precisão nos casos de treino: 1.0\n"
          ],
          "name": "stdout"
        }
      ]
    },
    {
      "cell_type": "code",
      "metadata": {
        "id": "qSJxqQuF7LV7",
        "outputId": "fce3e22d-b23b-4e25-a580-462f89625209",
        "colab": {
          "base_uri": "https://localhost:8080/"
        }
      },
      "source": [
        "stats"
      ],
      "execution_count": 23,
      "outputs": [
        {
          "output_type": "execute_result",
          "data": {
            "text/plain": [
              "{'forrest_test': 0.9744384198295895,\n",
              " 'forrest_train': 1.0,\n",
              " 'knn_test': 0.5894655305964369,\n",
              " 'knn_train': 0.7423772609819121,\n",
              " 'mlp_test': 0.6901626646010844,\n",
              " 'mlp_train': 0.6591731266149871,\n",
              " 'naive_bayes_test': 0.6893880712625872,\n",
              " 'naive_bayes_train': 0.6545219638242894}"
            ]
          },
          "metadata": {
            "tags": []
          },
          "execution_count": 23
        }
      ]
    },
    {
      "cell_type": "markdown",
      "metadata": {
        "id": "FL9wUFQ6xNFq"
      },
      "source": [
        "# MLFLOW\n"
      ]
    },
    {
      "cell_type": "code",
      "metadata": {
        "id": "UDJ9oWXiGHmD",
        "outputId": "73caa926-cb23-48ba-fac6-0988fb3c3252",
        "colab": {
          "base_uri": "https://localhost:8080/"
        }
      },
      "source": [
        "!pip install mlflow --quiet\n",
        "!pip install pyngrok --quiet\n",
        "\n",
        "import mlflow\n",
        "\n",
        "with mlflow.start_run(run_name=\"MLflow on Colab\"):\n",
        "  mlflow.log_metric(\"m1\", 2.0)\n",
        "  mlflow.log_param(\"p1\", \"mlflow-colab\")\n",
        "\n",
        "# run tracking UI in the background\n",
        "get_ipython().system_raw(\"mlflow ui --port 5000 &\") # run tracking UI in the background\n",
        "\n",
        "\n",
        "# create remote tunnel using ngrok.com to allow local port access\n",
        "# borrowed from https://colab.research.google.com/github/alfozan/MLflow-GBRT-demo/blob/master/MLflow-GBRT-demo.ipynb#scrollTo=4h3bKHMYUIG6\n",
        "\n",
        "from pyngrok import ngrok\n",
        "\n",
        "# Terminate open tunnels if exist\n",
        "ngrok.kill()\n",
        "\n",
        "# Setting the authtoken (optional)\n",
        "# Get your authtoken from https://dashboard.ngrok.com/auth\n",
        "NGROK_AUTH_TOKEN = \"\"\n",
        "ngrok.set_auth_token(NGROK_AUTH_TOKEN)\n",
        "\n",
        "# Open an HTTPs tunnel on port 5000 for http://localhost:5000\n",
        "ngrok_tunnel = ngrok.connect(addr=\"5000\", proto=\"http\", bind_tls=True)\n",
        "print(\"MLflow Tracking UI:\", ngrok_tunnel.public_url)"
      ],
      "execution_count": 24,
      "outputs": [
        {
          "output_type": "stream",
          "text": [
            "\u001b[K     |████████████████████████████████| 13.9MB 301kB/s \n",
            "\u001b[K     |████████████████████████████████| 153kB 40.2MB/s \n",
            "\u001b[K     |████████████████████████████████| 61kB 7.5MB/s \n",
            "\u001b[K     |████████████████████████████████| 1.1MB 42.0MB/s \n",
            "\u001b[K     |████████████████████████████████| 81kB 8.2MB/s \n",
            "\u001b[K     |████████████████████████████████| 337kB 39.9MB/s \n",
            "\u001b[K     |████████████████████████████████| 163kB 48.0MB/s \n",
            "\u001b[K     |████████████████████████████████| 204kB 51.2MB/s \n",
            "\u001b[K     |████████████████████████████████| 81kB 9.1MB/s \n",
            "\u001b[K     |████████████████████████████████| 92kB 9.7MB/s \n",
            "\u001b[K     |████████████████████████████████| 133kB 43.3MB/s \n",
            "\u001b[K     |████████████████████████████████| 2.6MB 41.8MB/s \n",
            "\u001b[K     |████████████████████████████████| 71kB 7.8MB/s \n",
            "\u001b[K     |████████████████████████████████| 51kB 5.4MB/s \n",
            "\u001b[?25h  Building wheel for databricks-cli (setup.py) ... \u001b[?25l\u001b[?25hdone\n",
            "  Building wheel for alembic (setup.py) ... \u001b[?25l\u001b[?25hdone\n",
            "  Building wheel for prometheus-flask-exporter (setup.py) ... \u001b[?25l\u001b[?25hdone\n",
            "  Building wheel for pyngrok (setup.py) ... \u001b[?25l\u001b[?25hdone\n",
            "MLflow Tracking UI: https://30496174b25a.ngrok.io\n"
          ],
          "name": "stdout"
        }
      ]
    },
    {
      "cell_type": "markdown",
      "metadata": {
        "id": "CDP2U9grx401"
      },
      "source": [
        "# Seleção de Hiper-parâmetros"
      ]
    },
    {
      "cell_type": "code",
      "metadata": {
        "id": "BzC7-I5fyx-c",
        "outputId": "466ef3cc-7090-4ba2-9cb4-542434e31a89",
        "colab": {
          "base_uri": "https://localhost:8080/"
        }
      },
      "source": [
        "!pip install optuna"
      ],
      "execution_count": 25,
      "outputs": [
        {
          "output_type": "stream",
          "text": [
            "Collecting optuna\n",
            "\u001b[?25l  Downloading https://files.pythonhosted.org/packages/87/10/06b58f4120f26b603d905a594650440ea1fd74476b8b360dbf01e111469b/optuna-2.3.0.tar.gz (258kB)\n",
            "\u001b[K     |████████████████████████████████| 266kB 5.9MB/s \n",
            "\u001b[?25h  Installing build dependencies ... \u001b[?25l\u001b[?25hdone\n",
            "  Getting requirements to build wheel ... \u001b[?25l\u001b[?25hdone\n",
            "    Preparing wheel metadata ... \u001b[?25l\u001b[?25hdone\n",
            "Requirement already satisfied: alembic in /usr/local/lib/python3.6/dist-packages (from optuna) (1.4.1)\n",
            "Requirement already satisfied: joblib in /usr/local/lib/python3.6/dist-packages (from optuna) (0.17.0)\n",
            "Requirement already satisfied: packaging>=20.0 in /usr/local/lib/python3.6/dist-packages (from optuna) (20.4)\n",
            "Requirement already satisfied: sqlalchemy>=1.1.0 in /usr/local/lib/python3.6/dist-packages (from optuna) (1.3.20)\n",
            "Collecting cmaes>=0.6.0\n",
            "  Downloading https://files.pythonhosted.org/packages/8d/3c/06c76ec8b54b9b1fad7f35e903fd25010fe3e0d41bd94cea5e6f12e0d651/cmaes-0.7.0-py3-none-any.whl\n",
            "Requirement already satisfied: scipy!=1.4.0 in /usr/local/lib/python3.6/dist-packages (from optuna) (1.4.1)\n",
            "Collecting colorlog\n",
            "  Downloading https://files.pythonhosted.org/packages/4e/c8/c16d30bbed11a1722060014c246d124582d1f781b26f5859d8dacc3e08e1/colorlog-4.6.2-py2.py3-none-any.whl\n",
            "Requirement already satisfied: tqdm in /usr/local/lib/python3.6/dist-packages (from optuna) (4.41.1)\n",
            "Requirement already satisfied: numpy in /usr/local/lib/python3.6/dist-packages (from optuna) (1.18.5)\n",
            "Collecting cliff\n",
            "\u001b[?25l  Downloading https://files.pythonhosted.org/packages/8a/61/5b64d73b01c1218f55c894b5ec0fb89b32c6960b7f7b3ad9f5ac0c373b9d/cliff-3.5.0-py3-none-any.whl (81kB)\n",
            "\u001b[K     |████████████████████████████████| 81kB 590kB/s \n",
            "\u001b[?25hRequirement already satisfied: Mako in /usr/local/lib/python3.6/dist-packages (from alembic->optuna) (1.1.3)\n",
            "Requirement already satisfied: python-editor>=0.3 in /usr/local/lib/python3.6/dist-packages (from alembic->optuna) (1.0.4)\n",
            "Requirement already satisfied: python-dateutil in /usr/local/lib/python3.6/dist-packages (from alembic->optuna) (2.8.1)\n",
            "Requirement already satisfied: pyparsing>=2.0.2 in /usr/local/lib/python3.6/dist-packages (from packaging>=20.0->optuna) (2.4.7)\n",
            "Requirement already satisfied: six in /usr/local/lib/python3.6/dist-packages (from packaging>=20.0->optuna) (1.15.0)\n",
            "Collecting stevedore>=2.0.1\n",
            "\u001b[?25l  Downloading https://files.pythonhosted.org/packages/b8/a1/004f04ba411a8002b02aadb089fd6868116c12ddc9f6d576175e89d07587/stevedore-3.2.2-py3-none-any.whl (42kB)\n",
            "\u001b[K     |████████████████████████████████| 51kB 5.6MB/s \n",
            "\u001b[?25hCollecting PrettyTable<0.8,>=0.7.2\n",
            "  Downloading https://files.pythonhosted.org/packages/ef/30/4b0746848746ed5941f052479e7c23d2b56d174b82f4fd34a25e389831f5/prettytable-0.7.2.tar.bz2\n",
            "Collecting cmd2!=0.8.3,>=0.8.0\n",
            "\u001b[?25l  Downloading https://files.pythonhosted.org/packages/27/54/af6e2703f064485d717cb311d3f9440cd302a823ba6d80a020b59eae166d/cmd2-1.4.0-py3-none-any.whl (133kB)\n",
            "\u001b[K     |████████████████████████████████| 133kB 8.8MB/s \n",
            "\u001b[?25hRequirement already satisfied: PyYAML>=3.12 in /usr/local/lib/python3.6/dist-packages (from cliff->optuna) (3.13)\n",
            "Collecting pbr!=2.1.0,>=2.0.0\n",
            "\u001b[?25l  Downloading https://files.pythonhosted.org/packages/fb/48/69046506f6ac61c1eaa9a0d42d22d54673b69e176d30ca98e3f61513e980/pbr-5.5.1-py2.py3-none-any.whl (106kB)\n",
            "\u001b[K     |████████████████████████████████| 112kB 9.7MB/s \n",
            "\u001b[?25hRequirement already satisfied: MarkupSafe>=0.9.2 in /usr/local/lib/python3.6/dist-packages (from Mako->alembic->optuna) (1.1.1)\n",
            "Requirement already satisfied: importlib-metadata>=1.7.0; python_version < \"3.8\" in /usr/local/lib/python3.6/dist-packages (from stevedore>=2.0.1->cliff->optuna) (2.0.0)\n",
            "Requirement already satisfied: wcwidth>=0.1.7 in /usr/local/lib/python3.6/dist-packages (from cmd2!=0.8.3,>=0.8.0->cliff->optuna) (0.2.5)\n",
            "Collecting pyperclip>=1.6\n",
            "  Downloading https://files.pythonhosted.org/packages/6f/4c/0b1d507ad7e8bc31d690d04b4f475e74c2002d060f7994ce8c09612df707/pyperclip-1.8.1.tar.gz\n",
            "Collecting colorama>=0.3.7\n",
            "  Downloading https://files.pythonhosted.org/packages/44/98/5b86278fbbf250d239ae0ecb724f8572af1c91f4a11edf4d36a206189440/colorama-0.4.4-py2.py3-none-any.whl\n",
            "Requirement already satisfied: attrs>=16.3.0 in /usr/local/lib/python3.6/dist-packages (from cmd2!=0.8.3,>=0.8.0->cliff->optuna) (20.2.0)\n",
            "Requirement already satisfied: zipp>=0.5 in /usr/local/lib/python3.6/dist-packages (from importlib-metadata>=1.7.0; python_version < \"3.8\"->stevedore>=2.0.1->cliff->optuna) (3.4.0)\n",
            "Building wheels for collected packages: optuna\n",
            "  Building wheel for optuna (PEP 517) ... \u001b[?25l\u001b[?25hdone\n",
            "  Created wheel for optuna: filename=optuna-2.3.0-cp36-none-any.whl size=359761 sha256=7d80fd5b80399bf92ad9db47c494c0c7f2cc4483ed165bf1ec1583ef919fecf9\n",
            "  Stored in directory: /root/.cache/pip/wheels/fa/91/19/64b0ec6b964f89c0695a9dc6db6f851d0b54c5381a5c9cadfb\n",
            "Successfully built optuna\n",
            "Building wheels for collected packages: PrettyTable, pyperclip\n",
            "  Building wheel for PrettyTable (setup.py) ... \u001b[?25l\u001b[?25hdone\n",
            "  Created wheel for PrettyTable: filename=prettytable-0.7.2-cp36-none-any.whl size=13700 sha256=32fb2325d3fac140a90e4059b983849ff97ced31e24a7b1c43ff936b00e51cf8\n",
            "  Stored in directory: /root/.cache/pip/wheels/80/34/1c/3967380d9676d162cb59513bd9dc862d0584e045a162095606\n",
            "  Building wheel for pyperclip (setup.py) ... \u001b[?25l\u001b[?25hdone\n",
            "  Created wheel for pyperclip: filename=pyperclip-1.8.1-cp36-none-any.whl size=11119 sha256=0adf4216fdb64eca3a3d9b4c45aa1abaff03b4dcd7c2822b131d4ba93db220e5\n",
            "  Stored in directory: /root/.cache/pip/wheels/44/10/3a/c830e9bb3db2c93274ea1f213a41fabde0d8cf3794251fad0c\n",
            "Successfully built PrettyTable pyperclip\n",
            "Installing collected packages: cmaes, colorlog, pbr, stevedore, PrettyTable, pyperclip, colorama, cmd2, cliff, optuna\n",
            "  Found existing installation: prettytable 1.0.1\n",
            "    Uninstalling prettytable-1.0.1:\n",
            "      Successfully uninstalled prettytable-1.0.1\n",
            "Successfully installed PrettyTable-0.7.2 cliff-3.5.0 cmaes-0.7.0 cmd2-1.4.0 colorama-0.4.4 colorlog-4.6.2 optuna-2.3.0 pbr-5.5.1 pyperclip-1.8.1 stevedore-3.2.2\n"
          ],
          "name": "stdout"
        }
      ]
    },
    {
      "cell_type": "markdown",
      "metadata": {
        "id": "ixpxmwNrz3Og"
      },
      "source": [
        "Naive Bayes"
      ]
    },
    {
      "cell_type": "code",
      "metadata": {
        "id": "CKpdWTlnzhjk"
      },
      "source": [
        "import optuna\n",
        "\n",
        "def objective(trial):\n",
        "    nb_var_smoothing = trial.suggest_float('var_smoothing', 1e-9, 1e9, log=True)\n",
        "    naive_obj = GaussianNB(var_smoothing=nb_var_smoothing)\n",
        "    naive_obj.fit(feature_train, label_train)     \n",
        "\n",
        "    prediction_test = naive_obj.predict(feature_test)\n",
        "    prediction_train = naive_obj.predict(feature_train)   \n",
        "\n",
        "    accuracy_test = accuracy_score(label_test, prediction_test)\n",
        "    accuracy_train = accuracy_score(label_train, prediction_train)\n",
        "    return accuracy_test\n",
        "\n",
        "study = optuna.create_study(direction=\"maximize\")\n",
        "study.optimize(objective, n_trials=100)\n",
        "print(study.best_trial)"
      ],
      "execution_count": null,
      "outputs": []
    },
    {
      "cell_type": "markdown",
      "metadata": {
        "id": "tQkg-ZYN4liK"
      },
      "source": [
        "KNN\n"
      ]
    },
    {
      "cell_type": "code",
      "metadata": {
        "id": "Z1K-kXtz4nl9"
      },
      "source": [
        "def objective(trial):\n",
        "    knn_n_neighbors = trial.suggest_int('n_neighbors', 2, 20)\n",
        "    knn_weights = trial.suggest_categorical('weights', ['uniform', 'distance'])\n",
        "    knn_algorithm = trial.suggest_categorical('algorithm', ['auto', 'ball_tree', 'kd_tree', 'brute'])\n",
        "\n",
        "    knn_obj = KNeighborsClassifier(n_neighbors=knn_n_neighbors, weights=knn_weights, algorithm=knn_algorithm)\n",
        "    knn_obj.fit(feature_train, label_train)     \n",
        "\n",
        "    prediction_test = knn_obj.predict(feature_test)\n",
        "    prediction_train = knn_obj.predict(feature_train)   \n",
        "\n",
        "    accuracy_test = accuracy_score(label_test, prediction_test)\n",
        "    accuracy_train = accuracy_score(label_train, prediction_train)\n",
        "    return accuracy_test\n",
        "\n",
        "study = optuna.create_study(direction=\"maximize\")\n",
        "study.optimize(objective, n_trials=100)\n",
        "print(study.best_trial)"
      ],
      "execution_count": null,
      "outputs": []
    },
    {
      "cell_type": "markdown",
      "metadata": {
        "id": "GF5o4HMc6w88"
      },
      "source": [
        "MLP"
      ]
    },
    {
      "cell_type": "code",
      "metadata": {
        "id": "_ilBzcoP6y9l"
      },
      "source": [
        "def objective(trial):\n",
        "    mlp_max_iter = trial.suggest_int('max_iter', 50, 300)\n",
        "    mlp_activation = trial.suggest_categorical('activation', ['identity', 'logistic', 'tanh', 'relu'])\n",
        "    mlp_solver = trial.suggest_categorical('solver', ['lbfgs', 'sgd', 'adam'])\n",
        "\n",
        "    mlp_obj = MLPClassifier(hidden_layer_sizes=(150,100,50), max_iter=mlp_max_iter,activation = mlp_activation,solver=mlp_solver,random_state=1)\n",
        "    mlp_obj.fit(feature_train, label_train) \n",
        "\n",
        "    prediction_test = mlp_obj.predict(feature_test)\n",
        "    prediction_train = mlp_obj.predict(feature_train)   \n",
        "\n",
        "    accuracy_test = accuracy_score(label_test, prediction_test)\n",
        "    accuracy_train = accuracy_score(label_train, prediction_train)\n",
        "    return accuracy_test\n",
        "\n",
        "study = optuna.create_study(direction=\"maximize\")\n",
        "study.optimize(objective, n_trials=100)\n",
        "print(study.best_trial)"
      ],
      "execution_count": null,
      "outputs": []
    },
    {
      "cell_type": "markdown",
      "metadata": {
        "id": "a0eds0oD-pAh"
      },
      "source": [
        "Random Forrest\n"
      ]
    },
    {
      "cell_type": "code",
      "metadata": {
        "id": "Qeg3hFmd-qiv",
        "outputId": "8babbcea-4511-4aa1-c514-b5a8b62ca80d",
        "colab": {
          "base_uri": "https://localhost:8080/"
        }
      },
      "source": [
        "def objective(trial):\n",
        "    forrest_n_estimators = trial.suggest_int('n_estimators', 100, 1000)\n",
        "    forrest_criterion = trial.suggest_categorical('criterion', ['gini', 'entropy'])\n",
        "    forrest_max_features = trial.suggest_categorical('max_features', ['auto', 'sqrt', 'log2'])\n",
        "\n",
        "    forrest_obj = RandomForestClassifier(n_estimators=forrest_n_estimators, criterion=forrest_criterion, max_features=forrest_max_features)\n",
        "    forrest_obj.fit(feature_train, label_train) \n",
        "\n",
        "    prediction_test = forrest_obj.predict(feature_test)\n",
        "    prediction_train = forrest_obj.predict(feature_train)   \n",
        "\n",
        "    accuracy_test = accuracy_score(label_test, prediction_test)\n",
        "    accuracy_train = accuracy_score(label_train, prediction_train)\n",
        "    return accuracy_test\n",
        "\n",
        "study = optuna.create_study(direction=\"maximize\")\n",
        "study.optimize(objective, n_trials=100)\n",
        "print(study.best_trial)"
      ],
      "execution_count": 29,
      "outputs": [
        {
          "output_type": "stream",
          "text": [
            "\u001b[32m[I 2020-11-15 18:55:19,188]\u001b[0m A new study created in memory with name: no-name-4a327232-9747-474e-830f-10a58d069fbc\u001b[0m\n",
            "\u001b[32m[I 2020-11-15 18:55:20,509]\u001b[0m Trial 0 finished with value: 0.975987606506584 and parameters: {'n_estimators': 181, 'criterion': 'entropy', 'max_features': 'auto'}. Best is trial 0 with value: 0.975987606506584.\u001b[0m\n",
            "\u001b[32m[I 2020-11-15 18:55:23,124]\u001b[0m Trial 1 finished with value: 0.9744384198295895 and parameters: {'n_estimators': 363, 'criterion': 'entropy', 'max_features': 'sqrt'}. Best is trial 0 with value: 0.975987606506584.\u001b[0m\n",
            "\u001b[32m[I 2020-11-15 18:55:29,799]\u001b[0m Trial 2 finished with value: 0.9736638264910922 and parameters: {'n_estimators': 925, 'criterion': 'entropy', 'max_features': 'sqrt'}. Best is trial 0 with value: 0.975987606506584.\u001b[0m\n",
            "\u001b[32m[I 2020-11-15 18:55:32,151]\u001b[0m Trial 3 finished with value: 0.9752130131680867 and parameters: {'n_estimators': 430, 'criterion': 'gini', 'max_features': 'sqrt'}. Best is trial 0 with value: 0.975987606506584.\u001b[0m\n",
            "\u001b[32m[I 2020-11-15 18:55:34,981]\u001b[0m Trial 4 finished with value: 0.9752130131680867 and parameters: {'n_estimators': 449, 'criterion': 'gini', 'max_features': 'log2'}. Best is trial 0 with value: 0.975987606506584.\u001b[0m\n",
            "\u001b[32m[I 2020-11-15 18:55:39,605]\u001b[0m Trial 5 finished with value: 0.9744384198295895 and parameters: {'n_estimators': 560, 'criterion': 'entropy', 'max_features': 'log2'}. Best is trial 0 with value: 0.975987606506584.\u001b[0m\n",
            "\u001b[32m[I 2020-11-15 18:55:42,702]\u001b[0m Trial 6 finished with value: 0.9736638264910922 and parameters: {'n_estimators': 429, 'criterion': 'entropy', 'max_features': 'sqrt'}. Best is trial 0 with value: 0.975987606506584.\u001b[0m\n",
            "\u001b[32m[I 2020-11-15 18:55:46,180]\u001b[0m Trial 7 finished with value: 0.9736638264910922 and parameters: {'n_estimators': 552, 'criterion': 'gini', 'max_features': 'log2'}. Best is trial 0 with value: 0.975987606506584.\u001b[0m\n",
            "\u001b[32m[I 2020-11-15 18:55:51,623]\u001b[0m Trial 8 finished with value: 0.9736638264910922 and parameters: {'n_estimators': 664, 'criterion': 'entropy', 'max_features': 'log2'}. Best is trial 0 with value: 0.975987606506584.\u001b[0m\n",
            "\u001b[32m[I 2020-11-15 18:55:52,505]\u001b[0m Trial 9 finished with value: 0.9705654531371031 and parameters: {'n_estimators': 121, 'criterion': 'entropy', 'max_features': 'auto'}. Best is trial 0 with value: 0.975987606506584.\u001b[0m\n",
            "\u001b[32m[I 2020-11-15 18:55:53,263]\u001b[0m Trial 10 finished with value: 0.9744384198295895 and parameters: {'n_estimators': 104, 'criterion': 'entropy', 'max_features': 'auto'}. Best is trial 0 with value: 0.975987606506584.\u001b[0m\n",
            "\u001b[32m[I 2020-11-15 18:55:54,581]\u001b[0m Trial 11 finished with value: 0.9721146398140976 and parameters: {'n_estimators': 239, 'criterion': 'gini', 'max_features': 'auto'}. Best is trial 0 with value: 0.975987606506584.\u001b[0m\n",
            "\u001b[32m[I 2020-11-15 18:55:55,930]\u001b[0m Trial 12 finished with value: 0.9736638264910922 and parameters: {'n_estimators': 247, 'criterion': 'gini', 'max_features': 'auto'}. Best is trial 0 with value: 0.975987606506584.\u001b[0m\n",
            "\u001b[32m[I 2020-11-15 18:55:59,980]\u001b[0m Trial 13 finished with value: 0.9744384198295895 and parameters: {'n_estimators': 741, 'criterion': 'gini', 'max_features': 'sqrt'}. Best is trial 0 with value: 0.975987606506584.\u001b[0m\n",
            "\u001b[32m[I 2020-11-15 18:56:01,381]\u001b[0m Trial 14 finished with value: 0.9728892331525949 and parameters: {'n_estimators': 253, 'criterion': 'gini', 'max_features': 'auto'}. Best is trial 0 with value: 0.975987606506584.\u001b[0m\n",
            "\u001b[32m[I 2020-11-15 18:56:03,258]\u001b[0m Trial 15 finished with value: 0.9752130131680867 and parameters: {'n_estimators': 346, 'criterion': 'gini', 'max_features': 'sqrt'}. Best is trial 0 with value: 0.975987606506584.\u001b[0m\n",
            "\u001b[32m[I 2020-11-15 18:56:04,094]\u001b[0m Trial 16 finished with value: 0.9752130131680867 and parameters: {'n_estimators': 114, 'criterion': 'entropy', 'max_features': 'sqrt'}. Best is trial 0 with value: 0.975987606506584.\u001b[0m\n",
            "\u001b[32m[I 2020-11-15 18:56:05,828]\u001b[0m Trial 17 finished with value: 0.9752130131680867 and parameters: {'n_estimators': 312, 'criterion': 'gini', 'max_features': 'auto'}. Best is trial 0 with value: 0.975987606506584.\u001b[0m\n",
            "\u001b[32m[I 2020-11-15 18:56:06,897]\u001b[0m Trial 18 finished with value: 0.9736638264910922 and parameters: {'n_estimators': 193, 'criterion': 'gini', 'max_features': 'auto'}. Best is trial 0 with value: 0.975987606506584.\u001b[0m\n",
            "\u001b[32m[I 2020-11-15 18:56:07,781]\u001b[0m Trial 19 finished with value: 0.9728892331525949 and parameters: {'n_estimators': 121, 'criterion': 'entropy', 'max_features': 'sqrt'}. Best is trial 0 with value: 0.975987606506584.\u001b[0m\n",
            "\u001b[32m[I 2020-11-15 18:56:11,636]\u001b[0m Trial 20 finished with value: 0.9744384198295895 and parameters: {'n_estimators': 707, 'criterion': 'gini', 'max_features': 'auto'}. Best is trial 0 with value: 0.975987606506584.\u001b[0m\n",
            "\u001b[32m[I 2020-11-15 18:56:12,866]\u001b[0m Trial 21 finished with value: 0.9721146398140976 and parameters: {'n_estimators': 167, 'criterion': 'entropy', 'max_features': 'auto'}. Best is trial 0 with value: 0.975987606506584.\u001b[0m\n",
            "\u001b[32m[I 2020-11-15 18:56:15,208]\u001b[0m Trial 22 finished with value: 0.9775367931835787 and parameters: {'n_estimators': 323, 'criterion': 'entropy', 'max_features': 'auto'}. Best is trial 22 with value: 0.9775367931835787.\u001b[0m\n",
            "\u001b[32m[I 2020-11-15 18:56:18,395]\u001b[0m Trial 23 finished with value: 0.9744384198295895 and parameters: {'n_estimators': 454, 'criterion': 'entropy', 'max_features': 'auto'}. Best is trial 22 with value: 0.9775367931835787.\u001b[0m\n",
            "\u001b[32m[I 2020-11-15 18:56:20,782]\u001b[0m Trial 24 finished with value: 0.9752130131680867 and parameters: {'n_estimators': 329, 'criterion': 'entropy', 'max_features': 'auto'}. Best is trial 22 with value: 0.9775367931835787.\u001b[0m\n",
            "\u001b[32m[I 2020-11-15 18:56:22,864]\u001b[0m Trial 25 finished with value: 0.9744384198295895 and parameters: {'n_estimators': 298, 'criterion': 'entropy', 'max_features': 'auto'}. Best is trial 22 with value: 0.9775367931835787.\u001b[0m\n",
            "\u001b[32m[I 2020-11-15 18:56:25,703]\u001b[0m Trial 26 finished with value: 0.9744384198295895 and parameters: {'n_estimators': 404, 'criterion': 'entropy', 'max_features': 'sqrt'}. Best is trial 22 with value: 0.9775367931835787.\u001b[0m\n",
            "\u001b[32m[I 2020-11-15 18:56:27,096]\u001b[0m Trial 27 finished with value: 0.9721146398140976 and parameters: {'n_estimators': 193, 'criterion': 'entropy', 'max_features': 'auto'}. Best is trial 22 with value: 0.9775367931835787.\u001b[0m\n",
            "\u001b[32m[I 2020-11-15 18:56:30,649]\u001b[0m Trial 28 finished with value: 0.9736638264910922 and parameters: {'n_estimators': 500, 'criterion': 'entropy', 'max_features': 'auto'}. Best is trial 22 with value: 0.9775367931835787.\u001b[0m\n",
            "\u001b[32m[I 2020-11-15 18:56:32,801]\u001b[0m Trial 29 finished with value: 0.9736638264910922 and parameters: {'n_estimators': 298, 'criterion': 'entropy', 'max_features': 'auto'}. Best is trial 22 with value: 0.9775367931835787.\u001b[0m\n",
            "\u001b[32m[I 2020-11-15 18:56:36,167]\u001b[0m Trial 30 finished with value: 0.9744384198295895 and parameters: {'n_estimators': 614, 'criterion': 'gini', 'max_features': 'auto'}. Best is trial 22 with value: 0.9775367931835787.\u001b[0m\n",
            "\u001b[32m[I 2020-11-15 18:56:38,683]\u001b[0m Trial 31 finished with value: 0.9736638264910922 and parameters: {'n_estimators': 355, 'criterion': 'entropy', 'max_features': 'auto'}. Best is trial 22 with value: 0.9775367931835787.\u001b[0m\n",
            "\u001b[32m[I 2020-11-15 18:56:40,772]\u001b[0m Trial 32 finished with value: 0.9752130131680867 and parameters: {'n_estimators': 286, 'criterion': 'entropy', 'max_features': 'auto'}. Best is trial 22 with value: 0.9775367931835787.\u001b[0m\n",
            "\u001b[32m[I 2020-11-15 18:56:43,341]\u001b[0m Trial 33 finished with value: 0.9736638264910922 and parameters: {'n_estimators': 357, 'criterion': 'entropy', 'max_features': 'auto'}. Best is trial 22 with value: 0.9775367931835787.\u001b[0m\n",
            "\u001b[32m[I 2020-11-15 18:56:44,665]\u001b[0m Trial 34 finished with value: 0.9713400464756003 and parameters: {'n_estimators': 180, 'criterion': 'entropy', 'max_features': 'auto'}. Best is trial 22 with value: 0.9775367931835787.\u001b[0m\n",
            "\u001b[32m[I 2020-11-15 18:56:50,450]\u001b[0m Trial 35 finished with value: 0.9736638264910922 and parameters: {'n_estimators': 822, 'criterion': 'entropy', 'max_features': 'auto'}. Best is trial 22 with value: 0.9775367931835787.\u001b[0m\n",
            "\u001b[32m[I 2020-11-15 18:56:53,880]\u001b[0m Trial 36 finished with value: 0.975987606506584 and parameters: {'n_estimators': 489, 'criterion': 'entropy', 'max_features': 'auto'}. Best is trial 22 with value: 0.9775367931835787.\u001b[0m\n",
            "\u001b[32m[I 2020-11-15 18:56:57,908]\u001b[0m Trial 37 finished with value: 0.9744384198295895 and parameters: {'n_estimators': 503, 'criterion': 'entropy', 'max_features': 'log2'}. Best is trial 22 with value: 0.9775367931835787.\u001b[0m\n",
            "\u001b[32m[I 2020-11-15 18:57:00,682]\u001b[0m Trial 38 finished with value: 0.9752130131680867 and parameters: {'n_estimators': 390, 'criterion': 'entropy', 'max_features': 'auto'}. Best is trial 22 with value: 0.9775367931835787.\u001b[0m\n",
            "\u001b[32m[I 2020-11-15 18:57:04,576]\u001b[0m Trial 39 finished with value: 0.9752130131680867 and parameters: {'n_estimators': 490, 'criterion': 'entropy', 'max_features': 'log2'}. Best is trial 22 with value: 0.9775367931835787.\u001b[0m\n",
            "\u001b[32m[I 2020-11-15 18:57:06,540]\u001b[0m Trial 40 finished with value: 0.9752130131680867 and parameters: {'n_estimators': 279, 'criterion': 'entropy', 'max_features': 'auto'}. Best is trial 22 with value: 0.9775367931835787.\u001b[0m\n",
            "\u001b[32m[I 2020-11-15 18:57:09,334]\u001b[0m Trial 41 finished with value: 0.975987606506584 and parameters: {'n_estimators': 397, 'criterion': 'entropy', 'max_features': 'auto'}. Best is trial 22 with value: 0.9775367931835787.\u001b[0m\n",
            "\u001b[32m[I 2020-11-15 18:57:14,056]\u001b[0m Trial 42 finished with value: 0.975987606506584 and parameters: {'n_estimators': 590, 'criterion': 'entropy', 'max_features': 'log2'}. Best is trial 22 with value: 0.9775367931835787.\u001b[0m\n",
            "\u001b[32m[I 2020-11-15 18:57:19,064]\u001b[0m Trial 43 finished with value: 0.975987606506584 and parameters: {'n_estimators': 609, 'criterion': 'entropy', 'max_features': 'log2'}. Best is trial 22 with value: 0.9775367931835787.\u001b[0m\n",
            "\u001b[32m[I 2020-11-15 18:57:25,067]\u001b[0m Trial 44 finished with value: 0.975987606506584 and parameters: {'n_estimators': 532, 'criterion': 'entropy', 'max_features': 'log2'}. Best is trial 22 with value: 0.9775367931835787.\u001b[0m\n",
            "\u001b[32m[I 2020-11-15 18:57:30,937]\u001b[0m Trial 45 finished with value: 0.975987606506584 and parameters: {'n_estimators': 594, 'criterion': 'entropy', 'max_features': 'log2'}. Best is trial 22 with value: 0.9775367931835787.\u001b[0m\n",
            "\u001b[32m[I 2020-11-15 18:57:36,012]\u001b[0m Trial 46 finished with value: 0.9752130131680867 and parameters: {'n_estimators': 625, 'criterion': 'entropy', 'max_features': 'log2'}. Best is trial 22 with value: 0.9775367931835787.\u001b[0m\n",
            "\u001b[32m[I 2020-11-15 18:57:44,138]\u001b[0m Trial 47 finished with value: 0.9752130131680867 and parameters: {'n_estimators': 997, 'criterion': 'entropy', 'max_features': 'log2'}. Best is trial 22 with value: 0.9775367931835787.\u001b[0m\n",
            "\u001b[32m[I 2020-11-15 18:57:50,065]\u001b[0m Trial 48 finished with value: 0.9752130131680867 and parameters: {'n_estimators': 745, 'criterion': 'entropy', 'max_features': 'log2'}. Best is trial 22 with value: 0.9775367931835787.\u001b[0m\n",
            "\u001b[32m[I 2020-11-15 18:57:54,503]\u001b[0m Trial 49 finished with value: 0.9767621998450813 and parameters: {'n_estimators': 562, 'criterion': 'entropy', 'max_features': 'log2'}. Best is trial 22 with value: 0.9775367931835787.\u001b[0m\n",
            "\u001b[32m[I 2020-11-15 18:57:59,808]\u001b[0m Trial 50 finished with value: 0.9752130131680867 and parameters: {'n_estimators': 667, 'criterion': 'entropy', 'max_features': 'log2'}. Best is trial 22 with value: 0.9775367931835787.\u001b[0m\n",
            "\u001b[32m[I 2020-11-15 18:58:04,473]\u001b[0m Trial 51 finished with value: 0.975987606506584 and parameters: {'n_estimators': 574, 'criterion': 'entropy', 'max_features': 'log2'}. Best is trial 22 with value: 0.9775367931835787.\u001b[0m\n",
            "\u001b[32m[I 2020-11-15 18:58:08,784]\u001b[0m Trial 52 finished with value: 0.975987606506584 and parameters: {'n_estimators': 534, 'criterion': 'entropy', 'max_features': 'log2'}. Best is trial 22 with value: 0.9775367931835787.\u001b[0m\n",
            "\u001b[32m[I 2020-11-15 18:58:14,085]\u001b[0m Trial 53 finished with value: 0.9744384198295895 and parameters: {'n_estimators': 657, 'criterion': 'entropy', 'max_features': 'log2'}. Best is trial 22 with value: 0.9775367931835787.\u001b[0m\n",
            "\u001b[32m[I 2020-11-15 18:58:17,818]\u001b[0m Trial 54 finished with value: 0.9752130131680867 and parameters: {'n_estimators': 466, 'criterion': 'entropy', 'max_features': 'log2'}. Best is trial 22 with value: 0.9775367931835787.\u001b[0m\n",
            "\u001b[32m[I 2020-11-15 18:58:21,144]\u001b[0m Trial 55 finished with value: 0.975987606506584 and parameters: {'n_estimators': 413, 'criterion': 'entropy', 'max_features': 'log2'}. Best is trial 22 with value: 0.9775367931835787.\u001b[0m\n",
            "\u001b[32m[I 2020-11-15 18:58:25,752]\u001b[0m Trial 56 finished with value: 0.9744384198295895 and parameters: {'n_estimators': 568, 'criterion': 'entropy', 'max_features': 'log2'}. Best is trial 22 with value: 0.9775367931835787.\u001b[0m\n",
            "\u001b[32m[I 2020-11-15 18:58:28,751]\u001b[0m Trial 57 finished with value: 0.9744384198295895 and parameters: {'n_estimators': 432, 'criterion': 'entropy', 'max_features': 'auto'}. Best is trial 22 with value: 0.9775367931835787.\u001b[0m\n",
            "\u001b[32m[I 2020-11-15 18:58:30,314]\u001b[0m Trial 58 finished with value: 0.975987606506584 and parameters: {'n_estimators': 219, 'criterion': 'entropy', 'max_features': 'auto'}. Best is trial 22 with value: 0.9775367931835787.\u001b[0m\n",
            "\u001b[32m[I 2020-11-15 18:58:34,807]\u001b[0m Trial 59 finished with value: 0.9767621998450813 and parameters: {'n_estimators': 562, 'criterion': 'entropy', 'max_features': 'log2'}. Best is trial 22 with value: 0.9775367931835787.\u001b[0m\n",
            "\u001b[32m[I 2020-11-15 18:58:38,977]\u001b[0m Trial 60 finished with value: 0.975987606506584 and parameters: {'n_estimators': 520, 'criterion': 'entropy', 'max_features': 'log2'}. Best is trial 22 with value: 0.9775367931835787.\u001b[0m\n",
            "\u001b[32m[I 2020-11-15 18:58:40,716]\u001b[0m Trial 61 finished with value: 0.9767621998450813 and parameters: {'n_estimators': 216, 'criterion': 'entropy', 'max_features': 'log2'}. Best is trial 22 with value: 0.9775367931835787.\u001b[0m\n",
            "\u001b[32m[I 2020-11-15 18:58:42,532]\u001b[0m Trial 62 finished with value: 0.9752130131680867 and parameters: {'n_estimators': 223, 'criterion': 'entropy', 'max_features': 'log2'}. Best is trial 22 with value: 0.9775367931835787.\u001b[0m\n",
            "\u001b[32m[I 2020-11-15 18:58:46,319]\u001b[0m Trial 63 finished with value: 0.9752130131680867 and parameters: {'n_estimators': 477, 'criterion': 'entropy', 'max_features': 'log2'}. Best is trial 22 with value: 0.9775367931835787.\u001b[0m\n",
            "\u001b[32m[I 2020-11-15 18:58:51,874]\u001b[0m Trial 64 finished with value: 0.975987606506584 and parameters: {'n_estimators': 708, 'criterion': 'entropy', 'max_features': 'log2'}. Best is trial 22 with value: 0.9775367931835787.\u001b[0m\n",
            "\u001b[32m[I 2020-11-15 18:58:53,087]\u001b[0m Trial 65 finished with value: 0.9767621998450813 and parameters: {'n_estimators': 149, 'criterion': 'entropy', 'max_features': 'log2'}. Best is trial 22 with value: 0.9775367931835787.\u001b[0m\n",
            "\u001b[32m[I 2020-11-15 18:58:54,383]\u001b[0m Trial 66 finished with value: 0.9767621998450813 and parameters: {'n_estimators': 160, 'criterion': 'entropy', 'max_features': 'log2'}. Best is trial 22 with value: 0.9775367931835787.\u001b[0m\n",
            "\u001b[32m[I 2020-11-15 18:58:55,581]\u001b[0m Trial 67 finished with value: 0.975987606506584 and parameters: {'n_estimators': 146, 'criterion': 'entropy', 'max_features': 'log2'}. Best is trial 22 with value: 0.9775367931835787.\u001b[0m\n",
            "\u001b[32m[I 2020-11-15 18:58:56,884]\u001b[0m Trial 68 finished with value: 0.9752130131680867 and parameters: {'n_estimators': 159, 'criterion': 'entropy', 'max_features': 'log2'}. Best is trial 22 with value: 0.9775367931835787.\u001b[0m\n",
            "\u001b[32m[I 2020-11-15 18:58:57,818]\u001b[0m Trial 69 finished with value: 0.9728892331525949 and parameters: {'n_estimators': 130, 'criterion': 'entropy', 'max_features': 'sqrt'}. Best is trial 22 with value: 0.9775367931835787.\u001b[0m\n",
            "\u001b[32m[I 2020-11-15 18:58:59,460]\u001b[0m Trial 70 finished with value: 0.9744384198295895 and parameters: {'n_estimators': 202, 'criterion': 'entropy', 'max_features': 'log2'}. Best is trial 22 with value: 0.9775367931835787.\u001b[0m\n",
            "\u001b[32m[I 2020-11-15 18:59:01,578]\u001b[0m Trial 71 finished with value: 0.975987606506584 and parameters: {'n_estimators': 259, 'criterion': 'entropy', 'max_features': 'log2'}. Best is trial 22 with value: 0.9775367931835787.\u001b[0m\n",
            "\u001b[32m[I 2020-11-15 18:59:04,191]\u001b[0m Trial 72 finished with value: 0.9752130131680867 and parameters: {'n_estimators': 324, 'criterion': 'entropy', 'max_features': 'log2'}. Best is trial 22 with value: 0.9775367931835787.\u001b[0m\n",
            "\u001b[32m[I 2020-11-15 18:59:06,301]\u001b[0m Trial 73 finished with value: 0.9721146398140976 and parameters: {'n_estimators': 261, 'criterion': 'entropy', 'max_features': 'log2'}. Best is trial 22 with value: 0.9775367931835787.\u001b[0m\n",
            "\u001b[32m[I 2020-11-15 18:59:11,359]\u001b[0m Trial 74 finished with value: 0.9752130131680867 and parameters: {'n_estimators': 624, 'criterion': 'entropy', 'max_features': 'log2'}. Best is trial 22 with value: 0.9775367931835787.\u001b[0m\n",
            "\u001b[32m[I 2020-11-15 18:59:11,974]\u001b[0m Trial 75 finished with value: 0.9721146398140976 and parameters: {'n_estimators': 106, 'criterion': 'gini', 'max_features': 'auto'}. Best is trial 22 with value: 0.9775367931835787.\u001b[0m\n",
            "\u001b[32m[I 2020-11-15 18:59:15,199]\u001b[0m Trial 76 finished with value: 0.975987606506584 and parameters: {'n_estimators': 392, 'criterion': 'entropy', 'max_features': 'log2'}. Best is trial 22 with value: 0.9775367931835787.\u001b[0m\n",
            "\u001b[32m[I 2020-11-15 18:59:19,914]\u001b[0m Trial 77 finished with value: 0.9752130131680867 and parameters: {'n_estimators': 577, 'criterion': 'entropy', 'max_features': 'log2'}. Best is trial 22 with value: 0.9775367931835787.\u001b[0m\n",
            "\u001b[32m[I 2020-11-15 18:59:20,884]\u001b[0m Trial 78 finished with value: 0.9736638264910922 and parameters: {'n_estimators': 140, 'criterion': 'entropy', 'max_features': 'sqrt'}. Best is trial 22 with value: 0.9775367931835787.\u001b[0m\n",
            "\u001b[32m[I 2020-11-15 18:59:22,268]\u001b[0m Trial 79 finished with value: 0.9752130131680867 and parameters: {'n_estimators': 194, 'criterion': 'entropy', 'max_features': 'auto'}. Best is trial 22 with value: 0.9775367931835787.\u001b[0m\n",
            "\u001b[32m[I 2020-11-15 18:59:24,001]\u001b[0m Trial 80 finished with value: 0.9728892331525949 and parameters: {'n_estimators': 232, 'criterion': 'entropy', 'max_features': 'auto'}. Best is trial 22 with value: 0.9775367931835787.\u001b[0m\n",
            "\u001b[32m[I 2020-11-15 18:59:28,442]\u001b[0m Trial 81 finished with value: 0.9767621998450813 and parameters: {'n_estimators': 551, 'criterion': 'entropy', 'max_features': 'log2'}. Best is trial 22 with value: 0.9775367931835787.\u001b[0m\n",
            "\u001b[32m[I 2020-11-15 18:59:34,901]\u001b[0m Trial 82 finished with value: 0.975987606506584 and parameters: {'n_estimators': 806, 'criterion': 'entropy', 'max_features': 'log2'}. Best is trial 22 with value: 0.9775367931835787.\u001b[0m\n",
            "\u001b[32m[I 2020-11-15 18:59:39,832]\u001b[0m Trial 83 finished with value: 0.9752130131680867 and parameters: {'n_estimators': 597, 'criterion': 'entropy', 'max_features': 'log2'}. Best is trial 22 with value: 0.9775367931835787.\u001b[0m\n",
            "\u001b[32m[I 2020-11-15 18:59:46,620]\u001b[0m Trial 84 finished with value: 0.9744384198295895 and parameters: {'n_estimators': 833, 'criterion': 'entropy', 'max_features': 'log2'}. Best is trial 22 with value: 0.9775367931835787.\u001b[0m\n",
            "\u001b[32m[I 2020-11-15 18:59:49,000]\u001b[0m Trial 85 finished with value: 0.975987606506584 and parameters: {'n_estimators': 278, 'criterion': 'entropy', 'max_features': 'log2'}. Best is trial 22 with value: 0.9775367931835787.\u001b[0m\n",
            "\u001b[32m[I 2020-11-15 18:59:53,549]\u001b[0m Trial 86 finished with value: 0.9752130131680867 and parameters: {'n_estimators': 549, 'criterion': 'entropy', 'max_features': 'log2'}. Best is trial 22 with value: 0.9775367931835787.\u001b[0m\n",
            "\u001b[32m[I 2020-11-15 18:59:58,847]\u001b[0m Trial 87 finished with value: 0.9744384198295895 and parameters: {'n_estimators': 646, 'criterion': 'entropy', 'max_features': 'log2'}. Best is trial 22 with value: 0.9775367931835787.\u001b[0m\n",
            "\u001b[32m[I 2020-11-15 19:00:00,020]\u001b[0m Trial 88 finished with value: 0.9752130131680867 and parameters: {'n_estimators': 164, 'criterion': 'entropy', 'max_features': 'auto'}. Best is trial 22 with value: 0.9775367931835787.\u001b[0m\n",
            "\u001b[32m[I 2020-11-15 19:00:01,876]\u001b[0m Trial 89 finished with value: 0.9728892331525949 and parameters: {'n_estimators': 337, 'criterion': 'gini', 'max_features': 'auto'}. Best is trial 22 with value: 0.9775367931835787.\u001b[0m\n",
            "\u001b[32m[I 2020-11-15 19:00:05,151]\u001b[0m Trial 90 finished with value: 0.9767621998450813 and parameters: {'n_estimators': 453, 'criterion': 'entropy', 'max_features': 'auto'}. Best is trial 22 with value: 0.9775367931835787.\u001b[0m\n",
            "\u001b[32m[I 2020-11-15 19:00:08,635]\u001b[0m Trial 91 finished with value: 0.9744384198295895 and parameters: {'n_estimators': 432, 'criterion': 'entropy', 'max_features': 'log2'}. Best is trial 22 with value: 0.9775367931835787.\u001b[0m\n",
            "\u001b[32m[I 2020-11-15 19:00:13,537]\u001b[0m Trial 92 finished with value: 0.9752130131680867 and parameters: {'n_estimators': 602, 'criterion': 'entropy', 'max_features': 'log2'}. Best is trial 22 with value: 0.9775367931835787.\u001b[0m\n",
            "\u001b[32m[I 2020-11-15 19:00:17,817]\u001b[0m Trial 93 finished with value: 0.9752130131680867 and parameters: {'n_estimators': 521, 'criterion': 'entropy', 'max_features': 'log2'}. Best is trial 22 with value: 0.9775367931835787.\u001b[0m\n",
            "\u001b[32m[I 2020-11-15 19:00:21,874]\u001b[0m Trial 94 finished with value: 0.9744384198295895 and parameters: {'n_estimators': 508, 'criterion': 'entropy', 'max_features': 'log2'}. Best is trial 22 with value: 0.9775367931835787.\u001b[0m\n",
            "\u001b[32m[I 2020-11-15 19:00:26,233]\u001b[0m Trial 95 finished with value: 0.9752130131680867 and parameters: {'n_estimators': 551, 'criterion': 'entropy', 'max_features': 'log2'}. Best is trial 22 with value: 0.9775367931835787.\u001b[0m\n",
            "\u001b[32m[I 2020-11-15 19:00:30,547]\u001b[0m Trial 96 finished with value: 0.975987606506584 and parameters: {'n_estimators': 537, 'criterion': 'entropy', 'max_features': 'log2'}. Best is trial 22 with value: 0.9775367931835787.\u001b[0m\n",
            "\u001b[32m[I 2020-11-15 19:00:33,264]\u001b[0m Trial 97 finished with value: 0.9728892331525949 and parameters: {'n_estimators': 377, 'criterion': 'entropy', 'max_features': 'auto'}. Best is trial 22 with value: 0.9775367931835787.\u001b[0m\n",
            "\u001b[32m[I 2020-11-15 19:00:37,887]\u001b[0m Trial 98 finished with value: 0.9752130131680867 and parameters: {'n_estimators': 574, 'criterion': 'entropy', 'max_features': 'log2'}. Best is trial 22 with value: 0.9775367931835787.\u001b[0m\n",
            "\u001b[32m[I 2020-11-15 19:00:41,508]\u001b[0m Trial 99 finished with value: 0.975987606506584 and parameters: {'n_estimators': 448, 'criterion': 'entropy', 'max_features': 'log2'}. Best is trial 22 with value: 0.9775367931835787.\u001b[0m\n"
          ],
          "name": "stderr"
        },
        {
          "output_type": "stream",
          "text": [
            "FrozenTrial(number=22, value=0.9775367931835787, datetime_start=datetime.datetime(2020, 11, 15, 18, 56, 12, 867341), datetime_complete=datetime.datetime(2020, 11, 15, 18, 56, 15, 208172), params={'n_estimators': 323, 'criterion': 'entropy', 'max_features': 'auto'}, distributions={'n_estimators': IntUniformDistribution(high=1000, low=100, step=1), 'criterion': CategoricalDistribution(choices=('gini', 'entropy')), 'max_features': CategoricalDistribution(choices=('auto', 'sqrt', 'log2'))}, user_attrs={}, system_attrs={}, intermediate_values={}, trial_id=22, state=TrialState.COMPLETE)\n"
          ],
          "name": "stdout"
        }
      ]
    },
    {
      "cell_type": "code",
      "metadata": {
        "id": "TPyo-XeZKzXM",
        "outputId": "647e9b71-7517-485e-87bb-ed2bb6bb22ef",
        "colab": {
          "base_uri": "https://localhost:8080/"
        }
      },
      "source": [
        "forest_params = study.best_trial.params\n",
        "print(study.best_trial)"
      ],
      "execution_count": 30,
      "outputs": [
        {
          "output_type": "stream",
          "text": [
            "FrozenTrial(number=22, value=0.9775367931835787, datetime_start=datetime.datetime(2020, 11, 15, 18, 56, 12, 867341), datetime_complete=datetime.datetime(2020, 11, 15, 18, 56, 15, 208172), params={'n_estimators': 323, 'criterion': 'entropy', 'max_features': 'auto'}, distributions={'n_estimators': IntUniformDistribution(high=1000, low=100, step=1), 'criterion': CategoricalDistribution(choices=('gini', 'entropy')), 'max_features': CategoricalDistribution(choices=('auto', 'sqrt', 'log2'))}, user_attrs={}, system_attrs={}, intermediate_values={}, trial_id=22, state=TrialState.COMPLETE)\n"
          ],
          "name": "stdout"
        }
      ]
    },
    {
      "cell_type": "markdown",
      "metadata": {
        "id": "Gn6QWPGnHNIO"
      },
      "source": [
        "# Diagnóstico do Modelo\n"
      ]
    },
    {
      "cell_type": "code",
      "metadata": {
        "id": "4Ydn_j4eHMia"
      },
      "source": [
        "from sklearn.metrics import confusion_matrix\n",
        "forest_diag = RandomForestClassifier(n_estimators=forest_params['n_estimators'], criterion=forest_params['criterion'], max_features=forest_params['max_features'])\n",
        "forest_diag.fit(feature_train, label_train) \n",
        "\n",
        "prediction_test = forest_diag.predict(feature_test)\n",
        "prediction_train = forest_diag.predict(feature_train)   \n",
        "\n",
        "accuracy_test = accuracy_score(label_test, prediction_test)\n",
        "accuracy_train = accuracy_score(label_train, prediction_train)\n",
        "\n",
        "mat = confusion_matrix(label_test, prediction_test)"
      ],
      "execution_count": 31,
      "outputs": []
    },
    {
      "cell_type": "code",
      "metadata": {
        "id": "iUBew3uMMIiR",
        "outputId": "bcce21e7-a55c-411d-b9be-cb4b4ec43d0a",
        "colab": {
          "base_uri": "https://localhost:8080/",
          "height": 279
        }
      },
      "source": [
        "import seaborn as sns\n",
        "sns.heatmap(mat.T, square=True, annot=True, fmt='d', cbar=False)\n",
        "plt.xlabel('true label')\n",
        "plt.ylabel('predicted label');"
      ],
      "execution_count": 32,
      "outputs": [
        {
          "output_type": "display_data",
          "data": {
            "image/png": "[encoded data removed]",
            "text/plain": [
              "<Figure size 432x288 with 1 Axes>"
            ]
          },
          "metadata": {
            "tags": [],
            "needs_background": "light"
          }
        }
      ]
    },
    {
      "cell_type": "code",
      "metadata": {
        "id": "L0nkms6cS8Hc",
        "outputId": "e4c4a089-da7a-4452-f9e5-e4ccc81ba9cc",
        "colab": {
          "base_uri": "https://localhost:8080/",
          "height": 297
        }
      },
      "source": [
        "feature_importance = pd.DataFrame({'feature': feature_train.columns, 'feature_importance': forest_diag.feature_importances_})\n",
        "feature_importance = feature_importance.sort_values('feature_importance', ascending=False).reset_index(drop=True)\n",
        "feature_importance"
      ],
      "execution_count": 35,
      "outputs": [
        {
          "output_type": "execute_result",
          "data": {
            "text/html": [
              "<div>\n",
              "<style scoped>\n",
              "    .dataframe tbody tr th:only-of-type {\n",
              "        vertical-align: middle;\n",
              "    }\n",
              "\n",
              "    .dataframe tbody tr th {\n",
              "        vertical-align: top;\n",
              "    }\n",
              "\n",
              "    .dataframe thead th {\n",
              "        text-align: right;\n",
              "    }\n",
              "</style>\n",
              "<table border=\"1\" class=\"dataframe\">\n",
              "  <thead>\n",
              "    <tr style=\"text-align: right;\">\n",
              "      <th></th>\n",
              "      <th>feature</th>\n",
              "      <th>feature_importance</th>\n",
              "    </tr>\n",
              "  </thead>\n",
              "  <tbody>\n",
              "    <tr>\n",
              "      <th>0</th>\n",
              "      <td>points</td>\n",
              "      <td>0.497011</td>\n",
              "    </tr>\n",
              "    <tr>\n",
              "      <th>1</th>\n",
              "      <td>raceId</td>\n",
              "      <td>0.131661</td>\n",
              "    </tr>\n",
              "    <tr>\n",
              "      <th>2</th>\n",
              "      <td>grid</td>\n",
              "      <td>0.123168</td>\n",
              "    </tr>\n",
              "    <tr>\n",
              "      <th>3</th>\n",
              "      <td>driverId</td>\n",
              "      <td>0.095789</td>\n",
              "    </tr>\n",
              "    <tr>\n",
              "      <th>4</th>\n",
              "      <td>constructorId</td>\n",
              "      <td>0.048717</td>\n",
              "    </tr>\n",
              "    <tr>\n",
              "      <th>5</th>\n",
              "      <td>milliseconds</td>\n",
              "      <td>0.042124</td>\n",
              "    </tr>\n",
              "    <tr>\n",
              "      <th>6</th>\n",
              "      <td>circuitId</td>\n",
              "      <td>0.030818</td>\n",
              "    </tr>\n",
              "    <tr>\n",
              "      <th>7</th>\n",
              "      <td>laps</td>\n",
              "      <td>0.030712</td>\n",
              "    </tr>\n",
              "  </tbody>\n",
              "</table>\n",
              "</div>"
            ],
            "text/plain": [
              "         feature  feature_importance\n",
              "0         points            0.497011\n",
              "1         raceId            0.131661\n",
              "2           grid            0.123168\n",
              "3       driverId            0.095789\n",
              "4  constructorId            0.048717\n",
              "5   milliseconds            0.042124\n",
              "6      circuitId            0.030818\n",
              "7           laps            0.030712"
            ]
          },
          "metadata": {
            "tags": []
          },
          "execution_count": 35
        }
      ]
    },
    {
      "cell_type": "code",
      "metadata": {
        "id": "tXhXYnefWZHv",
        "outputId": "ee601f2c-dc65-4a8a-abeb-44fdbf474771",
        "colab": {
          "base_uri": "https://localhost:8080/",
          "height": 318
        }
      },
      "source": [
        "sns.barplot(x = 'feature_importance', y='feature', data=feature_importance, orient='h', color='royalblue').set_title('Feature Importance', fontsize = 20)"
      ],
      "execution_count": 38,
      "outputs": [
        {
          "output_type": "execute_result",
          "data": {
            "text/plain": [
              "Text(0.5, 1.0, 'Feature Importance')"
            ]
          },
          "metadata": {
            "tags": []
          },
          "execution_count": 38
        },
        {
          "output_type": "display_data",
          "data": {
            "image/png": "[encoded data removed]",
            "text/plain": [
              "<Figure size 432x288 with 1 Axes>"
            ]
          },
          "metadata": {
            "tags": [],
            "needs_background": "light"
          }
        }
      ]
    },
    {
      "cell_type": "markdown",
      "metadata": {
        "id": "yJ7-gehwfPCk"
      },
      "source": [
        "Variância"
      ]
    },
    {
      "cell_type": "code",
      "metadata": {
        "id": "gEh-KwdLbUi8",
        "outputId": "c6c49628-0ead-40c6-b3e3-14edc489db53",
        "colab": {
          "base_uri": "https://localhost:8080/"
        }
      },
      "source": [
        "variance = accuracy_train - accuracy_test\n",
        "variance"
      ],
      "execution_count": 42,
      "outputs": [
        {
          "output_type": "execute_result",
          "data": {
            "text/plain": [
              "0.025561580170410547"
            ]
          },
          "metadata": {
            "tags": []
          },
          "execution_count": 42
        }
      ]
    },
    {
      "cell_type": "markdown",
      "metadata": {
        "id": "c7F8KT8Hf4EX"
      },
      "source": [
        "Viés"
      ]
    },
    {
      "cell_type": "code",
      "metadata": {
        "id": "m1xLahDAf3M9",
        "outputId": "dc145a67-89ca-4571-8166-14fab6966f5a",
        "colab": {
          "base_uri": "https://localhost:8080/"
        }
      },
      "source": [
        "bias = 1 - 0.02 - accuracy_test\n",
        "bias"
      ],
      "execution_count": 54,
      "outputs": [
        {
          "output_type": "execute_result",
          "data": {
            "text/plain": [
              "0.005561580170410529"
            ]
          },
          "metadata": {
            "tags": []
          },
          "execution_count": 54
        }
      ]
    },
    {
      "cell_type": "code",
      "metadata": {
        "id": "i0uDaGFnhFsL",
        "outputId": "ffb12b27-a353-4302-fe71-4e06002eefb3",
        "colab": {
          "base_uri": "https://localhost:8080/"
        }
      },
      "source": [
        "print(accuracy_test)\n",
        "print(accuracy_train)"
      ],
      "execution_count": 49,
      "outputs": [
        {
          "output_type": "stream",
          "text": [
            "0.9744384198295895\n",
            "1.0\n"
          ],
          "name": "stdout"
        }
      ]
    }
  ]
}