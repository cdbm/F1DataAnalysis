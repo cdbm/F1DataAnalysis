{
  "nbformat": 4,
  "nbformat_minor": 0,
  "metadata": {
    "colab": {
      "name": "Prediction.ipynb",
      "provenance": [],
      "collapsed_sections": [],
      "authorship_tag": "ABX9TyOBdupnIMbWVUDiysziwykW",
      "include_colab_link": true
    },
    "kernelspec": {
      "name": "python3",
      "display_name": "Python 3"
    }
  },
  "cells": [
    {
      "cell_type": "markdown",
      "metadata": {
        "id": "view-in-github",
        "colab_type": "text"
      },
      "source": [
        "<a href=\"https://colab.research.google.com/github/cdbm/F1DataAnalysis/blob/master/Prediction.ipynb\" target=\"_parent\"><img src=\"https://colab.research.google.com/assets/colab-badge.svg\" alt=\"Open In Colab\"/></a>"
      ]
    },
    {
      "cell_type": "code",
      "metadata": {
        "id": "DoVoCe3xAaIe"
      },
      "source": [
        "import numpy as np\n",
        "import pandas as pd\n",
        "import matplotlib.pyplot as plt"
      ],
      "execution_count": 1,
      "outputs": []
    },
    {
      "cell_type": "code",
      "metadata": {
        "id": "ZShIwjxqWSj1"
      },
      "source": [
        ""
      ],
      "execution_count": 1,
      "outputs": []
    },
    {
      "cell_type": "code",
      "metadata": {
        "id": "q1Kt_gC7AiCN"
      },
      "source": [
        "results=pd.read_csv(\"https://raw.githubusercontent.com/cdbm/F1DataAnalysis/master/f1_data/results.csv\")\n",
        "lap_times=pd.read_csv(\"https://raw.githubusercontent.com/cdbm/F1DataAnalysis/master/f1_data/lap_times.csv\")"
      ],
      "execution_count": 2,
      "outputs": []
    },
    {
      "cell_type": "code",
      "metadata": {
        "id": "fugQtyVrGG30"
      },
      "source": [
        "results = results[results.position != '\\\\N']\n",
        "results = results[results.milliseconds != '\\\\N']\n",
        "results = results[results.fastestLapSpeed != '\\\\N']"
      ],
      "execution_count": 15,
      "outputs": []
    },
    {
      "cell_type": "code",
      "metadata": {
        "id": "aA4Xij9ObrmL",
        "outputId": "3107d5a7-3255-4149-c07a-56a0ee2d737b",
        "colab": {
          "base_uri": "https://localhost:8080/",
          "height": 419
        }
      },
      "source": [
        "results"
      ],
      "execution_count": 16,
      "outputs": [
        {
          "output_type": "execute_result",
          "data": {
            "text/html": [
              "<div>\n",
              "<style scoped>\n",
              "    .dataframe tbody tr th:only-of-type {\n",
              "        vertical-align: middle;\n",
              "    }\n",
              "\n",
              "    .dataframe tbody tr th {\n",
              "        vertical-align: top;\n",
              "    }\n",
              "\n",
              "    .dataframe thead th {\n",
              "        text-align: right;\n",
              "    }\n",
              "</style>\n",
              "<table border=\"1\" class=\"dataframe\">\n",
              "  <thead>\n",
              "    <tr style=\"text-align: right;\">\n",
              "      <th></th>\n",
              "      <th>resultId</th>\n",
              "      <th>raceId</th>\n",
              "      <th>driverId</th>\n",
              "      <th>constructorId</th>\n",
              "      <th>grid</th>\n",
              "      <th>position</th>\n",
              "      <th>points</th>\n",
              "      <th>laps</th>\n",
              "      <th>milliseconds</th>\n",
              "      <th>fastestLap</th>\n",
              "      <th>rank</th>\n",
              "      <th>fastestLapSpeed</th>\n",
              "    </tr>\n",
              "  </thead>\n",
              "  <tbody>\n",
              "    <tr>\n",
              "      <th>0</th>\n",
              "      <td>1</td>\n",
              "      <td>18</td>\n",
              "      <td>1</td>\n",
              "      <td>1</td>\n",
              "      <td>1</td>\n",
              "      <td>1</td>\n",
              "      <td>10.0</td>\n",
              "      <td>58</td>\n",
              "      <td>5690616</td>\n",
              "      <td>39</td>\n",
              "      <td>2</td>\n",
              "      <td>218.300</td>\n",
              "    </tr>\n",
              "    <tr>\n",
              "      <th>1</th>\n",
              "      <td>2</td>\n",
              "      <td>18</td>\n",
              "      <td>2</td>\n",
              "      <td>2</td>\n",
              "      <td>5</td>\n",
              "      <td>2</td>\n",
              "      <td>8.0</td>\n",
              "      <td>58</td>\n",
              "      <td>5696094</td>\n",
              "      <td>41</td>\n",
              "      <td>3</td>\n",
              "      <td>217.586</td>\n",
              "    </tr>\n",
              "    <tr>\n",
              "      <th>2</th>\n",
              "      <td>3</td>\n",
              "      <td>18</td>\n",
              "      <td>3</td>\n",
              "      <td>3</td>\n",
              "      <td>7</td>\n",
              "      <td>3</td>\n",
              "      <td>6.0</td>\n",
              "      <td>58</td>\n",
              "      <td>5698779</td>\n",
              "      <td>41</td>\n",
              "      <td>5</td>\n",
              "      <td>216.719</td>\n",
              "    </tr>\n",
              "    <tr>\n",
              "      <th>3</th>\n",
              "      <td>4</td>\n",
              "      <td>18</td>\n",
              "      <td>4</td>\n",
              "      <td>4</td>\n",
              "      <td>11</td>\n",
              "      <td>4</td>\n",
              "      <td>5.0</td>\n",
              "      <td>58</td>\n",
              "      <td>5707797</td>\n",
              "      <td>58</td>\n",
              "      <td>7</td>\n",
              "      <td>215.464</td>\n",
              "    </tr>\n",
              "    <tr>\n",
              "      <th>4</th>\n",
              "      <td>5</td>\n",
              "      <td>18</td>\n",
              "      <td>5</td>\n",
              "      <td>1</td>\n",
              "      <td>3</td>\n",
              "      <td>5</td>\n",
              "      <td>4.0</td>\n",
              "      <td>58</td>\n",
              "      <td>5708630</td>\n",
              "      <td>43</td>\n",
              "      <td>1</td>\n",
              "      <td>218.385</td>\n",
              "    </tr>\n",
              "    <tr>\n",
              "      <th>...</th>\n",
              "      <td>...</td>\n",
              "      <td>...</td>\n",
              "      <td>...</td>\n",
              "      <td>...</td>\n",
              "      <td>...</td>\n",
              "      <td>...</td>\n",
              "      <td>...</td>\n",
              "      <td>...</td>\n",
              "      <td>...</td>\n",
              "      <td>...</td>\n",
              "      <td>...</td>\n",
              "      <td>...</td>\n",
              "    </tr>\n",
              "    <tr>\n",
              "      <th>24711</th>\n",
              "      <td>24717</td>\n",
              "      <td>1035</td>\n",
              "      <td>20</td>\n",
              "      <td>6</td>\n",
              "      <td>11</td>\n",
              "      <td>12</td>\n",
              "      <td>0.0</td>\n",
              "      <td>52</td>\n",
              "      <td>4855363</td>\n",
              "      <td>49</td>\n",
              "      <td>13</td>\n",
              "      <td>233.602</td>\n",
              "    </tr>\n",
              "    <tr>\n",
              "      <th>24712</th>\n",
              "      <td>24718</td>\n",
              "      <td>1035</td>\n",
              "      <td>832</td>\n",
              "      <td>1</td>\n",
              "      <td>12</td>\n",
              "      <td>13</td>\n",
              "      <td>0.0</td>\n",
              "      <td>52</td>\n",
              "      <td>4856063</td>\n",
              "      <td>49</td>\n",
              "      <td>9</td>\n",
              "      <td>234.193</td>\n",
              "    </tr>\n",
              "    <tr>\n",
              "      <th>24720</th>\n",
              "      <td>24726</td>\n",
              "      <td>1036</td>\n",
              "      <td>1</td>\n",
              "      <td>131</td>\n",
              "      <td>1</td>\n",
              "      <td>1</td>\n",
              "      <td>25.0</td>\n",
              "      <td>66</td>\n",
              "      <td>5505279</td>\n",
              "      <td>63</td>\n",
              "      <td>2</td>\n",
              "      <td>209.942</td>\n",
              "    </tr>\n",
              "    <tr>\n",
              "      <th>24721</th>\n",
              "      <td>24727</td>\n",
              "      <td>1036</td>\n",
              "      <td>830</td>\n",
              "      <td>9</td>\n",
              "      <td>3</td>\n",
              "      <td>2</td>\n",
              "      <td>18.0</td>\n",
              "      <td>66</td>\n",
              "      <td>5529456</td>\n",
              "      <td>53</td>\n",
              "      <td>4</td>\n",
              "      <td>205.677</td>\n",
              "    </tr>\n",
              "    <tr>\n",
              "      <th>24722</th>\n",
              "      <td>24728</td>\n",
              "      <td>1036</td>\n",
              "      <td>822</td>\n",
              "      <td>131</td>\n",
              "      <td>2</td>\n",
              "      <td>3</td>\n",
              "      <td>16.0</td>\n",
              "      <td>66</td>\n",
              "      <td>5550031</td>\n",
              "      <td>66</td>\n",
              "      <td>1</td>\n",
              "      <td>214.343</td>\n",
              "    </tr>\n",
              "  </tbody>\n",
              "</table>\n",
              "<p>3070 rows × 12 columns</p>\n",
              "</div>"
            ],
            "text/plain": [
              "       resultId  raceId  driverId  ...  fastestLap  rank fastestLapSpeed\n",
              "0             1      18         1  ...          39     2         218.300\n",
              "1             2      18         2  ...          41     3         217.586\n",
              "2             3      18         3  ...          41     5         216.719\n",
              "3             4      18         4  ...          58     7         215.464\n",
              "4             5      18         5  ...          43     1         218.385\n",
              "...         ...     ...       ...  ...         ...   ...             ...\n",
              "24711     24717    1035        20  ...          49    13         233.602\n",
              "24712     24718    1035       832  ...          49     9         234.193\n",
              "24720     24726    1036         1  ...          63     2         209.942\n",
              "24721     24727    1036       830  ...          53     4         205.677\n",
              "24722     24728    1036       822  ...          66     1         214.343\n",
              "\n",
              "[3070 rows x 12 columns]"
            ]
          },
          "metadata": {
            "tags": []
          },
          "execution_count": 16
        }
      ]
    },
    {
      "cell_type": "code",
      "metadata": {
        "id": "37BlbHY_Ankw",
        "outputId": "e98f32e2-b9c0-4795-fdd8-d0389c570bbd",
        "colab": {
          "base_uri": "https://localhost:8080/"
        }
      },
      "source": [
        "results.positionText.unique()"
      ],
      "execution_count": 5,
      "outputs": [
        {
          "output_type": "execute_result",
          "data": {
            "text/plain": [
              "array(['1', '2', '3', '4', '5', '6', '7', '8', 'R', 'D', '9', '10', '11',\n",
              "       '12', '13', '14', '15', '16', '17', '18', '19', '20', '21', 'N',\n",
              "       '22', '23', '24', 'E'], dtype=object)"
            ]
          },
          "metadata": {
            "tags": []
          },
          "execution_count": 5
        }
      ]
    },
    {
      "cell_type": "code",
      "metadata": {
        "id": "ZevSAjdVCc5r",
        "outputId": "f6c03418-c1a8-4528-b029-c722e5460548",
        "colab": {
          "base_uri": "https://localhost:8080/"
        }
      },
      "source": [
        "results.positionOrder.unique()"
      ],
      "execution_count": 6,
      "outputs": [
        {
          "output_type": "execute_result",
          "data": {
            "text/plain": [
              "array([ 1,  2,  3,  4,  5,  6,  7,  8,  9, 10, 11, 12, 13, 14, 15, 16, 22,\n",
              "       17, 18, 19, 20, 21, 23, 24])"
            ]
          },
          "metadata": {
            "tags": []
          },
          "execution_count": 6
        }
      ]
    },
    {
      "cell_type": "code",
      "metadata": {
        "id": "lbHRxhm1ReGK"
      },
      "source": [
        "races = results.raceId.unique()"
      ],
      "execution_count": 7,
      "outputs": []
    },
    {
      "cell_type": "code",
      "metadata": {
        "id": "9sryAt2dTq9-"
      },
      "source": [
        "results = results.drop('number', axis=1)\n",
        "results = results.drop('statusId', axis=1)\n",
        "results = results.drop('time', axis=1)\n",
        "results = results.drop('fastestLapTime', axis=1)\n",
        "results = results.drop('positionOrder', axis=1)\n",
        "results = results.drop('positionText', axis=1)"
      ],
      "execution_count": 8,
      "outputs": []
    },
    {
      "cell_type": "code",
      "metadata": {
        "id": "6NGRe6mLBd_5",
        "outputId": "25e0dfb9-936d-45ae-e917-bffaec761255",
        "colab": {
          "base_uri": "https://localhost:8080/",
          "height": 419
        }
      },
      "source": [
        "results"
      ],
      "execution_count": 9,
      "outputs": [
        {
          "output_type": "execute_result",
          "data": {
            "text/html": [
              "<div>\n",
              "<style scoped>\n",
              "    .dataframe tbody tr th:only-of-type {\n",
              "        vertical-align: middle;\n",
              "    }\n",
              "\n",
              "    .dataframe tbody tr th {\n",
              "        vertical-align: top;\n",
              "    }\n",
              "\n",
              "    .dataframe thead th {\n",
              "        text-align: right;\n",
              "    }\n",
              "</style>\n",
              "<table border=\"1\" class=\"dataframe\">\n",
              "  <thead>\n",
              "    <tr style=\"text-align: right;\">\n",
              "      <th></th>\n",
              "      <th>resultId</th>\n",
              "      <th>raceId</th>\n",
              "      <th>driverId</th>\n",
              "      <th>constructorId</th>\n",
              "      <th>grid</th>\n",
              "      <th>position</th>\n",
              "      <th>points</th>\n",
              "      <th>laps</th>\n",
              "      <th>milliseconds</th>\n",
              "      <th>fastestLap</th>\n",
              "      <th>rank</th>\n",
              "      <th>fastestLapSpeed</th>\n",
              "    </tr>\n",
              "  </thead>\n",
              "  <tbody>\n",
              "    <tr>\n",
              "      <th>0</th>\n",
              "      <td>1</td>\n",
              "      <td>18</td>\n",
              "      <td>1</td>\n",
              "      <td>1</td>\n",
              "      <td>1</td>\n",
              "      <td>1</td>\n",
              "      <td>10.0</td>\n",
              "      <td>58</td>\n",
              "      <td>5690616</td>\n",
              "      <td>39</td>\n",
              "      <td>2</td>\n",
              "      <td>218.300</td>\n",
              "    </tr>\n",
              "    <tr>\n",
              "      <th>1</th>\n",
              "      <td>2</td>\n",
              "      <td>18</td>\n",
              "      <td>2</td>\n",
              "      <td>2</td>\n",
              "      <td>5</td>\n",
              "      <td>2</td>\n",
              "      <td>8.0</td>\n",
              "      <td>58</td>\n",
              "      <td>5696094</td>\n",
              "      <td>41</td>\n",
              "      <td>3</td>\n",
              "      <td>217.586</td>\n",
              "    </tr>\n",
              "    <tr>\n",
              "      <th>2</th>\n",
              "      <td>3</td>\n",
              "      <td>18</td>\n",
              "      <td>3</td>\n",
              "      <td>3</td>\n",
              "      <td>7</td>\n",
              "      <td>3</td>\n",
              "      <td>6.0</td>\n",
              "      <td>58</td>\n",
              "      <td>5698779</td>\n",
              "      <td>41</td>\n",
              "      <td>5</td>\n",
              "      <td>216.719</td>\n",
              "    </tr>\n",
              "    <tr>\n",
              "      <th>3</th>\n",
              "      <td>4</td>\n",
              "      <td>18</td>\n",
              "      <td>4</td>\n",
              "      <td>4</td>\n",
              "      <td>11</td>\n",
              "      <td>4</td>\n",
              "      <td>5.0</td>\n",
              "      <td>58</td>\n",
              "      <td>5707797</td>\n",
              "      <td>58</td>\n",
              "      <td>7</td>\n",
              "      <td>215.464</td>\n",
              "    </tr>\n",
              "    <tr>\n",
              "      <th>4</th>\n",
              "      <td>5</td>\n",
              "      <td>18</td>\n",
              "      <td>5</td>\n",
              "      <td>1</td>\n",
              "      <td>3</td>\n",
              "      <td>5</td>\n",
              "      <td>4.0</td>\n",
              "      <td>58</td>\n",
              "      <td>5708630</td>\n",
              "      <td>43</td>\n",
              "      <td>1</td>\n",
              "      <td>218.385</td>\n",
              "    </tr>\n",
              "    <tr>\n",
              "      <th>...</th>\n",
              "      <td>...</td>\n",
              "      <td>...</td>\n",
              "      <td>...</td>\n",
              "      <td>...</td>\n",
              "      <td>...</td>\n",
              "      <td>...</td>\n",
              "      <td>...</td>\n",
              "      <td>...</td>\n",
              "      <td>...</td>\n",
              "      <td>...</td>\n",
              "      <td>...</td>\n",
              "      <td>...</td>\n",
              "    </tr>\n",
              "    <tr>\n",
              "      <th>24735</th>\n",
              "      <td>24741</td>\n",
              "      <td>1036</td>\n",
              "      <td>841</td>\n",
              "      <td>51</td>\n",
              "      <td>20</td>\n",
              "      <td>16</td>\n",
              "      <td>0.0</td>\n",
              "      <td>65</td>\n",
              "      <td>\\N</td>\n",
              "      <td>47</td>\n",
              "      <td>6</td>\n",
              "      <td>204.863</td>\n",
              "    </tr>\n",
              "    <tr>\n",
              "      <th>24736</th>\n",
              "      <td>24742</td>\n",
              "      <td>1036</td>\n",
              "      <td>847</td>\n",
              "      <td>3</td>\n",
              "      <td>18</td>\n",
              "      <td>17</td>\n",
              "      <td>0.0</td>\n",
              "      <td>65</td>\n",
              "      <td>\\N</td>\n",
              "      <td>37</td>\n",
              "      <td>15</td>\n",
              "      <td>203.119</td>\n",
              "    </tr>\n",
              "    <tr>\n",
              "      <th>24737</th>\n",
              "      <td>24743</td>\n",
              "      <td>1036</td>\n",
              "      <td>849</td>\n",
              "      <td>3</td>\n",
              "      <td>19</td>\n",
              "      <td>18</td>\n",
              "      <td>0.0</td>\n",
              "      <td>64</td>\n",
              "      <td>\\N</td>\n",
              "      <td>60</td>\n",
              "      <td>9</td>\n",
              "      <td>204.291</td>\n",
              "    </tr>\n",
              "    <tr>\n",
              "      <th>24738</th>\n",
              "      <td>24744</td>\n",
              "      <td>1036</td>\n",
              "      <td>154</td>\n",
              "      <td>210</td>\n",
              "      <td>17</td>\n",
              "      <td>19</td>\n",
              "      <td>0.0</td>\n",
              "      <td>64</td>\n",
              "      <td>\\N</td>\n",
              "      <td>64</td>\n",
              "      <td>3</td>\n",
              "      <td>208.409</td>\n",
              "    </tr>\n",
              "    <tr>\n",
              "      <th>24739</th>\n",
              "      <td>24745</td>\n",
              "      <td>1036</td>\n",
              "      <td>844</td>\n",
              "      <td>6</td>\n",
              "      <td>9</td>\n",
              "      <td>\\N</td>\n",
              "      <td>0.0</td>\n",
              "      <td>38</td>\n",
              "      <td>\\N</td>\n",
              "      <td>35</td>\n",
              "      <td>20</td>\n",
              "      <td>199.576</td>\n",
              "    </tr>\n",
              "  </tbody>\n",
              "</table>\n",
              "<p>6339 rows × 12 columns</p>\n",
              "</div>"
            ],
            "text/plain": [
              "       resultId  raceId  driverId  ...  fastestLap  rank fastestLapSpeed\n",
              "0             1      18         1  ...          39     2         218.300\n",
              "1             2      18         2  ...          41     3         217.586\n",
              "2             3      18         3  ...          41     5         216.719\n",
              "3             4      18         4  ...          58     7         215.464\n",
              "4             5      18         5  ...          43     1         218.385\n",
              "...         ...     ...       ...  ...         ...   ...             ...\n",
              "24735     24741    1036       841  ...          47     6         204.863\n",
              "24736     24742    1036       847  ...          37    15         203.119\n",
              "24737     24743    1036       849  ...          60     9         204.291\n",
              "24738     24744    1036       154  ...          64     3         208.409\n",
              "24739     24745    1036       844  ...          35    20         199.576\n",
              "\n",
              "[6339 rows x 12 columns]"
            ]
          },
          "metadata": {
            "tags": []
          },
          "execution_count": 9
        }
      ]
    },
    {
      "cell_type": "code",
      "metadata": {
        "id": "nJAFRV2fU6g6"
      },
      "source": [
        "results.position = results.position.astype('category')\n",
        "results.fastestLapSpeed = results.fastestLapSpeed.astype('float64')\n",
        "results.milliseconds = results.milliseconds.astype('int64')"
      ],
      "execution_count": 17,
      "outputs": []
    },
    {
      "cell_type": "code",
      "metadata": {
        "id": "NXZUDadRC1In"
      },
      "source": [
        "results.dtypes"
      ],
      "execution_count": null,
      "outputs": []
    },
    {
      "cell_type": "code",
      "metadata": {
        "id": "Kc00Tdf8Vqid"
      },
      "source": [
        "results.position.unique()"
      ],
      "execution_count": null,
      "outputs": []
    },
    {
      "cell_type": "code",
      "metadata": {
        "id": "UwsFFiaSWvGN"
      },
      "source": [
        "from sklearn.model_selection import train_test_split\n",
        "x_results = results.drop('position', axis=1)\n",
        "y_results = results['position']"
      ],
      "execution_count": 18,
      "outputs": []
    },
    {
      "cell_type": "code",
      "metadata": {
        "id": "1YCQASmOW8Lm"
      },
      "source": [
        "x_results"
      ],
      "execution_count": null,
      "outputs": []
    },
    {
      "cell_type": "code",
      "metadata": {
        "id": "RbR392i8W959"
      },
      "source": [
        "y_results"
      ],
      "execution_count": null,
      "outputs": []
    },
    {
      "cell_type": "code",
      "metadata": {
        "id": "gCZo_TIiYcug"
      },
      "source": [
        "Xtrain, Xtest, ytrain, ytest = train_test_split(x_results, y_results,random_state=1)"
      ],
      "execution_count": 20,
      "outputs": []
    },
    {
      "cell_type": "code",
      "metadata": {
        "id": "ZnGQAZDlYsn6"
      },
      "source": [
        "from sklearn.neighbors import KNeighborsClassifier\n",
        "model = KNeighborsClassifier(n_neighbors=4)             \n",
        "model.fit(Xtrain, ytrain)                  \n",
        "y_model = model.predict(Xtest)   \n",
        "ypred_train = model.predict(Xtrain)"
      ],
      "execution_count": 21,
      "outputs": []
    },
    {
      "cell_type": "code",
      "metadata": {
        "id": "o7bZk-czYx85",
        "outputId": "34d16a8d-be9c-4d4b-c496-c93e13c761f8",
        "colab": {
          "base_uri": "https://localhost:8080/"
        }
      },
      "source": [
        "from sklearn.metrics import accuracy_score\n",
        "from sklearn.metrics import accuracy_score\n",
        "print(\"ACC TRAINING:\" + str(accuracy_score(ytrain, ypred_train)))\n",
        "print(\"ACC TEST:\" + str(accuracy_score(ytest, y_model)))"
      ],
      "execution_count": 22,
      "outputs": [
        {
          "output_type": "stream",
          "text": [
            "ACC TRAINING:0.3318853171155517\n",
            "ACC TEST:0.045572916666666664\n"
          ],
          "name": "stdout"
        }
      ]
    }
  ]
}