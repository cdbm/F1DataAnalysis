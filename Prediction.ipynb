{
  "nbformat": 4,
  "nbformat_minor": 0,
  "metadata": {
    "colab": {
      "name": "Prediction.ipynb",
      "provenance": [],
      "collapsed_sections": [],
      "include_colab_link": true
    },
    "kernelspec": {
      "name": "python3",
      "display_name": "Python 3"
    }
  },
  "cells": [
    {
      "cell_type": "markdown",
      "metadata": {
        "id": "view-in-github",
        "colab_type": "text"
      },
      "source": [
        "<a href=\"https://colab.research.google.com/github/cdbm/F1DataAnalysis/blob/master/Prediction.ipynb\" target=\"_parent\"><img src=\"https://colab.research.google.com/assets/colab-badge.svg\" alt=\"Open In Colab\"/></a>"
      ]
    },
    {
      "cell_type": "markdown",
      "metadata": {
        "id": "b3Y0pk8fnH_B"
      },
      "source": [
        "# Classificação \n",
        "o seguinte notebook foi feito para fazer predições usando modelos de classificação em cima do dataset da fórmula 1. Escolhemos o dataset de resultados, que contém os resultados de cada piloto em todas as corridas, para fazer nossa classificação. Para a classificação escolhemos a columa positions, que define em que posição o piloto terminou a corrida."
      ]
    },
    {
      "cell_type": "code",
      "metadata": {
        "id": "DoVoCe3xAaIe"
      },
      "source": [
        "import numpy as np\n",
        "import pandas as pd\n",
        "import matplotlib.pyplot as plt"
      ],
      "execution_count": 1,
      "outputs": []
    },
    {
      "cell_type": "code",
      "metadata": {
        "id": "q1Kt_gC7AiCN"
      },
      "source": [
        "results=pd.read_csv(\"https://raw.githubusercontent.com/cdbm/F1DataAnalysis/master/f1_data/results.csv\")\n",
        "races=pd.read_csv(\"https://raw.githubusercontent.com/cdbm/F1DataAnalysis/master/f1_data/races.csv\")"
      ],
      "execution_count": 2,
      "outputs": []
    },
    {
      "cell_type": "markdown",
      "metadata": {
        "id": "UBEzsW39npp2"
      },
      "source": [
        "Limpando o dataset para ter apenas pilotos que de fato terminaram as corridas."
      ]
    },
    {
      "cell_type": "code",
      "metadata": {
        "id": "fugQtyVrGG30"
      },
      "source": [
        "results = results[results.position != '\\\\N']\n",
        "results = results[results.milliseconds != '\\\\N']"
      ],
      "execution_count": 3,
      "outputs": []
    },
    {
      "cell_type": "markdown",
      "metadata": {
        "id": "9T5p3jcIn1Om"
      },
      "source": [
        "O código a seguir foi feito para tornar mais possível a classificação. Como depois da limpeza restam poucas linhas (aproximadamente 6 mil) e o dataset não tem tantas features que podem ser usadas para o modelo e existem muitas classes possíveis para se predizer (19), resolvemos então transformar as 19 classes que seriam cada posição de chegada em classes mais abrangentes. O nosso modelo agora busca classificar entre as quatro classes de posições que um piloto pode chegar, entre os 5 primeiros, entre o 6º e o 10º, entre o 11º e o 15º e entre o 16º e 19º."
      ]
    },
    {
      "cell_type": "code",
      "metadata": {
        "id": "7K31gY-9y8e9"
      },
      "source": [
        "results.position = results.position.astype('int64')"
      ],
      "execution_count": 4,
      "outputs": []
    },
    {
      "cell_type": "code",
      "metadata": {
        "id": "1T-UFEQq_twD"
      },
      "source": [
        "results.loc[results['position'] <= 5, 'beans'] = 'TOP5'\n",
        "results.loc[(results['position'] > 5) & (results['position'] <= 10) , 'beans'] = 'SIX_TO_TEN'\n",
        "results.loc[(results['position'] > 10) & (results['position'] <= 15) , 'beans'] = 'EL_TO_FIFTEEN'\n",
        "results.loc[(results['position'] > 15) & (results['position'] <= 20) , 'beans'] = 'SIXTEEN_TO_TWENTY'"
      ],
      "execution_count": 5,
      "outputs": []
    },
    {
      "cell_type": "markdown",
      "metadata": {
        "id": "Zj0Nd-2ipNDn"
      },
      "source": [
        "Adicionando a informação de qual circuito foi o dado resultado\n"
      ]
    },
    {
      "cell_type": "code",
      "metadata": {
        "id": "TYcRLhbpdnHx"
      },
      "source": [
        "results[\"circuitId\"] = results.raceId.map(races.set_index('raceId')['circuitId'])"
      ],
      "execution_count": 6,
      "outputs": []
    },
    {
      "cell_type": "code",
      "metadata": {
        "id": "uz5x95lqydwG",
        "outputId": "ce44cf47-7724-4f5d-e83c-ce652084e37f",
        "colab": {
          "base_uri": "https://localhost:8080/",
          "height": 0
        }
      },
      "source": [
        "results.head()"
      ],
      "execution_count": 7,
      "outputs": [
        {
          "output_type": "execute_result",
          "data": {
            "text/html": [
              "<div>\n",
              "<style scoped>\n",
              "    .dataframe tbody tr th:only-of-type {\n",
              "        vertical-align: middle;\n",
              "    }\n",
              "\n",
              "    .dataframe tbody tr th {\n",
              "        vertical-align: top;\n",
              "    }\n",
              "\n",
              "    .dataframe thead th {\n",
              "        text-align: right;\n",
              "    }\n",
              "</style>\n",
              "<table border=\"1\" class=\"dataframe\">\n",
              "  <thead>\n",
              "    <tr style=\"text-align: right;\">\n",
              "      <th></th>\n",
              "      <th>resultId</th>\n",
              "      <th>raceId</th>\n",
              "      <th>driverId</th>\n",
              "      <th>constructorId</th>\n",
              "      <th>number</th>\n",
              "      <th>grid</th>\n",
              "      <th>position</th>\n",
              "      <th>positionText</th>\n",
              "      <th>positionOrder</th>\n",
              "      <th>points</th>\n",
              "      <th>laps</th>\n",
              "      <th>time</th>\n",
              "      <th>milliseconds</th>\n",
              "      <th>fastestLap</th>\n",
              "      <th>rank</th>\n",
              "      <th>fastestLapTime</th>\n",
              "      <th>fastestLapSpeed</th>\n",
              "      <th>statusId</th>\n",
              "      <th>beans</th>\n",
              "      <th>circuitId</th>\n",
              "    </tr>\n",
              "  </thead>\n",
              "  <tbody>\n",
              "    <tr>\n",
              "      <th>0</th>\n",
              "      <td>1</td>\n",
              "      <td>18</td>\n",
              "      <td>1</td>\n",
              "      <td>1</td>\n",
              "      <td>22</td>\n",
              "      <td>1</td>\n",
              "      <td>1</td>\n",
              "      <td>1</td>\n",
              "      <td>1</td>\n",
              "      <td>10.0</td>\n",
              "      <td>58</td>\n",
              "      <td>1:34:50.616</td>\n",
              "      <td>5690616</td>\n",
              "      <td>39</td>\n",
              "      <td>2</td>\n",
              "      <td>1:27.452</td>\n",
              "      <td>218.300</td>\n",
              "      <td>1</td>\n",
              "      <td>TOP5</td>\n",
              "      <td>1</td>\n",
              "    </tr>\n",
              "    <tr>\n",
              "      <th>1</th>\n",
              "      <td>2</td>\n",
              "      <td>18</td>\n",
              "      <td>2</td>\n",
              "      <td>2</td>\n",
              "      <td>3</td>\n",
              "      <td>5</td>\n",
              "      <td>2</td>\n",
              "      <td>2</td>\n",
              "      <td>2</td>\n",
              "      <td>8.0</td>\n",
              "      <td>58</td>\n",
              "      <td>+5.478</td>\n",
              "      <td>5696094</td>\n",
              "      <td>41</td>\n",
              "      <td>3</td>\n",
              "      <td>1:27.739</td>\n",
              "      <td>217.586</td>\n",
              "      <td>1</td>\n",
              "      <td>TOP5</td>\n",
              "      <td>1</td>\n",
              "    </tr>\n",
              "    <tr>\n",
              "      <th>2</th>\n",
              "      <td>3</td>\n",
              "      <td>18</td>\n",
              "      <td>3</td>\n",
              "      <td>3</td>\n",
              "      <td>7</td>\n",
              "      <td>7</td>\n",
              "      <td>3</td>\n",
              "      <td>3</td>\n",
              "      <td>3</td>\n",
              "      <td>6.0</td>\n",
              "      <td>58</td>\n",
              "      <td>+8.163</td>\n",
              "      <td>5698779</td>\n",
              "      <td>41</td>\n",
              "      <td>5</td>\n",
              "      <td>1:28.090</td>\n",
              "      <td>216.719</td>\n",
              "      <td>1</td>\n",
              "      <td>TOP5</td>\n",
              "      <td>1</td>\n",
              "    </tr>\n",
              "    <tr>\n",
              "      <th>3</th>\n",
              "      <td>4</td>\n",
              "      <td>18</td>\n",
              "      <td>4</td>\n",
              "      <td>4</td>\n",
              "      <td>5</td>\n",
              "      <td>11</td>\n",
              "      <td>4</td>\n",
              "      <td>4</td>\n",
              "      <td>4</td>\n",
              "      <td>5.0</td>\n",
              "      <td>58</td>\n",
              "      <td>+17.181</td>\n",
              "      <td>5707797</td>\n",
              "      <td>58</td>\n",
              "      <td>7</td>\n",
              "      <td>1:28.603</td>\n",
              "      <td>215.464</td>\n",
              "      <td>1</td>\n",
              "      <td>TOP5</td>\n",
              "      <td>1</td>\n",
              "    </tr>\n",
              "    <tr>\n",
              "      <th>4</th>\n",
              "      <td>5</td>\n",
              "      <td>18</td>\n",
              "      <td>5</td>\n",
              "      <td>1</td>\n",
              "      <td>23</td>\n",
              "      <td>3</td>\n",
              "      <td>5</td>\n",
              "      <td>5</td>\n",
              "      <td>5</td>\n",
              "      <td>4.0</td>\n",
              "      <td>58</td>\n",
              "      <td>+18.014</td>\n",
              "      <td>5708630</td>\n",
              "      <td>43</td>\n",
              "      <td>1</td>\n",
              "      <td>1:27.418</td>\n",
              "      <td>218.385</td>\n",
              "      <td>1</td>\n",
              "      <td>TOP5</td>\n",
              "      <td>1</td>\n",
              "    </tr>\n",
              "  </tbody>\n",
              "</table>\n",
              "</div>"
            ],
            "text/plain": [
              "   resultId  raceId  driverId  ...  statusId beans  circuitId\n",
              "0         1      18         1  ...         1  TOP5          1\n",
              "1         2      18         2  ...         1  TOP5          1\n",
              "2         3      18         3  ...         1  TOP5          1\n",
              "3         4      18         4  ...         1  TOP5          1\n",
              "4         5      18         5  ...         1  TOP5          1\n",
              "\n",
              "[5 rows x 20 columns]"
            ]
          },
          "metadata": {
            "tags": []
          },
          "execution_count": 7
        }
      ]
    },
    {
      "cell_type": "markdown",
      "metadata": {
        "id": "TA3fX_afpZ8Z"
      },
      "source": [
        "Dropando features que ou não podem ser usadas, ou não são úteis ou são úteis até demais para o modelo."
      ]
    },
    {
      "cell_type": "code",
      "metadata": {
        "id": "9sryAt2dTq9-"
      },
      "source": [
        "results = results.drop('number', axis=1)\n",
        "results = results.drop('statusId', axis=1)\n",
        "results = results.drop('time', axis=1)\n",
        "results = results.drop('fastestLapTime', axis=1)\n",
        "results = results.drop('positionOrder', axis=1)\n",
        "results = results.drop('positionText', axis=1)\n",
        "results = results.drop('resultId', axis=1)\n",
        "results = results.drop('fastestLapSpeed', axis=1)\n",
        "results = results.drop('rank', axis=1)\n",
        "results = results.drop('fastestLap',axis=1)"
      ],
      "execution_count": 8,
      "outputs": []
    },
    {
      "cell_type": "code",
      "metadata": {
        "id": "6NGRe6mLBd_5"
      },
      "source": [
        "results = results.drop('position', axis=1)"
      ],
      "execution_count": 9,
      "outputs": []
    },
    {
      "cell_type": "markdown",
      "metadata": {
        "id": "tbtikj1spja3"
      },
      "source": [
        "Definição de tipos"
      ]
    },
    {
      "cell_type": "code",
      "metadata": {
        "id": "nJAFRV2fU6g6"
      },
      "source": [
        "results.milliseconds = results.milliseconds.astype('int64')\n",
        "results.beans = results.beans.astype('category')"
      ],
      "execution_count": 10,
      "outputs": []
    },
    {
      "cell_type": "code",
      "metadata": {
        "id": "NXZUDadRC1In",
        "outputId": "79b73388-ed61-40f2-debb-92e1823ae233",
        "colab": {
          "base_uri": "https://localhost:8080/"
        }
      },
      "source": [
        "results.dtypes"
      ],
      "execution_count": 11,
      "outputs": [
        {
          "output_type": "execute_result",
          "data": {
            "text/plain": [
              "raceId              int64\n",
              "driverId            int64\n",
              "constructorId       int64\n",
              "grid                int64\n",
              "points            float64\n",
              "laps                int64\n",
              "milliseconds        int64\n",
              "beans            category\n",
              "circuitId           int64\n",
              "dtype: object"
            ]
          },
          "metadata": {
            "tags": []
          },
          "execution_count": 11
        }
      ]
    },
    {
      "cell_type": "markdown",
      "metadata": {
        "id": "GLuVqsXEqdTT"
      },
      "source": [
        "# Divisão do dataset em treinamento validação e teste"
      ]
    },
    {
      "cell_type": "code",
      "metadata": {
        "id": "UwsFFiaSWvGN"
      },
      "source": [
        "from sklearn.model_selection import train_test_split\n",
        "features_results = results.drop('beans', axis=1)\n",
        "labels_results = results['beans']"
      ],
      "execution_count": 12,
      "outputs": []
    },
    {
      "cell_type": "code",
      "metadata": {
        "id": "1YCQASmOW8Lm",
        "outputId": "5ee39812-0f59-47fa-d123-54b331d49651",
        "colab": {
          "base_uri": "https://localhost:8080/",
          "height": 0
        }
      },
      "source": [
        "features_results"
      ],
      "execution_count": 13,
      "outputs": [
        {
          "output_type": "execute_result",
          "data": {
            "text/html": [
              "<div>\n",
              "<style scoped>\n",
              "    .dataframe tbody tr th:only-of-type {\n",
              "        vertical-align: middle;\n",
              "    }\n",
              "\n",
              "    .dataframe tbody tr th {\n",
              "        vertical-align: top;\n",
              "    }\n",
              "\n",
              "    .dataframe thead th {\n",
              "        text-align: right;\n",
              "    }\n",
              "</style>\n",
              "<table border=\"1\" class=\"dataframe\">\n",
              "  <thead>\n",
              "    <tr style=\"text-align: right;\">\n",
              "      <th></th>\n",
              "      <th>raceId</th>\n",
              "      <th>driverId</th>\n",
              "      <th>constructorId</th>\n",
              "      <th>grid</th>\n",
              "      <th>points</th>\n",
              "      <th>laps</th>\n",
              "      <th>milliseconds</th>\n",
              "      <th>circuitId</th>\n",
              "    </tr>\n",
              "  </thead>\n",
              "  <tbody>\n",
              "    <tr>\n",
              "      <th>0</th>\n",
              "      <td>18</td>\n",
              "      <td>1</td>\n",
              "      <td>1</td>\n",
              "      <td>1</td>\n",
              "      <td>10.0</td>\n",
              "      <td>58</td>\n",
              "      <td>5690616</td>\n",
              "      <td>1</td>\n",
              "    </tr>\n",
              "    <tr>\n",
              "      <th>1</th>\n",
              "      <td>18</td>\n",
              "      <td>2</td>\n",
              "      <td>2</td>\n",
              "      <td>5</td>\n",
              "      <td>8.0</td>\n",
              "      <td>58</td>\n",
              "      <td>5696094</td>\n",
              "      <td>1</td>\n",
              "    </tr>\n",
              "    <tr>\n",
              "      <th>2</th>\n",
              "      <td>18</td>\n",
              "      <td>3</td>\n",
              "      <td>3</td>\n",
              "      <td>7</td>\n",
              "      <td>6.0</td>\n",
              "      <td>58</td>\n",
              "      <td>5698779</td>\n",
              "      <td>1</td>\n",
              "    </tr>\n",
              "    <tr>\n",
              "      <th>3</th>\n",
              "      <td>18</td>\n",
              "      <td>4</td>\n",
              "      <td>4</td>\n",
              "      <td>11</td>\n",
              "      <td>5.0</td>\n",
              "      <td>58</td>\n",
              "      <td>5707797</td>\n",
              "      <td>1</td>\n",
              "    </tr>\n",
              "    <tr>\n",
              "      <th>4</th>\n",
              "      <td>18</td>\n",
              "      <td>5</td>\n",
              "      <td>1</td>\n",
              "      <td>3</td>\n",
              "      <td>4.0</td>\n",
              "      <td>58</td>\n",
              "      <td>5708630</td>\n",
              "      <td>1</td>\n",
              "    </tr>\n",
              "    <tr>\n",
              "      <th>...</th>\n",
              "      <td>...</td>\n",
              "      <td>...</td>\n",
              "      <td>...</td>\n",
              "      <td>...</td>\n",
              "      <td>...</td>\n",
              "      <td>...</td>\n",
              "      <td>...</td>\n",
              "      <td>...</td>\n",
              "    </tr>\n",
              "    <tr>\n",
              "      <th>24711</th>\n",
              "      <td>1035</td>\n",
              "      <td>20</td>\n",
              "      <td>6</td>\n",
              "      <td>11</td>\n",
              "      <td>0.0</td>\n",
              "      <td>52</td>\n",
              "      <td>4855363</td>\n",
              "      <td>9</td>\n",
              "    </tr>\n",
              "    <tr>\n",
              "      <th>24712</th>\n",
              "      <td>1035</td>\n",
              "      <td>832</td>\n",
              "      <td>1</td>\n",
              "      <td>12</td>\n",
              "      <td>0.0</td>\n",
              "      <td>52</td>\n",
              "      <td>4856063</td>\n",
              "      <td>9</td>\n",
              "    </tr>\n",
              "    <tr>\n",
              "      <th>24720</th>\n",
              "      <td>1036</td>\n",
              "      <td>1</td>\n",
              "      <td>131</td>\n",
              "      <td>1</td>\n",
              "      <td>25.0</td>\n",
              "      <td>66</td>\n",
              "      <td>5505279</td>\n",
              "      <td>4</td>\n",
              "    </tr>\n",
              "    <tr>\n",
              "      <th>24721</th>\n",
              "      <td>1036</td>\n",
              "      <td>830</td>\n",
              "      <td>9</td>\n",
              "      <td>3</td>\n",
              "      <td>18.0</td>\n",
              "      <td>66</td>\n",
              "      <td>5529456</td>\n",
              "      <td>4</td>\n",
              "    </tr>\n",
              "    <tr>\n",
              "      <th>24722</th>\n",
              "      <td>1036</td>\n",
              "      <td>822</td>\n",
              "      <td>131</td>\n",
              "      <td>2</td>\n",
              "      <td>16.0</td>\n",
              "      <td>66</td>\n",
              "      <td>5550031</td>\n",
              "      <td>4</td>\n",
              "    </tr>\n",
              "  </tbody>\n",
              "</table>\n",
              "<p>6452 rows × 8 columns</p>\n",
              "</div>"
            ],
            "text/plain": [
              "       raceId  driverId  constructorId  ...  laps  milliseconds  circuitId\n",
              "0          18         1              1  ...    58       5690616          1\n",
              "1          18         2              2  ...    58       5696094          1\n",
              "2          18         3              3  ...    58       5698779          1\n",
              "3          18         4              4  ...    58       5707797          1\n",
              "4          18         5              1  ...    58       5708630          1\n",
              "...       ...       ...            ...  ...   ...           ...        ...\n",
              "24711    1035        20              6  ...    52       4855363          9\n",
              "24712    1035       832              1  ...    52       4856063          9\n",
              "24720    1036         1            131  ...    66       5505279          4\n",
              "24721    1036       830              9  ...    66       5529456          4\n",
              "24722    1036       822            131  ...    66       5550031          4\n",
              "\n",
              "[6452 rows x 8 columns]"
            ]
          },
          "metadata": {
            "tags": []
          },
          "execution_count": 13
        }
      ]
    },
    {
      "cell_type": "code",
      "metadata": {
        "id": "RbR392i8W959",
        "outputId": "b2aac7bd-fa8b-4dce-8ab7-95d4cb897797",
        "colab": {
          "base_uri": "https://localhost:8080/"
        }
      },
      "source": [
        "labels_results"
      ],
      "execution_count": 14,
      "outputs": [
        {
          "output_type": "execute_result",
          "data": {
            "text/plain": [
              "0                 TOP5\n",
              "1                 TOP5\n",
              "2                 TOP5\n",
              "3                 TOP5\n",
              "4                 TOP5\n",
              "             ...      \n",
              "24711    EL_TO_FIFTEEN\n",
              "24712    EL_TO_FIFTEEN\n",
              "24720             TOP5\n",
              "24721             TOP5\n",
              "24722             TOP5\n",
              "Name: beans, Length: 6452, dtype: category\n",
              "Categories (4, object): ['EL_TO_FIFTEEN', 'SIXTEEN_TO_TWENTY', 'SIX_TO_TEN', 'TOP5']"
            ]
          },
          "metadata": {
            "tags": []
          },
          "execution_count": 14
        }
      ]
    },
    {
      "cell_type": "code",
      "metadata": {
        "id": "gCZo_TIiYcug"
      },
      "source": [
        "feature_train, feature_test, label_train, label_test = train_test_split(features_results, labels_results, test_size=0.2,random_state=1)\n",
        "feature_train, feature_validation, label_train, label_validation =  train_test_split(feature_train, label_train, test_size=0.25,random_state=1)"
      ],
      "execution_count": 15,
      "outputs": []
    },
    {
      "cell_type": "code",
      "metadata": {
        "id": "8-YEeG_A4peS",
        "outputId": "771d082b-a87b-4fee-da40-f71193c69943",
        "colab": {
          "base_uri": "https://localhost:8080/"
        }
      },
      "source": [
        "print(feature_train.shape)\n",
        "print(feature_test.shape)\n",
        "print(feature_validation.shape)"
      ],
      "execution_count": 16,
      "outputs": [
        {
          "output_type": "stream",
          "text": [
            "(3870, 8)\n",
            "(1291, 8)\n",
            "(1291, 8)\n"
          ],
          "name": "stdout"
        }
      ]
    },
    {
      "cell_type": "markdown",
      "metadata": {
        "id": "nkdr8yL5x2rT"
      },
      "source": [
        "Dicionário para guardar as métricas\n"
      ]
    },
    {
      "cell_type": "code",
      "metadata": {
        "id": "Km1nfVs_xzxQ"
      },
      "source": [
        "stats = {}"
      ],
      "execution_count": 17,
      "outputs": []
    },
    {
      "cell_type": "markdown",
      "metadata": {
        "id": "vgQx_OHkusWL"
      },
      "source": [
        "# Criação, treinamento e avaliação dos modelos"
      ]
    },
    {
      "cell_type": "markdown",
      "metadata": {
        "id": "s393ewI3yAas"
      },
      "source": [
        "Modelos escolhidos:\n",
        "\n",
        "\n",
        "*   Naive bayes\n",
        "*   KNN\n",
        "*   MLP\n",
        "*   \n",
        "\n",
        "\n",
        "\n"
      ]
    },
    {
      "cell_type": "code",
      "metadata": {
        "id": "yKFFOROQzRZb"
      },
      "source": [
        "from sklearn.metrics import accuracy_score"
      ],
      "execution_count": 18,
      "outputs": []
    },
    {
      "cell_type": "markdown",
      "metadata": {
        "id": "DulPFloK0VjO"
      },
      "source": [
        "Naive Bayes"
      ]
    },
    {
      "cell_type": "code",
      "metadata": {
        "id": "vjJRwqH1x6-x",
        "outputId": "019644eb-c61c-4453-b6fc-597d20bbcf39",
        "colab": {
          "base_uri": "https://localhost:8080/"
        }
      },
      "source": [
        "from sklearn.naive_bayes import GaussianNB \n",
        "model_naive = GaussianNB()                       \n",
        "model_naive.fit(feature_train, label_train)                  \n",
        "\n",
        "prediction_test = model_naive.predict(feature_test)\n",
        "prediction_train = model_naive.predict(feature_train)   \n",
        "\n",
        "stats['naive_bayes_test'] = accuracy_score(label_test, prediction_test)\n",
        "stats['naive_bayes_train'] = accuracy_score(label_train, prediction_train)\n",
        "\n",
        "print('precisão nos casos de teste: ' + str(stats['naive_bayes_test']))\n",
        "print('precisão nos casos de treino: ' + str(stats['naive_bayes_train']))"
      ],
      "execution_count": 19,
      "outputs": [
        {
          "output_type": "stream",
          "text": [
            "precisão nos casos de teste: 0.6893880712625872\n",
            "precisão nos casos de treino: 0.6545219638242894\n"
          ],
          "name": "stdout"
        }
      ]
    },
    {
      "cell_type": "markdown",
      "metadata": {
        "id": "O7qPax-F0Xvj"
      },
      "source": [
        "KNN"
      ]
    },
    {
      "cell_type": "code",
      "metadata": {
        "id": "ZnGQAZDlYsn6",
        "outputId": "a5034cd5-0f7a-458d-b292-53dc1ba5498d",
        "colab": {
          "base_uri": "https://localhost:8080/"
        }
      },
      "source": [
        "from sklearn.neighbors import KNeighborsClassifier\n",
        "model_knn = KNeighborsClassifier(n_neighbors=4)             \n",
        "model_knn.fit(feature_train, label_train) \n",
        "\n",
        "prediction_test = model_knn.predict(feature_test)\n",
        "prediction_train = model_knn.predict(feature_train)   \n",
        "\n",
        "stats['knn_test'] = accuracy_score(label_test, prediction_test)\n",
        "stats['knn_train'] = accuracy_score(label_train, prediction_train)\n",
        "\n",
        "print('precisão nos casos de teste: ' + str(stats['knn_test']))\n",
        "print('precisão nos casos de treino: ' + str(stats['knn_train']))"
      ],
      "execution_count": 20,
      "outputs": [
        {
          "output_type": "stream",
          "text": [
            "precisão nos casos de teste: 0.5894655305964369\n",
            "precisão nos casos de treino: 0.7423772609819121\n"
          ],
          "name": "stdout"
        }
      ]
    },
    {
      "cell_type": "markdown",
      "metadata": {
        "id": "0L6gST1m07iz"
      },
      "source": [
        "MLP\n"
      ]
    },
    {
      "cell_type": "code",
      "metadata": {
        "id": "HOAJpRSS-7wk",
        "outputId": "50322f6d-77ea-4dc8-a9b3-2596e2cd7e47",
        "colab": {
          "base_uri": "https://localhost:8080/"
        }
      },
      "source": [
        "from sklearn.neural_network import MLPClassifier\n",
        "model_mlp = MLPClassifier(hidden_layer_sizes=(150,100,50), max_iter=300,activation = 'relu',solver='sgd',random_state=1)\n",
        "model_mlp.fit(feature_train, label_train) \n",
        "\n",
        "prediction_test = model_mlp.predict(feature_test)\n",
        "prediction_train = model_mlp.predict(feature_train)   \n",
        "\n",
        "stats['mlp_test'] = accuracy_score(label_test, prediction_test)\n",
        "stats['mlp_train'] = accuracy_score(label_train, prediction_train)\n",
        "\n",
        "print('precisão nos casos de teste: ' + str(stats['mlp_test']))\n",
        "print('precisão nos casos de treino: ' + str(stats['mlp_train']))"
      ],
      "execution_count": 21,
      "outputs": [
        {
          "output_type": "stream",
          "text": [
            "precisão nos casos de teste: 0.6901626646010844\n",
            "precisão nos casos de treino: 0.6591731266149871\n"
          ],
          "name": "stdout"
        }
      ]
    },
    {
      "cell_type": "markdown",
      "metadata": {
        "id": "3qIrVCgS3eaH"
      },
      "source": [
        "Random Forrest"
      ]
    },
    {
      "cell_type": "code",
      "metadata": {
        "id": "Gy0TLpvW3hDq",
        "outputId": "015bfebf-7c38-4b9f-e2a6-a84393a8406f",
        "colab": {
          "base_uri": "https://localhost:8080/"
        }
      },
      "source": [
        "from sklearn.ensemble import RandomForestClassifier\n",
        "model_forrest = RandomForestClassifier(n_estimators=1000)\n",
        "model_forrest.fit(feature_train, label_train) \n",
        "\n",
        "prediction_test = model_forrest.predict(feature_test)\n",
        "prediction_train = model_forrest.predict(feature_train)   \n",
        "\n",
        "stats['forrest_test'] = accuracy_score(label_test, prediction_test)\n",
        "stats['forrest_train'] = accuracy_score(label_train, prediction_train)\n",
        "\n",
        "print('precisão nos casos de teste: ' + str(stats['forrest_test']))\n",
        "print('precisão nos casos de treino: ' + str(stats['forrest_train']))\n"
      ],
      "execution_count": 22,
      "outputs": [
        {
          "output_type": "stream",
          "text": [
            "precisão nos casos de teste: 0.9736638264910922\n",
            "precisão nos casos de treino: 1.0\n"
          ],
          "name": "stdout"
        }
      ]
    },
    {
      "cell_type": "code",
      "metadata": {
        "id": "qSJxqQuF7LV7",
        "outputId": "9055b8d9-72ed-4f23-9e87-d8535b45f4e5",
        "colab": {
          "base_uri": "https://localhost:8080/"
        }
      },
      "source": [
        "stats"
      ],
      "execution_count": 23,
      "outputs": [
        {
          "output_type": "execute_result",
          "data": {
            "text/plain": [
              "{'forrest_test': 0.9736638264910922,\n",
              " 'forrest_train': 1.0,\n",
              " 'knn_test': 0.5894655305964369,\n",
              " 'knn_train': 0.7423772609819121,\n",
              " 'mlp_test': 0.6901626646010844,\n",
              " 'mlp_train': 0.6591731266149871,\n",
              " 'naive_bayes_test': 0.6893880712625872,\n",
              " 'naive_bayes_train': 0.6545219638242894}"
            ]
          },
          "metadata": {
            "tags": []
          },
          "execution_count": 23
        }
      ]
    },
    {
      "cell_type": "markdown",
      "metadata": {
        "id": "FL9wUFQ6xNFq"
      },
      "source": [
        "# MLFLOW\n"
      ]
    },
    {
      "cell_type": "code",
      "metadata": {
        "id": "UDJ9oWXiGHmD",
        "outputId": "cf015e23-cf3f-4140-9ef6-7cf53988ff3f",
        "colab": {
          "base_uri": "https://localhost:8080/"
        }
      },
      "source": [
        "!pip install mlflow --quiet\n",
        "!pip install pyngrok --quiet\n",
        "\n",
        "import mlflow\n",
        "\n",
        "with mlflow.start_run(run_name=\"MLflow on Colab\"):\n",
        "  mlflow.log_metric(\"m1\", 2.0)\n",
        "  mlflow.log_param(\"p1\", \"mlflow-colab\")\n",
        "\n",
        "# run tracking UI in the background\n",
        "get_ipython().system_raw(\"mlflow ui --port 5000 &\") # run tracking UI in the background\n",
        "\n",
        "\n",
        "# create remote tunnel using ngrok.com to allow local port access\n",
        "# borrowed from https://colab.research.google.com/github/alfozan/MLflow-GBRT-demo/blob/master/MLflow-GBRT-demo.ipynb#scrollTo=4h3bKHMYUIG6\n",
        "\n",
        "from pyngrok import ngrok\n",
        "\n",
        "# Terminate open tunnels if exist\n",
        "ngrok.kill()\n",
        "\n",
        "# Setting the authtoken (optional)\n",
        "# Get your authtoken from https://dashboard.ngrok.com/auth\n",
        "NGROK_AUTH_TOKEN = \"\"\n",
        "ngrok.set_auth_token(NGROK_AUTH_TOKEN)\n",
        "\n",
        "# Open an HTTPs tunnel on port 5000 for http://localhost:5000\n",
        "ngrok_tunnel = ngrok.connect(addr=\"5000\", proto=\"http\", bind_tls=True)\n",
        "print(\"MLflow Tracking UI:\", ngrok_tunnel.public_url)"
      ],
      "execution_count": 24,
      "outputs": [
        {
          "output_type": "stream",
          "text": [
            "MLflow Tracking UI: https://fb3bf06ea449.ngrok.io\n"
          ],
          "name": "stdout"
        }
      ]
    },
    {
      "cell_type": "markdown",
      "metadata": {
        "id": "CDP2U9grx401"
      },
      "source": [
        "# Seleção de Hiper-parâmetros"
      ]
    },
    {
      "cell_type": "code",
      "metadata": {
        "id": "BzC7-I5fyx-c",
        "outputId": "49eda9e1-ccb6-4856-c071-a8bd0e0fc211",
        "colab": {
          "base_uri": "https://localhost:8080/"
        }
      },
      "source": [
        "!pip install optuna"
      ],
      "execution_count": 25,
      "outputs": [
        {
          "output_type": "stream",
          "text": [
            "Requirement already satisfied: optuna in /usr/local/lib/python3.6/dist-packages (2.3.0)\n",
            "Requirement already satisfied: alembic in /usr/local/lib/python3.6/dist-packages (from optuna) (1.4.1)\n",
            "Requirement already satisfied: packaging>=20.0 in /usr/local/lib/python3.6/dist-packages (from optuna) (20.4)\n",
            "Requirement already satisfied: numpy in /usr/local/lib/python3.6/dist-packages (from optuna) (1.18.5)\n",
            "Requirement already satisfied: cliff in /usr/local/lib/python3.6/dist-packages (from optuna) (3.5.0)\n",
            "Requirement already satisfied: cmaes>=0.6.0 in /usr/local/lib/python3.6/dist-packages (from optuna) (0.7.0)\n",
            "Requirement already satisfied: scipy!=1.4.0 in /usr/local/lib/python3.6/dist-packages (from optuna) (1.4.1)\n",
            "Requirement already satisfied: tqdm in /usr/local/lib/python3.6/dist-packages (from optuna) (4.41.1)\n",
            "Requirement already satisfied: sqlalchemy>=1.1.0 in /usr/local/lib/python3.6/dist-packages (from optuna) (1.3.20)\n",
            "Requirement already satisfied: colorlog in /usr/local/lib/python3.6/dist-packages (from optuna) (4.6.2)\n",
            "Requirement already satisfied: joblib in /usr/local/lib/python3.6/dist-packages (from optuna) (0.17.0)\n",
            "Requirement already satisfied: Mako in /usr/local/lib/python3.6/dist-packages (from alembic->optuna) (1.1.3)\n",
            "Requirement already satisfied: python-editor>=0.3 in /usr/local/lib/python3.6/dist-packages (from alembic->optuna) (1.0.4)\n",
            "Requirement already satisfied: python-dateutil in /usr/local/lib/python3.6/dist-packages (from alembic->optuna) (2.8.1)\n",
            "Requirement already satisfied: six in /usr/local/lib/python3.6/dist-packages (from packaging>=20.0->optuna) (1.15.0)\n",
            "Requirement already satisfied: pyparsing>=2.0.2 in /usr/local/lib/python3.6/dist-packages (from packaging>=20.0->optuna) (2.4.7)\n",
            "Requirement already satisfied: stevedore>=2.0.1 in /usr/local/lib/python3.6/dist-packages (from cliff->optuna) (3.2.2)\n",
            "Requirement already satisfied: PrettyTable<0.8,>=0.7.2 in /usr/local/lib/python3.6/dist-packages (from cliff->optuna) (0.7.2)\n",
            "Requirement already satisfied: pbr!=2.1.0,>=2.0.0 in /usr/local/lib/python3.6/dist-packages (from cliff->optuna) (5.5.1)\n",
            "Requirement already satisfied: cmd2!=0.8.3,>=0.8.0 in /usr/local/lib/python3.6/dist-packages (from cliff->optuna) (1.4.0)\n",
            "Requirement already satisfied: PyYAML>=3.12 in /usr/local/lib/python3.6/dist-packages (from cliff->optuna) (3.13)\n",
            "Requirement already satisfied: MarkupSafe>=0.9.2 in /usr/local/lib/python3.6/dist-packages (from Mako->alembic->optuna) (1.1.1)\n",
            "Requirement already satisfied: importlib-metadata>=1.7.0; python_version < \"3.8\" in /usr/local/lib/python3.6/dist-packages (from stevedore>=2.0.1->cliff->optuna) (2.0.0)\n",
            "Requirement already satisfied: colorama>=0.3.7 in /usr/local/lib/python3.6/dist-packages (from cmd2!=0.8.3,>=0.8.0->cliff->optuna) (0.4.4)\n",
            "Requirement already satisfied: attrs>=16.3.0 in /usr/local/lib/python3.6/dist-packages (from cmd2!=0.8.3,>=0.8.0->cliff->optuna) (20.2.0)\n",
            "Requirement already satisfied: pyperclip>=1.6 in /usr/local/lib/python3.6/dist-packages (from cmd2!=0.8.3,>=0.8.0->cliff->optuna) (1.8.1)\n",
            "Requirement already satisfied: wcwidth>=0.1.7 in /usr/local/lib/python3.6/dist-packages (from cmd2!=0.8.3,>=0.8.0->cliff->optuna) (0.2.5)\n",
            "Requirement already satisfied: zipp>=0.5 in /usr/local/lib/python3.6/dist-packages (from importlib-metadata>=1.7.0; python_version < \"3.8\"->stevedore>=2.0.1->cliff->optuna) (3.4.0)\n"
          ],
          "name": "stdout"
        }
      ]
    },
    {
      "cell_type": "markdown",
      "metadata": {
        "id": "ixpxmwNrz3Og"
      },
      "source": [
        "Naive Bayes"
      ]
    },
    {
      "cell_type": "code",
      "metadata": {
        "id": "CKpdWTlnzhjk"
      },
      "source": [
        "import optuna\n",
        "\n",
        "def objective(trial):\n",
        "    nb_var_smoothing = trial.suggest_float('var_smoothing', 1e-9, 1e9, log=True)\n",
        "    naive_obj = GaussianNB(var_smoothing=nb_var_smoothing)\n",
        "    naive_obj.fit(feature_train, label_train)     \n",
        "\n",
        "    prediction_test = naive_obj.predict(feature_test)\n",
        "    prediction_train = naive_obj.predict(feature_train)   \n",
        "\n",
        "    accuracy_test = accuracy_score(label_test, prediction_test)\n",
        "    accuracy_train = accuracy_score(label_train, prediction_train)\n",
        "    return accuracy_test\n",
        "\n",
        "study = optuna.create_study(direction=\"maximize\")\n",
        "study.optimize(objective, n_trials=100)\n",
        "print(study.best_trial)"
      ],
      "execution_count": null,
      "outputs": []
    },
    {
      "cell_type": "markdown",
      "metadata": {
        "id": "tQkg-ZYN4liK"
      },
      "source": [
        "KNN\n"
      ]
    },
    {
      "cell_type": "code",
      "metadata": {
        "id": "Z1K-kXtz4nl9"
      },
      "source": [
        "def objective(trial):\n",
        "    knn_n_neighbors = trial.suggest_int('n_neighbors', 2, 20)\n",
        "    knn_weights = trial.suggest_categorical('weights', ['uniform', 'distance'])\n",
        "    knn_algorithm = trial.suggest_categorical('algorithm', ['auto', 'ball_tree', 'kd_tree', 'brute'])\n",
        "\n",
        "    knn_obj = KNeighborsClassifier(n_neighbors=knn_n_neighbors, weights=knn_weights, algorithm=knn_algorithm)\n",
        "    knn_obj.fit(feature_train, label_train)     \n",
        "\n",
        "    prediction_test = knn_obj.predict(feature_test)\n",
        "    prediction_train = knn_obj.predict(feature_train)   \n",
        "\n",
        "    accuracy_test = accuracy_score(label_test, prediction_test)\n",
        "    accuracy_train = accuracy_score(label_train, prediction_train)\n",
        "    return accuracy_test\n",
        "\n",
        "study = optuna.create_study(direction=\"maximize\")\n",
        "study.optimize(objective, n_trials=100)\n",
        "print(study.best_trial)"
      ],
      "execution_count": null,
      "outputs": []
    },
    {
      "cell_type": "markdown",
      "metadata": {
        "id": "GF5o4HMc6w88"
      },
      "source": [
        "MLP"
      ]
    },
    {
      "cell_type": "code",
      "metadata": {
        "id": "_ilBzcoP6y9l"
      },
      "source": [
        "def objective(trial):\n",
        "    mlp_max_iter = trial.suggest_int('max_iter', 50, 300)\n",
        "    mlp_activation = trial.suggest_categorical('activation', ['identity', 'logistic', 'tanh', 'relu'])\n",
        "    mlp_solver = trial.suggest_categorical('solver', ['lbfgs', 'sgd', 'adam'])\n",
        "\n",
        "    mlp_obj = MLPClassifier(hidden_layer_sizes=(150,100,50), max_iter=mlp_max_iter,activation = mlp_activation,solver=mlp_solver,random_state=1)\n",
        "    mlp_obj.fit(feature_train, label_train) \n",
        "\n",
        "    prediction_test = mlp_obj.predict(feature_test)\n",
        "    prediction_train = mlp_obj.predict(feature_train)   \n",
        "\n",
        "    accuracy_test = accuracy_score(label_test, prediction_test)\n",
        "    accuracy_train = accuracy_score(label_train, prediction_train)\n",
        "    return accuracy_test\n",
        "\n",
        "study = optuna.create_study(direction=\"maximize\")\n",
        "study.optimize(objective, n_trials=100)\n",
        "print(study.best_trial)"
      ],
      "execution_count": null,
      "outputs": []
    },
    {
      "cell_type": "markdown",
      "metadata": {
        "id": "a0eds0oD-pAh"
      },
      "source": [
        "Random Forrest\n"
      ]
    },
    {
      "cell_type": "code",
      "metadata": {
        "id": "Qeg3hFmd-qiv"
      },
      "source": [
        "def objective(trial):\n",
        "    forrest_n_estimators = trial.suggest_int('n_estimators', 100, 1000)\n",
        "    forrest_criterion = trial.suggest_categorical('criterion', ['gini', 'entropy'])\n",
        "    forrest_max_features = trial.suggest_categorical('max_features', ['auto', 'sqrt', 'log2'])\n",
        "\n",
        "    forrest_obj = RandomForestClassifier(n_estimators=forrest_n_estimators, criterion=forrest_criterion, max_features=forrest_max_features)\n",
        "    forrest_obj.fit(feature_train, label_train) \n",
        "\n",
        "    prediction_test = forrest_obj.predict(feature_test)\n",
        "    prediction_train = forrest_obj.predict(feature_train)   \n",
        "\n",
        "    accuracy_test = accuracy_score(label_test, prediction_test)\n",
        "    accuracy_train = accuracy_score(label_train, prediction_train)\n",
        "    return accuracy_test\n",
        "\n",
        "study = optuna.create_study(direction=\"maximize\")\n",
        "study.optimize(objective, n_trials=100)\n",
        "print(study.best_trial)"
      ],
      "execution_count": null,
      "outputs": []
    },
    {
      "cell_type": "code",
      "metadata": {
        "id": "TPyo-XeZKzXM",
        "outputId": "ed4d7fe2-4d01-48a9-9d74-ebde8fa31a9c",
        "colab": {
          "base_uri": "https://localhost:8080/"
        }
      },
      "source": [
        "forest_params = study.best_trial.params\n",
        "print(study.best_trial)"
      ],
      "execution_count": 32,
      "outputs": [
        {
          "output_type": "stream",
          "text": [
            "FrozenTrial(number=93, value=0.9775367931835787, datetime_start=datetime.datetime(2020, 11, 14, 23, 16, 46, 518104), datetime_complete=datetime.datetime(2020, 11, 14, 23, 16, 50, 5189), params={'n_estimators': 428, 'criterion': 'entropy', 'max_features': 'log2'}, distributions={'n_estimators': IntUniformDistribution(high=1000, low=100, step=1), 'criterion': CategoricalDistribution(choices=('gini', 'entropy')), 'max_features': CategoricalDistribution(choices=('auto', 'sqrt', 'log2'))}, user_attrs={}, system_attrs={}, intermediate_values={}, trial_id=93, state=TrialState.COMPLETE)\n"
          ],
          "name": "stdout"
        }
      ]
    },
    {
      "cell_type": "markdown",
      "metadata": {
        "id": "Gn6QWPGnHNIO"
      },
      "source": [
        "# Diagnóstico do Modelo\n"
      ]
    },
    {
      "cell_type": "code",
      "metadata": {
        "id": "4Ydn_j4eHMia"
      },
      "source": [
        "from sklearn.metrics import confusion_matrix\n",
        "forest_diag = RandomForestClassifier(n_estimators=forest_params['n_estimators'], criterion=forest_params['criterion'], max_features=forest_params['max_features'])\n",
        "forest_diag.fit(feature_train, label_train) \n",
        "\n",
        "prediction_test = forest_diag.predict(feature_test)\n",
        "prediction_train = forest_diag.predict(feature_train)   \n",
        "\n",
        "accuracy_test = accuracy_score(label_test, prediction_test)\n",
        "accuracy_train = accuracy_score(label_train, prediction_train)\n",
        "\n",
        "mat = confusion_matrix(label_test, prediction_test)"
      ],
      "execution_count": 36,
      "outputs": []
    },
    {
      "cell_type": "code",
      "metadata": {
        "id": "iUBew3uMMIiR",
        "outputId": "0e699749-59fc-4241-da27-e5cd47058ae5",
        "colab": {
          "base_uri": "https://localhost:8080/",
          "height": 279
        }
      },
      "source": [
        "import seaborn as sns\n",
        "sns.heatmap(mat.T, square=True, annot=True, fmt='d', cbar=False)\n",
        "plt.xlabel('true label')\n",
        "plt.ylabel('predicted label');"
      ],
      "execution_count": 37,
      "outputs": [
        {
          "output_type": "display_data",
          "data": {
            "image/png": "[encoded data removed]",
            "text/plain": [
              "<Figure size 432x288 with 1 Axes>"
            ]
          },
          "metadata": {
            "tags": [],
            "needs_background": "light"
          }
        }
      ]
    }
  ]
}