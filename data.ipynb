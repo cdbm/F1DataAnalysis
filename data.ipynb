{
  "nbformat": 4,
  "nbformat_minor": 0,
  "metadata": {
    "colab": {
      "name": "Untitled4.ipynb",
      "provenance": [],
      "authorship_tag": "ABX9TyNtn2Dn+pMO0nFCe9LR6tfb",
      "include_colab_link": true
    },
    "kernelspec": {
      "name": "python3",
      "display_name": "Python 3"
    }
  },
  "cells": [
    {
      "cell_type": "markdown",
      "metadata": {
        "id": "view-in-github",
        "colab_type": "text"
      },
      "source": [
        "<a href=\"https://colab.research.google.com/github/cdbm/F1DataAnalysis/blob/master/data.ipynb\" target=\"_parent\"><img src=\"https://colab.research.google.com/assets/colab-badge.svg\" alt=\"Open In Colab\"/></a>"
      ]
    },
    {
      "cell_type": "code",
      "metadata": {
        "id": "owvYjtIHfc-A"
      },
      "source": [
        "import numpy as np\n",
        "import pandas as pd\n",
        "import matplotlib.pyplot as plt"
      ],
      "execution_count": 1,
      "outputs": []
    },
    {
      "cell_type": "code",
      "metadata": {
        "id": "DKZdk6iehRAh"
      },
      "source": [
        "circuits=pd.read_csv(\"https://raw.githubusercontent.com/cdbm/F1DataAnalysis/master/f1_data/circuits.csv\")\n",
        "constructor_results=pd.read_csv(\"https://raw.githubusercontent.com/cdbm/F1DataAnalysis/master/f1_data/constructor_results.csv\")\n",
        "constructor_standings=pd.read_csv(\"https://raw.githubusercontent.com/cdbm/F1DataAnalysis/master/f1_data/constructor_standings.csv\")\n",
        "constructors=pd.read_csv(\"https://raw.githubusercontent.com/cdbm/F1DataAnalysis/master/f1_data/constructors.csv\")\n",
        "driver_standings=pd.read_csv(\"https://raw.githubusercontent.com/cdbm/F1DataAnalysis/master/f1_data/driver_standings.csv\")\n",
        "drivers=pd.read_csv(\"https://raw.githubusercontent.com/cdbm/F1DataAnalysis/master/f1_data/drivers.csv\")\n",
        "lap_times=pd.read_csv(\"https://raw.githubusercontent.com/cdbm/F1DataAnalysis/master/f1_data/lap_times.csv\")\n",
        "pit_stops=pd.read_csv(\"https://raw.githubusercontent.com/cdbm/F1DataAnalysis/master/f1_data/pit_stops.csv\")\n",
        "qualifying=pd.read_csv(\"https://raw.githubusercontent.com/cdbm/F1DataAnalysis/master/f1_data/qualifying.csv\")\n",
        "races=pd.read_csv(\"https://raw.githubusercontent.com/cdbm/F1DataAnalysis/master/f1_data/races.csv\")\n",
        "results=pd.read_csv(\"https://raw.githubusercontent.com/cdbm/F1DataAnalysis/master/f1_data/results.csv\")\n",
        "seasons=pd.read_csv(\"https://raw.githubusercontent.com/cdbm/F1DataAnalysis/master/f1_data/seasons.csv\")\n",
        "status=pd.read_csv(\"https://raw.githubusercontent.com/cdbm/F1DataAnalysis/master/f1_data/status.csv\")\n",
        "\n"
      ],
      "execution_count": 2,
      "outputs": []
    },
    {
      "cell_type": "markdown",
      "metadata": {
        "id": "HwyikeMnkMea"
      },
      "source": [
        "# Normalização do sistema de pontuação\n",
        "ao longo dos anos o modo como se pontuavam as corridas mudou, essa mudança entre temporadas pode mexer com resultados futuros, então é necessário uma padronização no sistema de pontuação."
      ]
    },
    {
      "cell_type": "code",
      "metadata": {
        "id": "shA25xBAknvG"
      },
      "source": [
        "constructor_standings[\"year\"] = constructor_standings.raceId.map(races.set_index(\"raceId\")[\"year\"])"
      ],
      "execution_count": 3,
      "outputs": []
    },
    {
      "cell_type": "code",
      "metadata": {
        "id": "Xv9L9_5zlvvJ"
      },
      "source": [
        "from_58_to_59 = constructor_standings[(constructor_standings[\"year\"] >= 1958) & (constructor_standings[\"year\"] <= 1959)]\n",
        "from_58_to_59[\"points_norm\"] = (from_58_to_59['points'] - from_58_to_59['points'].min()) / (from_58_to_59['points'].max() - from_58_to_59['points'].min())\n",
        "\n",
        "times_60 = constructor_standings[constructor_standings[\"year\"] == 1960]\n",
        "times_60[\"points_norm\"] = (times_60['points'] - times_60['points'].min()) / (times_60['points'].max() - times_60['points'].min())\n",
        "\n",
        "from_61_to_90 = constructor_standings[(constructor_standings[\"year\"] >= 1961) & (constructor_standings[\"year\"] <= 1990)]\n",
        "from_61_to_90[\"points_norm\"] = (from_61_to_90['points'] - from_61_to_90['points'].min()) / (from_61_to_90['points'].max() - from_61_to_90['points'].min())\n",
        "\n",
        "from_91_to_02 = constructor_standings[(constructor_standings[\"year\"] >= 1991) & (constructor_standings[\"year\"] <= 2002)]\n",
        "from_91_to_02[\"points_norm\"] = (from_91_to_02['points'] - from_91_to_02['points'].min()) / (from_91_to_02['points'].max() - from_91_to_02['points'].min())\n",
        "\n",
        "from_03_to_09 = constructor_standings[(constructor_standings[\"year\"] >= 2003) & (constructor_standings[\"year\"] <= 2009)]\n",
        "from_03_to_09[\"points_norm\"] = (from_03_to_09['points'] - from_03_to_09['points'].min()) / (from_03_to_09['points'].max() - from_03_to_09['points'].min())\n",
        "\n",
        "from_10_to_18 = constructor_standings[(constructor_standings[\"year\"] >= 2010) & (constructor_standings[\"year\"] <= 2018)]\n",
        "from_10_to_18[\"points_norm\"] = (from_10_to_18['points'] - from_10_to_18['points'].min()) / (from_10_to_18['points'].max() - from_10_to_18['points'].min())\n",
        "\n",
        "from_2019 = constructor_standings[constructor_standings[\"year\"] >= 2019]\n",
        "from_2019[\"points_norm\"] = (from_2019['points'] - from_2019['points'].min()) / (from_2019['points'].max() - from_2019['points'].min())\n",
        "\n",
        "\n",
        "points_norms = pd.concat([from_58_to_59, times_60, from_61_to_90, from_91_to_02, from_03_to_09, from_10_to_18, from_2019], ignore_index=True)\n",
        "constructor_standings[\"points_norm\"] = points_norms[\"points_norm\"]"
      ],
      "execution_count": null,
      "outputs": []
    },
    {
      "cell_type": "code",
      "metadata": {
        "id": "RcHimK58Osjp"
      },
      "source": [
        "from_2019[from_2019[\"constructorId\"] == 131]"
      ],
      "execution_count": null,
      "outputs": []
    },
    {
      "cell_type": "code",
      "metadata": {
        "id": "qTGYOeC1pV3b"
      },
      "source": [
        "constructor_standings.groupby(\"year\").agg(\"max\")"
      ],
      "execution_count": null,
      "outputs": []
    },
    {
      "cell_type": "markdown",
      "metadata": {
        "id": "TZObTqJtTXpX"
      },
      "source": [
        "Normalizando as pontuações para pilotos\n"
      ]
    },
    {
      "cell_type": "code",
      "metadata": {
        "id": "ZICFCmoOS6Fk"
      },
      "source": [
        "driver_standings[\"year\"] = driver_standings.raceId.map(races.set_index(\"raceId\")[\"year\"])"
      ],
      "execution_count": null,
      "outputs": []
    },
    {
      "cell_type": "code",
      "metadata": {
        "id": "M5qTK8CpTC0G"
      },
      "source": [
        "driver_standings.sort_values(by=\"year\")"
      ],
      "execution_count": null,
      "outputs": []
    },
    {
      "cell_type": "code",
      "metadata": {
        "id": "EsB3pGcrTNyR"
      },
      "source": [
        "drivers_from_50_to_59 = constructor_standings[(constructor_standings[\"year\"] >= 1958) & (constructor_standings[\"year\"] <= 1959)]\n",
        "from_58_to_59[\"points_norm\"] = (from_58_to_59['points'] - from_58_to_59['points'].min()) / (from_58_to_59['points'].max() - from_58_to_59['points'].min())\n",
        "\n",
        "times_60 = constructor_standings[constructor_standings[\"year\"] == 1960]\n",
        "times_60[\"points_norm\"] = (times_60['points'] - times_60['points'].min()) / (times_60['points'].max() - times_60['points'].min())\n",
        "\n",
        "from_61_to_90 = constructor_standings[(constructor_standings[\"year\"] >= 1961) & (constructor_standings[\"year\"] <= 1990)]\n",
        "from_61_to_90[\"points_norm\"] = (from_61_to_90['points'] - from_61_to_90['points'].min()) / (from_61_to_90['points'].max() - from_61_to_90['points'].min())\n",
        "\n",
        "from_91_to_02 = constructor_standings[(constructor_standings[\"year\"] >= 1991) & (constructor_standings[\"year\"] <= 2002)]\n",
        "from_91_to_02[\"points_norm\"] = (from_91_to_02['points'] - from_91_to_02['points'].min()) / (from_91_to_02['points'].max() - from_91_to_02['points'].min())\n",
        "\n",
        "from_03_to_09 = constructor_standings[(constructor_standings[\"year\"] >= 2003) & (constructor_standings[\"year\"] <= 2009)]\n",
        "from_03_to_09[\"points_norm\"] = (from_03_to_09['points'] - from_03_to_09['points'].min()) / (from_03_to_09['points'].max() - from_03_to_09['points'].min())\n",
        "\n",
        "from_10_to_18 = constructor_standings[(constructor_standings[\"year\"] >= 2010) & (constructor_standings[\"year\"] <= 2018)]\n",
        "from_10_to_18[\"points_norm\"] = (from_10_to_18['points'] - from_10_to_18['points'].min()) / (from_10_to_18['points'].max() - from_10_to_18['points'].min())\n",
        "\n",
        "from_2019 = constructor_standings[constructor_standings[\"year\"] >= 2019]\n",
        "from_2019[\"points_norm\"] = (from_2019['points'] - from_2019['points'].min()) / (from_2019['points'].max() - from_2019['points'].min())\n",
        "\n",
        "\n",
        "points_norms = pd.concat([from_58_to_59, times_60, from_61_to_90, from_91_to_02, from_03_to_09, from_10_to_18, from_2019], ignore_index=True)\n",
        "constructor_standings[\"points_norm\"] = points_norms[\"points_norm\"]"
      ],
      "execution_count": null,
      "outputs": []
    },
    {
      "cell_type": "markdown",
      "metadata": {
        "id": "yaJpE1CPp6SB"
      },
      "source": [
        "# Circuitos\n"
      ]
    },
    {
      "cell_type": "markdown",
      "metadata": {
        "id": "qbQxP_5iknu_"
      },
      "source": [
        "Esse dataset mostra uma descrição breve de todos os circuitos que já sediaram alguma corrida de fórmula 1 \n"
      ]
    },
    {
      "cell_type": "code",
      "metadata": {
        "id": "edI21gqimQZH"
      },
      "source": [
        "circuits['circuitRef'] = circuits['circuitRef'].astype('category')\n",
        "circuits['name'] = circuits['name'].astype('category')\n",
        "circuits['location'] = circuits['location'].astype('category')\n",
        "circuits['country'] = circuits['country'].astype('category')\n",
        "circuits['alt'] = circuits['alt'].astype('category')"
      ],
      "execution_count": null,
      "outputs": []
    },
    {
      "cell_type": "markdown",
      "metadata": {
        "id": "Ti7BBmtFjstM"
      },
      "source": [
        "Descrição dos dados:\n",
        "\n",
        "circuitId: categórico nominal <br/>\n",
        "circuitRef: categórico nominal<br/>\n",
        "name: categórico nominal<br/>\n",
        "location: categórico nominal<br/>\n",
        "country: categórico nominal<br/>\n",
        "lat: Contínuo<br/>\n",
        "lng: Contínuo<br/>\n",
        "alt: categórico nominal </br>\n",
        "url: categórico nominal <br/>\n"
      ]
    },
    {
      "cell_type": "code",
      "metadata": {
        "id": "_nYMtCHpjY1h"
      },
      "source": [
        "circuits.head()"
      ],
      "execution_count": null,
      "outputs": []
    },
    {
      "cell_type": "code",
      "metadata": {
        "id": "vwSfU2BDi1wU"
      },
      "source": [
        "circuits.dtypes"
      ],
      "execution_count": null,
      "outputs": []
    },
    {
      "cell_type": "code",
      "metadata": {
        "id": "7RwDsoUmnPJN"
      },
      "source": [
        "circuits['country'].cat.categories"
      ],
      "execution_count": null,
      "outputs": []
    },
    {
      "cell_type": "markdown",
      "metadata": {
        "id": "bTQARDpToWv3"
      },
      "source": [
        "Localização dos ciruitos no mapa\n"
      ]
    },
    {
      "cell_type": "code",
      "metadata": {
        "id": "Yv09TrKhjc_G"
      },
      "source": [
        "circuits.plot.scatter(x='lng', y='lat')"
      ],
      "execution_count": null,
      "outputs": []
    },
    {
      "cell_type": "markdown",
      "metadata": {
        "id": "5oF0hL3yocmx"
      },
      "source": [
        "Países com mais circuitos a sediar uma corrida de fórmula 1\n"
      ]
    },
    {
      "cell_type": "code",
      "metadata": {
        "id": "n_T-L4GioPrQ"
      },
      "source": [
        "circuits.groupby(['country']).agg(['count'])[\"circuitId\"].sort_values(by='count', ascending=False).plot.barh()"
      ],
      "execution_count": null,
      "outputs": []
    },
    {
      "cell_type": "markdown",
      "metadata": {
        "id": "fYX-kBcnqpMN"
      },
      "source": [
        "# Construtores\n"
      ]
    },
    {
      "cell_type": "markdown",
      "metadata": {
        "id": "3eTDV2m1kxR1"
      },
      "source": [
        "Esse dataset é reservado para mostrar informações das equipes que correm e correram na categoria.\n"
      ]
    },
    {
      "cell_type": "code",
      "metadata": {
        "id": "TaV48MjwoDW1"
      },
      "source": [
        "constructors['constructorRef'] = constructors['constructorRef'].astype('category')\n",
        "constructors['name'] = constructors['name'].astype('category')\n",
        "constructors['nationality'] = constructors['nationality'].astype('category')"
      ],
      "execution_count": null,
      "outputs": []
    },
    {
      "cell_type": "markdown",
      "metadata": {
        "id": "gC_d5cabocwV"
      },
      "source": [
        "Descrição dos dados:\n",
        "\n",
        "constructorId: categórico nominal <br/>\n",
        "name: categórico nominal<br/>\n",
        "nationality: categórico nominal<br/>\n",
        "\n"
      ]
    },
    {
      "cell_type": "code",
      "metadata": {
        "id": "ibArff5enwB1"
      },
      "source": [
        "constructors.dtypes"
      ],
      "execution_count": null,
      "outputs": []
    },
    {
      "cell_type": "markdown",
      "metadata": {
        "id": "EMxBCoGQsj1d"
      },
      "source": [
        "Países com mais equipes <br>\n",
        "A diferença entre as equipes britânicas para o resto se da pelo fato da inglaterra ser o berço da fórmula 1 e além disso varias equipes escolhem a inglaterra como sede pela comodidade."
      ]
    },
    {
      "cell_type": "code",
      "metadata": {
        "id": "Zj6QxVvFqwG7"
      },
      "source": [
        "constructors.groupby(['nationality']).agg(['count'])['constructorRef'].sort_values(by='count', ascending=False).plot.barh()"
      ],
      "execution_count": null,
      "outputs": []
    },
    {
      "cell_type": "markdown",
      "metadata": {
        "id": "KyXIav6zOJBf"
      },
      "source": [
        "# Resultados Construtores\n"
      ]
    },
    {
      "cell_type": "markdown",
      "metadata": {
        "id": "-w2sseX7k60V"
      },
      "source": [
        "Esse dataset mostra os resultados das equipes por corridas, mostrando a pontuação total em cada corrida disputada."
      ]
    },
    {
      "cell_type": "markdown",
      "metadata": {
        "id": "LJIqoxNBPxQj"
      },
      "source": [
        "Descrição dos dados </br>\n",
        "status: categórico binário\n"
      ]
    },
    {
      "cell_type": "code",
      "metadata": {
        "id": "NAjZS3UMN6kT"
      },
      "source": [
        "constructor_results.head()"
      ],
      "execution_count": null,
      "outputs": []
    },
    {
      "cell_type": "code",
      "metadata": {
        "id": "LWRkrl5xOUk6"
      },
      "source": [
        "constructor_results.dtypes"
      ],
      "execution_count": null,
      "outputs": []
    },
    {
      "cell_type": "code",
      "metadata": {
        "id": "R9fW9MPFOlUX"
      },
      "source": [
        "constructor_results[\"status\"] = constructor_results[\"status\"].astype(\"category\")"
      ],
      "execution_count": null,
      "outputs": []
    },
    {
      "cell_type": "code",
      "metadata": {
        "id": "j8ounjjlOwfm"
      },
      "source": [
        "constructor_results[\"status\"].cat.categories"
      ],
      "execution_count": null,
      "outputs": []
    },
    {
      "cell_type": "markdown",
      "metadata": {
        "id": "8XiiUGdHPBm1"
      },
      "source": [
        "# Construtores Standings\n"
      ]
    },
    {
      "cell_type": "markdown",
      "metadata": {
        "id": "VtXcbBEwlHZK"
      },
      "source": [
        "o dataset de standings mostra uma visão de como a equipe está situada no campeonato após dada corrida, mostrando os pontos conquistados até aqui, corridas vencidas entre outros."
      ]
    },
    {
      "cell_type": "markdown",
      "metadata": {
        "id": "FdBRSd2RP9kl"
      },
      "source": [
        "Descrção dos dados </br>\n",
        "positionText: categórico nomimal\n"
      ]
    },
    {
      "cell_type": "code",
      "metadata": {
        "id": "u5ZHOf5aPFPn"
      },
      "source": [
        "constructor_standings.head()"
      ],
      "execution_count": null,
      "outputs": []
    },
    {
      "cell_type": "code",
      "metadata": {
        "id": "fiWTvoXXPPT6"
      },
      "source": [
        "constructor_standings[\"positionText\"] = constructor_standings[\"positionText\"].astype(\"category\")"
      ],
      "execution_count": null,
      "outputs": []
    },
    {
      "cell_type": "code",
      "metadata": {
        "id": "K8L3oYOVPY4R"
      },
      "source": [
        "constructor_standings[\"positionText\"].cat.categories"
      ],
      "execution_count": null,
      "outputs": []
    },
    {
      "cell_type": "code",
      "metadata": {
        "id": "zduWI022PKq2"
      },
      "source": [
        "constructor_standings.dtypes"
      ],
      "execution_count": null,
      "outputs": []
    },
    {
      "cell_type": "markdown",
      "metadata": {
        "id": "nQU5Q-ADx9Dj"
      },
      "source": [
        "# Desempenho Construtores"
      ]
    },
    {
      "cell_type": "markdown",
      "metadata": {
        "id": "bsW7m5GqlXnd"
      },
      "source": [
        "Essa sessão é dedicada a uma análise de desempenho de várias equipes ao longo do tempo, suas pontuações, vitórias e comparações entre elas."
      ]
    },
    {
      "cell_type": "markdown",
      "metadata": {
        "id": "DQMepxdQZ0j4"
      },
      "source": [
        "Análise de desempenho da ferrari durante os anos"
      ]
    },
    {
      "cell_type": "code",
      "metadata": {
        "id": "KCrtZHQUsw-E"
      },
      "source": [
        "ferrari_standings=constructor_standings[constructor_standings.constructorId == 6]\n",
        "ferrari_standings.sort_values(by=\"raceId\")\n",
        "ferrari_standings.describe()"
      ],
      "execution_count": null,
      "outputs": []
    },
    {
      "cell_type": "markdown",
      "metadata": {
        "id": "0gIGyAV3mH-G"
      },
      "source": [
        "O gráfico a seguir mostra a pontuação final por temporada de uma das equipes mais tradicionais da categoria, a ferrari. É útil observar que o grande aumento de pontos nas últimas décadas se da por mudanças de regulamento que passaram a dar mais pontos para as respectivas colocações"
      ]
    },
    {
      "cell_type": "code",
      "metadata": {
        "id": "tJKJp1urFI4q",
        "outputId": "0c333ae1-640a-4bae-bfb7-493c9ca19c45",
        "colab": {
          "base_uri": "https://localhost:8080/",
          "height": 398
        }
      },
      "source": [
        "ferrari_standings[\"year\"] = ferrari_standings.raceId.map(races.set_index(\"raceId\")[\"year\"])\n",
        "ferrari_2019 = ferrari_standings[ferrari_standings.year == 2019]\n",
        "ferrari_by_year = ferrari_standings.groupby([\"year\"]).agg(\"max\")[\"points_norm\"]\n",
        "ferrari_by_year.plot()"
      ],
      "execution_count": 36,
      "outputs": [
        {
          "output_type": "stream",
          "text": [
            "/usr/local/lib/python3.6/dist-packages/ipykernel_launcher.py:1: SettingWithCopyWarning: \n",
            "A value is trying to be set on a copy of a slice from a DataFrame.\n",
            "Try using .loc[row_indexer,col_indexer] = value instead\n",
            "\n",
            "See the caveats in the documentation: https://pandas.pydata.org/pandas-docs/stable/user_guide/indexing.html#returning-a-view-versus-a-copy\n",
            "  \"\"\"Entry point for launching an IPython kernel.\n"
          ],
          "name": "stderr"
        },
        {
          "output_type": "execute_result",
          "data": {
            "text/plain": [
              "<matplotlib.axes._subplots.AxesSubplot at 0x7fb61ee235f8>"
            ]
          },
          "metadata": {
            "tags": []
          },
          "execution_count": 36
        },
        {
          "output_type": "display_data",
          "data": {
            "image/png": "[encoded data removed]",
            "text/plain": [
              "<Figure size 432x288 with 1 Axes>"
            ]
          },
          "metadata": {
            "tags": [],
            "needs_background": "light"
          }
        }
      ]
    },
    {
      "cell_type": "markdown",
      "metadata": {
        "id": "SLBw6Zh8W6Tc"
      },
      "source": [
        "Filtro na ferrari para comparar com red bull"
      ]
    },
    {
      "cell_type": "code",
      "metadata": {
        "id": "65VwvD09W-JL",
        "outputId": "4c84ec31-889a-40d1-9275-3b55336ff56d",
        "colab": {
          "base_uri": "https://localhost:8080/",
          "height": 296
        }
      },
      "source": [
        "ferrari_from_2005 = ferrari_standings[ferrari_standings.year >= 2005]\n",
        "ferrari_from_2005 = ferrari_from_2005.groupby([\"year\"]).agg(\"max\")[\"points_norm\"]\n",
        "ferrari_from_2005.plot()"
      ],
      "execution_count": 41,
      "outputs": [
        {
          "output_type": "execute_result",
          "data": {
            "text/plain": [
              "<matplotlib.axes._subplots.AxesSubplot at 0x7fb61ec80f28>"
            ]
          },
          "metadata": {
            "tags": []
          },
          "execution_count": 41
        },
        {
          "output_type": "display_data",
          "data": {
            "image/png": "[encoded data removed]",
            "text/plain": [
              "<Figure size 432x288 with 1 Axes>"
            ]
          },
          "metadata": {
            "tags": [],
            "needs_background": "light"
          }
        }
      ]
    },
    {
      "cell_type": "markdown",
      "metadata": {
        "id": "Vs6clyvEVTsS"
      },
      "source": [
        "Análise de pountuação da Red Bull ao longo dos anos"
      ]
    },
    {
      "cell_type": "code",
      "metadata": {
        "id": "mPlYizclVY7I",
        "outputId": "4c7cacfd-4cb4-4ecc-ed43-b3f2a570beb4",
        "colab": {
          "base_uri": "https://localhost:8080/",
          "height": 297
        }
      },
      "source": [
        "rbr_standings=constructor_standings[constructor_standings.constructorId == 9]\n",
        "rbr_standings.sort_values(by=\"raceId\")\n",
        "rbr_standings.describe()"
      ],
      "execution_count": 43,
      "outputs": [
        {
          "output_type": "execute_result",
          "data": {
            "text/html": [
              "<div>\n",
              "<style scoped>\n",
              "    .dataframe tbody tr th:only-of-type {\n",
              "        vertical-align: middle;\n",
              "    }\n",
              "\n",
              "    .dataframe tbody tr th {\n",
              "        vertical-align: top;\n",
              "    }\n",
              "\n",
              "    .dataframe thead th {\n",
              "        text-align: right;\n",
              "    }\n",
              "</style>\n",
              "<table border=\"1\" class=\"dataframe\">\n",
              "  <thead>\n",
              "    <tr style=\"text-align: right;\">\n",
              "      <th></th>\n",
              "      <th>constructorStandingsId</th>\n",
              "      <th>raceId</th>\n",
              "      <th>constructorId</th>\n",
              "      <th>points</th>\n",
              "      <th>position</th>\n",
              "      <th>wins</th>\n",
              "      <th>year</th>\n",
              "      <th>points_norm</th>\n",
              "    </tr>\n",
              "  </thead>\n",
              "  <tbody>\n",
              "    <tr>\n",
              "      <th>count</th>\n",
              "      <td>292.000000</td>\n",
              "      <td>292.000000</td>\n",
              "      <td>292.0</td>\n",
              "      <td>292.000000</td>\n",
              "      <td>292.000000</td>\n",
              "      <td>292.000000</td>\n",
              "      <td>292.000000</td>\n",
              "      <td>292.000000</td>\n",
              "    </tr>\n",
              "    <tr>\n",
              "      <th>mean</th>\n",
              "      <td>20727.017123</td>\n",
              "      <td>631.287671</td>\n",
              "      <td>9.0</td>\n",
              "      <td>161.993151</td>\n",
              "      <td>3.356164</td>\n",
              "      <td>1.945205</td>\n",
              "      <td>2012.400685</td>\n",
              "      <td>0.156002</td>\n",
              "    </tr>\n",
              "    <tr>\n",
              "      <th>std</th>\n",
              "      <td>9595.577586</td>\n",
              "      <td>414.507739</td>\n",
              "      <td>0.0</td>\n",
              "      <td>154.877293</td>\n",
              "      <td>2.099713</td>\n",
              "      <td>2.665242</td>\n",
              "      <td>4.444434</td>\n",
              "      <td>0.170455</td>\n",
              "    </tr>\n",
              "    <tr>\n",
              "      <th>min</th>\n",
              "      <td>14.000000</td>\n",
              "      <td>1.000000</td>\n",
              "      <td>9.0</td>\n",
              "      <td>0.000000</td>\n",
              "      <td>1.000000</td>\n",
              "      <td>0.000000</td>\n",
              "      <td>2005.000000</td>\n",
              "      <td>0.000000</td>\n",
              "    </tr>\n",
              "    <tr>\n",
              "      <th>25%</th>\n",
              "      <td>24267.000000</td>\n",
              "      <td>74.750000</td>\n",
              "      <td>9.0</td>\n",
              "      <td>24.000000</td>\n",
              "      <td>2.000000</td>\n",
              "      <td>0.000000</td>\n",
              "      <td>2009.000000</td>\n",
              "      <td>0.000000</td>\n",
              "    </tr>\n",
              "    <tr>\n",
              "      <th>50%</th>\n",
              "      <td>25329.500000</td>\n",
              "      <td>879.500000</td>\n",
              "      <td>9.0</td>\n",
              "      <td>112.000000</td>\n",
              "      <td>3.000000</td>\n",
              "      <td>1.000000</td>\n",
              "      <td>2012.500000</td>\n",
              "      <td>0.092810</td>\n",
              "    </tr>\n",
              "    <tr>\n",
              "      <th>75%</th>\n",
              "      <td>26627.750000</td>\n",
              "      <td>963.250000</td>\n",
              "      <td>9.0</td>\n",
              "      <td>272.000000</td>\n",
              "      <td>5.000000</td>\n",
              "      <td>3.000000</td>\n",
              "      <td>2016.000000</td>\n",
              "      <td>0.271491</td>\n",
              "    </tr>\n",
              "    <tr>\n",
              "      <th>max</th>\n",
              "      <td>27541.000000</td>\n",
              "      <td>1036.000000</td>\n",
              "      <td>9.0</td>\n",
              "      <td>650.000000</td>\n",
              "      <td>11.000000</td>\n",
              "      <td>13.000000</td>\n",
              "      <td>2020.000000</td>\n",
              "      <td>0.645833</td>\n",
              "    </tr>\n",
              "  </tbody>\n",
              "</table>\n",
              "</div>"
            ],
            "text/plain": [
              "       constructorStandingsId       raceId  ...         year  points_norm\n",
              "count              292.000000   292.000000  ...   292.000000   292.000000\n",
              "mean             20727.017123   631.287671  ...  2012.400685     0.156002\n",
              "std               9595.577586   414.507739  ...     4.444434     0.170455\n",
              "min                 14.000000     1.000000  ...  2005.000000     0.000000\n",
              "25%              24267.000000    74.750000  ...  2009.000000     0.000000\n",
              "50%              25329.500000   879.500000  ...  2012.500000     0.092810\n",
              "75%              26627.750000   963.250000  ...  2016.000000     0.271491\n",
              "max              27541.000000  1036.000000  ...  2020.000000     0.645833\n",
              "\n",
              "[8 rows x 8 columns]"
            ]
          },
          "metadata": {
            "tags": []
          },
          "execution_count": 43
        }
      ]
    },
    {
      "cell_type": "code",
      "metadata": {
        "id": "fJdXxNSAVhho",
        "outputId": "a5be77b4-068f-4ae6-fe18-922158614c0a",
        "colab": {
          "base_uri": "https://localhost:8080/",
          "height": 384
        }
      },
      "source": [
        "rbr_standings[\"year\"] = rbr_standings.raceId.map(races.set_index(\"raceId\")[\"year\"])\n",
        "rbr_year_2019 = rbr_standings[rbr_standings.year == 2019]\n",
        "rbr_by_year = rbr_standings.groupby([\"year\"]).agg(\"max\")[\"points_norm\"]\n",
        "plt.plot(np.arange(2004, 2020,1) ,rbr_by_year, label=\"Red Bull\")"
      ],
      "execution_count": 44,
      "outputs": [
        {
          "output_type": "stream",
          "text": [
            "/usr/local/lib/python3.6/dist-packages/ipykernel_launcher.py:1: SettingWithCopyWarning: \n",
            "A value is trying to be set on a copy of a slice from a DataFrame.\n",
            "Try using .loc[row_indexer,col_indexer] = value instead\n",
            "\n",
            "See the caveats in the documentation: https://pandas.pydata.org/pandas-docs/stable/user_guide/indexing.html#returning-a-view-versus-a-copy\n",
            "  \"\"\"Entry point for launching an IPython kernel.\n"
          ],
          "name": "stderr"
        },
        {
          "output_type": "execute_result",
          "data": {
            "text/plain": [
              "[<matplotlib.lines.Line2D at 0x7fb61d230668>]"
            ]
          },
          "metadata": {
            "tags": []
          },
          "execution_count": 44
        },
        {
          "output_type": "display_data",
          "data": {
            "image/png": "[encoded data removed]",
            "text/plain": [
              "<Figure size 432x288 with 1 Axes>"
            ]
          },
          "metadata": {
            "tags": [],
            "needs_background": "light"
          }
        }
      ]
    },
    {
      "cell_type": "markdown",
      "metadata": {
        "id": "Z0sgBG6pnMpE"
      },
      "source": [
        "Análise de pontuação da mercedes ao longo dos anos"
      ]
    },
    {
      "cell_type": "code",
      "metadata": {
        "id": "3BtUyaF_nRvM",
        "outputId": "c68f3bba-fd33-44c0-bc35-570165dffad8",
        "colab": {
          "base_uri": "https://localhost:8080/",
          "height": 204
        }
      },
      "source": [
        "mercedes_standings=constructor_standings[constructor_standings.constructorId == 131]\n",
        "mercedes_standings.sort_values(by=\"raceId\")\n",
        "mercedes_standings.head()"
      ],
      "execution_count": 45,
      "outputs": [
        {
          "output_type": "execute_result",
          "data": {
            "text/html": [
              "<div>\n",
              "<style scoped>\n",
              "    .dataframe tbody tr th:only-of-type {\n",
              "        vertical-align: middle;\n",
              "    }\n",
              "\n",
              "    .dataframe tbody tr th {\n",
              "        vertical-align: top;\n",
              "    }\n",
              "\n",
              "    .dataframe thead th {\n",
              "        text-align: right;\n",
              "    }\n",
              "</style>\n",
              "<table border=\"1\" class=\"dataframe\">\n",
              "  <thead>\n",
              "    <tr style=\"text-align: right;\">\n",
              "      <th></th>\n",
              "      <th>constructorStandingsId</th>\n",
              "      <th>raceId</th>\n",
              "      <th>constructorId</th>\n",
              "      <th>points</th>\n",
              "      <th>position</th>\n",
              "      <th>positionText</th>\n",
              "      <th>wins</th>\n",
              "      <th>year</th>\n",
              "      <th>points_norm</th>\n",
              "      <th>name</th>\n",
              "    </tr>\n",
              "  </thead>\n",
              "  <tbody>\n",
              "    <tr>\n",
              "      <th>10130</th>\n",
              "      <td>24235</td>\n",
              "      <td>337</td>\n",
              "      <td>131</td>\n",
              "      <td>18.0</td>\n",
              "      <td>3</td>\n",
              "      <td>3</td>\n",
              "      <td>0</td>\n",
              "      <td>2010</td>\n",
              "      <td>0.131679</td>\n",
              "      <td>Mercedes</td>\n",
              "    </tr>\n",
              "    <tr>\n",
              "      <th>10142</th>\n",
              "      <td>24247</td>\n",
              "      <td>338</td>\n",
              "      <td>131</td>\n",
              "      <td>29.0</td>\n",
              "      <td>3</td>\n",
              "      <td>3</td>\n",
              "      <td>0</td>\n",
              "      <td>2010</td>\n",
              "      <td>0.049618</td>\n",
              "      <td>Mercedes</td>\n",
              "    </tr>\n",
              "    <tr>\n",
              "      <th>10154</th>\n",
              "      <td>24259</td>\n",
              "      <td>339</td>\n",
              "      <td>131</td>\n",
              "      <td>44.0</td>\n",
              "      <td>4</td>\n",
              "      <td>4</td>\n",
              "      <td>0</td>\n",
              "      <td>2010</td>\n",
              "      <td>0.000000</td>\n",
              "      <td>Mercedes</td>\n",
              "    </tr>\n",
              "    <tr>\n",
              "      <th>10166</th>\n",
              "      <td>24271</td>\n",
              "      <td>340</td>\n",
              "      <td>131</td>\n",
              "      <td>60.0</td>\n",
              "      <td>4</td>\n",
              "      <td>4</td>\n",
              "      <td>0</td>\n",
              "      <td>2010</td>\n",
              "      <td>0.027451</td>\n",
              "      <td>Mercedes</td>\n",
              "    </tr>\n",
              "    <tr>\n",
              "      <th>10178</th>\n",
              "      <td>24283</td>\n",
              "      <td>341</td>\n",
              "      <td>131</td>\n",
              "      <td>72.0</td>\n",
              "      <td>4</td>\n",
              "      <td>4</td>\n",
              "      <td>0</td>\n",
              "      <td>2010</td>\n",
              "      <td>0.070588</td>\n",
              "      <td>Mercedes</td>\n",
              "    </tr>\n",
              "  </tbody>\n",
              "</table>\n",
              "</div>"
            ],
            "text/plain": [
              "       constructorStandingsId  raceId  ...  points_norm      name\n",
              "10130                   24235     337  ...     0.131679  Mercedes\n",
              "10142                   24247     338  ...     0.049618  Mercedes\n",
              "10154                   24259     339  ...     0.000000  Mercedes\n",
              "10166                   24271     340  ...     0.027451  Mercedes\n",
              "10178                   24283     341  ...     0.070588  Mercedes\n",
              "\n",
              "[5 rows x 10 columns]"
            ]
          },
          "metadata": {
            "tags": []
          },
          "execution_count": 45
        }
      ]
    },
    {
      "cell_type": "code",
      "metadata": {
        "id": "nNEYW8ajoD6f",
        "outputId": "7f947f80-f91f-47c5-856f-fe64165be81b",
        "colab": {
          "base_uri": "https://localhost:8080/",
          "height": 398
        }
      },
      "source": [
        "mercedes_standings[\"year\"] = mercedes_standings.raceId.map(races.set_index(\"raceId\")[\"year\"])\n",
        "mercedes_by_year = mercedes_standings.groupby([\"year\"]).agg(\"max\")[\"points_norm\"]\n",
        "mercedes_by_year.plot()"
      ],
      "execution_count": 46,
      "outputs": [
        {
          "output_type": "stream",
          "text": [
            "/usr/local/lib/python3.6/dist-packages/ipykernel_launcher.py:1: SettingWithCopyWarning: \n",
            "A value is trying to be set on a copy of a slice from a DataFrame.\n",
            "Try using .loc[row_indexer,col_indexer] = value instead\n",
            "\n",
            "See the caveats in the documentation: https://pandas.pydata.org/pandas-docs/stable/user_guide/indexing.html#returning-a-view-versus-a-copy\n",
            "  \"\"\"Entry point for launching an IPython kernel.\n"
          ],
          "name": "stderr"
        },
        {
          "output_type": "execute_result",
          "data": {
            "text/plain": [
              "<matplotlib.axes._subplots.AxesSubplot at 0x7fb61d1e9470>"
            ]
          },
          "metadata": {
            "tags": []
          },
          "execution_count": 46
        },
        {
          "output_type": "display_data",
          "data": {
            "image/png": "[encoded data removed]",
            "text/plain": [
              "<Figure size 432x288 with 1 Axes>"
            ]
          },
          "metadata": {
            "tags": [],
            "needs_background": "light"
          }
        }
      ]
    },
    {
      "cell_type": "markdown",
      "metadata": {
        "id": "FhH4qDgpov-e"
      },
      "source": [
        "Comparação de pontuação das 3 equipes mais influentes da categoria nos últimos anos\n"
      ]
    },
    {
      "cell_type": "code",
      "metadata": {
        "id": "CY_EqxJcovev",
        "outputId": "c6334ed4-b5e4-44b0-94a8-f52d64b43fba",
        "colab": {
          "base_uri": "https://localhost:8080/",
          "height": 265
        }
      },
      "source": [
        "plt.plot(np.arange(2004, 2020,1) ,rbr_by_year, label=\"Red Bull\")\n",
        "plt.plot(np.arange(2004, 2020,1),ferrari_from_2005, label=\"Ferrari\")\n",
        "plt.plot(np.arange(2009, 2020, 1), mercedes_by_year, label=\"Mercedes\")\n",
        "plt.legend()\n",
        "plt.show()"
      ],
      "execution_count": 47,
      "outputs": [
        {
          "output_type": "display_data",
          "data": {
            "image/png": "[encoded data removed]",
            "text/plain": [
              "<Figure size 432x288 with 1 Axes>"
            ]
          },
          "metadata": {
            "tags": [],
            "needs_background": "light"
          }
        }
      ]
    },
    {
      "cell_type": "markdown",
      "metadata": {
        "id": "_KWTnTNBqJeW"
      },
      "source": [
        "Análise de desempenho das equipes a partir do ano 2000\n"
      ]
    },
    {
      "cell_type": "code",
      "metadata": {
        "id": "8yq0OyYsqJM8",
        "outputId": "8b389ead-45fc-4498-8f9d-4d903fef68c3",
        "colab": {
          "base_uri": "https://localhost:8080/",
          "height": 204
        }
      },
      "source": [
        "constructor_standings[\"year\"] = constructor_standings.raceId.map(races.set_index(\"raceId\")[\"year\"])\n",
        "constructor_standings[\"name\"] = constructor_standings.constructorId.map(constructors.set_index(\"constructorId\")[\"name\"])\n",
        "constructor_standings_from_2000 = constructor_standings[constructor_standings[\"year\"] >= 2000]\n",
        "constructor_standings_from_2000.head()"
      ],
      "execution_count": 37,
      "outputs": [
        {
          "output_type": "execute_result",
          "data": {
            "text/html": [
              "<div>\n",
              "<style scoped>\n",
              "    .dataframe tbody tr th:only-of-type {\n",
              "        vertical-align: middle;\n",
              "    }\n",
              "\n",
              "    .dataframe tbody tr th {\n",
              "        vertical-align: top;\n",
              "    }\n",
              "\n",
              "    .dataframe thead th {\n",
              "        text-align: right;\n",
              "    }\n",
              "</style>\n",
              "<table border=\"1\" class=\"dataframe\">\n",
              "  <thead>\n",
              "    <tr style=\"text-align: right;\">\n",
              "      <th></th>\n",
              "      <th>constructorStandingsId</th>\n",
              "      <th>raceId</th>\n",
              "      <th>constructorId</th>\n",
              "      <th>points</th>\n",
              "      <th>position</th>\n",
              "      <th>positionText</th>\n",
              "      <th>wins</th>\n",
              "      <th>year</th>\n",
              "      <th>points_norm</th>\n",
              "      <th>name</th>\n",
              "    </tr>\n",
              "  </thead>\n",
              "  <tbody>\n",
              "    <tr>\n",
              "      <th>0</th>\n",
              "      <td>1</td>\n",
              "      <td>18</td>\n",
              "      <td>1</td>\n",
              "      <td>14.0</td>\n",
              "      <td>1</td>\n",
              "      <td>1</td>\n",
              "      <td>1</td>\n",
              "      <td>2008</td>\n",
              "      <td>0.0</td>\n",
              "      <td>McLaren</td>\n",
              "    </tr>\n",
              "    <tr>\n",
              "      <th>1</th>\n",
              "      <td>2</td>\n",
              "      <td>18</td>\n",
              "      <td>2</td>\n",
              "      <td>8.0</td>\n",
              "      <td>3</td>\n",
              "      <td>3</td>\n",
              "      <td>0</td>\n",
              "      <td>2008</td>\n",
              "      <td>0.0</td>\n",
              "      <td>BMW Sauber</td>\n",
              "    </tr>\n",
              "    <tr>\n",
              "      <th>2</th>\n",
              "      <td>3</td>\n",
              "      <td>18</td>\n",
              "      <td>3</td>\n",
              "      <td>9.0</td>\n",
              "      <td>2</td>\n",
              "      <td>2</td>\n",
              "      <td>0</td>\n",
              "      <td>2008</td>\n",
              "      <td>0.0</td>\n",
              "      <td>Williams</td>\n",
              "    </tr>\n",
              "    <tr>\n",
              "      <th>3</th>\n",
              "      <td>4</td>\n",
              "      <td>18</td>\n",
              "      <td>4</td>\n",
              "      <td>5.0</td>\n",
              "      <td>4</td>\n",
              "      <td>4</td>\n",
              "      <td>0</td>\n",
              "      <td>2008</td>\n",
              "      <td>0.0</td>\n",
              "      <td>Renault</td>\n",
              "    </tr>\n",
              "    <tr>\n",
              "      <th>4</th>\n",
              "      <td>5</td>\n",
              "      <td>18</td>\n",
              "      <td>5</td>\n",
              "      <td>2.0</td>\n",
              "      <td>5</td>\n",
              "      <td>5</td>\n",
              "      <td>0</td>\n",
              "      <td>2008</td>\n",
              "      <td>0.0</td>\n",
              "      <td>Toro Rosso</td>\n",
              "    </tr>\n",
              "  </tbody>\n",
              "</table>\n",
              "</div>"
            ],
            "text/plain": [
              "   constructorStandingsId  raceId  constructorId  ...  year  points_norm        name\n",
              "0                       1      18              1  ...  2008          0.0     McLaren\n",
              "1                       2      18              2  ...  2008          0.0  BMW Sauber\n",
              "2                       3      18              3  ...  2008          0.0    Williams\n",
              "3                       4      18              4  ...  2008          0.0     Renault\n",
              "4                       5      18              5  ...  2008          0.0  Toro Rosso\n",
              "\n",
              "[5 rows x 10 columns]"
            ]
          },
          "metadata": {
            "tags": []
          },
          "execution_count": 37
        }
      ]
    },
    {
      "cell_type": "code",
      "metadata": {
        "id": "saXaWivZuMMd"
      },
      "source": [
        "names = constructor_standings_from_2000[\"name\"].unique().tolist()"
      ],
      "execution_count": 38,
      "outputs": []
    },
    {
      "cell_type": "code",
      "metadata": {
        "id": "waP2fpqRyD3y"
      },
      "source": [
        "for name in names:\n",
        "  x = constructor_standings_from_2000.loc[constructor_standings_from_2000[\"name\"] == name]\n",
        "  x = x.groupby([\"year\"]).agg(\"max\")\n",
        "  plt.plot(x.index, x.points_norm, label=name)\n",
        "\n",
        "fig = plt.gcf()\n",
        "fig.set_size_inches(20, 15)\n",
        "plt.legend()\n",
        "plt.show()"
      ],
      "execution_count": null,
      "outputs": []
    },
    {
      "cell_type": "markdown",
      "metadata": {
        "id": "Engy74ygNqxt"
      },
      "source": [
        "# Pilotos\n"
      ]
    },
    {
      "cell_type": "code",
      "metadata": {
        "id": "eHz86PlIPmY9"
      },
      "source": [
        "drivers.head()"
      ],
      "execution_count": null,
      "outputs": []
    },
    {
      "cell_type": "markdown",
      "metadata": {
        "id": "bvVArtrDQeR7"
      },
      "source": [
        "Descrição dos tipos <br>\n",
        "nationality: categórico nominal\n"
      ]
    },
    {
      "cell_type": "code",
      "metadata": {
        "id": "ANKZ9HIWQo3j"
      },
      "source": [
        "drivers[\"nationality\"] = drivers[\"nationality\"].astype(\"category\")"
      ],
      "execution_count": null,
      "outputs": []
    },
    {
      "cell_type": "code",
      "metadata": {
        "id": "B290mtzPQwVO"
      },
      "source": [
        "drivers[\"nationality\"].cat.categories"
      ],
      "execution_count": null,
      "outputs": []
    },
    {
      "cell_type": "code",
      "metadata": {
        "id": "lkfDrj83QLUQ"
      },
      "source": [
        "drivers.dtypes"
      ],
      "execution_count": null,
      "outputs": []
    },
    {
      "cell_type": "markdown",
      "metadata": {
        "id": "SZte1SXCnatS"
      },
      "source": [
        "Quantidade de pilotos por nacionalidade"
      ]
    },
    {
      "cell_type": "code",
      "metadata": {
        "id": "ZINi5uvknaOw"
      },
      "source": [
        "drivers.groupby(['nationality']).agg(['count'])['driverRef'].sort_values(by='count', ascending=False).plot.barh()"
      ],
      "execution_count": null,
      "outputs": []
    },
    {
      "cell_type": "markdown",
      "metadata": {
        "id": "syF_h7wMQ8zf"
      },
      "source": [
        "# Pilotos Standings\n"
      ]
    },
    {
      "cell_type": "markdown",
      "metadata": {
        "id": "9zkOUL_tRHLO"
      },
      "source": [
        "Descrção dos dados </br>\n",
        "positionText: categórico nomimal"
      ]
    },
    {
      "cell_type": "code",
      "metadata": {
        "id": "vacpm-MwRAFK"
      },
      "source": [
        "driver_standings.head()"
      ],
      "execution_count": null,
      "outputs": []
    },
    {
      "cell_type": "code",
      "metadata": {
        "id": "SVUchNPRRKR_"
      },
      "source": [
        "driver_standings[\"positionText\"] = driver_standings[\"positionText\"].astype(\"category\") "
      ],
      "execution_count": null,
      "outputs": []
    },
    {
      "cell_type": "code",
      "metadata": {
        "id": "CMwDI5YdRXSQ"
      },
      "source": [
        "driver_standings[\"positionText\"].cat.categories"
      ],
      "execution_count": null,
      "outputs": []
    },
    {
      "cell_type": "code",
      "metadata": {
        "id": "dcXldMPPRTiX"
      },
      "source": [
        "driver_standings.dtypes"
      ],
      "execution_count": null,
      "outputs": []
    },
    {
      "cell_type": "markdown",
      "metadata": {
        "id": "RuqU-vZfoMYa"
      },
      "source": [
        "Gráfico de desempenho dos pilotos com pelo menos uma vitória a partir do ano 2000"
      ]
    },
    {
      "cell_type": "code",
      "metadata": {
        "id": "f8nkAbn6oMLf"
      },
      "source": [
        "driver_standings[\"year\"] = driver_standings.raceId.map(races.set_index(\"raceId\")[\"year\"])\n",
        "driver_standings[\"name\"] = driver_standings.driverId.map(drivers.set_index(\"driverId\")[\"driverRef\"])\n",
        "driver_standings_from_2000 = driver_standings[driver_standings[\"year\"] >= 2000]\n",
        "driver_standings_from_2000.head()"
      ],
      "execution_count": null,
      "outputs": []
    },
    {
      "cell_type": "code",
      "metadata": {
        "id": "0Y4Btko5osDR"
      },
      "source": [
        "names = driver_standings_from_2000[\"name\"].unique().tolist()"
      ],
      "execution_count": null,
      "outputs": []
    },
    {
      "cell_type": "code",
      "metadata": {
        "id": "1qOshXcgowVx"
      },
      "source": [
        "for name in names:\n",
        "  x = driver_standings_from_2000.loc[driver_standings_from_2000[\"name\"] == name]\n",
        "  x = x.groupby([\"year\"]).agg(\"max\")\n",
        "  if x.wins.max() > 0: \n",
        "    plt.plot(x.index, x.points, label=name)\n",
        "\n",
        "fig = plt.gcf()\n",
        "fig.set_size_inches(20, 15)\n",
        "plt.legend()\n",
        "plt.show()"
      ],
      "execution_count": null,
      "outputs": []
    },
    {
      "cell_type": "code",
      "metadata": {
        "id": "PatlFGGRrA96"
      },
      "source": [
        "for name in names:\n",
        "  x = driver_standings_from_2000.loc[driver_standings_from_2000[\"name\"] == name]\n",
        "  x = x.groupby([\"year\"]).agg(\"max\")\n",
        "  if x.wins.max() > 0: \n",
        "    plt.plot(x.index, x.wins, label=name)\n",
        "\n",
        "fig = plt.gcf()\n",
        "fig.set_size_inches(20, 15)\n",
        "plt.legend()\n",
        "plt.show()"
      ],
      "execution_count": null,
      "outputs": []
    },
    {
      "cell_type": "code",
      "metadata": {
        "id": "4EmEhY7h6dWP"
      },
      "source": [
        "driver_standings.set_index(\"points\", inplace=True, drop=False)\n"
      ],
      "execution_count": null,
      "outputs": []
    },
    {
      "cell_type": "markdown",
      "metadata": {
        "id": "z57Jbv__rdWd"
      },
      "source": [
        "A pergunta vem a tona, o numero de vitórias é relevante para ser campeão do mundial de pilotos? (A partir de 2010)\n"
      ]
    },
    {
      "cell_type": "code",
      "metadata": {
        "id": "STBh6MamAEFB"
      },
      "source": [
        "years = driver_standings[\"year\"].unique()\n",
        "years"
      ],
      "execution_count": null,
      "outputs": []
    },
    {
      "cell_type": "code",
      "metadata": {
        "id": "BsXb0b5791k-"
      },
      "source": [
        "champions_by_year = [driver_standings[driver_standings[\"year\"] == year].groupby(\"driverId\").agg(\"max\").sort_values(by=\"points\", ascending=False).iloc[0] for year in years] \n",
        "champions_by_year = pd.DataFrame(champions_by_year)\n",
        "champions_by_year.sort_values(by=\"year\")"
      ],
      "execution_count": null,
      "outputs": []
    },
    {
      "cell_type": "code",
      "metadata": {
        "id": "DGfOlWmoFx00"
      },
      "source": [
        "champions_by_year[\"win_percentage\"] = champions_by_year[\"wins\"] / champions_by_year.year.map(races.groupby(\"year\").agg(\"count\")[\"raceId\"])\n",
        "champions_by_year = champions_by_year[champions_by_year[\"year\"] > 2009]\n",
        "champions_by_year.sort_values(by=\"year\")"
      ],
      "execution_count": null,
      "outputs": []
    },
    {
      "cell_type": "code",
      "metadata": {
        "id": "CeUJTeeXSdLW"
      },
      "source": [
        "correlations = champions_by_year.corr(method=\"spearman\")\n",
        "correlations[\"win_percentage\"][\"points\"] ** 2"
      ],
      "execution_count": null,
      "outputs": []
    },
    {
      "cell_type": "markdown",
      "metadata": {
        "id": "HzhIrH6PRiQV"
      },
      "source": [
        "# Tempos de Voltas"
      ]
    },
    {
      "cell_type": "code",
      "metadata": {
        "id": "kKH5pq9wRlxx"
      },
      "source": [
        "lap_times.head()"
      ],
      "execution_count": null,
      "outputs": []
    },
    {
      "cell_type": "code",
      "metadata": {
        "id": "GJvoIpt7Rq2_"
      },
      "source": [
        "lap_times.dtypes"
      ],
      "execution_count": null,
      "outputs": []
    },
    {
      "cell_type": "markdown",
      "metadata": {
        "id": "OPnORTblRx2H"
      },
      "source": [
        "#Pit Stops\n"
      ]
    },
    {
      "cell_type": "code",
      "metadata": {
        "id": "kwuAq6o_R1MB"
      },
      "source": [
        "pit_stops.head()"
      ],
      "execution_count": null,
      "outputs": []
    },
    {
      "cell_type": "code",
      "metadata": {
        "id": "ae65_XCSR3Pf"
      },
      "source": [
        "pit_stops.dtypes"
      ],
      "execution_count": null,
      "outputs": []
    },
    {
      "cell_type": "markdown",
      "metadata": {
        "id": "eweBsr_SR-z5"
      },
      "source": [
        "# Qualificação\n"
      ]
    },
    {
      "cell_type": "code",
      "metadata": {
        "id": "-ayh69pESDeB"
      },
      "source": [
        "qualifying.head()"
      ],
      "execution_count": null,
      "outputs": []
    },
    {
      "cell_type": "code",
      "metadata": {
        "id": "slxHLdITSFpz"
      },
      "source": [
        "qualifying.dtypes"
      ],
      "execution_count": null,
      "outputs": []
    },
    {
      "cell_type": "markdown",
      "metadata": {
        "id": "nmTIj1o7SLVj"
      },
      "source": [
        "# Corridas"
      ]
    },
    {
      "cell_type": "markdown",
      "metadata": {
        "id": "TRRwWdePSVNO"
      },
      "source": [
        "Descrição dos dados </br>\n",
        "name: categórico nominal\n"
      ]
    },
    {
      "cell_type": "code",
      "metadata": {
        "id": "WxS-v2-uSOF5"
      },
      "source": [
        "races.head()"
      ],
      "execution_count": null,
      "outputs": []
    },
    {
      "cell_type": "code",
      "metadata": {
        "id": "FMkGL4TCSZrp"
      },
      "source": [
        "races[\"name\"] = races[\"name\"].astype(\"category\")"
      ],
      "execution_count": null,
      "outputs": []
    },
    {
      "cell_type": "code",
      "metadata": {
        "id": "bGD5DJtCSjGh"
      },
      "source": [
        "races[\"name\"].cat.categories"
      ],
      "execution_count": null,
      "outputs": []
    },
    {
      "cell_type": "code",
      "metadata": {
        "id": "lh_TG5MUSSF1"
      },
      "source": [
        "races.dtypes"
      ],
      "execution_count": null,
      "outputs": []
    },
    {
      "cell_type": "markdown",
      "metadata": {
        "id": "y64yvyykSxwA"
      },
      "source": [
        "#Resultados\n"
      ]
    },
    {
      "cell_type": "code",
      "metadata": {
        "id": "fT45tbZ-SzMx"
      },
      "source": [
        "results.head()"
      ],
      "execution_count": null,
      "outputs": []
    },
    {
      "cell_type": "code",
      "metadata": {
        "id": "EXLhRyZSTBi6"
      },
      "source": [
        "results[\"positionText\"] = results[\"positionText\"].astype(\"category\")"
      ],
      "execution_count": null,
      "outputs": []
    },
    {
      "cell_type": "code",
      "metadata": {
        "id": "zTT3UdCFS5qk"
      },
      "source": [
        "results.dtypes"
      ],
      "execution_count": null,
      "outputs": []
    },
    {
      "cell_type": "code",
      "metadata": {
        "id": "ZirmBE6HTKnM"
      },
      "source": [
        "results[\"positionText\"].cat.categories"
      ],
      "execution_count": null,
      "outputs": []
    },
    {
      "cell_type": "markdown",
      "metadata": {
        "id": "z1pZRqY4TXP-"
      },
      "source": [
        "#Temporadas\n"
      ]
    },
    {
      "cell_type": "code",
      "metadata": {
        "id": "Oo0EQSKoTaV6"
      },
      "source": [
        "seasons.head()"
      ],
      "execution_count": null,
      "outputs": []
    }
  ]
}