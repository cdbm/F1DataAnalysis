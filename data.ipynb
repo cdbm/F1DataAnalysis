{
  "nbformat": 4,
  "nbformat_minor": 0,
  "metadata": {
    "colab": {
      "name": "Untitled4.ipynb",
      "provenance": [],
      "authorship_tag": "ABX9TyPcuqiw6Kgv1ANe92QgS6cr",
      "include_colab_link": true
    },
    "kernelspec": {
      "name": "python3",
      "display_name": "Python 3"
    }
  },
  "cells": [
    {
      "cell_type": "markdown",
      "metadata": {
        "id": "view-in-github",
        "colab_type": "text"
      },
      "source": [
        "<a href=\"https://colab.research.google.com/github/cdbm/F1DataAnalysis/blob/master/data.ipynb\" target=\"_parent\"><img src=\"https://colab.research.google.com/assets/colab-badge.svg\" alt=\"Open In Colab\"/></a>"
      ]
    },
    {
      "cell_type": "code",
      "metadata": {
        "id": "owvYjtIHfc-A",
        "colab_type": "code",
        "colab": {}
      },
      "source": [
        "import numpy as np\n",
        "import pandas as pd"
      ],
      "execution_count": 2,
      "outputs": []
    },
    {
      "cell_type": "code",
      "metadata": {
        "id": "DKZdk6iehRAh",
        "colab_type": "code",
        "colab": {}
      },
      "source": [
        "circuits=pd.read_csv(\"https://raw.githubusercontent.com/cdbm/F1DataAnalysis/master/f1_data/circuits.csv\")\n",
        "constructor_results=pd.read_csv(\"https://raw.githubusercontent.com/cdbm/F1DataAnalysis/master/f1_data/constructor_results.csv\")\n",
        "constructor_standings=pd.read_csv(\"https://raw.githubusercontent.com/cdbm/F1DataAnalysis/master/f1_data/constructor_standings.csv\")\n",
        "constructors=pd.read_csv(\"https://raw.githubusercontent.com/cdbm/F1DataAnalysis/master/f1_data/constructors.csv\")\n",
        "driver_standings=pd.read_csv(\"https://raw.githubusercontent.com/cdbm/F1DataAnalysis/master/f1_data/driver_standings.csv\")\n",
        "drivers=pd.read_csv(\"https://raw.githubusercontent.com/cdbm/F1DataAnalysis/master/f1_data/drivers.csv\")\n",
        "lap_times=pd.read_csv(\"https://raw.githubusercontent.com/cdbm/F1DataAnalysis/master/f1_data/lap_times.csv\")\n",
        "pit_stops=pd.read_csv(\"https://raw.githubusercontent.com/cdbm/F1DataAnalysis/master/f1_data/pit_stops.csv\")\n",
        "qualifying=pd.read_csv(\"https://raw.githubusercontent.com/cdbm/F1DataAnalysis/master/f1_data/qualifying.csv\")\n",
        "races=pd.read_csv(\"https://raw.githubusercontent.com/cdbm/F1DataAnalysis/master/f1_data/races.csv\")\n",
        "results=pd.read_csv(\"https://raw.githubusercontent.com/cdbm/F1DataAnalysis/master/f1_data/results.csv\")\n",
        "seasons=pd.read_csv(\"https://raw.githubusercontent.com/cdbm/F1DataAnalysis/master/f1_data/seasons.csv\")\n",
        "status=pd.read_csv(\"https://raw.githubusercontent.com/cdbm/F1DataAnalysis/master/f1_data/status.csv\")\n",
        "\n"
      ],
      "execution_count": 3,
      "outputs": []
    },
    {
      "cell_type": "markdown",
      "metadata": {
        "id": "yaJpE1CPp6SB",
        "colab_type": "text"
      },
      "source": [
        "# Circuitos\n"
      ]
    },
    {
      "cell_type": "code",
      "metadata": {
        "id": "edI21gqimQZH",
        "colab_type": "code",
        "colab": {}
      },
      "source": [
        "circuits['circuitRef'] = circuits['circuitRef'].astype('category')\n",
        "circuits['name'] = circuits['name'].astype('category')\n",
        "circuits['location'] = circuits['location'].astype('category')\n",
        "circuits['country'] = circuits['country'].astype('category')\n",
        "circuits['alt'] = circuits['alt'].astype('category')"
      ],
      "execution_count": null,
      "outputs": []
    },
    {
      "cell_type": "markdown",
      "metadata": {
        "id": "Ti7BBmtFjstM",
        "colab_type": "text"
      },
      "source": [
        "Descrição dos dados:\n",
        "\n",
        "circuitId: categórico nominal <br/>\n",
        "circuitRef: categórico nominal<br/>\n",
        "name: categórico nominal<br/>\n",
        "location: categórico nominal<br/>\n",
        "country: categórico nominal<br/>\n",
        "lat: Contínuo<br/>\n",
        "lng: Contínuo<br/>\n",
        "alt: categórico nominal </br>\n",
        "url: categórico nominal <br/>\n"
      ]
    },
    {
      "cell_type": "code",
      "metadata": {
        "id": "_nYMtCHpjY1h",
        "colab_type": "code",
        "colab": {}
      },
      "source": [
        "circuits.head()"
      ],
      "execution_count": null,
      "outputs": []
    },
    {
      "cell_type": "code",
      "metadata": {
        "id": "vwSfU2BDi1wU",
        "colab_type": "code",
        "colab": {}
      },
      "source": [
        "circuits.dtypes"
      ],
      "execution_count": null,
      "outputs": []
    },
    {
      "cell_type": "code",
      "metadata": {
        "id": "7RwDsoUmnPJN",
        "colab_type": "code",
        "colab": {}
      },
      "source": [
        "circuits['country'].cat.categories"
      ],
      "execution_count": null,
      "outputs": []
    },
    {
      "cell_type": "markdown",
      "metadata": {
        "id": "bTQARDpToWv3",
        "colab_type": "text"
      },
      "source": [
        "Localização dos ciruitos no mapa\n"
      ]
    },
    {
      "cell_type": "code",
      "metadata": {
        "id": "Yv09TrKhjc_G",
        "colab_type": "code",
        "colab": {}
      },
      "source": [
        "circuits.plot.scatter(x='lng', y='lat')"
      ],
      "execution_count": null,
      "outputs": []
    },
    {
      "cell_type": "markdown",
      "metadata": {
        "id": "5oF0hL3yocmx",
        "colab_type": "text"
      },
      "source": [
        "Países com mais circuitos"
      ]
    },
    {
      "cell_type": "code",
      "metadata": {
        "id": "n_T-L4GioPrQ",
        "colab_type": "code",
        "colab": {}
      },
      "source": [
        "circuits.groupby(['country']).agg(['count'])['circuitId'].sort_values(by='count', ascending=False)"
      ],
      "execution_count": null,
      "outputs": []
    },
    {
      "cell_type": "markdown",
      "metadata": {
        "id": "fYX-kBcnqpMN",
        "colab_type": "text"
      },
      "source": [
        "# Construtores\n"
      ]
    },
    {
      "cell_type": "code",
      "metadata": {
        "id": "TaV48MjwoDW1",
        "colab_type": "code",
        "colab": {}
      },
      "source": [
        "constructors['constructorRef'] = constructors['constructorRef'].astype('category')\n",
        "constructors['name'] = constructors['name'].astype('category')\n",
        "constructors['nationality'] = constructors['nationality'].astype('category')"
      ],
      "execution_count": null,
      "outputs": []
    },
    {
      "cell_type": "markdown",
      "metadata": {
        "id": "gC_d5cabocwV",
        "colab_type": "text"
      },
      "source": [
        "Descrição dos dados:\n",
        "\n",
        "constructorId: categórico nominal <br/>\n",
        "name: categórico nominal<br/>\n",
        "nationality: categórico nominal<br/>\n",
        "\n"
      ]
    },
    {
      "cell_type": "code",
      "metadata": {
        "id": "ibArff5enwB1",
        "colab_type": "code",
        "colab": {}
      },
      "source": [
        "constructors.dtypes"
      ],
      "execution_count": null,
      "outputs": []
    },
    {
      "cell_type": "code",
      "metadata": {
        "id": "-Q8iQTISnq8L",
        "colab_type": "code",
        "colab": {}
      },
      "source": [
        "constructors.head()"
      ],
      "execution_count": null,
      "outputs": []
    },
    {
      "cell_type": "markdown",
      "metadata": {
        "id": "EMxBCoGQsj1d",
        "colab_type": "text"
      },
      "source": [
        "Países com mais equipes"
      ]
    },
    {
      "cell_type": "code",
      "metadata": {
        "id": "Zj6QxVvFqwG7",
        "colab_type": "code",
        "colab": {}
      },
      "source": [
        "constructors.groupby(['nationality']).agg(['count'])['constructorRef'].sort_values(by='count', ascending=False)"
      ],
      "execution_count": null,
      "outputs": []
    },
    {
      "cell_type": "markdown",
      "metadata": {
        "id": "nQU5Q-ADx9Dj",
        "colab_type": "text"
      },
      "source": [
        "# Desempenho Construtores"
      ]
    },
    {
      "cell_type": "code",
      "metadata": {
        "id": "uELMjT0Lsw_8",
        "colab_type": "code",
        "colab": {}
      },
      "source": [
        "constructor_standings['positionText'] = constructor_standings['positionText'].astype('category')"
      ],
      "execution_count": null,
      "outputs": []
    },
    {
      "cell_type": "code",
      "metadata": {
        "id": "yYtHML3EsqGm",
        "colab_type": "code",
        "colab": {
          "base_uri": "https://localhost:8080/",
          "height": 164
        },
        "outputId": "92a020ab-ab31-4f7c-b440-facbfa0dd7da"
      },
      "source": [
        "constructor_standings.dtypes"
      ],
      "execution_count": 36,
      "outputs": [
        {
          "output_type": "execute_result",
          "data": {
            "text/plain": [
              "constructorStandingsId       int64\n",
              "raceId                       int64\n",
              "constructorId                int64\n",
              "points                     float64\n",
              "position                     int64\n",
              "positionText              category\n",
              "wins                         int64\n",
              "dtype: object"
            ]
          },
          "metadata": {
            "tags": []
          },
          "execution_count": 36
        }
      ]
    },
    {
      "cell_type": "code",
      "metadata": {
        "id": "Kz1NDIjRyPxm",
        "colab_type": "code",
        "colab": {
          "base_uri": "https://localhost:8080/",
          "height": 206
        },
        "outputId": "952a3196-0dfb-43c2-decc-436ee6124f6c"
      },
      "source": [
        "constructor_standings.head()"
      ],
      "execution_count": 32,
      "outputs": [
        {
          "output_type": "execute_result",
          "data": {
            "text/html": [
              "<div>\n",
              "<style scoped>\n",
              "    .dataframe tbody tr th:only-of-type {\n",
              "        vertical-align: middle;\n",
              "    }\n",
              "\n",
              "    .dataframe tbody tr th {\n",
              "        vertical-align: top;\n",
              "    }\n",
              "\n",
              "    .dataframe thead th {\n",
              "        text-align: right;\n",
              "    }\n",
              "</style>\n",
              "<table border=\"1\" class=\"dataframe\">\n",
              "  <thead>\n",
              "    <tr style=\"text-align: right;\">\n",
              "      <th></th>\n",
              "      <th>constructorStandingsId</th>\n",
              "      <th>raceId</th>\n",
              "      <th>constructorId</th>\n",
              "      <th>points</th>\n",
              "      <th>position</th>\n",
              "      <th>positionText</th>\n",
              "      <th>wins</th>\n",
              "    </tr>\n",
              "  </thead>\n",
              "  <tbody>\n",
              "    <tr>\n",
              "      <th>0</th>\n",
              "      <td>1</td>\n",
              "      <td>18</td>\n",
              "      <td>1</td>\n",
              "      <td>14.0</td>\n",
              "      <td>1</td>\n",
              "      <td>1</td>\n",
              "      <td>1</td>\n",
              "    </tr>\n",
              "    <tr>\n",
              "      <th>1</th>\n",
              "      <td>2</td>\n",
              "      <td>18</td>\n",
              "      <td>2</td>\n",
              "      <td>8.0</td>\n",
              "      <td>3</td>\n",
              "      <td>3</td>\n",
              "      <td>0</td>\n",
              "    </tr>\n",
              "    <tr>\n",
              "      <th>2</th>\n",
              "      <td>3</td>\n",
              "      <td>18</td>\n",
              "      <td>3</td>\n",
              "      <td>9.0</td>\n",
              "      <td>2</td>\n",
              "      <td>2</td>\n",
              "      <td>0</td>\n",
              "    </tr>\n",
              "    <tr>\n",
              "      <th>3</th>\n",
              "      <td>4</td>\n",
              "      <td>18</td>\n",
              "      <td>4</td>\n",
              "      <td>5.0</td>\n",
              "      <td>4</td>\n",
              "      <td>4</td>\n",
              "      <td>0</td>\n",
              "    </tr>\n",
              "    <tr>\n",
              "      <th>4</th>\n",
              "      <td>5</td>\n",
              "      <td>18</td>\n",
              "      <td>5</td>\n",
              "      <td>2.0</td>\n",
              "      <td>5</td>\n",
              "      <td>5</td>\n",
              "      <td>0</td>\n",
              "    </tr>\n",
              "  </tbody>\n",
              "</table>\n",
              "</div>"
            ],
            "text/plain": [
              "   constructorStandingsId  raceId  constructorId  ...  position  positionText wins\n",
              "0                       1      18              1  ...         1             1    1\n",
              "1                       2      18              2  ...         3             3    0\n",
              "2                       3      18              3  ...         2             2    0\n",
              "3                       4      18              4  ...         4             4    0\n",
              "4                       5      18              5  ...         5             5    0\n",
              "\n",
              "[5 rows x 7 columns]"
            ]
          },
          "metadata": {
            "tags": []
          },
          "execution_count": 32
        }
      ]
    },
    {
      "cell_type": "code",
      "metadata": {
        "id": "KCrtZHQUsw-E",
        "colab_type": "code",
        "colab": {
          "base_uri": "https://localhost:8080/",
          "height": 424
        },
        "outputId": "3858d29d-37b8-474e-9ae4-c3cce84c9156"
      },
      "source": [
        "constructor_standings['year'] = races['year']\n",
        "ferrari_standings=constructor_standings[constructor_standings.constructorId == 6]\n",
        "ferrari_standings.sort_values(by=\"year\")"
      ],
      "execution_count": 43,
      "outputs": [
        {
          "output_type": "execute_result",
          "data": {
            "text/html": [
              "<div>\n",
              "<style scoped>\n",
              "    .dataframe tbody tr th:only-of-type {\n",
              "        vertical-align: middle;\n",
              "    }\n",
              "\n",
              "    .dataframe tbody tr th {\n",
              "        vertical-align: top;\n",
              "    }\n",
              "\n",
              "    .dataframe thead th {\n",
              "        text-align: right;\n",
              "    }\n",
              "</style>\n",
              "<table border=\"1\" class=\"dataframe\">\n",
              "  <thead>\n",
              "    <tr style=\"text-align: right;\">\n",
              "      <th></th>\n",
              "      <th>constructorStandingsId</th>\n",
              "      <th>raceId</th>\n",
              "      <th>constructorId</th>\n",
              "      <th>points</th>\n",
              "      <th>position</th>\n",
              "      <th>positionText</th>\n",
              "      <th>wins</th>\n",
              "      <th>year</th>\n",
              "    </tr>\n",
              "  </thead>\n",
              "  <tbody>\n",
              "    <tr>\n",
              "      <th>838</th>\n",
              "      <td>6237</td>\n",
              "      <td>100</td>\n",
              "      <td>6</td>\n",
              "      <td>174.0</td>\n",
              "      <td>1</td>\n",
              "      <td>1</td>\n",
              "      <td>10</td>\n",
              "      <td>1950.0</td>\n",
              "    </tr>\n",
              "    <tr>\n",
              "      <th>828</th>\n",
              "      <td>6227</td>\n",
              "      <td>99</td>\n",
              "      <td>6</td>\n",
              "      <td>158.0</td>\n",
              "      <td>1</td>\n",
              "      <td>1</td>\n",
              "      <td>9</td>\n",
              "      <td>1951.0</td>\n",
              "    </tr>\n",
              "    <tr>\n",
              "      <th>818</th>\n",
              "      <td>6217</td>\n",
              "      <td>98</td>\n",
              "      <td>6</td>\n",
              "      <td>142.0</td>\n",
              "      <td>1</td>\n",
              "      <td>1</td>\n",
              "      <td>8</td>\n",
              "      <td>1952.0</td>\n",
              "    </tr>\n",
              "    <tr>\n",
              "      <th>808</th>\n",
              "      <td>6207</td>\n",
              "      <td>97</td>\n",
              "      <td>6</td>\n",
              "      <td>124.0</td>\n",
              "      <td>1</td>\n",
              "      <td>1</td>\n",
              "      <td>7</td>\n",
              "      <td>1953.0</td>\n",
              "    </tr>\n",
              "    <tr>\n",
              "      <th>798</th>\n",
              "      <td>6197</td>\n",
              "      <td>96</td>\n",
              "      <td>6</td>\n",
              "      <td>106.0</td>\n",
              "      <td>1</td>\n",
              "      <td>1</td>\n",
              "      <td>6</td>\n",
              "      <td>1954.0</td>\n",
              "    </tr>\n",
              "    <tr>\n",
              "      <th>...</th>\n",
              "      <td>...</td>\n",
              "      <td>...</td>\n",
              "      <td>...</td>\n",
              "      <td>...</td>\n",
              "      <td>...</td>\n",
              "      <td>...</td>\n",
              "      <td>...</td>\n",
              "      <td>...</td>\n",
              "    </tr>\n",
              "    <tr>\n",
              "      <th>12327</th>\n",
              "      <td>27474</td>\n",
              "      <td>1031</td>\n",
              "      <td>6</td>\n",
              "      <td>19.0</td>\n",
              "      <td>3</td>\n",
              "      <td>3</td>\n",
              "      <td>0</td>\n",
              "      <td>NaN</td>\n",
              "    </tr>\n",
              "    <tr>\n",
              "      <th>12337</th>\n",
              "      <td>27484</td>\n",
              "      <td>1032</td>\n",
              "      <td>6</td>\n",
              "      <td>19.0</td>\n",
              "      <td>5</td>\n",
              "      <td>5</td>\n",
              "      <td>0</td>\n",
              "      <td>NaN</td>\n",
              "    </tr>\n",
              "    <tr>\n",
              "      <th>12351</th>\n",
              "      <td>27504</td>\n",
              "      <td>1033</td>\n",
              "      <td>6</td>\n",
              "      <td>27.0</td>\n",
              "      <td>5</td>\n",
              "      <td>5</td>\n",
              "      <td>0</td>\n",
              "      <td>NaN</td>\n",
              "    </tr>\n",
              "    <tr>\n",
              "      <th>12357</th>\n",
              "      <td>27524</td>\n",
              "      <td>1035</td>\n",
              "      <td>6</td>\n",
              "      <td>55.0</td>\n",
              "      <td>3</td>\n",
              "      <td>3</td>\n",
              "      <td>0</td>\n",
              "      <td>NaN</td>\n",
              "    </tr>\n",
              "    <tr>\n",
              "      <th>12367</th>\n",
              "      <td>27534</td>\n",
              "      <td>1036</td>\n",
              "      <td>6</td>\n",
              "      <td>61.0</td>\n",
              "      <td>5</td>\n",
              "      <td>5</td>\n",
              "      <td>0</td>\n",
              "      <td>NaN</td>\n",
              "    </tr>\n",
              "  </tbody>\n",
              "</table>\n",
              "<p>957 rows × 8 columns</p>\n",
              "</div>"
            ],
            "text/plain": [
              "       constructorStandingsId  raceId  constructorId  ...  positionText  wins    year\n",
              "838                      6237     100              6  ...             1    10  1950.0\n",
              "828                      6227      99              6  ...             1     9  1951.0\n",
              "818                      6217      98              6  ...             1     8  1952.0\n",
              "808                      6207      97              6  ...             1     7  1953.0\n",
              "798                      6197      96              6  ...             1     6  1954.0\n",
              "...                       ...     ...            ...  ...           ...   ...     ...\n",
              "12327                   27474    1031              6  ...             3     0     NaN\n",
              "12337                   27484    1032              6  ...             5     0     NaN\n",
              "12351                   27504    1033              6  ...             5     0     NaN\n",
              "12357                   27524    1035              6  ...             3     0     NaN\n",
              "12367                   27534    1036              6  ...             5     0     NaN\n",
              "\n",
              "[957 rows x 8 columns]"
            ]
          },
          "metadata": {
            "tags": []
          },
          "execution_count": 43
        }
      ]
    },
    {
      "cell_type": "code",
      "metadata": {
        "id": "DIBr78DG0Izd",
        "colab_type": "code",
        "colab": {
          "base_uri": "https://localhost:8080/",
          "height": 424
        },
        "outputId": "2cfbf20f-d015-4b8b-f3b9-e9f9f5785ab9"
      },
      "source": [
        "races.sort_values(by='year')"
      ],
      "execution_count": 45,
      "outputs": [
        {
          "output_type": "execute_result",
          "data": {
            "text/html": [
              "<div>\n",
              "<style scoped>\n",
              "    .dataframe tbody tr th:only-of-type {\n",
              "        vertical-align: middle;\n",
              "    }\n",
              "\n",
              "    .dataframe tbody tr th {\n",
              "        vertical-align: top;\n",
              "    }\n",
              "\n",
              "    .dataframe thead th {\n",
              "        text-align: right;\n",
              "    }\n",
              "</style>\n",
              "<table border=\"1\" class=\"dataframe\">\n",
              "  <thead>\n",
              "    <tr style=\"text-align: right;\">\n",
              "      <th></th>\n",
              "      <th>raceId</th>\n",
              "      <th>year</th>\n",
              "      <th>round</th>\n",
              "      <th>circuitId</th>\n",
              "      <th>name</th>\n",
              "      <th>date</th>\n",
              "      <th>time</th>\n",
              "      <th>url</th>\n",
              "    </tr>\n",
              "  </thead>\n",
              "  <tbody>\n",
              "    <tr>\n",
              "      <th>838</th>\n",
              "      <td>839</td>\n",
              "      <td>1950</td>\n",
              "      <td>7</td>\n",
              "      <td>14</td>\n",
              "      <td>Italian Grand Prix</td>\n",
              "      <td>1950-09-03</td>\n",
              "      <td>\\N</td>\n",
              "      <td>http://en.wikipedia.org/wiki/1950_Italian_Gran...</td>\n",
              "    </tr>\n",
              "    <tr>\n",
              "      <th>837</th>\n",
              "      <td>838</td>\n",
              "      <td>1950</td>\n",
              "      <td>6</td>\n",
              "      <td>55</td>\n",
              "      <td>French Grand Prix</td>\n",
              "      <td>1950-07-02</td>\n",
              "      <td>\\N</td>\n",
              "      <td>http://en.wikipedia.org/wiki/1950_French_Grand...</td>\n",
              "    </tr>\n",
              "    <tr>\n",
              "      <th>836</th>\n",
              "      <td>837</td>\n",
              "      <td>1950</td>\n",
              "      <td>5</td>\n",
              "      <td>13</td>\n",
              "      <td>Belgian Grand Prix</td>\n",
              "      <td>1950-06-18</td>\n",
              "      <td>\\N</td>\n",
              "      <td>http://en.wikipedia.org/wiki/1950_Belgian_Gran...</td>\n",
              "    </tr>\n",
              "    <tr>\n",
              "      <th>835</th>\n",
              "      <td>836</td>\n",
              "      <td>1950</td>\n",
              "      <td>4</td>\n",
              "      <td>66</td>\n",
              "      <td>Swiss Grand Prix</td>\n",
              "      <td>1950-06-04</td>\n",
              "      <td>\\N</td>\n",
              "      <td>http://en.wikipedia.org/wiki/1950_Swiss_Grand_...</td>\n",
              "    </tr>\n",
              "    <tr>\n",
              "      <th>834</th>\n",
              "      <td>835</td>\n",
              "      <td>1950</td>\n",
              "      <td>3</td>\n",
              "      <td>19</td>\n",
              "      <td>Indianapolis 500</td>\n",
              "      <td>1950-05-30</td>\n",
              "      <td>\\N</td>\n",
              "      <td>http://en.wikipedia.org/wiki/1950_Indianapolis...</td>\n",
              "    </tr>\n",
              "    <tr>\n",
              "      <th>...</th>\n",
              "      <td>...</td>\n",
              "      <td>...</td>\n",
              "      <td>...</td>\n",
              "      <td>...</td>\n",
              "      <td>...</td>\n",
              "      <td>...</td>\n",
              "      <td>...</td>\n",
              "      <td>...</td>\n",
              "    </tr>\n",
              "    <tr>\n",
              "      <th>1020</th>\n",
              "      <td>1033</td>\n",
              "      <td>2020</td>\n",
              "      <td>3</td>\n",
              "      <td>11</td>\n",
              "      <td>Hungarian Grand Prix</td>\n",
              "      <td>2020-07-19</td>\n",
              "      <td>13:10:00</td>\n",
              "      <td>https://en.wikipedia.org/wiki/2020_Hungarian_G...</td>\n",
              "    </tr>\n",
              "    <tr>\n",
              "      <th>1018</th>\n",
              "      <td>1031</td>\n",
              "      <td>2020</td>\n",
              "      <td>1</td>\n",
              "      <td>70</td>\n",
              "      <td>Austrian Grand Prix</td>\n",
              "      <td>2020-07-05</td>\n",
              "      <td>13:10:00</td>\n",
              "      <td>https://en.wikipedia.org/wiki/2020_Austrian_Gr...</td>\n",
              "    </tr>\n",
              "    <tr>\n",
              "      <th>1029</th>\n",
              "      <td>1042</td>\n",
              "      <td>2020</td>\n",
              "      <td>12</td>\n",
              "      <td>75</td>\n",
              "      <td>Portuguese Grand Prix</td>\n",
              "      <td>2020-10-25</td>\n",
              "      <td>12:10:00</td>\n",
              "      <td>https://en.wikipedia.org/wiki/2020_Portuguese_...</td>\n",
              "    </tr>\n",
              "    <tr>\n",
              "      <th>1023</th>\n",
              "      <td>1036</td>\n",
              "      <td>2020</td>\n",
              "      <td>6</td>\n",
              "      <td>4</td>\n",
              "      <td>Spanish Grand Prix</td>\n",
              "      <td>2020-08-16</td>\n",
              "      <td>13:10:00</td>\n",
              "      <td>https://en.wikipedia.org/wiki/2020_Spanish_Gra...</td>\n",
              "    </tr>\n",
              "    <tr>\n",
              "      <th>1030</th>\n",
              "      <td>1043</td>\n",
              "      <td>2020</td>\n",
              "      <td>13</td>\n",
              "      <td>21</td>\n",
              "      <td>Emilia Romagna Grand Prix</td>\n",
              "      <td>2020-11-01</td>\n",
              "      <td>13:10:00</td>\n",
              "      <td>https://en.wikipedia.org/wiki/2020_Emilia_Roma...</td>\n",
              "    </tr>\n",
              "  </tbody>\n",
              "</table>\n",
              "<p>1031 rows × 8 columns</p>\n",
              "</div>"
            ],
            "text/plain": [
              "      raceId  year  ...      time                                                url\n",
              "838      839  1950  ...        \\N  http://en.wikipedia.org/wiki/1950_Italian_Gran...\n",
              "837      838  1950  ...        \\N  http://en.wikipedia.org/wiki/1950_French_Grand...\n",
              "836      837  1950  ...        \\N  http://en.wikipedia.org/wiki/1950_Belgian_Gran...\n",
              "835      836  1950  ...        \\N  http://en.wikipedia.org/wiki/1950_Swiss_Grand_...\n",
              "834      835  1950  ...        \\N  http://en.wikipedia.org/wiki/1950_Indianapolis...\n",
              "...      ...   ...  ...       ...                                                ...\n",
              "1020    1033  2020  ...  13:10:00  https://en.wikipedia.org/wiki/2020_Hungarian_G...\n",
              "1018    1031  2020  ...  13:10:00  https://en.wikipedia.org/wiki/2020_Austrian_Gr...\n",
              "1029    1042  2020  ...  12:10:00  https://en.wikipedia.org/wiki/2020_Portuguese_...\n",
              "1023    1036  2020  ...  13:10:00  https://en.wikipedia.org/wiki/2020_Spanish_Gra...\n",
              "1030    1043  2020  ...  13:10:00  https://en.wikipedia.org/wiki/2020_Emilia_Roma...\n",
              "\n",
              "[1031 rows x 8 columns]"
            ]
          },
          "metadata": {
            "tags": []
          },
          "execution_count": 45
        }
      ]
    }
  ]
}