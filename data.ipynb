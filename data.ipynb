{
  "nbformat": 4,
  "nbformat_minor": 0,
  "metadata": {
    "colab": {
      "name": "Untitled4.ipynb",
      "provenance": [],
      "authorship_tag": "ABX9TyNHiCJiBKQBg/oLyyrNfLiW",
      "include_colab_link": true
    },
    "kernelspec": {
      "name": "python3",
      "display_name": "Python 3"
    }
  },
  "cells": [
    {
      "cell_type": "markdown",
      "metadata": {
        "id": "view-in-github",
        "colab_type": "text"
      },
      "source": [
        "<a href=\"https://colab.research.google.com/github/cdbm/F1DataAnalysis/blob/master/data.ipynb\" target=\"_parent\"><img src=\"https://colab.research.google.com/assets/colab-badge.svg\" alt=\"Open In Colab\"/></a>"
      ]
    },
    {
      "cell_type": "code",
      "metadata": {
        "id": "owvYjtIHfc-A"
      },
      "source": [
        "import numpy as np\n",
        "import pandas as pd\n",
        "import matplotlib.pyplot as plt"
      ],
      "execution_count": 1,
      "outputs": []
    },
    {
      "cell_type": "code",
      "metadata": {
        "id": "DKZdk6iehRAh"
      },
      "source": [
        "circuits=pd.read_csv(\"https://raw.githubusercontent.com/cdbm/F1DataAnalysis/master/f1_data/circuits.csv\")\n",
        "constructor_results=pd.read_csv(\"https://raw.githubusercontent.com/cdbm/F1DataAnalysis/master/f1_data/constructor_results.csv\")\n",
        "constructor_standings=pd.read_csv(\"https://raw.githubusercontent.com/cdbm/F1DataAnalysis/master/f1_data/constructor_standings.csv\")\n",
        "constructors=pd.read_csv(\"https://raw.githubusercontent.com/cdbm/F1DataAnalysis/master/f1_data/constructors.csv\")\n",
        "driver_standings=pd.read_csv(\"https://raw.githubusercontent.com/cdbm/F1DataAnalysis/master/f1_data/driver_standings.csv\")\n",
        "drivers=pd.read_csv(\"https://raw.githubusercontent.com/cdbm/F1DataAnalysis/master/f1_data/drivers.csv\")\n",
        "lap_times=pd.read_csv(\"https://raw.githubusercontent.com/cdbm/F1DataAnalysis/master/f1_data/lap_times.csv\")\n",
        "pit_stops=pd.read_csv(\"https://raw.githubusercontent.com/cdbm/F1DataAnalysis/master/f1_data/pit_stops.csv\")\n",
        "qualifying=pd.read_csv(\"https://raw.githubusercontent.com/cdbm/F1DataAnalysis/master/f1_data/qualifying.csv\")\n",
        "races=pd.read_csv(\"https://raw.githubusercontent.com/cdbm/F1DataAnalysis/master/f1_data/races.csv\")\n",
        "results=pd.read_csv(\"https://raw.githubusercontent.com/cdbm/F1DataAnalysis/master/f1_data/results.csv\")\n",
        "seasons=pd.read_csv(\"https://raw.githubusercontent.com/cdbm/F1DataAnalysis/master/f1_data/seasons.csv\")\n",
        "status=pd.read_csv(\"https://raw.githubusercontent.com/cdbm/F1DataAnalysis/master/f1_data/status.csv\")\n",
        "\n"
      ],
      "execution_count": 2,
      "outputs": []
    },
    {
      "cell_type": "markdown",
      "metadata": {
        "id": "HwyikeMnkMea"
      },
      "source": [
        "# Normalização do sistema de pontuação\n",
        "ao longo dos anos o modo como se pontuavam as corridas mudou, essa mudança entre temporadas pode mexer com resultados futuros, então é necessário uma padronização no sistema de pontuação."
      ]
    },
    {
      "cell_type": "code",
      "metadata": {
        "id": "shA25xBAknvG"
      },
      "source": [
        "constructor_standings[\"year\"] = constructor_standings.raceId.map(races.set_index(\"raceId\")[\"year\"])"
      ],
      "execution_count": 3,
      "outputs": []
    },
    {
      "cell_type": "code",
      "metadata": {
        "id": "Xv9L9_5zlvvJ",
        "outputId": "c65faaf5-db6c-414c-b915-6a5dc1f911a2",
        "colab": {
          "base_uri": "https://localhost:8080/",
          "height": 697
        }
      },
      "source": [
        "from_58_to_59 = constructor_standings[(constructor_standings[\"year\"] >= 1958) & (constructor_standings[\"year\"] <= 1959)]\n",
        "from_58_to_59[\"points_norm\"] = (from_58_to_59['points'] - from_58_to_59['points'].min()) / (from_58_to_59['points'].max() - from_58_to_59['points'].min())\n",
        "\n",
        "times_60 = constructor_standings[constructor_standings[\"year\"] == 1960]\n",
        "times_60[\"points_norm\"] = (times_60['points'] - times_60['points'].min()) / (times_60['points'].max() - times_60['points'].min())\n",
        "\n",
        "from_61_to_90 = constructor_standings[(constructor_standings[\"year\"] >= 1961) & (constructor_standings[\"year\"] <= 1990)]\n",
        "from_61_to_90[\"points_norm\"] = (from_61_to_90['points'] - from_61_to_90['points'].min()) / (from_61_to_90['points'].max() - from_61_to_90['points'].min())\n",
        "\n",
        "from_91_to_02 = constructor_standings[(constructor_standings[\"year\"] >= 1991) & (constructor_standings[\"year\"] <= 2002)]\n",
        "from_91_to_02[\"points_norm\"] = (from_91_to_02['points'] - from_91_to_02['points'].min()) / (from_91_to_02['points'].max() - from_91_to_02['points'].min())\n",
        "\n",
        "from_03_to_09 = constructor_standings[(constructor_standings[\"year\"] >= 2003) & (constructor_standings[\"year\"] <= 2009)]\n",
        "from_03_to_09[\"points_norm\"] = (from_03_to_09['points'] - from_03_to_09['points'].min()) / (from_03_to_09['points'].max() - from_03_to_09['points'].min())\n",
        "\n",
        "from_10_to_18 = constructor_standings[(constructor_standings[\"year\"] >= 2010) & (constructor_standings[\"year\"] <= 2018)]\n",
        "from_10_to_18[\"points_norm\"] = (from_10_to_18['points'] - from_10_to_18['points'].min()) / (from_10_to_18['points'].max() - from_10_to_18['points'].min())\n",
        "\n",
        "from_2019 = constructor_standings[constructor_standings[\"year\"] >= 2019]\n",
        "from_2019[\"points_norm\"] = (from_2019['points'] - from_2019['points'].min()) / (from_2019['points'].max() - from_2019['points'].min())\n",
        "\n",
        "\n",
        "points_norms = pd.concat([from_58_to_59, times_60, from_61_to_90, from_91_to_02, from_03_to_09, from_10_to_18, from_2019])\n",
        "points_norms = points_norms.sort_values(by=\"constructorStandingsId\")\n",
        "constructor_standings[\"points_norm\"] = points_norms[\"points_norm\"]"
      ],
      "execution_count": 4,
      "outputs": [
        {
          "output_type": "stream",
          "text": [
            "/usr/local/lib/python3.6/dist-packages/ipykernel_launcher.py:2: SettingWithCopyWarning: \n",
            "A value is trying to be set on a copy of a slice from a DataFrame.\n",
            "Try using .loc[row_indexer,col_indexer] = value instead\n",
            "\n",
            "See the caveats in the documentation: https://pandas.pydata.org/pandas-docs/stable/user_guide/indexing.html#returning-a-view-versus-a-copy\n",
            "  \n",
            "/usr/local/lib/python3.6/dist-packages/ipykernel_launcher.py:5: SettingWithCopyWarning: \n",
            "A value is trying to be set on a copy of a slice from a DataFrame.\n",
            "Try using .loc[row_indexer,col_indexer] = value instead\n",
            "\n",
            "See the caveats in the documentation: https://pandas.pydata.org/pandas-docs/stable/user_guide/indexing.html#returning-a-view-versus-a-copy\n",
            "  \"\"\"\n",
            "/usr/local/lib/python3.6/dist-packages/ipykernel_launcher.py:8: SettingWithCopyWarning: \n",
            "A value is trying to be set on a copy of a slice from a DataFrame.\n",
            "Try using .loc[row_indexer,col_indexer] = value instead\n",
            "\n",
            "See the caveats in the documentation: https://pandas.pydata.org/pandas-docs/stable/user_guide/indexing.html#returning-a-view-versus-a-copy\n",
            "  \n",
            "/usr/local/lib/python3.6/dist-packages/ipykernel_launcher.py:11: SettingWithCopyWarning: \n",
            "A value is trying to be set on a copy of a slice from a DataFrame.\n",
            "Try using .loc[row_indexer,col_indexer] = value instead\n",
            "\n",
            "See the caveats in the documentation: https://pandas.pydata.org/pandas-docs/stable/user_guide/indexing.html#returning-a-view-versus-a-copy\n",
            "  # This is added back by InteractiveShellApp.init_path()\n",
            "/usr/local/lib/python3.6/dist-packages/ipykernel_launcher.py:14: SettingWithCopyWarning: \n",
            "A value is trying to be set on a copy of a slice from a DataFrame.\n",
            "Try using .loc[row_indexer,col_indexer] = value instead\n",
            "\n",
            "See the caveats in the documentation: https://pandas.pydata.org/pandas-docs/stable/user_guide/indexing.html#returning-a-view-versus-a-copy\n",
            "  \n",
            "/usr/local/lib/python3.6/dist-packages/ipykernel_launcher.py:17: SettingWithCopyWarning: \n",
            "A value is trying to be set on a copy of a slice from a DataFrame.\n",
            "Try using .loc[row_indexer,col_indexer] = value instead\n",
            "\n",
            "See the caveats in the documentation: https://pandas.pydata.org/pandas-docs/stable/user_guide/indexing.html#returning-a-view-versus-a-copy\n",
            "/usr/local/lib/python3.6/dist-packages/ipykernel_launcher.py:20: SettingWithCopyWarning: \n",
            "A value is trying to be set on a copy of a slice from a DataFrame.\n",
            "Try using .loc[row_indexer,col_indexer] = value instead\n",
            "\n",
            "See the caveats in the documentation: https://pandas.pydata.org/pandas-docs/stable/user_guide/indexing.html#returning-a-view-versus-a-copy\n"
          ],
          "name": "stderr"
        }
      ]
    },
    {
      "cell_type": "markdown",
      "metadata": {
        "id": "TZObTqJtTXpX"
      },
      "source": [
        "Normalizando as pontuações para pilotos\n"
      ]
    },
    {
      "cell_type": "code",
      "metadata": {
        "id": "ZICFCmoOS6Fk"
      },
      "source": [
        "driver_standings[\"year\"] = driver_standings.raceId.map(races.set_index(\"raceId\")[\"year\"])"
      ],
      "execution_count": 5,
      "outputs": []
    },
    {
      "cell_type": "code",
      "metadata": {
        "id": "EsB3pGcrTNyR",
        "outputId": "a21d31d0-bbc5-4930-f3fa-c5ae80dc38ee",
        "colab": {
          "base_uri": "https://localhost:8080/",
          "height": 697
        }
      },
      "source": [
        "drivers_from_50_to_59 = driver_standings[(driver_standings[\"year\"] >= 1950) & (driver_standings[\"year\"] <= 1959)]\n",
        "drivers_from_50_to_59[\"points_norm\"] = (drivers_from_50_to_59['points'] - drivers_from_50_to_59['points'].min()) / (drivers_from_50_to_59['points'].max() - drivers_from_50_to_59['points'].min())\n",
        "\n",
        "drivers_times_60 = driver_standings[driver_standings[\"year\"] == 1960]\n",
        "drivers_times_60[\"points_norm\"] = (drivers_times_60['points'] - drivers_times_60['points'].min()) / (drivers_times_60['points'].max() - drivers_times_60['points'].min())\n",
        "\n",
        "drivers_from_61_to_90 = driver_standings[(driver_standings[\"year\"] >= 1961) & (driver_standings[\"year\"] <= 1990)]\n",
        "drivers_from_61_to_90[\"points_norm\"] = (drivers_from_61_to_90['points'] - drivers_from_61_to_90['points'].min()) / (drivers_from_61_to_90['points'].max() - drivers_from_61_to_90['points'].min())\n",
        "\n",
        "drivers_from_91_to_02 = driver_standings[(driver_standings[\"year\"] >= 1991) & (driver_standings[\"year\"] <= 2002)]\n",
        "drivers_from_91_to_02[\"points_norm\"] = (drivers_from_91_to_02['points'] - drivers_from_91_to_02['points'].min()) / (drivers_from_91_to_02['points'].max() - drivers_from_91_to_02['points'].min())\n",
        "\n",
        "drivers_from_03_to_09 = driver_standings[(driver_standings[\"year\"] >= 2003) & (driver_standings[\"year\"] <= 2009)]\n",
        "drivers_from_03_to_09[\"points_norm\"] = (drivers_from_03_to_09['points'] - drivers_from_03_to_09['points'].min()) / (drivers_from_03_to_09['points'].max() - drivers_from_03_to_09['points'].min())\n",
        "\n",
        "drivers_from_10_to_18 = driver_standings[(driver_standings[\"year\"] >= 2010) & (driver_standings[\"year\"] <= 2018)]\n",
        "drivers_from_10_to_18[\"points_norm\"] = (drivers_from_10_to_18['points'] - drivers_from_10_to_18['points'].min()) / (drivers_from_10_to_18['points'].max() - drivers_from_10_to_18['points'].min())\n",
        "\n",
        "drivers_from_2019 = driver_standings[driver_standings[\"year\"] >= 2019]\n",
        "drivers_from_2019[\"points_norm\"] = (drivers_from_2019['points'] - drivers_from_2019['points'].min()) / (drivers_from_2019['points'].max() - drivers_from_2019['points'].min())\n",
        "\n",
        "\n",
        "drivers_points_norms = pd.concat([drivers_from_50_to_59, drivers_times_60, drivers_from_61_to_90, drivers_from_91_to_02, drivers_from_03_to_09, drivers_from_10_to_18, drivers_from_2019])\n",
        "drivers_points_norms = drivers_points_norms.sort_values(by=\"driverStandingsId\")\n",
        "driver_standings[\"points_norm\"] = drivers_points_norms[\"points_norm\"]"
      ],
      "execution_count": 6,
      "outputs": [
        {
          "output_type": "stream",
          "text": [
            "/usr/local/lib/python3.6/dist-packages/ipykernel_launcher.py:2: SettingWithCopyWarning: \n",
            "A value is trying to be set on a copy of a slice from a DataFrame.\n",
            "Try using .loc[row_indexer,col_indexer] = value instead\n",
            "\n",
            "See the caveats in the documentation: https://pandas.pydata.org/pandas-docs/stable/user_guide/indexing.html#returning-a-view-versus-a-copy\n",
            "  \n",
            "/usr/local/lib/python3.6/dist-packages/ipykernel_launcher.py:5: SettingWithCopyWarning: \n",
            "A value is trying to be set on a copy of a slice from a DataFrame.\n",
            "Try using .loc[row_indexer,col_indexer] = value instead\n",
            "\n",
            "See the caveats in the documentation: https://pandas.pydata.org/pandas-docs/stable/user_guide/indexing.html#returning-a-view-versus-a-copy\n",
            "  \"\"\"\n",
            "/usr/local/lib/python3.6/dist-packages/ipykernel_launcher.py:8: SettingWithCopyWarning: \n",
            "A value is trying to be set on a copy of a slice from a DataFrame.\n",
            "Try using .loc[row_indexer,col_indexer] = value instead\n",
            "\n",
            "See the caveats in the documentation: https://pandas.pydata.org/pandas-docs/stable/user_guide/indexing.html#returning-a-view-versus-a-copy\n",
            "  \n",
            "/usr/local/lib/python3.6/dist-packages/ipykernel_launcher.py:11: SettingWithCopyWarning: \n",
            "A value is trying to be set on a copy of a slice from a DataFrame.\n",
            "Try using .loc[row_indexer,col_indexer] = value instead\n",
            "\n",
            "See the caveats in the documentation: https://pandas.pydata.org/pandas-docs/stable/user_guide/indexing.html#returning-a-view-versus-a-copy\n",
            "  # This is added back by InteractiveShellApp.init_path()\n",
            "/usr/local/lib/python3.6/dist-packages/ipykernel_launcher.py:14: SettingWithCopyWarning: \n",
            "A value is trying to be set on a copy of a slice from a DataFrame.\n",
            "Try using .loc[row_indexer,col_indexer] = value instead\n",
            "\n",
            "See the caveats in the documentation: https://pandas.pydata.org/pandas-docs/stable/user_guide/indexing.html#returning-a-view-versus-a-copy\n",
            "  \n",
            "/usr/local/lib/python3.6/dist-packages/ipykernel_launcher.py:17: SettingWithCopyWarning: \n",
            "A value is trying to be set on a copy of a slice from a DataFrame.\n",
            "Try using .loc[row_indexer,col_indexer] = value instead\n",
            "\n",
            "See the caveats in the documentation: https://pandas.pydata.org/pandas-docs/stable/user_guide/indexing.html#returning-a-view-versus-a-copy\n",
            "/usr/local/lib/python3.6/dist-packages/ipykernel_launcher.py:20: SettingWithCopyWarning: \n",
            "A value is trying to be set on a copy of a slice from a DataFrame.\n",
            "Try using .loc[row_indexer,col_indexer] = value instead\n",
            "\n",
            "See the caveats in the documentation: https://pandas.pydata.org/pandas-docs/stable/user_guide/indexing.html#returning-a-view-versus-a-copy\n"
          ],
          "name": "stderr"
        }
      ]
    },
    {
      "cell_type": "markdown",
      "metadata": {
        "id": "yaJpE1CPp6SB"
      },
      "source": [
        "# Circuitos\n"
      ]
    },
    {
      "cell_type": "markdown",
      "metadata": {
        "id": "qbQxP_5iknu_"
      },
      "source": [
        "Esse dataset mostra uma descrição breve de todos os circuitos que já sediaram alguma corrida de fórmula 1 \n"
      ]
    },
    {
      "cell_type": "code",
      "metadata": {
        "id": "edI21gqimQZH"
      },
      "source": [
        "circuits['circuitRef'] = circuits['circuitRef'].astype('category')\n",
        "circuits['name'] = circuits['name'].astype('category')\n",
        "circuits['location'] = circuits['location'].astype('category')\n",
        "circuits['country'] = circuits['country'].astype('category')\n",
        "circuits['alt'] = circuits['alt'].astype('category')"
      ],
      "execution_count": 7,
      "outputs": []
    },
    {
      "cell_type": "markdown",
      "metadata": {
        "id": "Ti7BBmtFjstM"
      },
      "source": [
        "Descrição dos dados:\n",
        "\n",
        "circuitId: categórico nominal <br/>\n",
        "circuitRef: categórico nominal<br/>\n",
        "name: categórico nominal<br/>\n",
        "location: categórico nominal<br/>\n",
        "country: categórico nominal<br/>\n",
        "lat: Contínuo<br/>\n",
        "lng: Contínuo<br/>\n",
        "alt: categórico nominal </br>\n",
        "url: categórico nominal <br/>\n"
      ]
    },
    {
      "cell_type": "code",
      "metadata": {
        "id": "_nYMtCHpjY1h",
        "outputId": "31798287-8bc3-4cfc-8bc9-82def7c6be9d",
        "colab": {
          "base_uri": "https://localhost:8080/",
          "height": 0
        }
      },
      "source": [
        "circuits.head()"
      ],
      "execution_count": 8,
      "outputs": [
        {
          "output_type": "execute_result",
          "data": {
            "text/html": [
              "<div>\n",
              "<style scoped>\n",
              "    .dataframe tbody tr th:only-of-type {\n",
              "        vertical-align: middle;\n",
              "    }\n",
              "\n",
              "    .dataframe tbody tr th {\n",
              "        vertical-align: top;\n",
              "    }\n",
              "\n",
              "    .dataframe thead th {\n",
              "        text-align: right;\n",
              "    }\n",
              "</style>\n",
              "<table border=\"1\" class=\"dataframe\">\n",
              "  <thead>\n",
              "    <tr style=\"text-align: right;\">\n",
              "      <th></th>\n",
              "      <th>circuitId</th>\n",
              "      <th>circuitRef</th>\n",
              "      <th>name</th>\n",
              "      <th>location</th>\n",
              "      <th>country</th>\n",
              "      <th>lat</th>\n",
              "      <th>lng</th>\n",
              "      <th>alt</th>\n",
              "      <th>url</th>\n",
              "    </tr>\n",
              "  </thead>\n",
              "  <tbody>\n",
              "    <tr>\n",
              "      <th>0</th>\n",
              "      <td>1</td>\n",
              "      <td>albert_park</td>\n",
              "      <td>Albert Park Grand Prix Circuit</td>\n",
              "      <td>Melbourne</td>\n",
              "      <td>Australia</td>\n",
              "      <td>-37.84970</td>\n",
              "      <td>144.96800</td>\n",
              "      <td>10</td>\n",
              "      <td>http://en.wikipedia.org/wiki/Melbourne_Grand_P...</td>\n",
              "    </tr>\n",
              "    <tr>\n",
              "      <th>1</th>\n",
              "      <td>2</td>\n",
              "      <td>sepang</td>\n",
              "      <td>Sepang International Circuit</td>\n",
              "      <td>Kuala Lumpur</td>\n",
              "      <td>Malaysia</td>\n",
              "      <td>2.76083</td>\n",
              "      <td>101.73800</td>\n",
              "      <td>\\N</td>\n",
              "      <td>http://en.wikipedia.org/wiki/Sepang_Internatio...</td>\n",
              "    </tr>\n",
              "    <tr>\n",
              "      <th>2</th>\n",
              "      <td>3</td>\n",
              "      <td>bahrain</td>\n",
              "      <td>Bahrain International Circuit</td>\n",
              "      <td>Sakhir</td>\n",
              "      <td>Bahrain</td>\n",
              "      <td>26.03250</td>\n",
              "      <td>50.51060</td>\n",
              "      <td>\\N</td>\n",
              "      <td>http://en.wikipedia.org/wiki/Bahrain_Internati...</td>\n",
              "    </tr>\n",
              "    <tr>\n",
              "      <th>3</th>\n",
              "      <td>4</td>\n",
              "      <td>catalunya</td>\n",
              "      <td>Circuit de Barcelona-Catalunya</td>\n",
              "      <td>Montmeló</td>\n",
              "      <td>Spain</td>\n",
              "      <td>41.57000</td>\n",
              "      <td>2.26111</td>\n",
              "      <td>\\N</td>\n",
              "      <td>http://en.wikipedia.org/wiki/Circuit_de_Barcel...</td>\n",
              "    </tr>\n",
              "    <tr>\n",
              "      <th>4</th>\n",
              "      <td>5</td>\n",
              "      <td>istanbul</td>\n",
              "      <td>Istanbul Park</td>\n",
              "      <td>Istanbul</td>\n",
              "      <td>Turkey</td>\n",
              "      <td>40.95170</td>\n",
              "      <td>29.40500</td>\n",
              "      <td>\\N</td>\n",
              "      <td>http://en.wikipedia.org/wiki/Istanbul_Park</td>\n",
              "    </tr>\n",
              "  </tbody>\n",
              "</table>\n",
              "</div>"
            ],
            "text/plain": [
              "   circuitId  ...                                                url\n",
              "0          1  ...  http://en.wikipedia.org/wiki/Melbourne_Grand_P...\n",
              "1          2  ...  http://en.wikipedia.org/wiki/Sepang_Internatio...\n",
              "2          3  ...  http://en.wikipedia.org/wiki/Bahrain_Internati...\n",
              "3          4  ...  http://en.wikipedia.org/wiki/Circuit_de_Barcel...\n",
              "4          5  ...         http://en.wikipedia.org/wiki/Istanbul_Park\n",
              "\n",
              "[5 rows x 9 columns]"
            ]
          },
          "metadata": {
            "tags": []
          },
          "execution_count": 8
        }
      ]
    },
    {
      "cell_type": "code",
      "metadata": {
        "id": "vwSfU2BDi1wU",
        "outputId": "08e14d59-a71f-4919-a070-a8259b023315",
        "colab": {
          "base_uri": "https://localhost:8080/",
          "height": 0
        }
      },
      "source": [
        "circuits.dtypes"
      ],
      "execution_count": 9,
      "outputs": [
        {
          "output_type": "execute_result",
          "data": {
            "text/plain": [
              "circuitId        int64\n",
              "circuitRef    category\n",
              "name          category\n",
              "location      category\n",
              "country       category\n",
              "lat            float64\n",
              "lng            float64\n",
              "alt           category\n",
              "url             object\n",
              "dtype: object"
            ]
          },
          "metadata": {
            "tags": []
          },
          "execution_count": 9
        }
      ]
    },
    {
      "cell_type": "code",
      "metadata": {
        "id": "7RwDsoUmnPJN",
        "outputId": "44918fe2-4e3b-4720-e812-d615cfc783e2",
        "colab": {
          "base_uri": "https://localhost:8080/",
          "height": 0
        }
      },
      "source": [
        "circuits['country'].cat.categories"
      ],
      "execution_count": 10,
      "outputs": [
        {
          "output_type": "execute_result",
          "data": {
            "text/plain": [
              "Index(['Argentina', 'Australia', 'Austria', 'Azerbaijan', 'Bahrain', 'Belgium',\n",
              "       'Brazil', 'Canada', 'China', 'France', 'Germany', 'Hungary', 'India',\n",
              "       'Italy', 'Japan', 'Korea', 'Malaysia', 'Mexico', 'Monaco', 'Morocco',\n",
              "       'Netherlands', 'Portugal', 'Russia', 'Singapore', 'South Africa',\n",
              "       'Spain', 'Sweden', 'Switzerland', 'Turkey', 'UAE', 'UK', 'USA',\n",
              "       'Vietnam'],\n",
              "      dtype='object')"
            ]
          },
          "metadata": {
            "tags": []
          },
          "execution_count": 10
        }
      ]
    },
    {
      "cell_type": "markdown",
      "metadata": {
        "id": "bTQARDpToWv3"
      },
      "source": [
        "Localização dos ciruitos no mapa\n"
      ]
    },
    {
      "cell_type": "code",
      "metadata": {
        "id": "Yv09TrKhjc_G",
        "outputId": "0e6b6945-81cc-41d4-edd4-bdab37a98b7e",
        "colab": {
          "base_uri": "https://localhost:8080/",
          "height": 0
        }
      },
      "source": [
        "circuits.plot.scatter(x='lng', y='lat')"
      ],
      "execution_count": 11,
      "outputs": [
        {
          "output_type": "execute_result",
          "data": {
            "text/plain": [
              "<matplotlib.axes._subplots.AxesSubplot at 0x7f62d17b40b8>"
            ]
          },
          "metadata": {
            "tags": []
          },
          "execution_count": 11
        },
        {
          "output_type": "display_data",
          "data": {
            "image/png": "[encoded data removed]",
            "text/plain": [
              "<Figure size 432x288 with 1 Axes>"
            ]
          },
          "metadata": {
            "tags": [],
            "needs_background": "light"
          }
        }
      ]
    },
    {
      "cell_type": "markdown",
      "metadata": {
        "id": "5oF0hL3yocmx"
      },
      "source": [
        "Países com mais circuitos a sediar uma corrida de fórmula 1\n"
      ]
    },
    {
      "cell_type": "code",
      "metadata": {
        "id": "n_T-L4GioPrQ",
        "outputId": "848827be-6230-499c-f207-2bb97bb403ca",
        "colab": {
          "base_uri": "https://localhost:8080/",
          "height": 0
        }
      },
      "source": [
        "circuits.groupby(['country']).agg(['count'])[\"circuitId\"].sort_values(by='count', ascending=False).plot.barh()"
      ],
      "execution_count": 12,
      "outputs": [
        {
          "output_type": "execute_result",
          "data": {
            "text/plain": [
              "<matplotlib.axes._subplots.AxesSubplot at 0x7f62d122e780>"
            ]
          },
          "metadata": {
            "tags": []
          },
          "execution_count": 12
        },
        {
          "output_type": "display_data",
          "data": {
            "image/png": "[encoded data removed]",
            "text/plain": [
              "<Figure size 432x288 with 1 Axes>"
            ]
          },
          "metadata": {
            "tags": [],
            "needs_background": "light"
          }
        }
      ]
    },
    {
      "cell_type": "markdown",
      "metadata": {
        "id": "fYX-kBcnqpMN"
      },
      "source": [
        "# Construtores\n"
      ]
    },
    {
      "cell_type": "markdown",
      "metadata": {
        "id": "3eTDV2m1kxR1"
      },
      "source": [
        "Esse dataset é reservado para mostrar informações das equipes que correm e correram na categoria.\n"
      ]
    },
    {
      "cell_type": "code",
      "metadata": {
        "id": "TaV48MjwoDW1"
      },
      "source": [
        "constructors['constructorRef'] = constructors['constructorRef'].astype('category')\n",
        "constructors['name'] = constructors['name'].astype('category')\n",
        "constructors['nationality'] = constructors['nationality'].astype('category')"
      ],
      "execution_count": 13,
      "outputs": []
    },
    {
      "cell_type": "markdown",
      "metadata": {
        "id": "gC_d5cabocwV"
      },
      "source": [
        "Descrição dos dados:\n",
        "\n",
        "constructorId: categórico nominal <br/>\n",
        "name: categórico nominal<br/>\n",
        "nationality: categórico nominal<br/>\n",
        "\n"
      ]
    },
    {
      "cell_type": "code",
      "metadata": {
        "id": "ibArff5enwB1",
        "outputId": "44b20241-1182-4786-86ec-5ee9da731c2f",
        "colab": {
          "base_uri": "https://localhost:8080/",
          "height": 119
        }
      },
      "source": [
        "constructors.dtypes"
      ],
      "execution_count": 14,
      "outputs": [
        {
          "output_type": "execute_result",
          "data": {
            "text/plain": [
              "constructorId        int64\n",
              "constructorRef    category\n",
              "name              category\n",
              "nationality       category\n",
              "url                 object\n",
              "dtype: object"
            ]
          },
          "metadata": {
            "tags": []
          },
          "execution_count": 14
        }
      ]
    },
    {
      "cell_type": "markdown",
      "metadata": {
        "id": "EMxBCoGQsj1d"
      },
      "source": [
        "Países com mais equipes <br>\n",
        "A diferença entre as equipes britânicas para o resto se da pelo fato da inglaterra ser o berço da fórmula 1 e além disso varias equipes escolhem a inglaterra como sede pela comodidade."
      ]
    },
    {
      "cell_type": "code",
      "metadata": {
        "id": "Zj6QxVvFqwG7",
        "outputId": "2d3f85d3-993f-4588-f57f-d17da2471efc",
        "colab": {
          "base_uri": "https://localhost:8080/",
          "height": 282
        }
      },
      "source": [
        "constructors.groupby(['nationality']).agg(['count'])['constructorRef'].sort_values(by='count', ascending=False).plot.barh()"
      ],
      "execution_count": 15,
      "outputs": [
        {
          "output_type": "execute_result",
          "data": {
            "text/plain": [
              "<matplotlib.axes._subplots.AxesSubplot at 0x7f62d1158be0>"
            ]
          },
          "metadata": {
            "tags": []
          },
          "execution_count": 15
        },
        {
          "output_type": "display_data",
          "data": {
            "image/png": "[encoded data removed]",
            "text/plain": [
              "<Figure size 432x288 with 1 Axes>"
            ]
          },
          "metadata": {
            "tags": [],
            "needs_background": "light"
          }
        }
      ]
    },
    {
      "cell_type": "markdown",
      "metadata": {
        "id": "KyXIav6zOJBf"
      },
      "source": [
        "# Resultados Construtores\n"
      ]
    },
    {
      "cell_type": "markdown",
      "metadata": {
        "id": "-w2sseX7k60V"
      },
      "source": [
        "Esse dataset mostra os resultados das equipes por corridas, mostrando a pontuação total em cada corrida disputada."
      ]
    },
    {
      "cell_type": "markdown",
      "metadata": {
        "id": "LJIqoxNBPxQj"
      },
      "source": [
        "Descrição dos dados </br>\n",
        "status: categórico binário\n"
      ]
    },
    {
      "cell_type": "code",
      "metadata": {
        "id": "NAjZS3UMN6kT",
        "outputId": "21ab292c-5327-403b-f272-83fe5394b347",
        "colab": {
          "base_uri": "https://localhost:8080/",
          "height": 0
        }
      },
      "source": [
        "constructor_results.head()"
      ],
      "execution_count": 16,
      "outputs": [
        {
          "output_type": "execute_result",
          "data": {
            "text/html": [
              "<div>\n",
              "<style scoped>\n",
              "    .dataframe tbody tr th:only-of-type {\n",
              "        vertical-align: middle;\n",
              "    }\n",
              "\n",
              "    .dataframe tbody tr th {\n",
              "        vertical-align: top;\n",
              "    }\n",
              "\n",
              "    .dataframe thead th {\n",
              "        text-align: right;\n",
              "    }\n",
              "</style>\n",
              "<table border=\"1\" class=\"dataframe\">\n",
              "  <thead>\n",
              "    <tr style=\"text-align: right;\">\n",
              "      <th></th>\n",
              "      <th>constructorResultsId</th>\n",
              "      <th>raceId</th>\n",
              "      <th>constructorId</th>\n",
              "      <th>points</th>\n",
              "      <th>status</th>\n",
              "    </tr>\n",
              "  </thead>\n",
              "  <tbody>\n",
              "    <tr>\n",
              "      <th>0</th>\n",
              "      <td>1</td>\n",
              "      <td>18</td>\n",
              "      <td>1</td>\n",
              "      <td>14.0</td>\n",
              "      <td>\\N</td>\n",
              "    </tr>\n",
              "    <tr>\n",
              "      <th>1</th>\n",
              "      <td>2</td>\n",
              "      <td>18</td>\n",
              "      <td>2</td>\n",
              "      <td>8.0</td>\n",
              "      <td>\\N</td>\n",
              "    </tr>\n",
              "    <tr>\n",
              "      <th>2</th>\n",
              "      <td>3</td>\n",
              "      <td>18</td>\n",
              "      <td>3</td>\n",
              "      <td>9.0</td>\n",
              "      <td>\\N</td>\n",
              "    </tr>\n",
              "    <tr>\n",
              "      <th>3</th>\n",
              "      <td>4</td>\n",
              "      <td>18</td>\n",
              "      <td>4</td>\n",
              "      <td>5.0</td>\n",
              "      <td>\\N</td>\n",
              "    </tr>\n",
              "    <tr>\n",
              "      <th>4</th>\n",
              "      <td>5</td>\n",
              "      <td>18</td>\n",
              "      <td>5</td>\n",
              "      <td>2.0</td>\n",
              "      <td>\\N</td>\n",
              "    </tr>\n",
              "  </tbody>\n",
              "</table>\n",
              "</div>"
            ],
            "text/plain": [
              "   constructorResultsId  raceId  constructorId  points status\n",
              "0                     1      18              1    14.0     \\N\n",
              "1                     2      18              2     8.0     \\N\n",
              "2                     3      18              3     9.0     \\N\n",
              "3                     4      18              4     5.0     \\N\n",
              "4                     5      18              5     2.0     \\N"
            ]
          },
          "metadata": {
            "tags": []
          },
          "execution_count": 16
        }
      ]
    },
    {
      "cell_type": "code",
      "metadata": {
        "id": "LWRkrl5xOUk6",
        "outputId": "b0415bce-833d-4ff4-a655-9f1549064b02",
        "colab": {
          "base_uri": "https://localhost:8080/",
          "height": 0
        }
      },
      "source": [
        "constructor_results.dtypes"
      ],
      "execution_count": 17,
      "outputs": [
        {
          "output_type": "execute_result",
          "data": {
            "text/plain": [
              "constructorResultsId      int64\n",
              "raceId                    int64\n",
              "constructorId             int64\n",
              "points                  float64\n",
              "status                   object\n",
              "dtype: object"
            ]
          },
          "metadata": {
            "tags": []
          },
          "execution_count": 17
        }
      ]
    },
    {
      "cell_type": "code",
      "metadata": {
        "id": "R9fW9MPFOlUX"
      },
      "source": [
        "constructor_results[\"status\"] = constructor_results[\"status\"].astype(\"category\")"
      ],
      "execution_count": 18,
      "outputs": []
    },
    {
      "cell_type": "code",
      "metadata": {
        "id": "j8ounjjlOwfm",
        "outputId": "cde8a6bb-b98d-4001-971a-d60aedaf87c4",
        "colab": {
          "base_uri": "https://localhost:8080/",
          "height": 0
        }
      },
      "source": [
        "constructor_results[\"status\"].cat.categories"
      ],
      "execution_count": 19,
      "outputs": [
        {
          "output_type": "execute_result",
          "data": {
            "text/plain": [
              "Index(['D', '\\N'], dtype='object')"
            ]
          },
          "metadata": {
            "tags": []
          },
          "execution_count": 19
        }
      ]
    },
    {
      "cell_type": "markdown",
      "metadata": {
        "id": "8XiiUGdHPBm1"
      },
      "source": [
        "# Construtores Standings\n"
      ]
    },
    {
      "cell_type": "markdown",
      "metadata": {
        "id": "VtXcbBEwlHZK"
      },
      "source": [
        "o dataset de standings mostra uma visão de como a equipe está situada no campeonato após dada corrida, mostrando os pontos conquistados até aqui, corridas vencidas entre outros."
      ]
    },
    {
      "cell_type": "markdown",
      "metadata": {
        "id": "FdBRSd2RP9kl"
      },
      "source": [
        "Descrção dos dados </br>\n",
        "positionText: categórico nomimal\n"
      ]
    },
    {
      "cell_type": "code",
      "metadata": {
        "id": "u5ZHOf5aPFPn",
        "outputId": "9cce97eb-ec76-458e-ff90-4eff08ea3e43",
        "colab": {
          "base_uri": "https://localhost:8080/",
          "height": 204
        }
      },
      "source": [
        "constructor_standings.head()"
      ],
      "execution_count": 20,
      "outputs": [
        {
          "output_type": "execute_result",
          "data": {
            "text/html": [
              "<div>\n",
              "<style scoped>\n",
              "    .dataframe tbody tr th:only-of-type {\n",
              "        vertical-align: middle;\n",
              "    }\n",
              "\n",
              "    .dataframe tbody tr th {\n",
              "        vertical-align: top;\n",
              "    }\n",
              "\n",
              "    .dataframe thead th {\n",
              "        text-align: right;\n",
              "    }\n",
              "</style>\n",
              "<table border=\"1\" class=\"dataframe\">\n",
              "  <thead>\n",
              "    <tr style=\"text-align: right;\">\n",
              "      <th></th>\n",
              "      <th>constructorStandingsId</th>\n",
              "      <th>raceId</th>\n",
              "      <th>constructorId</th>\n",
              "      <th>points</th>\n",
              "      <th>position</th>\n",
              "      <th>positionText</th>\n",
              "      <th>wins</th>\n",
              "      <th>year</th>\n",
              "      <th>points_norm</th>\n",
              "    </tr>\n",
              "  </thead>\n",
              "  <tbody>\n",
              "    <tr>\n",
              "      <th>0</th>\n",
              "      <td>1</td>\n",
              "      <td>18</td>\n",
              "      <td>1</td>\n",
              "      <td>14.0</td>\n",
              "      <td>1</td>\n",
              "      <td>1</td>\n",
              "      <td>1</td>\n",
              "      <td>2008</td>\n",
              "      <td>0.053435</td>\n",
              "    </tr>\n",
              "    <tr>\n",
              "      <th>1</th>\n",
              "      <td>2</td>\n",
              "      <td>18</td>\n",
              "      <td>2</td>\n",
              "      <td>8.0</td>\n",
              "      <td>3</td>\n",
              "      <td>3</td>\n",
              "      <td>0</td>\n",
              "      <td>2008</td>\n",
              "      <td>0.030534</td>\n",
              "    </tr>\n",
              "    <tr>\n",
              "      <th>2</th>\n",
              "      <td>3</td>\n",
              "      <td>18</td>\n",
              "      <td>3</td>\n",
              "      <td>9.0</td>\n",
              "      <td>2</td>\n",
              "      <td>2</td>\n",
              "      <td>0</td>\n",
              "      <td>2008</td>\n",
              "      <td>0.034351</td>\n",
              "    </tr>\n",
              "    <tr>\n",
              "      <th>3</th>\n",
              "      <td>4</td>\n",
              "      <td>18</td>\n",
              "      <td>4</td>\n",
              "      <td>5.0</td>\n",
              "      <td>4</td>\n",
              "      <td>4</td>\n",
              "      <td>0</td>\n",
              "      <td>2008</td>\n",
              "      <td>0.019084</td>\n",
              "    </tr>\n",
              "    <tr>\n",
              "      <th>4</th>\n",
              "      <td>5</td>\n",
              "      <td>18</td>\n",
              "      <td>5</td>\n",
              "      <td>2.0</td>\n",
              "      <td>5</td>\n",
              "      <td>5</td>\n",
              "      <td>0</td>\n",
              "      <td>2008</td>\n",
              "      <td>0.007634</td>\n",
              "    </tr>\n",
              "  </tbody>\n",
              "</table>\n",
              "</div>"
            ],
            "text/plain": [
              "   constructorStandingsId  raceId  constructorId  ...  wins  year points_norm\n",
              "0                       1      18              1  ...     1  2008    0.053435\n",
              "1                       2      18              2  ...     0  2008    0.030534\n",
              "2                       3      18              3  ...     0  2008    0.034351\n",
              "3                       4      18              4  ...     0  2008    0.019084\n",
              "4                       5      18              5  ...     0  2008    0.007634\n",
              "\n",
              "[5 rows x 9 columns]"
            ]
          },
          "metadata": {
            "tags": []
          },
          "execution_count": 20
        }
      ]
    },
    {
      "cell_type": "code",
      "metadata": {
        "id": "fiWTvoXXPPT6"
      },
      "source": [
        "constructor_standings[\"positionText\"] = constructor_standings[\"positionText\"].astype(\"category\")"
      ],
      "execution_count": 21,
      "outputs": []
    },
    {
      "cell_type": "code",
      "metadata": {
        "id": "K8L3oYOVPY4R",
        "outputId": "4ec0d784-90c1-4523-8848-eb9a42431fbf",
        "colab": {
          "base_uri": "https://localhost:8080/",
          "height": 68
        }
      },
      "source": [
        "constructor_standings[\"positionText\"].cat.categories"
      ],
      "execution_count": 22,
      "outputs": [
        {
          "output_type": "execute_result",
          "data": {
            "text/plain": [
              "Index(['1', '10', '11', '12', '13', '14', '15', '16', '17', '18', '19', '2',\n",
              "       '20', '21', '22', '3', '4', '5', '6', '7', '8', '9', 'E'],\n",
              "      dtype='object')"
            ]
          },
          "metadata": {
            "tags": []
          },
          "execution_count": 22
        }
      ]
    },
    {
      "cell_type": "code",
      "metadata": {
        "id": "zduWI022PKq2",
        "outputId": "73b944aa-3352-4126-8ca2-873a566c2ae3",
        "colab": {
          "base_uri": "https://localhost:8080/",
          "height": 187
        }
      },
      "source": [
        "constructor_standings.dtypes"
      ],
      "execution_count": 23,
      "outputs": [
        {
          "output_type": "execute_result",
          "data": {
            "text/plain": [
              "constructorStandingsId       int64\n",
              "raceId                       int64\n",
              "constructorId                int64\n",
              "points                     float64\n",
              "position                     int64\n",
              "positionText              category\n",
              "wins                         int64\n",
              "year                         int64\n",
              "points_norm                float64\n",
              "dtype: object"
            ]
          },
          "metadata": {
            "tags": []
          },
          "execution_count": 23
        }
      ]
    },
    {
      "cell_type": "markdown",
      "metadata": {
        "id": "nQU5Q-ADx9Dj"
      },
      "source": [
        "# Desempenho Construtores"
      ]
    },
    {
      "cell_type": "markdown",
      "metadata": {
        "id": "bsW7m5GqlXnd"
      },
      "source": [
        "Essa sessão é dedicada a uma análise de desempenho de várias equipes ao longo do tempo, suas pontuações, vitórias e comparações entre elas."
      ]
    },
    {
      "cell_type": "markdown",
      "metadata": {
        "id": "DQMepxdQZ0j4"
      },
      "source": [
        "Análise de desempenho da ferrari durante os anos"
      ]
    },
    {
      "cell_type": "code",
      "metadata": {
        "id": "KCrtZHQUsw-E",
        "outputId": "29aee7d6-e7be-478e-d5f2-5e987352793f",
        "colab": {
          "base_uri": "https://localhost:8080/",
          "height": 297
        }
      },
      "source": [
        "ferrari_standings=constructor_standings[constructor_standings.constructorId == 6]\n",
        "ferrari_standings.sort_values(by=\"raceId\")\n",
        "ferrari_standings.describe()"
      ],
      "execution_count": 24,
      "outputs": [
        {
          "output_type": "execute_result",
          "data": {
            "text/html": [
              "<div>\n",
              "<style scoped>\n",
              "    .dataframe tbody tr th:only-of-type {\n",
              "        vertical-align: middle;\n",
              "    }\n",
              "\n",
              "    .dataframe tbody tr th {\n",
              "        vertical-align: top;\n",
              "    }\n",
              "\n",
              "    .dataframe thead th {\n",
              "        text-align: right;\n",
              "    }\n",
              "</style>\n",
              "<table border=\"1\" class=\"dataframe\">\n",
              "  <thead>\n",
              "    <tr style=\"text-align: right;\">\n",
              "      <th></th>\n",
              "      <th>constructorStandingsId</th>\n",
              "      <th>raceId</th>\n",
              "      <th>constructorId</th>\n",
              "      <th>points</th>\n",
              "      <th>position</th>\n",
              "      <th>wins</th>\n",
              "      <th>year</th>\n",
              "      <th>points_norm</th>\n",
              "    </tr>\n",
              "  </thead>\n",
              "  <tbody>\n",
              "    <tr>\n",
              "      <th>count</th>\n",
              "      <td>957.000000</td>\n",
              "      <td>957.000000</td>\n",
              "      <td>957.0</td>\n",
              "      <td>957.000000</td>\n",
              "      <td>957.000000</td>\n",
              "      <td>957.000000</td>\n",
              "      <td>957.000000</td>\n",
              "      <td>957.000000</td>\n",
              "    </tr>\n",
              "    <tr>\n",
              "      <th>mean</th>\n",
              "      <td>15762.467085</td>\n",
              "      <td>494.479624</td>\n",
              "      <td>6.0</td>\n",
              "      <td>82.415361</td>\n",
              "      <td>2.789969</td>\n",
              "      <td>1.939394</td>\n",
              "      <td>1992.231975</td>\n",
              "      <td>0.232639</td>\n",
              "    </tr>\n",
              "    <tr>\n",
              "      <th>std</th>\n",
              "      <td>8972.564223</td>\n",
              "      <td>297.638813</td>\n",
              "      <td>0.0</td>\n",
              "      <td>102.404158</td>\n",
              "      <td>1.928856</td>\n",
              "      <td>2.434172</td>\n",
              "      <td>17.397714</td>\n",
              "      <td>0.193028</td>\n",
              "    </tr>\n",
              "    <tr>\n",
              "      <th>min</th>\n",
              "      <td>6.000000</td>\n",
              "      <td>1.000000</td>\n",
              "      <td>6.0</td>\n",
              "      <td>0.000000</td>\n",
              "      <td>1.000000</td>\n",
              "      <td>0.000000</td>\n",
              "      <td>1958.000000</td>\n",
              "      <td>0.000000</td>\n",
              "    </tr>\n",
              "    <tr>\n",
              "      <th>25%</th>\n",
              "      <td>6508.000000</td>\n",
              "      <td>240.000000</td>\n",
              "      <td>6.0</td>\n",
              "      <td>17.000000</td>\n",
              "      <td>2.000000</td>\n",
              "      <td>0.000000</td>\n",
              "      <td>1978.000000</td>\n",
              "      <td>0.075377</td>\n",
              "    </tr>\n",
              "    <tr>\n",
              "      <th>50%</th>\n",
              "      <td>19352.000000</td>\n",
              "      <td>481.000000</td>\n",
              "      <td>6.0</td>\n",
              "      <td>43.000000</td>\n",
              "      <td>2.000000</td>\n",
              "      <td>1.000000</td>\n",
              "      <td>1993.000000</td>\n",
              "      <td>0.178392</td>\n",
              "    </tr>\n",
              "    <tr>\n",
              "      <th>75%</th>\n",
              "      <td>24364.000000</td>\n",
              "      <td>721.000000</td>\n",
              "      <td>6.0</td>\n",
              "      <td>100.000000</td>\n",
              "      <td>3.000000</td>\n",
              "      <td>3.000000</td>\n",
              "      <td>2007.000000</td>\n",
              "      <td>0.330317</td>\n",
              "    </tr>\n",
              "    <tr>\n",
              "      <th>max</th>\n",
              "      <td>27534.000000</td>\n",
              "      <td>1036.000000</td>\n",
              "      <td>6.0</td>\n",
              "      <td>571.000000</td>\n",
              "      <td>14.000000</td>\n",
              "      <td>15.000000</td>\n",
              "      <td>2020.000000</td>\n",
              "      <td>1.000000</td>\n",
              "    </tr>\n",
              "  </tbody>\n",
              "</table>\n",
              "</div>"
            ],
            "text/plain": [
              "       constructorStandingsId       raceId  ...         year  points_norm\n",
              "count              957.000000   957.000000  ...   957.000000   957.000000\n",
              "mean             15762.467085   494.479624  ...  1992.231975     0.232639\n",
              "std               8972.564223   297.638813  ...    17.397714     0.193028\n",
              "min                  6.000000     1.000000  ...  1958.000000     0.000000\n",
              "25%               6508.000000   240.000000  ...  1978.000000     0.075377\n",
              "50%              19352.000000   481.000000  ...  1993.000000     0.178392\n",
              "75%              24364.000000   721.000000  ...  2007.000000     0.330317\n",
              "max              27534.000000  1036.000000  ...  2020.000000     1.000000\n",
              "\n",
              "[8 rows x 8 columns]"
            ]
          },
          "metadata": {
            "tags": []
          },
          "execution_count": 24
        }
      ]
    },
    {
      "cell_type": "markdown",
      "metadata": {
        "id": "0gIGyAV3mH-G"
      },
      "source": [
        "O gráfico a seguir mostra a pontuação final por temporada de uma das equipes mais tradicionais da categoria, a ferrari. É útil observar que o grande aumento de pontos nas últimas décadas se da por mudanças de regulamento que passaram a dar mais pontos para as respectivas colocações"
      ]
    },
    {
      "cell_type": "code",
      "metadata": {
        "id": "tJKJp1urFI4q",
        "outputId": "5612741d-3693-45ce-f7c1-5bcb21835e84",
        "colab": {
          "base_uri": "https://localhost:8080/",
          "height": 398
        }
      },
      "source": [
        "ferrari_standings[\"year\"] = ferrari_standings.raceId.map(races.set_index(\"raceId\")[\"year\"])\n",
        "ferrari_2019 = ferrari_standings[ferrari_standings.year == 2019]\n",
        "ferrari_by_year = ferrari_standings.groupby([\"year\"]).agg(\"max\")[\"points_norm\"]\n",
        "ferrari_by_year.plot()"
      ],
      "execution_count": 25,
      "outputs": [
        {
          "output_type": "stream",
          "text": [
            "/usr/local/lib/python3.6/dist-packages/ipykernel_launcher.py:1: SettingWithCopyWarning: \n",
            "A value is trying to be set on a copy of a slice from a DataFrame.\n",
            "Try using .loc[row_indexer,col_indexer] = value instead\n",
            "\n",
            "See the caveats in the documentation: https://pandas.pydata.org/pandas-docs/stable/user_guide/indexing.html#returning-a-view-versus-a-copy\n",
            "  \"\"\"Entry point for launching an IPython kernel.\n"
          ],
          "name": "stderr"
        },
        {
          "output_type": "execute_result",
          "data": {
            "text/plain": [
              "<matplotlib.axes._subplots.AxesSubplot at 0x7f62d103bb70>"
            ]
          },
          "metadata": {
            "tags": []
          },
          "execution_count": 25
        },
        {
          "output_type": "display_data",
          "data": {
            "image/png": "[encoded data removed]",
            "text/plain": [
              "<Figure size 432x288 with 1 Axes>"
            ]
          },
          "metadata": {
            "tags": [],
            "needs_background": "light"
          }
        }
      ]
    },
    {
      "cell_type": "markdown",
      "metadata": {
        "id": "SLBw6Zh8W6Tc"
      },
      "source": [
        "Filtro na ferrari para comparar com red bull"
      ]
    },
    {
      "cell_type": "code",
      "metadata": {
        "id": "65VwvD09W-JL",
        "outputId": "6572ff92-0104-42fd-ad84-12ad048818ab",
        "colab": {
          "base_uri": "https://localhost:8080/",
          "height": 297
        }
      },
      "source": [
        "ferrari_from_2005 = ferrari_standings[ferrari_standings.year >= 2005]\n",
        "ferrari_from_2005 = ferrari_from_2005.groupby([\"year\"]).agg(\"max\")[\"points_norm\"]\n",
        "ferrari_from_2005.plot()"
      ],
      "execution_count": 26,
      "outputs": [
        {
          "output_type": "execute_result",
          "data": {
            "text/plain": [
              "<matplotlib.axes._subplots.AxesSubplot at 0x7f62d1033898>"
            ]
          },
          "metadata": {
            "tags": []
          },
          "execution_count": 26
        },
        {
          "output_type": "display_data",
          "data": {
            "image/png": "[encoded data removed]",
            "text/plain": [
              "<Figure size 432x288 with 1 Axes>"
            ]
          },
          "metadata": {
            "tags": [],
            "needs_background": "light"
          }
        }
      ]
    },
    {
      "cell_type": "markdown",
      "metadata": {
        "id": "Vs6clyvEVTsS"
      },
      "source": [
        "Análise de pountuação da Red Bull ao longo dos anos"
      ]
    },
    {
      "cell_type": "code",
      "metadata": {
        "id": "mPlYizclVY7I",
        "outputId": "0b2e52cf-db09-47fe-d343-f6490ff5ede1",
        "colab": {
          "base_uri": "https://localhost:8080/",
          "height": 297
        }
      },
      "source": [
        "rbr_standings=constructor_standings[constructor_standings.constructorId == 9]\n",
        "rbr_standings.sort_values(by=\"raceId\")\n",
        "rbr_standings.describe()"
      ],
      "execution_count": 27,
      "outputs": [
        {
          "output_type": "execute_result",
          "data": {
            "text/html": [
              "<div>\n",
              "<style scoped>\n",
              "    .dataframe tbody tr th:only-of-type {\n",
              "        vertical-align: middle;\n",
              "    }\n",
              "\n",
              "    .dataframe tbody tr th {\n",
              "        vertical-align: top;\n",
              "    }\n",
              "\n",
              "    .dataframe thead th {\n",
              "        text-align: right;\n",
              "    }\n",
              "</style>\n",
              "<table border=\"1\" class=\"dataframe\">\n",
              "  <thead>\n",
              "    <tr style=\"text-align: right;\">\n",
              "      <th></th>\n",
              "      <th>constructorStandingsId</th>\n",
              "      <th>raceId</th>\n",
              "      <th>constructorId</th>\n",
              "      <th>points</th>\n",
              "      <th>position</th>\n",
              "      <th>wins</th>\n",
              "      <th>year</th>\n",
              "      <th>points_norm</th>\n",
              "    </tr>\n",
              "  </thead>\n",
              "  <tbody>\n",
              "    <tr>\n",
              "      <th>count</th>\n",
              "      <td>292.000000</td>\n",
              "      <td>292.000000</td>\n",
              "      <td>292.0</td>\n",
              "      <td>292.000000</td>\n",
              "      <td>292.000000</td>\n",
              "      <td>292.000000</td>\n",
              "      <td>292.000000</td>\n",
              "      <td>292.000000</td>\n",
              "    </tr>\n",
              "    <tr>\n",
              "      <th>mean</th>\n",
              "      <td>20727.017123</td>\n",
              "      <td>631.287671</td>\n",
              "      <td>9.0</td>\n",
              "      <td>161.993151</td>\n",
              "      <td>3.356164</td>\n",
              "      <td>1.945205</td>\n",
              "      <td>2012.400685</td>\n",
              "      <td>0.232899</td>\n",
              "    </tr>\n",
              "    <tr>\n",
              "      <th>std</th>\n",
              "      <td>9595.577586</td>\n",
              "      <td>414.507739</td>\n",
              "      <td>0.0</td>\n",
              "      <td>154.877293</td>\n",
              "      <td>2.099713</td>\n",
              "      <td>2.665242</td>\n",
              "      <td>4.444434</td>\n",
              "      <td>0.197304</td>\n",
              "    </tr>\n",
              "    <tr>\n",
              "      <th>min</th>\n",
              "      <td>14.000000</td>\n",
              "      <td>1.000000</td>\n",
              "      <td>9.0</td>\n",
              "      <td>0.000000</td>\n",
              "      <td>1.000000</td>\n",
              "      <td>0.000000</td>\n",
              "      <td>2005.000000</td>\n",
              "      <td>0.000000</td>\n",
              "    </tr>\n",
              "    <tr>\n",
              "      <th>25%</th>\n",
              "      <td>24267.000000</td>\n",
              "      <td>74.750000</td>\n",
              "      <td>9.0</td>\n",
              "      <td>24.000000</td>\n",
              "      <td>2.000000</td>\n",
              "      <td>0.000000</td>\n",
              "      <td>2009.000000</td>\n",
              "      <td>0.071569</td>\n",
              "    </tr>\n",
              "    <tr>\n",
              "      <th>50%</th>\n",
              "      <td>25329.500000</td>\n",
              "      <td>879.500000</td>\n",
              "      <td>9.0</td>\n",
              "      <td>112.000000</td>\n",
              "      <td>3.000000</td>\n",
              "      <td>1.000000</td>\n",
              "      <td>2012.500000</td>\n",
              "      <td>0.177124</td>\n",
              "    </tr>\n",
              "    <tr>\n",
              "      <th>75%</th>\n",
              "      <td>26627.750000</td>\n",
              "      <td>963.250000</td>\n",
              "      <td>9.0</td>\n",
              "      <td>272.000000</td>\n",
              "      <td>5.000000</td>\n",
              "      <td>3.000000</td>\n",
              "      <td>2016.000000</td>\n",
              "      <td>0.379739</td>\n",
              "    </tr>\n",
              "    <tr>\n",
              "      <th>max</th>\n",
              "      <td>27541.000000</td>\n",
              "      <td>1036.000000</td>\n",
              "      <td>9.0</td>\n",
              "      <td>650.000000</td>\n",
              "      <td>11.000000</td>\n",
              "      <td>13.000000</td>\n",
              "      <td>2020.000000</td>\n",
              "      <td>0.849673</td>\n",
              "    </tr>\n",
              "  </tbody>\n",
              "</table>\n",
              "</div>"
            ],
            "text/plain": [
              "       constructorStandingsId       raceId  ...         year  points_norm\n",
              "count              292.000000   292.000000  ...   292.000000   292.000000\n",
              "mean             20727.017123   631.287671  ...  2012.400685     0.232899\n",
              "std               9595.577586   414.507739  ...     4.444434     0.197304\n",
              "min                 14.000000     1.000000  ...  2005.000000     0.000000\n",
              "25%              24267.000000    74.750000  ...  2009.000000     0.071569\n",
              "50%              25329.500000   879.500000  ...  2012.500000     0.177124\n",
              "75%              26627.750000   963.250000  ...  2016.000000     0.379739\n",
              "max              27541.000000  1036.000000  ...  2020.000000     0.849673\n",
              "\n",
              "[8 rows x 8 columns]"
            ]
          },
          "metadata": {
            "tags": []
          },
          "execution_count": 27
        }
      ]
    },
    {
      "cell_type": "code",
      "metadata": {
        "id": "fJdXxNSAVhho",
        "outputId": "9b703170-5ce9-488b-c2ab-b4548c101b3d",
        "colab": {
          "base_uri": "https://localhost:8080/",
          "height": 384
        }
      },
      "source": [
        "rbr_standings[\"year\"] = rbr_standings.raceId.map(races.set_index(\"raceId\")[\"year\"])\n",
        "rbr_year_2019 = rbr_standings[rbr_standings.year == 2019]\n",
        "rbr_by_year = rbr_standings.groupby([\"year\"]).agg(\"max\")[\"points_norm\"]\n",
        "plt.plot(np.arange(2004, 2020,1) ,rbr_by_year, label=\"Red Bull\")"
      ],
      "execution_count": 28,
      "outputs": [
        {
          "output_type": "stream",
          "text": [
            "/usr/local/lib/python3.6/dist-packages/ipykernel_launcher.py:1: SettingWithCopyWarning: \n",
            "A value is trying to be set on a copy of a slice from a DataFrame.\n",
            "Try using .loc[row_indexer,col_indexer] = value instead\n",
            "\n",
            "See the caveats in the documentation: https://pandas.pydata.org/pandas-docs/stable/user_guide/indexing.html#returning-a-view-versus-a-copy\n",
            "  \"\"\"Entry point for launching an IPython kernel.\n"
          ],
          "name": "stderr"
        },
        {
          "output_type": "execute_result",
          "data": {
            "text/plain": [
              "[<matplotlib.lines.Line2D at 0x7f62d0f38d68>]"
            ]
          },
          "metadata": {
            "tags": []
          },
          "execution_count": 28
        },
        {
          "output_type": "display_data",
          "data": {
            "image/png": "[encoded data removed]",
            "text/plain": [
              "<Figure size 432x288 with 1 Axes>"
            ]
          },
          "metadata": {
            "tags": [],
            "needs_background": "light"
          }
        }
      ]
    },
    {
      "cell_type": "markdown",
      "metadata": {
        "id": "Z0sgBG6pnMpE"
      },
      "source": [
        "Análise de pontuação da mercedes ao longo dos anos"
      ]
    },
    {
      "cell_type": "code",
      "metadata": {
        "id": "3BtUyaF_nRvM",
        "outputId": "636297b0-6ba0-4129-d5e4-dd76912c6375",
        "colab": {
          "base_uri": "https://localhost:8080/",
          "height": 204
        }
      },
      "source": [
        "mercedes_standings=constructor_standings[constructor_standings.constructorId == 131]\n",
        "mercedes_standings.sort_values(by=\"raceId\")\n",
        "mercedes_standings.head()"
      ],
      "execution_count": 29,
      "outputs": [
        {
          "output_type": "execute_result",
          "data": {
            "text/html": [
              "<div>\n",
              "<style scoped>\n",
              "    .dataframe tbody tr th:only-of-type {\n",
              "        vertical-align: middle;\n",
              "    }\n",
              "\n",
              "    .dataframe tbody tr th {\n",
              "        vertical-align: top;\n",
              "    }\n",
              "\n",
              "    .dataframe thead th {\n",
              "        text-align: right;\n",
              "    }\n",
              "</style>\n",
              "<table border=\"1\" class=\"dataframe\">\n",
              "  <thead>\n",
              "    <tr style=\"text-align: right;\">\n",
              "      <th></th>\n",
              "      <th>constructorStandingsId</th>\n",
              "      <th>raceId</th>\n",
              "      <th>constructorId</th>\n",
              "      <th>points</th>\n",
              "      <th>position</th>\n",
              "      <th>positionText</th>\n",
              "      <th>wins</th>\n",
              "      <th>year</th>\n",
              "      <th>points_norm</th>\n",
              "    </tr>\n",
              "  </thead>\n",
              "  <tbody>\n",
              "    <tr>\n",
              "      <th>10130</th>\n",
              "      <td>24235</td>\n",
              "      <td>337</td>\n",
              "      <td>131</td>\n",
              "      <td>18.0</td>\n",
              "      <td>3</td>\n",
              "      <td>3</td>\n",
              "      <td>0</td>\n",
              "      <td>2010</td>\n",
              "      <td>0.023529</td>\n",
              "    </tr>\n",
              "    <tr>\n",
              "      <th>10142</th>\n",
              "      <td>24247</td>\n",
              "      <td>338</td>\n",
              "      <td>131</td>\n",
              "      <td>29.0</td>\n",
              "      <td>3</td>\n",
              "      <td>3</td>\n",
              "      <td>0</td>\n",
              "      <td>2010</td>\n",
              "      <td>0.037908</td>\n",
              "    </tr>\n",
              "    <tr>\n",
              "      <th>10154</th>\n",
              "      <td>24259</td>\n",
              "      <td>339</td>\n",
              "      <td>131</td>\n",
              "      <td>44.0</td>\n",
              "      <td>4</td>\n",
              "      <td>4</td>\n",
              "      <td>0</td>\n",
              "      <td>2010</td>\n",
              "      <td>0.057516</td>\n",
              "    </tr>\n",
              "    <tr>\n",
              "      <th>10166</th>\n",
              "      <td>24271</td>\n",
              "      <td>340</td>\n",
              "      <td>131</td>\n",
              "      <td>60.0</td>\n",
              "      <td>4</td>\n",
              "      <td>4</td>\n",
              "      <td>0</td>\n",
              "      <td>2010</td>\n",
              "      <td>0.078431</td>\n",
              "    </tr>\n",
              "    <tr>\n",
              "      <th>10178</th>\n",
              "      <td>24283</td>\n",
              "      <td>341</td>\n",
              "      <td>131</td>\n",
              "      <td>72.0</td>\n",
              "      <td>4</td>\n",
              "      <td>4</td>\n",
              "      <td>0</td>\n",
              "      <td>2010</td>\n",
              "      <td>0.094118</td>\n",
              "    </tr>\n",
              "  </tbody>\n",
              "</table>\n",
              "</div>"
            ],
            "text/plain": [
              "       constructorStandingsId  raceId  constructorId  ...  wins  year points_norm\n",
              "10130                   24235     337            131  ...     0  2010    0.023529\n",
              "10142                   24247     338            131  ...     0  2010    0.037908\n",
              "10154                   24259     339            131  ...     0  2010    0.057516\n",
              "10166                   24271     340            131  ...     0  2010    0.078431\n",
              "10178                   24283     341            131  ...     0  2010    0.094118\n",
              "\n",
              "[5 rows x 9 columns]"
            ]
          },
          "metadata": {
            "tags": []
          },
          "execution_count": 29
        }
      ]
    },
    {
      "cell_type": "code",
      "metadata": {
        "id": "nNEYW8ajoD6f",
        "outputId": "edcadf41-d905-4a0f-9521-cba635e77a10",
        "colab": {
          "base_uri": "https://localhost:8080/",
          "height": 398
        }
      },
      "source": [
        "mercedes_standings[\"year\"] = mercedes_standings.raceId.map(races.set_index(\"raceId\")[\"year\"])\n",
        "mercedes_by_year = mercedes_standings.groupby([\"year\"]).agg(\"max\")[\"points_norm\"]\n",
        "mercedes_by_year.plot()"
      ],
      "execution_count": 30,
      "outputs": [
        {
          "output_type": "stream",
          "text": [
            "/usr/local/lib/python3.6/dist-packages/ipykernel_launcher.py:1: SettingWithCopyWarning: \n",
            "A value is trying to be set on a copy of a slice from a DataFrame.\n",
            "Try using .loc[row_indexer,col_indexer] = value instead\n",
            "\n",
            "See the caveats in the documentation: https://pandas.pydata.org/pandas-docs/stable/user_guide/indexing.html#returning-a-view-versus-a-copy\n",
            "  \"\"\"Entry point for launching an IPython kernel.\n"
          ],
          "name": "stderr"
        },
        {
          "output_type": "execute_result",
          "data": {
            "text/plain": [
              "<matplotlib.axes._subplots.AxesSubplot at 0x7f62d0f1eb38>"
            ]
          },
          "metadata": {
            "tags": []
          },
          "execution_count": 30
        },
        {
          "output_type": "display_data",
          "data": {
            "image/png": "[encoded data removed]",
            "text/plain": [
              "<Figure size 432x288 with 1 Axes>"
            ]
          },
          "metadata": {
            "tags": [],
            "needs_background": "light"
          }
        }
      ]
    },
    {
      "cell_type": "markdown",
      "metadata": {
        "id": "FhH4qDgpov-e"
      },
      "source": [
        "Comparação de pontuação das 3 equipes mais influentes da categoria nos últimos anos\n"
      ]
    },
    {
      "cell_type": "code",
      "metadata": {
        "id": "CY_EqxJcovev",
        "outputId": "8fc2d0d5-6042-449b-9809-942a437d3c96",
        "colab": {
          "base_uri": "https://localhost:8080/",
          "height": 265
        }
      },
      "source": [
        "plt.plot(np.arange(2004, 2020,1) ,rbr_by_year, label=\"Red Bull\")\n",
        "plt.plot(np.arange(2004, 2020,1),ferrari_from_2005, label=\"Ferrari\")\n",
        "plt.plot(np.arange(2009, 2020, 1), mercedes_by_year, label=\"Mercedes\")\n",
        "plt.legend()\n",
        "plt.show()"
      ],
      "execution_count": 31,
      "outputs": [
        {
          "output_type": "display_data",
          "data": {
            "image/png": "[encoded data removed]",
            "text/plain": [
              "<Figure size 432x288 with 1 Axes>"
            ]
          },
          "metadata": {
            "tags": [],
            "needs_background": "light"
          }
        }
      ]
    },
    {
      "cell_type": "markdown",
      "metadata": {
        "id": "_KWTnTNBqJeW"
      },
      "source": [
        "Análise de desempenho das equipes a partir do ano 2000\n"
      ]
    },
    {
      "cell_type": "code",
      "metadata": {
        "id": "8yq0OyYsqJM8",
        "outputId": "6b45861f-55e0-4239-e763-9fc2a72a335e",
        "colab": {
          "base_uri": "https://localhost:8080/",
          "height": 204
        }
      },
      "source": [
        "constructor_standings[\"year\"] = constructor_standings.raceId.map(races.set_index(\"raceId\")[\"year\"])\n",
        "constructor_standings[\"name\"] = constructor_standings.constructorId.map(constructors.set_index(\"constructorId\")[\"name\"])\n",
        "constructor_standings_from_2000 = constructor_standings[constructor_standings[\"year\"] >= 2000]\n",
        "constructor_standings_from_2000.head()"
      ],
      "execution_count": 32,
      "outputs": [
        {
          "output_type": "execute_result",
          "data": {
            "text/html": [
              "<div>\n",
              "<style scoped>\n",
              "    .dataframe tbody tr th:only-of-type {\n",
              "        vertical-align: middle;\n",
              "    }\n",
              "\n",
              "    .dataframe tbody tr th {\n",
              "        vertical-align: top;\n",
              "    }\n",
              "\n",
              "    .dataframe thead th {\n",
              "        text-align: right;\n",
              "    }\n",
              "</style>\n",
              "<table border=\"1\" class=\"dataframe\">\n",
              "  <thead>\n",
              "    <tr style=\"text-align: right;\">\n",
              "      <th></th>\n",
              "      <th>constructorStandingsId</th>\n",
              "      <th>raceId</th>\n",
              "      <th>constructorId</th>\n",
              "      <th>points</th>\n",
              "      <th>position</th>\n",
              "      <th>positionText</th>\n",
              "      <th>wins</th>\n",
              "      <th>year</th>\n",
              "      <th>points_norm</th>\n",
              "      <th>name</th>\n",
              "    </tr>\n",
              "  </thead>\n",
              "  <tbody>\n",
              "    <tr>\n",
              "      <th>0</th>\n",
              "      <td>1</td>\n",
              "      <td>18</td>\n",
              "      <td>1</td>\n",
              "      <td>14.0</td>\n",
              "      <td>1</td>\n",
              "      <td>1</td>\n",
              "      <td>1</td>\n",
              "      <td>2008</td>\n",
              "      <td>0.053435</td>\n",
              "      <td>McLaren</td>\n",
              "    </tr>\n",
              "    <tr>\n",
              "      <th>1</th>\n",
              "      <td>2</td>\n",
              "      <td>18</td>\n",
              "      <td>2</td>\n",
              "      <td>8.0</td>\n",
              "      <td>3</td>\n",
              "      <td>3</td>\n",
              "      <td>0</td>\n",
              "      <td>2008</td>\n",
              "      <td>0.030534</td>\n",
              "      <td>BMW Sauber</td>\n",
              "    </tr>\n",
              "    <tr>\n",
              "      <th>2</th>\n",
              "      <td>3</td>\n",
              "      <td>18</td>\n",
              "      <td>3</td>\n",
              "      <td>9.0</td>\n",
              "      <td>2</td>\n",
              "      <td>2</td>\n",
              "      <td>0</td>\n",
              "      <td>2008</td>\n",
              "      <td>0.034351</td>\n",
              "      <td>Williams</td>\n",
              "    </tr>\n",
              "    <tr>\n",
              "      <th>3</th>\n",
              "      <td>4</td>\n",
              "      <td>18</td>\n",
              "      <td>4</td>\n",
              "      <td>5.0</td>\n",
              "      <td>4</td>\n",
              "      <td>4</td>\n",
              "      <td>0</td>\n",
              "      <td>2008</td>\n",
              "      <td>0.019084</td>\n",
              "      <td>Renault</td>\n",
              "    </tr>\n",
              "    <tr>\n",
              "      <th>4</th>\n",
              "      <td>5</td>\n",
              "      <td>18</td>\n",
              "      <td>5</td>\n",
              "      <td>2.0</td>\n",
              "      <td>5</td>\n",
              "      <td>5</td>\n",
              "      <td>0</td>\n",
              "      <td>2008</td>\n",
              "      <td>0.007634</td>\n",
              "      <td>Toro Rosso</td>\n",
              "    </tr>\n",
              "  </tbody>\n",
              "</table>\n",
              "</div>"
            ],
            "text/plain": [
              "   constructorStandingsId  raceId  constructorId  ...  year  points_norm        name\n",
              "0                       1      18              1  ...  2008     0.053435     McLaren\n",
              "1                       2      18              2  ...  2008     0.030534  BMW Sauber\n",
              "2                       3      18              3  ...  2008     0.034351    Williams\n",
              "3                       4      18              4  ...  2008     0.019084     Renault\n",
              "4                       5      18              5  ...  2008     0.007634  Toro Rosso\n",
              "\n",
              "[5 rows x 10 columns]"
            ]
          },
          "metadata": {
            "tags": []
          },
          "execution_count": 32
        }
      ]
    },
    {
      "cell_type": "code",
      "metadata": {
        "id": "saXaWivZuMMd"
      },
      "source": [
        "names = constructor_standings_from_2000[\"name\"].unique().tolist()"
      ],
      "execution_count": 33,
      "outputs": []
    },
    {
      "cell_type": "code",
      "metadata": {
        "id": "waP2fpqRyD3y"
      },
      "source": [
        "for name in names:\n",
        "  x = constructor_standings_from_2000.loc[constructor_standings_from_2000[\"name\"] == name]\n",
        "  x = x.groupby([\"year\"]).agg(\"max\")\n",
        "  plt.plot(x.index, x.points_norm, label=name)\n",
        "\n",
        "fig = plt.gcf()\n",
        "fig.set_size_inches(20, 15)\n",
        "plt.legend()\n",
        "plt.show()"
      ],
      "execution_count": null,
      "outputs": []
    },
    {
      "cell_type": "markdown",
      "metadata": {
        "id": "Engy74ygNqxt"
      },
      "source": [
        "# Pilotos\n"
      ]
    },
    {
      "cell_type": "code",
      "metadata": {
        "id": "eHz86PlIPmY9",
        "outputId": "caa4b984-b57d-4af6-f9b1-24c6b75e3655",
        "colab": {
          "base_uri": "https://localhost:8080/",
          "height": 0
        }
      },
      "source": [
        "drivers.head()"
      ],
      "execution_count": 37,
      "outputs": [
        {
          "output_type": "execute_result",
          "data": {
            "text/html": [
              "<div>\n",
              "<style scoped>\n",
              "    .dataframe tbody tr th:only-of-type {\n",
              "        vertical-align: middle;\n",
              "    }\n",
              "\n",
              "    .dataframe tbody tr th {\n",
              "        vertical-align: top;\n",
              "    }\n",
              "\n",
              "    .dataframe thead th {\n",
              "        text-align: right;\n",
              "    }\n",
              "</style>\n",
              "<table border=\"1\" class=\"dataframe\">\n",
              "  <thead>\n",
              "    <tr style=\"text-align: right;\">\n",
              "      <th></th>\n",
              "      <th>driverId</th>\n",
              "      <th>driverRef</th>\n",
              "      <th>number</th>\n",
              "      <th>code</th>\n",
              "      <th>forename</th>\n",
              "      <th>surname</th>\n",
              "      <th>dob</th>\n",
              "      <th>nationality</th>\n",
              "      <th>url</th>\n",
              "    </tr>\n",
              "  </thead>\n",
              "  <tbody>\n",
              "    <tr>\n",
              "      <th>0</th>\n",
              "      <td>1</td>\n",
              "      <td>hamilton</td>\n",
              "      <td>44</td>\n",
              "      <td>HAM</td>\n",
              "      <td>Lewis</td>\n",
              "      <td>Hamilton</td>\n",
              "      <td>1985-01-07</td>\n",
              "      <td>British</td>\n",
              "      <td>http://en.wikipedia.org/wiki/Lewis_Hamilton</td>\n",
              "    </tr>\n",
              "    <tr>\n",
              "      <th>1</th>\n",
              "      <td>2</td>\n",
              "      <td>heidfeld</td>\n",
              "      <td>\\N</td>\n",
              "      <td>HEI</td>\n",
              "      <td>Nick</td>\n",
              "      <td>Heidfeld</td>\n",
              "      <td>1977-05-10</td>\n",
              "      <td>German</td>\n",
              "      <td>http://en.wikipedia.org/wiki/Nick_Heidfeld</td>\n",
              "    </tr>\n",
              "    <tr>\n",
              "      <th>2</th>\n",
              "      <td>3</td>\n",
              "      <td>rosberg</td>\n",
              "      <td>6</td>\n",
              "      <td>ROS</td>\n",
              "      <td>Nico</td>\n",
              "      <td>Rosberg</td>\n",
              "      <td>1985-06-27</td>\n",
              "      <td>German</td>\n",
              "      <td>http://en.wikipedia.org/wiki/Nico_Rosberg</td>\n",
              "    </tr>\n",
              "    <tr>\n",
              "      <th>3</th>\n",
              "      <td>4</td>\n",
              "      <td>alonso</td>\n",
              "      <td>14</td>\n",
              "      <td>ALO</td>\n",
              "      <td>Fernando</td>\n",
              "      <td>Alonso</td>\n",
              "      <td>1981-07-29</td>\n",
              "      <td>Spanish</td>\n",
              "      <td>http://en.wikipedia.org/wiki/Fernando_Alonso</td>\n",
              "    </tr>\n",
              "    <tr>\n",
              "      <th>4</th>\n",
              "      <td>5</td>\n",
              "      <td>kovalainen</td>\n",
              "      <td>\\N</td>\n",
              "      <td>KOV</td>\n",
              "      <td>Heikki</td>\n",
              "      <td>Kovalainen</td>\n",
              "      <td>1981-10-19</td>\n",
              "      <td>Finnish</td>\n",
              "      <td>http://en.wikipedia.org/wiki/Heikki_Kovalainen</td>\n",
              "    </tr>\n",
              "  </tbody>\n",
              "</table>\n",
              "</div>"
            ],
            "text/plain": [
              "   driverId  ...                                             url\n",
              "0         1  ...     http://en.wikipedia.org/wiki/Lewis_Hamilton\n",
              "1         2  ...      http://en.wikipedia.org/wiki/Nick_Heidfeld\n",
              "2         3  ...       http://en.wikipedia.org/wiki/Nico_Rosberg\n",
              "3         4  ...    http://en.wikipedia.org/wiki/Fernando_Alonso\n",
              "4         5  ...  http://en.wikipedia.org/wiki/Heikki_Kovalainen\n",
              "\n",
              "[5 rows x 9 columns]"
            ]
          },
          "metadata": {
            "tags": []
          },
          "execution_count": 37
        }
      ]
    },
    {
      "cell_type": "markdown",
      "metadata": {
        "id": "bvVArtrDQeR7"
      },
      "source": [
        "Descrição dos tipos <br>\n",
        "nationality: categórico nominal\n"
      ]
    },
    {
      "cell_type": "code",
      "metadata": {
        "id": "ANKZ9HIWQo3j"
      },
      "source": [
        "drivers[\"nationality\"] = drivers[\"nationality\"].astype(\"category\")"
      ],
      "execution_count": 38,
      "outputs": []
    },
    {
      "cell_type": "code",
      "metadata": {
        "id": "B290mtzPQwVO",
        "outputId": "2c3938b3-85b0-4ba6-ab27-e799d81935e2",
        "colab": {
          "base_uri": "https://localhost:8080/",
          "height": 0
        }
      },
      "source": [
        "drivers[\"nationality\"].cat.categories"
      ],
      "execution_count": 39,
      "outputs": [
        {
          "output_type": "execute_result",
          "data": {
            "text/plain": [
              "Index(['American', 'American-Italian', 'Argentine', 'Argentine-Italian',\n",
              "       'Australian', 'Austrian', 'Belgian', 'Brazilian', 'British', 'Canadian',\n",
              "       'Chilean', 'Colombian', 'Czech', 'Danish', 'Dutch', 'East German',\n",
              "       'Finnish', 'French', 'German', 'Hungarian', 'Indian', 'Indonesian',\n",
              "       'Irish', 'Italian', 'Japanese', 'Liechtensteiner', 'Malaysian',\n",
              "       'Mexican', 'Monegasque', 'New Zealander', 'Polish', 'Portuguese',\n",
              "       'Rhodesian', 'Russian', 'South African', 'Spanish', 'Swedish', 'Swiss',\n",
              "       'Thai', 'Uruguayan', 'Venezuelan'],\n",
              "      dtype='object')"
            ]
          },
          "metadata": {
            "tags": []
          },
          "execution_count": 39
        }
      ]
    },
    {
      "cell_type": "code",
      "metadata": {
        "id": "lkfDrj83QLUQ",
        "outputId": "2abb166e-b369-409e-b7a0-7db920a62829",
        "colab": {
          "base_uri": "https://localhost:8080/",
          "height": 0
        }
      },
      "source": [
        "drivers.dtypes"
      ],
      "execution_count": 40,
      "outputs": [
        {
          "output_type": "execute_result",
          "data": {
            "text/plain": [
              "driverId          int64\n",
              "driverRef        object\n",
              "number           object\n",
              "code             object\n",
              "forename         object\n",
              "surname          object\n",
              "dob              object\n",
              "nationality    category\n",
              "url              object\n",
              "dtype: object"
            ]
          },
          "metadata": {
            "tags": []
          },
          "execution_count": 40
        }
      ]
    },
    {
      "cell_type": "markdown",
      "metadata": {
        "id": "SZte1SXCnatS"
      },
      "source": [
        "Quantidade de pilotos por nacionalidade"
      ]
    },
    {
      "cell_type": "code",
      "metadata": {
        "id": "ZINi5uvknaOw",
        "outputId": "ccf31e82-972a-4c9b-e4a1-858d3fd77f93",
        "colab": {
          "base_uri": "https://localhost:8080/",
          "height": 0
        }
      },
      "source": [
        "drivers.groupby(['nationality']).agg(['count'])['driverRef'].sort_values(by='count', ascending=False).plot.barh()"
      ],
      "execution_count": 41,
      "outputs": [
        {
          "output_type": "execute_result",
          "data": {
            "text/plain": [
              "<matplotlib.axes._subplots.AxesSubplot at 0x7f62d27ff048>"
            ]
          },
          "metadata": {
            "tags": []
          },
          "execution_count": 41
        },
        {
          "output_type": "display_data",
          "data": {
            "image/png": "[encoded data removed]",
            "text/plain": [
              "<Figure size 432x288 with 1 Axes>"
            ]
          },
          "metadata": {
            "tags": [],
            "needs_background": "light"
          }
        }
      ]
    },
    {
      "cell_type": "markdown",
      "metadata": {
        "id": "syF_h7wMQ8zf"
      },
      "source": [
        "# Pilotos Standings\n"
      ]
    },
    {
      "cell_type": "markdown",
      "metadata": {
        "id": "9zkOUL_tRHLO"
      },
      "source": [
        "Descrção dos dados </br>\n",
        "positionText: categórico nomimal"
      ]
    },
    {
      "cell_type": "code",
      "metadata": {
        "id": "vacpm-MwRAFK",
        "outputId": "50a77849-1448-414b-f1f1-e8e587092459",
        "colab": {
          "base_uri": "https://localhost:8080/",
          "height": 204
        }
      },
      "source": [
        "driver_standings.head()"
      ],
      "execution_count": 42,
      "outputs": [
        {
          "output_type": "execute_result",
          "data": {
            "text/html": [
              "<div>\n",
              "<style scoped>\n",
              "    .dataframe tbody tr th:only-of-type {\n",
              "        vertical-align: middle;\n",
              "    }\n",
              "\n",
              "    .dataframe tbody tr th {\n",
              "        vertical-align: top;\n",
              "    }\n",
              "\n",
              "    .dataframe thead th {\n",
              "        text-align: right;\n",
              "    }\n",
              "</style>\n",
              "<table border=\"1\" class=\"dataframe\">\n",
              "  <thead>\n",
              "    <tr style=\"text-align: right;\">\n",
              "      <th></th>\n",
              "      <th>driverStandingsId</th>\n",
              "      <th>raceId</th>\n",
              "      <th>driverId</th>\n",
              "      <th>points</th>\n",
              "      <th>position</th>\n",
              "      <th>positionText</th>\n",
              "      <th>wins</th>\n",
              "      <th>year</th>\n",
              "      <th>points_norm</th>\n",
              "    </tr>\n",
              "  </thead>\n",
              "  <tbody>\n",
              "    <tr>\n",
              "      <th>0</th>\n",
              "      <td>1</td>\n",
              "      <td>18</td>\n",
              "      <td>1</td>\n",
              "      <td>10.0</td>\n",
              "      <td>1</td>\n",
              "      <td>1</td>\n",
              "      <td>1</td>\n",
              "      <td>2008</td>\n",
              "      <td>0.067568</td>\n",
              "    </tr>\n",
              "    <tr>\n",
              "      <th>1</th>\n",
              "      <td>2</td>\n",
              "      <td>18</td>\n",
              "      <td>2</td>\n",
              "      <td>8.0</td>\n",
              "      <td>2</td>\n",
              "      <td>2</td>\n",
              "      <td>0</td>\n",
              "      <td>2008</td>\n",
              "      <td>0.054054</td>\n",
              "    </tr>\n",
              "    <tr>\n",
              "      <th>2</th>\n",
              "      <td>3</td>\n",
              "      <td>18</td>\n",
              "      <td>3</td>\n",
              "      <td>6.0</td>\n",
              "      <td>3</td>\n",
              "      <td>3</td>\n",
              "      <td>0</td>\n",
              "      <td>2008</td>\n",
              "      <td>0.040541</td>\n",
              "    </tr>\n",
              "    <tr>\n",
              "      <th>3</th>\n",
              "      <td>4</td>\n",
              "      <td>18</td>\n",
              "      <td>4</td>\n",
              "      <td>5.0</td>\n",
              "      <td>4</td>\n",
              "      <td>4</td>\n",
              "      <td>0</td>\n",
              "      <td>2008</td>\n",
              "      <td>0.033784</td>\n",
              "    </tr>\n",
              "    <tr>\n",
              "      <th>4</th>\n",
              "      <td>5</td>\n",
              "      <td>18</td>\n",
              "      <td>5</td>\n",
              "      <td>4.0</td>\n",
              "      <td>5</td>\n",
              "      <td>5</td>\n",
              "      <td>0</td>\n",
              "      <td>2008</td>\n",
              "      <td>0.027027</td>\n",
              "    </tr>\n",
              "  </tbody>\n",
              "</table>\n",
              "</div>"
            ],
            "text/plain": [
              "   driverStandingsId  raceId  driverId  ...  wins  year points_norm\n",
              "0                  1      18         1  ...     1  2008    0.067568\n",
              "1                  2      18         2  ...     0  2008    0.054054\n",
              "2                  3      18         3  ...     0  2008    0.040541\n",
              "3                  4      18         4  ...     0  2008    0.033784\n",
              "4                  5      18         5  ...     0  2008    0.027027\n",
              "\n",
              "[5 rows x 9 columns]"
            ]
          },
          "metadata": {
            "tags": []
          },
          "execution_count": 42
        }
      ]
    },
    {
      "cell_type": "code",
      "metadata": {
        "id": "SVUchNPRRKR_"
      },
      "source": [
        "driver_standings[\"positionText\"] = driver_standings[\"positionText\"].astype(\"category\") "
      ],
      "execution_count": 43,
      "outputs": []
    },
    {
      "cell_type": "code",
      "metadata": {
        "id": "CMwDI5YdRXSQ",
        "outputId": "484163bd-b6f6-4c31-8751-868613fc72f9",
        "colab": {
          "base_uri": "https://localhost:8080/",
          "height": 85
        }
      },
      "source": [
        "driver_standings[\"positionText\"].cat.categories"
      ],
      "execution_count": 44,
      "outputs": [
        {
          "output_type": "execute_result",
          "data": {
            "text/plain": [
              "Index(['1', '10', '100', '101', '102', '103', '104', '105', '106', '107',\n",
              "       ...\n",
              "       '91', '92', '93', '94', '95', '96', '97', '98', '99', 'D'],\n",
              "      dtype='object', length=109)"
            ]
          },
          "metadata": {
            "tags": []
          },
          "execution_count": 44
        }
      ]
    },
    {
      "cell_type": "code",
      "metadata": {
        "id": "dcXldMPPRTiX",
        "outputId": "e92c449f-7e51-4b90-a9d3-ac1a7fc2d0ad",
        "colab": {
          "base_uri": "https://localhost:8080/",
          "height": 187
        }
      },
      "source": [
        "driver_standings.dtypes"
      ],
      "execution_count": 45,
      "outputs": [
        {
          "output_type": "execute_result",
          "data": {
            "text/plain": [
              "driverStandingsId       int64\n",
              "raceId                  int64\n",
              "driverId                int64\n",
              "points                float64\n",
              "position                int64\n",
              "positionText         category\n",
              "wins                    int64\n",
              "year                    int64\n",
              "points_norm           float64\n",
              "dtype: object"
            ]
          },
          "metadata": {
            "tags": []
          },
          "execution_count": 45
        }
      ]
    },
    {
      "cell_type": "markdown",
      "metadata": {
        "id": "RuqU-vZfoMYa"
      },
      "source": [
        "Gráfico de desempenho dos pilotos com pelo menos uma vitória a partir do ano 2000"
      ]
    },
    {
      "cell_type": "code",
      "metadata": {
        "id": "f8nkAbn6oMLf",
        "outputId": "1a7cb921-d22c-4ebd-f166-060836563fe6",
        "colab": {
          "base_uri": "https://localhost:8080/",
          "height": 204
        }
      },
      "source": [
        "driver_standings[\"year\"] = driver_standings.raceId.map(races.set_index(\"raceId\")[\"year\"])\n",
        "driver_standings[\"name\"] = driver_standings.driverId.map(drivers.set_index(\"driverId\")[\"driverRef\"])\n",
        "driver_standings_from_2000 = driver_standings[driver_standings[\"year\"] >= 2000]\n",
        "driver_standings_from_2000.head()"
      ],
      "execution_count": 46,
      "outputs": [
        {
          "output_type": "execute_result",
          "data": {
            "text/html": [
              "<div>\n",
              "<style scoped>\n",
              "    .dataframe tbody tr th:only-of-type {\n",
              "        vertical-align: middle;\n",
              "    }\n",
              "\n",
              "    .dataframe tbody tr th {\n",
              "        vertical-align: top;\n",
              "    }\n",
              "\n",
              "    .dataframe thead th {\n",
              "        text-align: right;\n",
              "    }\n",
              "</style>\n",
              "<table border=\"1\" class=\"dataframe\">\n",
              "  <thead>\n",
              "    <tr style=\"text-align: right;\">\n",
              "      <th></th>\n",
              "      <th>driverStandingsId</th>\n",
              "      <th>raceId</th>\n",
              "      <th>driverId</th>\n",
              "      <th>points</th>\n",
              "      <th>position</th>\n",
              "      <th>positionText</th>\n",
              "      <th>wins</th>\n",
              "      <th>year</th>\n",
              "      <th>points_norm</th>\n",
              "      <th>name</th>\n",
              "    </tr>\n",
              "  </thead>\n",
              "  <tbody>\n",
              "    <tr>\n",
              "      <th>0</th>\n",
              "      <td>1</td>\n",
              "      <td>18</td>\n",
              "      <td>1</td>\n",
              "      <td>10.0</td>\n",
              "      <td>1</td>\n",
              "      <td>1</td>\n",
              "      <td>1</td>\n",
              "      <td>2008</td>\n",
              "      <td>0.067568</td>\n",
              "      <td>hamilton</td>\n",
              "    </tr>\n",
              "    <tr>\n",
              "      <th>1</th>\n",
              "      <td>2</td>\n",
              "      <td>18</td>\n",
              "      <td>2</td>\n",
              "      <td>8.0</td>\n",
              "      <td>2</td>\n",
              "      <td>2</td>\n",
              "      <td>0</td>\n",
              "      <td>2008</td>\n",
              "      <td>0.054054</td>\n",
              "      <td>heidfeld</td>\n",
              "    </tr>\n",
              "    <tr>\n",
              "      <th>2</th>\n",
              "      <td>3</td>\n",
              "      <td>18</td>\n",
              "      <td>3</td>\n",
              "      <td>6.0</td>\n",
              "      <td>3</td>\n",
              "      <td>3</td>\n",
              "      <td>0</td>\n",
              "      <td>2008</td>\n",
              "      <td>0.040541</td>\n",
              "      <td>rosberg</td>\n",
              "    </tr>\n",
              "    <tr>\n",
              "      <th>3</th>\n",
              "      <td>4</td>\n",
              "      <td>18</td>\n",
              "      <td>4</td>\n",
              "      <td>5.0</td>\n",
              "      <td>4</td>\n",
              "      <td>4</td>\n",
              "      <td>0</td>\n",
              "      <td>2008</td>\n",
              "      <td>0.033784</td>\n",
              "      <td>alonso</td>\n",
              "    </tr>\n",
              "    <tr>\n",
              "      <th>4</th>\n",
              "      <td>5</td>\n",
              "      <td>18</td>\n",
              "      <td>5</td>\n",
              "      <td>4.0</td>\n",
              "      <td>5</td>\n",
              "      <td>5</td>\n",
              "      <td>0</td>\n",
              "      <td>2008</td>\n",
              "      <td>0.027027</td>\n",
              "      <td>kovalainen</td>\n",
              "    </tr>\n",
              "  </tbody>\n",
              "</table>\n",
              "</div>"
            ],
            "text/plain": [
              "   driverStandingsId  raceId  driverId  ...  year  points_norm        name\n",
              "0                  1      18         1  ...  2008     0.067568    hamilton\n",
              "1                  2      18         2  ...  2008     0.054054    heidfeld\n",
              "2                  3      18         3  ...  2008     0.040541     rosberg\n",
              "3                  4      18         4  ...  2008     0.033784      alonso\n",
              "4                  5      18         5  ...  2008     0.027027  kovalainen\n",
              "\n",
              "[5 rows x 10 columns]"
            ]
          },
          "metadata": {
            "tags": []
          },
          "execution_count": 46
        }
      ]
    },
    {
      "cell_type": "code",
      "metadata": {
        "id": "0Y4Btko5osDR"
      },
      "source": [
        "names = driver_standings_from_2000[\"name\"].unique().tolist()"
      ],
      "execution_count": 47,
      "outputs": []
    },
    {
      "cell_type": "code",
      "metadata": {
        "id": "1qOshXcgowVx"
      },
      "source": [
        "for name in names:\n",
        "  x = driver_standings_from_2000.loc[driver_standings_from_2000[\"name\"] == name]\n",
        "  x = x.groupby([\"year\"]).agg(\"max\")\n",
        "  if x.wins.max() > 0: \n",
        "    plt.plot(x.index, x.points_norm, label=name)\n",
        "\n",
        "fig = plt.gcf()\n",
        "fig.set_size_inches(20, 15)\n",
        "plt.legend()\n",
        "plt.show()"
      ],
      "execution_count": null,
      "outputs": []
    },
    {
      "cell_type": "code",
      "metadata": {
        "id": "PatlFGGRrA96"
      },
      "source": [
        "for name in names:\n",
        "  x = driver_standings_from_2000.loc[driver_standings_from_2000[\"name\"] == name]\n",
        "  x = x.groupby([\"year\"]).agg(\"max\")\n",
        "  if x.wins.max() > 0: \n",
        "    plt.plot(x.index, x.wins, label=name)\n",
        "\n",
        "fig = plt.gcf()\n",
        "fig.set_size_inches(20, 15)\n",
        "plt.legend()\n",
        "plt.show()"
      ],
      "execution_count": null,
      "outputs": []
    },
    {
      "cell_type": "code",
      "metadata": {
        "id": "4EmEhY7h6dWP"
      },
      "source": [
        "driver_standings.set_index(\"points\", inplace=True, drop=False)"
      ],
      "execution_count": 50,
      "outputs": []
    },
    {
      "cell_type": "markdown",
      "metadata": {
        "id": "z57Jbv__rdWd"
      },
      "source": [
        "A pergunta vem a tona, o numero de vitórias é relevante para ser campeão do mundial de pilotos?\n"
      ]
    },
    {
      "cell_type": "code",
      "metadata": {
        "id": "STBh6MamAEFB",
        "outputId": "7bc8f8e8-df47-4b4f-81e6-20664f7e1fb9",
        "colab": {
          "base_uri": "https://localhost:8080/",
          "height": 136
        }
      },
      "source": [
        "years = driver_standings[\"year\"].unique()\n",
        "years"
      ],
      "execution_count": 51,
      "outputs": [
        {
          "output_type": "execute_result",
          "data": {
            "text/plain": [
              "array([2008, 2007, 2006, 2005, 2004, 2003, 2002, 2001, 2000, 1999, 1998,\n",
              "       1997, 1996, 1995, 1994, 1993, 1992, 2017, 1991, 1990, 2009, 1989,\n",
              "       1988, 1987, 1986, 1985, 1984, 1983, 1982, 1981, 1980, 1979, 1978,\n",
              "       1977, 1976, 1975, 1974, 1973, 1972, 1971, 1970, 1969, 1968, 1967,\n",
              "       1966, 1965, 1964, 1963, 1962, 1961, 1960, 1959, 1958, 1957, 1956,\n",
              "       1955, 1954, 1953, 1952, 1951, 1950, 2010, 2011, 2012, 2013, 2014,\n",
              "       2015, 2016, 2018, 2019, 2020])"
            ]
          },
          "metadata": {
            "tags": []
          },
          "execution_count": 51
        }
      ]
    },
    {
      "cell_type": "code",
      "metadata": {
        "id": "BsXb0b5791k-",
        "outputId": "49bb79e4-075b-4dfc-b9dc-fc61eb9acee0",
        "colab": {
          "base_uri": "https://localhost:8080/",
          "height": 419
        }
      },
      "source": [
        "champions_by_year = [driver_standings[driver_standings[\"year\"] == year].groupby(\"driverId\").agg(\"max\").sort_values(by=\"points\", ascending=False).iloc[0] for year in years] \n",
        "champions_by_year = pd.DataFrame(champions_by_year)\n",
        "champions_by_year.sort_values(by=\"year\")"
      ],
      "execution_count": 52,
      "outputs": [
        {
          "output_type": "execute_result",
          "data": {
            "text/html": [
              "<div>\n",
              "<style scoped>\n",
              "    .dataframe tbody tr th:only-of-type {\n",
              "        vertical-align: middle;\n",
              "    }\n",
              "\n",
              "    .dataframe tbody tr th {\n",
              "        vertical-align: top;\n",
              "    }\n",
              "\n",
              "    .dataframe thead th {\n",
              "        text-align: right;\n",
              "    }\n",
              "</style>\n",
              "<table border=\"1\" class=\"dataframe\">\n",
              "  <thead>\n",
              "    <tr style=\"text-align: right;\">\n",
              "      <th></th>\n",
              "      <th>driverStandingsId</th>\n",
              "      <th>raceId</th>\n",
              "      <th>points</th>\n",
              "      <th>position</th>\n",
              "      <th>wins</th>\n",
              "      <th>year</th>\n",
              "      <th>points_norm</th>\n",
              "      <th>name</th>\n",
              "    </tr>\n",
              "  </thead>\n",
              "  <tbody>\n",
              "    <tr>\n",
              "      <th>642</th>\n",
              "      <td>43539</td>\n",
              "      <td>839</td>\n",
              "      <td>30.0</td>\n",
              "      <td>3</td>\n",
              "      <td>3</td>\n",
              "      <td>1950</td>\n",
              "      <td>0.714286</td>\n",
              "      <td>farina</td>\n",
              "    </tr>\n",
              "    <tr>\n",
              "      <th>579</th>\n",
              "      <td>44049</td>\n",
              "      <td>832</td>\n",
              "      <td>31.0</td>\n",
              "      <td>2</td>\n",
              "      <td>3</td>\n",
              "      <td>1951</td>\n",
              "      <td>0.738095</td>\n",
              "      <td>fangio</td>\n",
              "    </tr>\n",
              "    <tr>\n",
              "      <th>647</th>\n",
              "      <td>44669</td>\n",
              "      <td>824</td>\n",
              "      <td>36.0</td>\n",
              "      <td>52</td>\n",
              "      <td>6</td>\n",
              "      <td>1952</td>\n",
              "      <td>0.857143</td>\n",
              "      <td>ascari</td>\n",
              "    </tr>\n",
              "    <tr>\n",
              "      <th>647</th>\n",
              "      <td>45286</td>\n",
              "      <td>816</td>\n",
              "      <td>34.5</td>\n",
              "      <td>1</td>\n",
              "      <td>5</td>\n",
              "      <td>1953</td>\n",
              "      <td>0.821429</td>\n",
              "      <td>ascari</td>\n",
              "    </tr>\n",
              "    <tr>\n",
              "      <th>579</th>\n",
              "      <td>52049</td>\n",
              "      <td>807</td>\n",
              "      <td>42.0</td>\n",
              "      <td>1</td>\n",
              "      <td>6</td>\n",
              "      <td>1954</td>\n",
              "      <td>1.000000</td>\n",
              "      <td>fangio</td>\n",
              "    </tr>\n",
              "    <tr>\n",
              "      <th>...</th>\n",
              "      <td>...</td>\n",
              "      <td>...</td>\n",
              "      <td>...</td>\n",
              "      <td>...</td>\n",
              "      <td>...</td>\n",
              "      <td>...</td>\n",
              "      <td>...</td>\n",
              "      <td>...</td>\n",
              "    </tr>\n",
              "    <tr>\n",
              "      <th>3</th>\n",
              "      <td>68132</td>\n",
              "      <td>968</td>\n",
              "      <td>385.0</td>\n",
              "      <td>2</td>\n",
              "      <td>9</td>\n",
              "      <td>2016</td>\n",
              "      <td>0.943627</td>\n",
              "      <td>rosberg</td>\n",
              "    </tr>\n",
              "    <tr>\n",
              "      <th>1</th>\n",
              "      <td>68585</td>\n",
              "      <td>988</td>\n",
              "      <td>363.0</td>\n",
              "      <td>2</td>\n",
              "      <td>9</td>\n",
              "      <td>2017</td>\n",
              "      <td>0.889706</td>\n",
              "      <td>hamilton</td>\n",
              "    </tr>\n",
              "    <tr>\n",
              "      <th>1</th>\n",
              "      <td>69110</td>\n",
              "      <td>1009</td>\n",
              "      <td>408.0</td>\n",
              "      <td>2</td>\n",
              "      <td>11</td>\n",
              "      <td>2018</td>\n",
              "      <td>1.000000</td>\n",
              "      <td>hamilton</td>\n",
              "    </tr>\n",
              "    <tr>\n",
              "      <th>1</th>\n",
              "      <td>69750</td>\n",
              "      <td>1030</td>\n",
              "      <td>413.0</td>\n",
              "      <td>2</td>\n",
              "      <td>11</td>\n",
              "      <td>2019</td>\n",
              "      <td>1.000000</td>\n",
              "      <td>hamilton</td>\n",
              "    </tr>\n",
              "    <tr>\n",
              "      <th>1</th>\n",
              "      <td>69914</td>\n",
              "      <td>1036</td>\n",
              "      <td>132.0</td>\n",
              "      <td>4</td>\n",
              "      <td>4</td>\n",
              "      <td>2020</td>\n",
              "      <td>0.319613</td>\n",
              "      <td>hamilton</td>\n",
              "    </tr>\n",
              "  </tbody>\n",
              "</table>\n",
              "<p>71 rows × 8 columns</p>\n",
              "</div>"
            ],
            "text/plain": [
              "     driverStandingsId  raceId  points  ...  year  points_norm      name\n",
              "642              43539     839    30.0  ...  1950     0.714286    farina\n",
              "579              44049     832    31.0  ...  1951     0.738095    fangio\n",
              "647              44669     824    36.0  ...  1952     0.857143    ascari\n",
              "647              45286     816    34.5  ...  1953     0.821429    ascari\n",
              "579              52049     807    42.0  ...  1954     1.000000    fangio\n",
              "..                 ...     ...     ...  ...   ...          ...       ...\n",
              "3                68132     968   385.0  ...  2016     0.943627   rosberg\n",
              "1                68585     988   363.0  ...  2017     0.889706  hamilton\n",
              "1                69110    1009   408.0  ...  2018     1.000000  hamilton\n",
              "1                69750    1030   413.0  ...  2019     1.000000  hamilton\n",
              "1                69914    1036   132.0  ...  2020     0.319613  hamilton\n",
              "\n",
              "[71 rows x 8 columns]"
            ]
          },
          "metadata": {
            "tags": []
          },
          "execution_count": 52
        }
      ]
    },
    {
      "cell_type": "code",
      "metadata": {
        "id": "DGfOlWmoFx00",
        "outputId": "d2a51aae-37d6-481e-ff98-017b53d130cf",
        "colab": {
          "base_uri": "https://localhost:8080/",
          "height": 419
        }
      },
      "source": [
        "champions_by_year[\"win_percentage\"] = champions_by_year[\"wins\"] / champions_by_year.year.map(races.groupby(\"year\").agg(\"count\")[\"raceId\"])\n",
        "champions_by_year"
      ],
      "execution_count": 53,
      "outputs": [
        {
          "output_type": "execute_result",
          "data": {
            "text/html": [
              "<div>\n",
              "<style scoped>\n",
              "    .dataframe tbody tr th:only-of-type {\n",
              "        vertical-align: middle;\n",
              "    }\n",
              "\n",
              "    .dataframe tbody tr th {\n",
              "        vertical-align: top;\n",
              "    }\n",
              "\n",
              "    .dataframe thead th {\n",
              "        text-align: right;\n",
              "    }\n",
              "</style>\n",
              "<table border=\"1\" class=\"dataframe\">\n",
              "  <thead>\n",
              "    <tr style=\"text-align: right;\">\n",
              "      <th></th>\n",
              "      <th>driverStandingsId</th>\n",
              "      <th>raceId</th>\n",
              "      <th>points</th>\n",
              "      <th>position</th>\n",
              "      <th>wins</th>\n",
              "      <th>year</th>\n",
              "      <th>points_norm</th>\n",
              "      <th>name</th>\n",
              "      <th>win_percentage</th>\n",
              "    </tr>\n",
              "  </thead>\n",
              "  <tbody>\n",
              "    <tr>\n",
              "      <th>1</th>\n",
              "      <td>3438</td>\n",
              "      <td>35</td>\n",
              "      <td>98.0</td>\n",
              "      <td>4</td>\n",
              "      <td>5</td>\n",
              "      <td>2008</td>\n",
              "      <td>0.662162</td>\n",
              "      <td>hamilton</td>\n",
              "      <td>0.277778</td>\n",
              "    </tr>\n",
              "    <tr>\n",
              "      <th>8</th>\n",
              "      <td>13972</td>\n",
              "      <td>52</td>\n",
              "      <td>110.0</td>\n",
              "      <td>4</td>\n",
              "      <td>6</td>\n",
              "      <td>2007</td>\n",
              "      <td>0.743243</td>\n",
              "      <td>raikkonen</td>\n",
              "      <td>0.352941</td>\n",
              "    </tr>\n",
              "    <tr>\n",
              "      <th>4</th>\n",
              "      <td>13202</td>\n",
              "      <td>70</td>\n",
              "      <td>134.0</td>\n",
              "      <td>2</td>\n",
              "      <td>7</td>\n",
              "      <td>2006</td>\n",
              "      <td>0.905405</td>\n",
              "      <td>alonso</td>\n",
              "      <td>0.388889</td>\n",
              "    </tr>\n",
              "    <tr>\n",
              "      <th>4</th>\n",
              "      <td>64320</td>\n",
              "      <td>89</td>\n",
              "      <td>133.0</td>\n",
              "      <td>3</td>\n",
              "      <td>7</td>\n",
              "      <td>2005</td>\n",
              "      <td>0.898649</td>\n",
              "      <td>alonso</td>\n",
              "      <td>0.368421</td>\n",
              "    </tr>\n",
              "    <tr>\n",
              "      <th>30</th>\n",
              "      <td>12782</td>\n",
              "      <td>107</td>\n",
              "      <td>148.0</td>\n",
              "      <td>1</td>\n",
              "      <td>13</td>\n",
              "      <td>2004</td>\n",
              "      <td>1.000000</td>\n",
              "      <td>michael_schumacher</td>\n",
              "      <td>0.722222</td>\n",
              "    </tr>\n",
              "    <tr>\n",
              "      <th>...</th>\n",
              "      <td>...</td>\n",
              "      <td>...</td>\n",
              "      <td>...</td>\n",
              "      <td>...</td>\n",
              "      <td>...</td>\n",
              "      <td>...</td>\n",
              "      <td>...</td>\n",
              "      <td>...</td>\n",
              "      <td>...</td>\n",
              "    </tr>\n",
              "    <tr>\n",
              "      <th>1</th>\n",
              "      <td>67527</td>\n",
              "      <td>945</td>\n",
              "      <td>381.0</td>\n",
              "      <td>1</td>\n",
              "      <td>10</td>\n",
              "      <td>2015</td>\n",
              "      <td>0.933824</td>\n",
              "      <td>hamilton</td>\n",
              "      <td>0.526316</td>\n",
              "    </tr>\n",
              "    <tr>\n",
              "      <th>3</th>\n",
              "      <td>68132</td>\n",
              "      <td>968</td>\n",
              "      <td>385.0</td>\n",
              "      <td>2</td>\n",
              "      <td>9</td>\n",
              "      <td>2016</td>\n",
              "      <td>0.943627</td>\n",
              "      <td>rosberg</td>\n",
              "      <td>0.428571</td>\n",
              "    </tr>\n",
              "    <tr>\n",
              "      <th>1</th>\n",
              "      <td>69110</td>\n",
              "      <td>1009</td>\n",
              "      <td>408.0</td>\n",
              "      <td>2</td>\n",
              "      <td>11</td>\n",
              "      <td>2018</td>\n",
              "      <td>1.000000</td>\n",
              "      <td>hamilton</td>\n",
              "      <td>0.523810</td>\n",
              "    </tr>\n",
              "    <tr>\n",
              "      <th>1</th>\n",
              "      <td>69750</td>\n",
              "      <td>1030</td>\n",
              "      <td>413.0</td>\n",
              "      <td>2</td>\n",
              "      <td>11</td>\n",
              "      <td>2019</td>\n",
              "      <td>1.000000</td>\n",
              "      <td>hamilton</td>\n",
              "      <td>0.523810</td>\n",
              "    </tr>\n",
              "    <tr>\n",
              "      <th>1</th>\n",
              "      <td>69914</td>\n",
              "      <td>1036</td>\n",
              "      <td>132.0</td>\n",
              "      <td>4</td>\n",
              "      <td>4</td>\n",
              "      <td>2020</td>\n",
              "      <td>0.319613</td>\n",
              "      <td>hamilton</td>\n",
              "      <td>0.307692</td>\n",
              "    </tr>\n",
              "  </tbody>\n",
              "</table>\n",
              "<p>71 rows × 9 columns</p>\n",
              "</div>"
            ],
            "text/plain": [
              "    driverStandingsId  raceId  ...                name  win_percentage\n",
              "1                3438      35  ...            hamilton        0.277778\n",
              "8               13972      52  ...           raikkonen        0.352941\n",
              "4               13202      70  ...              alonso        0.388889\n",
              "4               64320      89  ...              alonso        0.368421\n",
              "30              12782     107  ...  michael_schumacher        0.722222\n",
              "..                ...     ...  ...                 ...             ...\n",
              "1               67527     945  ...            hamilton        0.526316\n",
              "3               68132     968  ...             rosberg        0.428571\n",
              "1               69110    1009  ...            hamilton        0.523810\n",
              "1               69750    1030  ...            hamilton        0.523810\n",
              "1               69914    1036  ...            hamilton        0.307692\n",
              "\n",
              "[71 rows x 9 columns]"
            ]
          },
          "metadata": {
            "tags": []
          },
          "execution_count": 53
        }
      ]
    },
    {
      "cell_type": "code",
      "metadata": {
        "id": "CeUJTeeXSdLW"
      },
      "source": [
        "correlations = champions_by_year.corr(method=\"spearman\")"
      ],
      "execution_count": 54,
      "outputs": []
    },
    {
      "cell_type": "code",
      "metadata": {
        "id": "dnhgB6oEdOK7",
        "outputId": "d8ccfa28-7906-4488-aff3-e0edb2291292",
        "colab": {
          "base_uri": "https://localhost:8080/",
          "height": 34
        }
      },
      "source": [
        "correlations[\"win_percentage\"][\"points_norm\"]"
      ],
      "execution_count": 55,
      "outputs": [
        {
          "output_type": "execute_result",
          "data": {
            "text/plain": [
              "0.4277243160195616"
            ]
          },
          "metadata": {
            "tags": []
          },
          "execution_count": 55
        }
      ]
    },
    {
      "cell_type": "markdown",
      "metadata": {
        "id": "HzhIrH6PRiQV"
      },
      "source": [
        "# Tempos de Voltas"
      ]
    },
    {
      "cell_type": "code",
      "metadata": {
        "id": "kKH5pq9wRlxx",
        "outputId": "ed29d01c-7ac2-4dd3-c1fa-cc801f4f9bba",
        "colab": {
          "base_uri": "https://localhost:8080/",
          "height": 0
        }
      },
      "source": [
        "lap_times.head()"
      ],
      "execution_count": 56,
      "outputs": [
        {
          "output_type": "execute_result",
          "data": {
            "text/html": [
              "<div>\n",
              "<style scoped>\n",
              "    .dataframe tbody tr th:only-of-type {\n",
              "        vertical-align: middle;\n",
              "    }\n",
              "\n",
              "    .dataframe tbody tr th {\n",
              "        vertical-align: top;\n",
              "    }\n",
              "\n",
              "    .dataframe thead th {\n",
              "        text-align: right;\n",
              "    }\n",
              "</style>\n",
              "<table border=\"1\" class=\"dataframe\">\n",
              "  <thead>\n",
              "    <tr style=\"text-align: right;\">\n",
              "      <th></th>\n",
              "      <th>raceId</th>\n",
              "      <th>driverId</th>\n",
              "      <th>lap</th>\n",
              "      <th>position</th>\n",
              "      <th>time</th>\n",
              "      <th>milliseconds</th>\n",
              "    </tr>\n",
              "  </thead>\n",
              "  <tbody>\n",
              "    <tr>\n",
              "      <th>0</th>\n",
              "      <td>841</td>\n",
              "      <td>20</td>\n",
              "      <td>1</td>\n",
              "      <td>1</td>\n",
              "      <td>1:38.109</td>\n",
              "      <td>98109</td>\n",
              "    </tr>\n",
              "    <tr>\n",
              "      <th>1</th>\n",
              "      <td>841</td>\n",
              "      <td>20</td>\n",
              "      <td>2</td>\n",
              "      <td>1</td>\n",
              "      <td>1:33.006</td>\n",
              "      <td>93006</td>\n",
              "    </tr>\n",
              "    <tr>\n",
              "      <th>2</th>\n",
              "      <td>841</td>\n",
              "      <td>20</td>\n",
              "      <td>3</td>\n",
              "      <td>1</td>\n",
              "      <td>1:32.713</td>\n",
              "      <td>92713</td>\n",
              "    </tr>\n",
              "    <tr>\n",
              "      <th>3</th>\n",
              "      <td>841</td>\n",
              "      <td>20</td>\n",
              "      <td>4</td>\n",
              "      <td>1</td>\n",
              "      <td>1:32.803</td>\n",
              "      <td>92803</td>\n",
              "    </tr>\n",
              "    <tr>\n",
              "      <th>4</th>\n",
              "      <td>841</td>\n",
              "      <td>20</td>\n",
              "      <td>5</td>\n",
              "      <td>1</td>\n",
              "      <td>1:32.342</td>\n",
              "      <td>92342</td>\n",
              "    </tr>\n",
              "  </tbody>\n",
              "</table>\n",
              "</div>"
            ],
            "text/plain": [
              "   raceId  driverId  lap  position      time  milliseconds\n",
              "0     841        20    1         1  1:38.109         98109\n",
              "1     841        20    2         1  1:33.006         93006\n",
              "2     841        20    3         1  1:32.713         92713\n",
              "3     841        20    4         1  1:32.803         92803\n",
              "4     841        20    5         1  1:32.342         92342"
            ]
          },
          "metadata": {
            "tags": []
          },
          "execution_count": 56
        }
      ]
    },
    {
      "cell_type": "code",
      "metadata": {
        "id": "GJvoIpt7Rq2_",
        "outputId": "47a337e9-fa90-4f2f-fc44-7ad5dbb08fae",
        "colab": {
          "base_uri": "https://localhost:8080/",
          "height": 0
        }
      },
      "source": [
        "lap_times.dtypes"
      ],
      "execution_count": 57,
      "outputs": [
        {
          "output_type": "execute_result",
          "data": {
            "text/plain": [
              "raceId           int64\n",
              "driverId         int64\n",
              "lap              int64\n",
              "position         int64\n",
              "time            object\n",
              "milliseconds     int64\n",
              "dtype: object"
            ]
          },
          "metadata": {
            "tags": []
          },
          "execution_count": 57
        }
      ]
    },
    {
      "cell_type": "markdown",
      "metadata": {
        "id": "OPnORTblRx2H"
      },
      "source": [
        "#Pit Stops\n"
      ]
    },
    {
      "cell_type": "code",
      "metadata": {
        "id": "kwuAq6o_R1MB",
        "outputId": "d8c5ecc9-c42c-4cae-e35c-112984bb74d4",
        "colab": {
          "base_uri": "https://localhost:8080/",
          "height": 0
        }
      },
      "source": [
        "pit_stops.head()"
      ],
      "execution_count": 58,
      "outputs": [
        {
          "output_type": "execute_result",
          "data": {
            "text/html": [
              "<div>\n",
              "<style scoped>\n",
              "    .dataframe tbody tr th:only-of-type {\n",
              "        vertical-align: middle;\n",
              "    }\n",
              "\n",
              "    .dataframe tbody tr th {\n",
              "        vertical-align: top;\n",
              "    }\n",
              "\n",
              "    .dataframe thead th {\n",
              "        text-align: right;\n",
              "    }\n",
              "</style>\n",
              "<table border=\"1\" class=\"dataframe\">\n",
              "  <thead>\n",
              "    <tr style=\"text-align: right;\">\n",
              "      <th></th>\n",
              "      <th>raceId</th>\n",
              "      <th>driverId</th>\n",
              "      <th>stop</th>\n",
              "      <th>lap</th>\n",
              "      <th>time</th>\n",
              "      <th>duration</th>\n",
              "      <th>milliseconds</th>\n",
              "    </tr>\n",
              "  </thead>\n",
              "  <tbody>\n",
              "    <tr>\n",
              "      <th>0</th>\n",
              "      <td>841</td>\n",
              "      <td>153</td>\n",
              "      <td>1</td>\n",
              "      <td>1</td>\n",
              "      <td>17:05:23</td>\n",
              "      <td>26.898</td>\n",
              "      <td>26898</td>\n",
              "    </tr>\n",
              "    <tr>\n",
              "      <th>1</th>\n",
              "      <td>841</td>\n",
              "      <td>30</td>\n",
              "      <td>1</td>\n",
              "      <td>1</td>\n",
              "      <td>17:05:52</td>\n",
              "      <td>25.021</td>\n",
              "      <td>25021</td>\n",
              "    </tr>\n",
              "    <tr>\n",
              "      <th>2</th>\n",
              "      <td>841</td>\n",
              "      <td>17</td>\n",
              "      <td>1</td>\n",
              "      <td>11</td>\n",
              "      <td>17:20:48</td>\n",
              "      <td>23.426</td>\n",
              "      <td>23426</td>\n",
              "    </tr>\n",
              "    <tr>\n",
              "      <th>3</th>\n",
              "      <td>841</td>\n",
              "      <td>4</td>\n",
              "      <td>1</td>\n",
              "      <td>12</td>\n",
              "      <td>17:22:34</td>\n",
              "      <td>23.251</td>\n",
              "      <td>23251</td>\n",
              "    </tr>\n",
              "    <tr>\n",
              "      <th>4</th>\n",
              "      <td>841</td>\n",
              "      <td>13</td>\n",
              "      <td>1</td>\n",
              "      <td>13</td>\n",
              "      <td>17:24:10</td>\n",
              "      <td>23.842</td>\n",
              "      <td>23842</td>\n",
              "    </tr>\n",
              "  </tbody>\n",
              "</table>\n",
              "</div>"
            ],
            "text/plain": [
              "   raceId  driverId  stop  lap      time duration  milliseconds\n",
              "0     841       153     1    1  17:05:23   26.898         26898\n",
              "1     841        30     1    1  17:05:52   25.021         25021\n",
              "2     841        17     1   11  17:20:48   23.426         23426\n",
              "3     841         4     1   12  17:22:34   23.251         23251\n",
              "4     841        13     1   13  17:24:10   23.842         23842"
            ]
          },
          "metadata": {
            "tags": []
          },
          "execution_count": 58
        }
      ]
    },
    {
      "cell_type": "code",
      "metadata": {
        "id": "ae65_XCSR3Pf",
        "outputId": "3413f8de-96a9-451e-f088-6e88ecf5f006",
        "colab": {
          "base_uri": "https://localhost:8080/",
          "height": 0
        }
      },
      "source": [
        "pit_stops.dtypes"
      ],
      "execution_count": 59,
      "outputs": [
        {
          "output_type": "execute_result",
          "data": {
            "text/plain": [
              "raceId           int64\n",
              "driverId         int64\n",
              "stop             int64\n",
              "lap              int64\n",
              "time            object\n",
              "duration        object\n",
              "milliseconds     int64\n",
              "dtype: object"
            ]
          },
          "metadata": {
            "tags": []
          },
          "execution_count": 59
        }
      ]
    },
    {
      "cell_type": "markdown",
      "metadata": {
        "id": "eweBsr_SR-z5"
      },
      "source": [
        "# Qualificação\n"
      ]
    },
    {
      "cell_type": "code",
      "metadata": {
        "id": "-ayh69pESDeB",
        "outputId": "576b0c93-d216-4efb-ac01-783fc54cefca",
        "colab": {
          "base_uri": "https://localhost:8080/",
          "height": 0
        }
      },
      "source": [
        "qualifying.head()"
      ],
      "execution_count": 60,
      "outputs": [
        {
          "output_type": "execute_result",
          "data": {
            "text/html": [
              "<div>\n",
              "<style scoped>\n",
              "    .dataframe tbody tr th:only-of-type {\n",
              "        vertical-align: middle;\n",
              "    }\n",
              "\n",
              "    .dataframe tbody tr th {\n",
              "        vertical-align: top;\n",
              "    }\n",
              "\n",
              "    .dataframe thead th {\n",
              "        text-align: right;\n",
              "    }\n",
              "</style>\n",
              "<table border=\"1\" class=\"dataframe\">\n",
              "  <thead>\n",
              "    <tr style=\"text-align: right;\">\n",
              "      <th></th>\n",
              "      <th>qualifyId</th>\n",
              "      <th>raceId</th>\n",
              "      <th>driverId</th>\n",
              "      <th>constructorId</th>\n",
              "      <th>number</th>\n",
              "      <th>position</th>\n",
              "      <th>q1</th>\n",
              "      <th>q2</th>\n",
              "      <th>q3</th>\n",
              "    </tr>\n",
              "  </thead>\n",
              "  <tbody>\n",
              "    <tr>\n",
              "      <th>0</th>\n",
              "      <td>1</td>\n",
              "      <td>18</td>\n",
              "      <td>1</td>\n",
              "      <td>1</td>\n",
              "      <td>22</td>\n",
              "      <td>1</td>\n",
              "      <td>1:26.572</td>\n",
              "      <td>1:25.187</td>\n",
              "      <td>1:26.714</td>\n",
              "    </tr>\n",
              "    <tr>\n",
              "      <th>1</th>\n",
              "      <td>2</td>\n",
              "      <td>18</td>\n",
              "      <td>9</td>\n",
              "      <td>2</td>\n",
              "      <td>4</td>\n",
              "      <td>2</td>\n",
              "      <td>1:26.103</td>\n",
              "      <td>1:25.315</td>\n",
              "      <td>1:26.869</td>\n",
              "    </tr>\n",
              "    <tr>\n",
              "      <th>2</th>\n",
              "      <td>3</td>\n",
              "      <td>18</td>\n",
              "      <td>5</td>\n",
              "      <td>1</td>\n",
              "      <td>23</td>\n",
              "      <td>3</td>\n",
              "      <td>1:25.664</td>\n",
              "      <td>1:25.452</td>\n",
              "      <td>1:27.079</td>\n",
              "    </tr>\n",
              "    <tr>\n",
              "      <th>3</th>\n",
              "      <td>4</td>\n",
              "      <td>18</td>\n",
              "      <td>13</td>\n",
              "      <td>6</td>\n",
              "      <td>2</td>\n",
              "      <td>4</td>\n",
              "      <td>1:25.994</td>\n",
              "      <td>1:25.691</td>\n",
              "      <td>1:27.178</td>\n",
              "    </tr>\n",
              "    <tr>\n",
              "      <th>4</th>\n",
              "      <td>5</td>\n",
              "      <td>18</td>\n",
              "      <td>2</td>\n",
              "      <td>2</td>\n",
              "      <td>3</td>\n",
              "      <td>5</td>\n",
              "      <td>1:25.960</td>\n",
              "      <td>1:25.518</td>\n",
              "      <td>1:27.236</td>\n",
              "    </tr>\n",
              "  </tbody>\n",
              "</table>\n",
              "</div>"
            ],
            "text/plain": [
              "   qualifyId  raceId  driverId  ...        q1        q2        q3\n",
              "0          1      18         1  ...  1:26.572  1:25.187  1:26.714\n",
              "1          2      18         9  ...  1:26.103  1:25.315  1:26.869\n",
              "2          3      18         5  ...  1:25.664  1:25.452  1:27.079\n",
              "3          4      18        13  ...  1:25.994  1:25.691  1:27.178\n",
              "4          5      18         2  ...  1:25.960  1:25.518  1:27.236\n",
              "\n",
              "[5 rows x 9 columns]"
            ]
          },
          "metadata": {
            "tags": []
          },
          "execution_count": 60
        }
      ]
    },
    {
      "cell_type": "code",
      "metadata": {
        "id": "slxHLdITSFpz",
        "outputId": "177bdd0d-fc5b-40f1-beb0-3eae848b8588",
        "colab": {
          "base_uri": "https://localhost:8080/",
          "height": 0
        }
      },
      "source": [
        "qualifying.dtypes"
      ],
      "execution_count": 61,
      "outputs": [
        {
          "output_type": "execute_result",
          "data": {
            "text/plain": [
              "qualifyId         int64\n",
              "raceId            int64\n",
              "driverId          int64\n",
              "constructorId     int64\n",
              "number            int64\n",
              "position          int64\n",
              "q1               object\n",
              "q2               object\n",
              "q3               object\n",
              "dtype: object"
            ]
          },
          "metadata": {
            "tags": []
          },
          "execution_count": 61
        }
      ]
    },
    {
      "cell_type": "markdown",
      "metadata": {
        "id": "nmTIj1o7SLVj"
      },
      "source": [
        "# Corridas"
      ]
    },
    {
      "cell_type": "markdown",
      "metadata": {
        "id": "TRRwWdePSVNO"
      },
      "source": [
        "Descrição dos dados </br>\n",
        "name: categórico nominal\n"
      ]
    },
    {
      "cell_type": "code",
      "metadata": {
        "id": "WxS-v2-uSOF5",
        "outputId": "e922e625-d07c-4566-ec7b-b4db3f3a9f61",
        "colab": {
          "base_uri": "https://localhost:8080/",
          "height": 0
        }
      },
      "source": [
        "races.head()"
      ],
      "execution_count": 62,
      "outputs": [
        {
          "output_type": "execute_result",
          "data": {
            "text/html": [
              "<div>\n",
              "<style scoped>\n",
              "    .dataframe tbody tr th:only-of-type {\n",
              "        vertical-align: middle;\n",
              "    }\n",
              "\n",
              "    .dataframe tbody tr th {\n",
              "        vertical-align: top;\n",
              "    }\n",
              "\n",
              "    .dataframe thead th {\n",
              "        text-align: right;\n",
              "    }\n",
              "</style>\n",
              "<table border=\"1\" class=\"dataframe\">\n",
              "  <thead>\n",
              "    <tr style=\"text-align: right;\">\n",
              "      <th></th>\n",
              "      <th>raceId</th>\n",
              "      <th>year</th>\n",
              "      <th>round</th>\n",
              "      <th>circuitId</th>\n",
              "      <th>name</th>\n",
              "      <th>date</th>\n",
              "      <th>time</th>\n",
              "      <th>url</th>\n",
              "    </tr>\n",
              "  </thead>\n",
              "  <tbody>\n",
              "    <tr>\n",
              "      <th>0</th>\n",
              "      <td>1</td>\n",
              "      <td>2009</td>\n",
              "      <td>1</td>\n",
              "      <td>1</td>\n",
              "      <td>Australian Grand Prix</td>\n",
              "      <td>2009-03-29</td>\n",
              "      <td>06:00:00</td>\n",
              "      <td>http://en.wikipedia.org/wiki/2009_Australian_G...</td>\n",
              "    </tr>\n",
              "    <tr>\n",
              "      <th>1</th>\n",
              "      <td>2</td>\n",
              "      <td>2009</td>\n",
              "      <td>2</td>\n",
              "      <td>2</td>\n",
              "      <td>Malaysian Grand Prix</td>\n",
              "      <td>2009-04-05</td>\n",
              "      <td>09:00:00</td>\n",
              "      <td>http://en.wikipedia.org/wiki/2009_Malaysian_Gr...</td>\n",
              "    </tr>\n",
              "    <tr>\n",
              "      <th>2</th>\n",
              "      <td>3</td>\n",
              "      <td>2009</td>\n",
              "      <td>3</td>\n",
              "      <td>17</td>\n",
              "      <td>Chinese Grand Prix</td>\n",
              "      <td>2009-04-19</td>\n",
              "      <td>07:00:00</td>\n",
              "      <td>http://en.wikipedia.org/wiki/2009_Chinese_Gran...</td>\n",
              "    </tr>\n",
              "    <tr>\n",
              "      <th>3</th>\n",
              "      <td>4</td>\n",
              "      <td>2009</td>\n",
              "      <td>4</td>\n",
              "      <td>3</td>\n",
              "      <td>Bahrain Grand Prix</td>\n",
              "      <td>2009-04-26</td>\n",
              "      <td>12:00:00</td>\n",
              "      <td>http://en.wikipedia.org/wiki/2009_Bahrain_Gran...</td>\n",
              "    </tr>\n",
              "    <tr>\n",
              "      <th>4</th>\n",
              "      <td>5</td>\n",
              "      <td>2009</td>\n",
              "      <td>5</td>\n",
              "      <td>4</td>\n",
              "      <td>Spanish Grand Prix</td>\n",
              "      <td>2009-05-10</td>\n",
              "      <td>12:00:00</td>\n",
              "      <td>http://en.wikipedia.org/wiki/2009_Spanish_Gran...</td>\n",
              "    </tr>\n",
              "  </tbody>\n",
              "</table>\n",
              "</div>"
            ],
            "text/plain": [
              "   raceId  year  ...      time                                                url\n",
              "0       1  2009  ...  06:00:00  http://en.wikipedia.org/wiki/2009_Australian_G...\n",
              "1       2  2009  ...  09:00:00  http://en.wikipedia.org/wiki/2009_Malaysian_Gr...\n",
              "2       3  2009  ...  07:00:00  http://en.wikipedia.org/wiki/2009_Chinese_Gran...\n",
              "3       4  2009  ...  12:00:00  http://en.wikipedia.org/wiki/2009_Bahrain_Gran...\n",
              "4       5  2009  ...  12:00:00  http://en.wikipedia.org/wiki/2009_Spanish_Gran...\n",
              "\n",
              "[5 rows x 8 columns]"
            ]
          },
          "metadata": {
            "tags": []
          },
          "execution_count": 62
        }
      ]
    },
    {
      "cell_type": "code",
      "metadata": {
        "id": "FMkGL4TCSZrp"
      },
      "source": [
        "races[\"name\"] = races[\"name\"].astype(\"category\")"
      ],
      "execution_count": 63,
      "outputs": []
    },
    {
      "cell_type": "code",
      "metadata": {
        "id": "bGD5DJtCSjGh",
        "outputId": "bfaedea0-38fb-4a98-9d3c-04347db0abe5",
        "colab": {
          "base_uri": "https://localhost:8080/",
          "height": 0
        }
      },
      "source": [
        "races[\"name\"].cat.categories"
      ],
      "execution_count": 64,
      "outputs": [
        {
          "output_type": "execute_result",
          "data": {
            "text/plain": [
              "Index(['70th Anniversary Grand Prix', 'Abu Dhabi Grand Prix',\n",
              "       'Argentine Grand Prix', 'Australian Grand Prix', 'Austrian Grand Prix',\n",
              "       'Azerbaijan Grand Prix', 'Bahrain Grand Prix', 'Belgian Grand Prix',\n",
              "       'Brazilian Grand Prix', 'British Grand Prix',\n",
              "       'Caesars Palace Grand Prix', 'Canadian Grand Prix',\n",
              "       'Chinese Grand Prix', 'Dallas Grand Prix', 'Detroit Grand Prix',\n",
              "       'Dutch Grand Prix', 'Eifel Grand Prix', 'Emilia Romagna Grand Prix',\n",
              "       'European Grand Prix', 'French Grand Prix', 'German Grand Prix',\n",
              "       'Hungarian Grand Prix', 'Indian Grand Prix', 'Indianapolis 500',\n",
              "       'Italian Grand Prix', 'Japanese Grand Prix', 'Korean Grand Prix',\n",
              "       'Luxembourg Grand Prix', 'Malaysian Grand Prix', 'Mexican Grand Prix',\n",
              "       'Monaco Grand Prix', 'Moroccan Grand Prix', 'Pacific Grand Prix',\n",
              "       'Pescara Grand Prix', 'Portuguese Grand Prix', 'Russian Grand Prix',\n",
              "       'San Marino Grand Prix', 'Singapore Grand Prix',\n",
              "       'South African Grand Prix', 'Spanish Grand Prix', 'Styrian Grand Prix',\n",
              "       'Swedish Grand Prix', 'Swiss Grand Prix', 'Turkish Grand Prix',\n",
              "       'Tuscan Grand Prix', 'United States Grand Prix',\n",
              "       'United States Grand Prix West'],\n",
              "      dtype='object')"
            ]
          },
          "metadata": {
            "tags": []
          },
          "execution_count": 64
        }
      ]
    },
    {
      "cell_type": "code",
      "metadata": {
        "id": "lh_TG5MUSSF1",
        "outputId": "3effb746-eaf6-4886-aceb-79827ec3fdf6",
        "colab": {
          "base_uri": "https://localhost:8080/",
          "height": 0
        }
      },
      "source": [
        "races.dtypes"
      ],
      "execution_count": 65,
      "outputs": [
        {
          "output_type": "execute_result",
          "data": {
            "text/plain": [
              "raceId          int64\n",
              "year            int64\n",
              "round           int64\n",
              "circuitId       int64\n",
              "name         category\n",
              "date           object\n",
              "time           object\n",
              "url            object\n",
              "dtype: object"
            ]
          },
          "metadata": {
            "tags": []
          },
          "execution_count": 65
        }
      ]
    },
    {
      "cell_type": "markdown",
      "metadata": {
        "id": "y64yvyykSxwA"
      },
      "source": [
        "#Resultados\n"
      ]
    },
    {
      "cell_type": "code",
      "metadata": {
        "id": "fT45tbZ-SzMx",
        "outputId": "6c46530b-d316-427c-aacf-49ded0c2f8b5",
        "colab": {
          "base_uri": "https://localhost:8080/",
          "height": 0
        }
      },
      "source": [
        "results.head()"
      ],
      "execution_count": 66,
      "outputs": [
        {
          "output_type": "execute_result",
          "data": {
            "text/html": [
              "<div>\n",
              "<style scoped>\n",
              "    .dataframe tbody tr th:only-of-type {\n",
              "        vertical-align: middle;\n",
              "    }\n",
              "\n",
              "    .dataframe tbody tr th {\n",
              "        vertical-align: top;\n",
              "    }\n",
              "\n",
              "    .dataframe thead th {\n",
              "        text-align: right;\n",
              "    }\n",
              "</style>\n",
              "<table border=\"1\" class=\"dataframe\">\n",
              "  <thead>\n",
              "    <tr style=\"text-align: right;\">\n",
              "      <th></th>\n",
              "      <th>resultId</th>\n",
              "      <th>raceId</th>\n",
              "      <th>driverId</th>\n",
              "      <th>constructorId</th>\n",
              "      <th>number</th>\n",
              "      <th>grid</th>\n",
              "      <th>position</th>\n",
              "      <th>positionText</th>\n",
              "      <th>positionOrder</th>\n",
              "      <th>points</th>\n",
              "      <th>laps</th>\n",
              "      <th>time</th>\n",
              "      <th>milliseconds</th>\n",
              "      <th>fastestLap</th>\n",
              "      <th>rank</th>\n",
              "      <th>fastestLapTime</th>\n",
              "      <th>fastestLapSpeed</th>\n",
              "      <th>statusId</th>\n",
              "    </tr>\n",
              "  </thead>\n",
              "  <tbody>\n",
              "    <tr>\n",
              "      <th>0</th>\n",
              "      <td>1</td>\n",
              "      <td>18</td>\n",
              "      <td>1</td>\n",
              "      <td>1</td>\n",
              "      <td>22</td>\n",
              "      <td>1</td>\n",
              "      <td>1</td>\n",
              "      <td>1</td>\n",
              "      <td>1</td>\n",
              "      <td>10.0</td>\n",
              "      <td>58</td>\n",
              "      <td>1:34:50.616</td>\n",
              "      <td>5690616</td>\n",
              "      <td>39</td>\n",
              "      <td>2</td>\n",
              "      <td>1:27.452</td>\n",
              "      <td>218.300</td>\n",
              "      <td>1</td>\n",
              "    </tr>\n",
              "    <tr>\n",
              "      <th>1</th>\n",
              "      <td>2</td>\n",
              "      <td>18</td>\n",
              "      <td>2</td>\n",
              "      <td>2</td>\n",
              "      <td>3</td>\n",
              "      <td>5</td>\n",
              "      <td>2</td>\n",
              "      <td>2</td>\n",
              "      <td>2</td>\n",
              "      <td>8.0</td>\n",
              "      <td>58</td>\n",
              "      <td>+5.478</td>\n",
              "      <td>5696094</td>\n",
              "      <td>41</td>\n",
              "      <td>3</td>\n",
              "      <td>1:27.739</td>\n",
              "      <td>217.586</td>\n",
              "      <td>1</td>\n",
              "    </tr>\n",
              "    <tr>\n",
              "      <th>2</th>\n",
              "      <td>3</td>\n",
              "      <td>18</td>\n",
              "      <td>3</td>\n",
              "      <td>3</td>\n",
              "      <td>7</td>\n",
              "      <td>7</td>\n",
              "      <td>3</td>\n",
              "      <td>3</td>\n",
              "      <td>3</td>\n",
              "      <td>6.0</td>\n",
              "      <td>58</td>\n",
              "      <td>+8.163</td>\n",
              "      <td>5698779</td>\n",
              "      <td>41</td>\n",
              "      <td>5</td>\n",
              "      <td>1:28.090</td>\n",
              "      <td>216.719</td>\n",
              "      <td>1</td>\n",
              "    </tr>\n",
              "    <tr>\n",
              "      <th>3</th>\n",
              "      <td>4</td>\n",
              "      <td>18</td>\n",
              "      <td>4</td>\n",
              "      <td>4</td>\n",
              "      <td>5</td>\n",
              "      <td>11</td>\n",
              "      <td>4</td>\n",
              "      <td>4</td>\n",
              "      <td>4</td>\n",
              "      <td>5.0</td>\n",
              "      <td>58</td>\n",
              "      <td>+17.181</td>\n",
              "      <td>5707797</td>\n",
              "      <td>58</td>\n",
              "      <td>7</td>\n",
              "      <td>1:28.603</td>\n",
              "      <td>215.464</td>\n",
              "      <td>1</td>\n",
              "    </tr>\n",
              "    <tr>\n",
              "      <th>4</th>\n",
              "      <td>5</td>\n",
              "      <td>18</td>\n",
              "      <td>5</td>\n",
              "      <td>1</td>\n",
              "      <td>23</td>\n",
              "      <td>3</td>\n",
              "      <td>5</td>\n",
              "      <td>5</td>\n",
              "      <td>5</td>\n",
              "      <td>4.0</td>\n",
              "      <td>58</td>\n",
              "      <td>+18.014</td>\n",
              "      <td>5708630</td>\n",
              "      <td>43</td>\n",
              "      <td>1</td>\n",
              "      <td>1:27.418</td>\n",
              "      <td>218.385</td>\n",
              "      <td>1</td>\n",
              "    </tr>\n",
              "  </tbody>\n",
              "</table>\n",
              "</div>"
            ],
            "text/plain": [
              "   resultId  raceId  driverId  ...  fastestLapTime fastestLapSpeed  statusId\n",
              "0         1      18         1  ...        1:27.452         218.300         1\n",
              "1         2      18         2  ...        1:27.739         217.586         1\n",
              "2         3      18         3  ...        1:28.090         216.719         1\n",
              "3         4      18         4  ...        1:28.603         215.464         1\n",
              "4         5      18         5  ...        1:27.418         218.385         1\n",
              "\n",
              "[5 rows x 18 columns]"
            ]
          },
          "metadata": {
            "tags": []
          },
          "execution_count": 66
        }
      ]
    },
    {
      "cell_type": "code",
      "metadata": {
        "id": "EXLhRyZSTBi6"
      },
      "source": [
        "results[\"positionText\"] = results[\"positionText\"].astype(\"category\")"
      ],
      "execution_count": 67,
      "outputs": []
    },
    {
      "cell_type": "code",
      "metadata": {
        "id": "zTT3UdCFS5qk",
        "outputId": "8ce7f016-e9de-4d0c-d55e-293bef57433f",
        "colab": {
          "base_uri": "https://localhost:8080/",
          "height": 0
        }
      },
      "source": [
        "results.dtypes"
      ],
      "execution_count": 68,
      "outputs": [
        {
          "output_type": "execute_result",
          "data": {
            "text/plain": [
              "resultId              int64\n",
              "raceId                int64\n",
              "driverId              int64\n",
              "constructorId         int64\n",
              "number               object\n",
              "grid                  int64\n",
              "position             object\n",
              "positionText       category\n",
              "positionOrder         int64\n",
              "points              float64\n",
              "laps                  int64\n",
              "time                 object\n",
              "milliseconds         object\n",
              "fastestLap           object\n",
              "rank                 object\n",
              "fastestLapTime       object\n",
              "fastestLapSpeed      object\n",
              "statusId              int64\n",
              "dtype: object"
            ]
          },
          "metadata": {
            "tags": []
          },
          "execution_count": 68
        }
      ]
    },
    {
      "cell_type": "code",
      "metadata": {
        "id": "ZirmBE6HTKnM",
        "outputId": "caefd0d1-edf0-46a7-fe4c-4ea5705fd777",
        "colab": {
          "base_uri": "https://localhost:8080/",
          "height": 0
        }
      },
      "source": [
        "results[\"positionText\"].cat.categories"
      ],
      "execution_count": 69,
      "outputs": [
        {
          "output_type": "execute_result",
          "data": {
            "text/plain": [
              "Index(['1', '10', '11', '12', '13', '14', '15', '16', '17', '18', '19', '2',\n",
              "       '20', '21', '22', '23', '24', '25', '26', '27', '28', '29', '3', '30',\n",
              "       '31', '32', '33', '4', '5', '6', '7', '8', '9', 'D', 'E', 'F', 'N', 'R',\n",
              "       'W'],\n",
              "      dtype='object')"
            ]
          },
          "metadata": {
            "tags": []
          },
          "execution_count": 69
        }
      ]
    },
    {
      "cell_type": "markdown",
      "metadata": {
        "id": "z1pZRqY4TXP-"
      },
      "source": [
        "#Temporadas\n"
      ]
    },
    {
      "cell_type": "code",
      "metadata": {
        "id": "Oo0EQSKoTaV6",
        "outputId": "32ff95f8-7b5d-4888-8985-600db9c83bbf",
        "colab": {
          "base_uri": "https://localhost:8080/",
          "height": 0
        }
      },
      "source": [
        "seasons.head()"
      ],
      "execution_count": 70,
      "outputs": [
        {
          "output_type": "execute_result",
          "data": {
            "text/html": [
              "<div>\n",
              "<style scoped>\n",
              "    .dataframe tbody tr th:only-of-type {\n",
              "        vertical-align: middle;\n",
              "    }\n",
              "\n",
              "    .dataframe tbody tr th {\n",
              "        vertical-align: top;\n",
              "    }\n",
              "\n",
              "    .dataframe thead th {\n",
              "        text-align: right;\n",
              "    }\n",
              "</style>\n",
              "<table border=\"1\" class=\"dataframe\">\n",
              "  <thead>\n",
              "    <tr style=\"text-align: right;\">\n",
              "      <th></th>\n",
              "      <th>year</th>\n",
              "      <th>url</th>\n",
              "    </tr>\n",
              "  </thead>\n",
              "  <tbody>\n",
              "    <tr>\n",
              "      <th>0</th>\n",
              "      <td>2009</td>\n",
              "      <td>https://en.wikipedia.org/wiki/2009_Formula_One...</td>\n",
              "    </tr>\n",
              "    <tr>\n",
              "      <th>1</th>\n",
              "      <td>2008</td>\n",
              "      <td>https://en.wikipedia.org/wiki/2008_Formula_One...</td>\n",
              "    </tr>\n",
              "    <tr>\n",
              "      <th>2</th>\n",
              "      <td>2007</td>\n",
              "      <td>https://en.wikipedia.org/wiki/2007_Formula_One...</td>\n",
              "    </tr>\n",
              "    <tr>\n",
              "      <th>3</th>\n",
              "      <td>2006</td>\n",
              "      <td>https://en.wikipedia.org/wiki/2006_Formula_One...</td>\n",
              "    </tr>\n",
              "    <tr>\n",
              "      <th>4</th>\n",
              "      <td>2005</td>\n",
              "      <td>https://en.wikipedia.org/wiki/2005_Formula_One...</td>\n",
              "    </tr>\n",
              "  </tbody>\n",
              "</table>\n",
              "</div>"
            ],
            "text/plain": [
              "   year                                                url\n",
              "0  2009  https://en.wikipedia.org/wiki/2009_Formula_One...\n",
              "1  2008  https://en.wikipedia.org/wiki/2008_Formula_One...\n",
              "2  2007  https://en.wikipedia.org/wiki/2007_Formula_One...\n",
              "3  2006  https://en.wikipedia.org/wiki/2006_Formula_One...\n",
              "4  2005  https://en.wikipedia.org/wiki/2005_Formula_One..."
            ]
          },
          "metadata": {
            "tags": []
          },
          "execution_count": 70
        }
      ]
    }
  ]
}