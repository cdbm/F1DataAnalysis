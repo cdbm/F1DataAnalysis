{
  "nbformat": 4,
  "nbformat_minor": 0,
  "metadata": {
    "colab": {
      "name": "Untitled4.ipynb",
      "provenance": [],
      "authorship_tag": "ABX9TyOHuupzJauLPp7ccSXz06WY",
      "include_colab_link": true
    },
    "kernelspec": {
      "name": "python3",
      "display_name": "Python 3"
    }
  },
  "cells": [
    {
      "cell_type": "markdown",
      "metadata": {
        "id": "view-in-github",
        "colab_type": "text"
      },
      "source": [
        "<a href=\"https://colab.research.google.com/github/cdbm/F1DataAnalysis/blob/master/data.ipynb\" target=\"_parent\"><img src=\"https://colab.research.google.com/assets/colab-badge.svg\" alt=\"Open In Colab\"/></a>"
      ]
    },
    {
      "cell_type": "code",
      "metadata": {
        "id": "owvYjtIHfc-A",
        "colab_type": "code",
        "colab": {}
      },
      "source": [
        "import numpy as np\n",
        "import pandas as pd"
      ],
      "execution_count": 2,
      "outputs": []
    },
    {
      "cell_type": "code",
      "metadata": {
        "id": "DKZdk6iehRAh",
        "colab_type": "code",
        "colab": {}
      },
      "source": [
        "circuits=pd.read_csv(\"https://raw.githubusercontent.com/cdbm/F1DataAnalysis/master/f1_data/circuits.csv\")\n",
        "constructor_results=pd.read_csv(\"https://raw.githubusercontent.com/cdbm/F1DataAnalysis/master/f1_data/constructor_results.csv\")\n",
        "constructor_standings=pd.read_csv(\"https://raw.githubusercontent.com/cdbm/F1DataAnalysis/master/f1_data/constructor_standings.csv\")\n",
        "constructors=pd.read_csv(\"https://raw.githubusercontent.com/cdbm/F1DataAnalysis/master/f1_data/constructors.csv\")\n",
        "driver_standings=pd.read_csv(\"https://raw.githubusercontent.com/cdbm/F1DataAnalysis/master/f1_data/driver_standings.csv\")\n",
        "drivers=pd.read_csv(\"https://raw.githubusercontent.com/cdbm/F1DataAnalysis/master/f1_data/drivers.csv\")\n",
        "lap_times=pd.read_csv(\"https://raw.githubusercontent.com/cdbm/F1DataAnalysis/master/f1_data/lap_times.csv\")\n",
        "pit_stops=pd.read_csv(\"https://raw.githubusercontent.com/cdbm/F1DataAnalysis/master/f1_data/pit_stops.csv\")\n",
        "qualifying=pd.read_csv(\"https://raw.githubusercontent.com/cdbm/F1DataAnalysis/master/f1_data/qualifying.csv\")\n",
        "races=pd.read_csv(\"https://raw.githubusercontent.com/cdbm/F1DataAnalysis/master/f1_data/races.csv\")\n",
        "results=pd.read_csv(\"https://raw.githubusercontent.com/cdbm/F1DataAnalysis/master/f1_data/results.csv\")\n",
        "seasons=pd.read_csv(\"https://raw.githubusercontent.com/cdbm/F1DataAnalysis/master/f1_data/seasons.csv\")\n",
        "status=pd.read_csv(\"https://raw.githubusercontent.com/cdbm/F1DataAnalysis/master/f1_data/status.csv\")\n",
        "\n"
      ],
      "execution_count": 3,
      "outputs": []
    },
    {
      "cell_type": "markdown",
      "metadata": {
        "id": "yaJpE1CPp6SB",
        "colab_type": "text"
      },
      "source": [
        "# Circuitos\n"
      ]
    },
    {
      "cell_type": "code",
      "metadata": {
        "id": "edI21gqimQZH",
        "colab_type": "code",
        "colab": {}
      },
      "source": [
        "circuits['circuitRef'] = circuits['circuitRef'].astype('category')\n",
        "circuits['name'] = circuits['name'].astype('category')\n",
        "circuits['location'] = circuits['location'].astype('category')\n",
        "circuits['country'] = circuits['country'].astype('category')\n",
        "circuits['alt'] = circuits['alt'].astype('category')"
      ],
      "execution_count": null,
      "outputs": []
    },
    {
      "cell_type": "markdown",
      "metadata": {
        "id": "Ti7BBmtFjstM",
        "colab_type": "text"
      },
      "source": [
        "Descrição dos dados:\n",
        "\n",
        "circuitId: categórico nominal <br/>\n",
        "circuitRef: categórico nominal<br/>\n",
        "name: categórico nominal<br/>\n",
        "location: categórico nominal<br/>\n",
        "country: categórico nominal<br/>\n",
        "lat: Contínuo<br/>\n",
        "lng: Contínuo<br/>\n",
        "alt: categórico nominal </br>\n",
        "url: categórico nominal <br/>\n"
      ]
    },
    {
      "cell_type": "code",
      "metadata": {
        "id": "_nYMtCHpjY1h",
        "colab_type": "code",
        "colab": {}
      },
      "source": [
        "circuits.head()"
      ],
      "execution_count": null,
      "outputs": []
    },
    {
      "cell_type": "code",
      "metadata": {
        "id": "vwSfU2BDi1wU",
        "colab_type": "code",
        "colab": {}
      },
      "source": [
        "circuits.dtypes"
      ],
      "execution_count": null,
      "outputs": []
    },
    {
      "cell_type": "code",
      "metadata": {
        "id": "7RwDsoUmnPJN",
        "colab_type": "code",
        "colab": {}
      },
      "source": [
        "circuits['country'].cat.categories"
      ],
      "execution_count": null,
      "outputs": []
    },
    {
      "cell_type": "markdown",
      "metadata": {
        "id": "bTQARDpToWv3",
        "colab_type": "text"
      },
      "source": [
        "Localização dos ciruitos no mapa\n"
      ]
    },
    {
      "cell_type": "code",
      "metadata": {
        "id": "Yv09TrKhjc_G",
        "colab_type": "code",
        "colab": {}
      },
      "source": [
        "circuits.plot.scatter(x='lng', y='lat')"
      ],
      "execution_count": null,
      "outputs": []
    },
    {
      "cell_type": "markdown",
      "metadata": {
        "id": "5oF0hL3yocmx",
        "colab_type": "text"
      },
      "source": [
        "Países com mais circuitos"
      ]
    },
    {
      "cell_type": "code",
      "metadata": {
        "id": "n_T-L4GioPrQ",
        "colab_type": "code",
        "colab": {}
      },
      "source": [
        "circuits.groupby(['country']).agg(['count'])['circuitId'].sort_values(by='count', ascending=False)"
      ],
      "execution_count": null,
      "outputs": []
    },
    {
      "cell_type": "markdown",
      "metadata": {
        "id": "fYX-kBcnqpMN",
        "colab_type": "text"
      },
      "source": [
        "# Construtores\n"
      ]
    },
    {
      "cell_type": "code",
      "metadata": {
        "id": "TaV48MjwoDW1",
        "colab_type": "code",
        "colab": {}
      },
      "source": [
        "constructors['constructorRef'] = constructors['constructorRef'].astype('category')\n",
        "constructors['name'] = constructors['name'].astype('category')\n",
        "constructors['nationality'] = constructors['nationality'].astype('category')"
      ],
      "execution_count": null,
      "outputs": []
    },
    {
      "cell_type": "markdown",
      "metadata": {
        "id": "gC_d5cabocwV",
        "colab_type": "text"
      },
      "source": [
        "Descrição dos dados:\n",
        "\n",
        "constructorId: categórico nominal <br/>\n",
        "name: categórico nominal<br/>\n",
        "nationality: categórico nominal<br/>\n",
        "\n"
      ]
    },
    {
      "cell_type": "code",
      "metadata": {
        "id": "ibArff5enwB1",
        "colab_type": "code",
        "colab": {}
      },
      "source": [
        "constructors.dtypes"
      ],
      "execution_count": null,
      "outputs": []
    },
    {
      "cell_type": "code",
      "metadata": {
        "id": "-Q8iQTISnq8L",
        "colab_type": "code",
        "colab": {}
      },
      "source": [
        "constructors.head()"
      ],
      "execution_count": null,
      "outputs": []
    },
    {
      "cell_type": "markdown",
      "metadata": {
        "id": "EMxBCoGQsj1d",
        "colab_type": "text"
      },
      "source": [
        "Países com mais equipes"
      ]
    },
    {
      "cell_type": "code",
      "metadata": {
        "id": "Zj6QxVvFqwG7",
        "colab_type": "code",
        "colab": {}
      },
      "source": [
        "constructors.groupby(['nationality']).agg(['count'])['constructorRef'].sort_values(by='count', ascending=False)"
      ],
      "execution_count": null,
      "outputs": []
    },
    {
      "cell_type": "markdown",
      "metadata": {
        "id": "nQU5Q-ADx9Dj",
        "colab_type": "text"
      },
      "source": [
        "Desempenho Construtores"
      ]
    },
    {
      "cell_type": "code",
      "metadata": {
        "id": "Kz1NDIjRyPxm",
        "colab_type": "code",
        "colab": {}
      },
      "source": [
        "constructor_standings.head()"
      ],
      "execution_count": null,
      "outputs": []
    },
    {
      "cell_type": "code",
      "metadata": {
        "id": "KCrtZHQUsw-E",
        "colab_type": "code",
        "colab": {}
      },
      "source": [
        "constructor_standings['year'] = races['year']\n",
        "ferrari_standings=constructor_standings[constructor_standings.constructorId == 6]"
      ],
      "execution_count": null,
      "outputs": []
    },
    {
      "cell_type": "code",
      "metadata": {
        "id": "DIBr78DG0Izd",
        "colab_type": "code",
        "colab": {}
      },
      "source": [
        "races.sort_values(by='raceId')"
      ],
      "execution_count": null,
      "outputs": []
    }
  ]
}