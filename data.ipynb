{
  "nbformat": 4,
  "nbformat_minor": 0,
  "metadata": {
    "colab": {
      "name": "Untitled4.ipynb",
      "provenance": [],
      "authorship_tag": "ABX9TyPNO+1o0AWuYqh+KKtQmD4G",
      "include_colab_link": true
    },
    "kernelspec": {
      "name": "python3",
      "display_name": "Python 3"
    }
  },
  "cells": [
    {
      "cell_type": "markdown",
      "metadata": {
        "id": "view-in-github",
        "colab_type": "text"
      },
      "source": [
        "<a href=\"https://colab.research.google.com/github/cdbm/F1DataAnalysis/blob/master/data.ipynb\" target=\"_parent\"><img src=\"https://colab.research.google.com/assets/colab-badge.svg\" alt=\"Open In Colab\"/></a>"
      ]
    },
    {
      "cell_type": "code",
      "metadata": {
        "id": "owvYjtIHfc-A",
        "colab_type": "code",
        "colab": {}
      },
      "source": [
        "import numpy as np\n",
        "import pandas as pd\n",
        "\n"
      ],
      "execution_count": 3,
      "outputs": []
    },
    {
      "cell_type": "code",
      "metadata": {
        "id": "DKZdk6iehRAh",
        "colab_type": "code",
        "colab": {}
      },
      "source": [
        "circuits=pd.read_csv(\"https://raw.githubusercontent.com/cdbm/F1DataAnalysis/master/f1_data/circuits.csv\")\n",
        "constructor_results=pd.read_csv(\"https://raw.githubusercontent.com/cdbm/F1DataAnalysis/master/f1_data/constructor_results.csv\")\n"
      ],
      "execution_count": 5,
      "outputs": []
    },
    {
      "cell_type": "code",
      "metadata": {
        "id": "Yv09TrKhjc_G",
        "colab_type": "code",
        "colab": {
          "base_uri": "https://localhost:8080/",
          "height": 206
        },
        "outputId": "d0cf9872-9e1f-4f8d-c25f-a7f556998ee0"
      },
      "source": [
        "circuits.head()"
      ],
      "execution_count": 6,
      "outputs": [
        {
          "output_type": "execute_result",
          "data": {
            "text/html": [
              "<div>\n",
              "<style scoped>\n",
              "    .dataframe tbody tr th:only-of-type {\n",
              "        vertical-align: middle;\n",
              "    }\n",
              "\n",
              "    .dataframe tbody tr th {\n",
              "        vertical-align: top;\n",
              "    }\n",
              "\n",
              "    .dataframe thead th {\n",
              "        text-align: right;\n",
              "    }\n",
              "</style>\n",
              "<table border=\"1\" class=\"dataframe\">\n",
              "  <thead>\n",
              "    <tr style=\"text-align: right;\">\n",
              "      <th></th>\n",
              "      <th>circuitId</th>\n",
              "      <th>circuitRef</th>\n",
              "      <th>name</th>\n",
              "      <th>location</th>\n",
              "      <th>country</th>\n",
              "      <th>lat</th>\n",
              "      <th>lng</th>\n",
              "      <th>alt</th>\n",
              "      <th>url</th>\n",
              "    </tr>\n",
              "  </thead>\n",
              "  <tbody>\n",
              "    <tr>\n",
              "      <th>0</th>\n",
              "      <td>1</td>\n",
              "      <td>albert_park</td>\n",
              "      <td>Albert Park Grand Prix Circuit</td>\n",
              "      <td>Melbourne</td>\n",
              "      <td>Australia</td>\n",
              "      <td>-37.84970</td>\n",
              "      <td>144.96800</td>\n",
              "      <td>10</td>\n",
              "      <td>http://en.wikipedia.org/wiki/Melbourne_Grand_P...</td>\n",
              "    </tr>\n",
              "    <tr>\n",
              "      <th>1</th>\n",
              "      <td>2</td>\n",
              "      <td>sepang</td>\n",
              "      <td>Sepang International Circuit</td>\n",
              "      <td>Kuala Lumpur</td>\n",
              "      <td>Malaysia</td>\n",
              "      <td>2.76083</td>\n",
              "      <td>101.73800</td>\n",
              "      <td>\\N</td>\n",
              "      <td>http://en.wikipedia.org/wiki/Sepang_Internatio...</td>\n",
              "    </tr>\n",
              "    <tr>\n",
              "      <th>2</th>\n",
              "      <td>3</td>\n",
              "      <td>bahrain</td>\n",
              "      <td>Bahrain International Circuit</td>\n",
              "      <td>Sakhir</td>\n",
              "      <td>Bahrain</td>\n",
              "      <td>26.03250</td>\n",
              "      <td>50.51060</td>\n",
              "      <td>\\N</td>\n",
              "      <td>http://en.wikipedia.org/wiki/Bahrain_Internati...</td>\n",
              "    </tr>\n",
              "    <tr>\n",
              "      <th>3</th>\n",
              "      <td>4</td>\n",
              "      <td>catalunya</td>\n",
              "      <td>Circuit de Barcelona-Catalunya</td>\n",
              "      <td>Montmeló</td>\n",
              "      <td>Spain</td>\n",
              "      <td>41.57000</td>\n",
              "      <td>2.26111</td>\n",
              "      <td>\\N</td>\n",
              "      <td>http://en.wikipedia.org/wiki/Circuit_de_Barcel...</td>\n",
              "    </tr>\n",
              "    <tr>\n",
              "      <th>4</th>\n",
              "      <td>5</td>\n",
              "      <td>istanbul</td>\n",
              "      <td>Istanbul Park</td>\n",
              "      <td>Istanbul</td>\n",
              "      <td>Turkey</td>\n",
              "      <td>40.95170</td>\n",
              "      <td>29.40500</td>\n",
              "      <td>\\N</td>\n",
              "      <td>http://en.wikipedia.org/wiki/Istanbul_Park</td>\n",
              "    </tr>\n",
              "  </tbody>\n",
              "</table>\n",
              "</div>"
            ],
            "text/plain": [
              "   circuitId  ...                                                url\n",
              "0          1  ...  http://en.wikipedia.org/wiki/Melbourne_Grand_P...\n",
              "1          2  ...  http://en.wikipedia.org/wiki/Sepang_Internatio...\n",
              "2          3  ...  http://en.wikipedia.org/wiki/Bahrain_Internati...\n",
              "3          4  ...  http://en.wikipedia.org/wiki/Circuit_de_Barcel...\n",
              "4          5  ...         http://en.wikipedia.org/wiki/Istanbul_Park\n",
              "\n",
              "[5 rows x 9 columns]"
            ]
          },
          "metadata": {
            "tags": []
          },
          "execution_count": 6
        }
      ]
    }
  ]
}