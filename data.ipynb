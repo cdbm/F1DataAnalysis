{
  "nbformat": 4,
  "nbformat_minor": 0,
  "metadata": {
    "colab": {
      "name": "Untitled4.ipynb",
      "provenance": [],
      "authorship_tag": "ABX9TyOIdIwoeDBrur9GvrwkcWCg",
      "include_colab_link": true
    },
    "kernelspec": {
      "name": "python3",
      "display_name": "Python 3"
    }
  },
  "cells": [
    {
      "cell_type": "markdown",
      "metadata": {
        "id": "view-in-github",
        "colab_type": "text"
      },
      "source": [
        "<a href=\"https://colab.research.google.com/github/cdbm/F1DataAnalysis/blob/master/data.ipynb\" target=\"_parent\"><img src=\"https://colab.research.google.com/assets/colab-badge.svg\" alt=\"Open In Colab\"/></a>"
      ]
    },
    {
      "cell_type": "code",
      "metadata": {
        "id": "owvYjtIHfc-A"
      },
      "source": [
        "import numpy as np\n",
        "import pandas as pd\n",
        "import matplotlib.pyplot as plt"
      ],
      "execution_count": 1,
      "outputs": []
    },
    {
      "cell_type": "code",
      "metadata": {
        "id": "DKZdk6iehRAh"
      },
      "source": [
        "circuits=pd.read_csv(\"https://raw.githubusercontent.com/cdbm/F1DataAnalysis/master/f1_data/circuits.csv\")\n",
        "constructor_results=pd.read_csv(\"https://raw.githubusercontent.com/cdbm/F1DataAnalysis/master/f1_data/constructor_results.csv\")\n",
        "constructor_standings=pd.read_csv(\"https://raw.githubusercontent.com/cdbm/F1DataAnalysis/master/f1_data/constructor_standings.csv\")\n",
        "constructors=pd.read_csv(\"https://raw.githubusercontent.com/cdbm/F1DataAnalysis/master/f1_data/constructors.csv\")\n",
        "driver_standings=pd.read_csv(\"https://raw.githubusercontent.com/cdbm/F1DataAnalysis/master/f1_data/driver_standings.csv\")\n",
        "drivers=pd.read_csv(\"https://raw.githubusercontent.com/cdbm/F1DataAnalysis/master/f1_data/drivers.csv\")\n",
        "lap_times=pd.read_csv(\"https://raw.githubusercontent.com/cdbm/F1DataAnalysis/master/f1_data/lap_times.csv\")\n",
        "pit_stops=pd.read_csv(\"https://raw.githubusercontent.com/cdbm/F1DataAnalysis/master/f1_data/pit_stops.csv\")\n",
        "qualifying=pd.read_csv(\"https://raw.githubusercontent.com/cdbm/F1DataAnalysis/master/f1_data/qualifying.csv\")\n",
        "races=pd.read_csv(\"https://raw.githubusercontent.com/cdbm/F1DataAnalysis/master/f1_data/races.csv\")\n",
        "results=pd.read_csv(\"https://raw.githubusercontent.com/cdbm/F1DataAnalysis/master/f1_data/results.csv\")\n",
        "seasons=pd.read_csv(\"https://raw.githubusercontent.com/cdbm/F1DataAnalysis/master/f1_data/seasons.csv\")\n",
        "status=pd.read_csv(\"https://raw.githubusercontent.com/cdbm/F1DataAnalysis/master/f1_data/status.csv\")\n",
        "\n"
      ],
      "execution_count": 2,
      "outputs": []
    },
    {
      "cell_type": "markdown",
      "metadata": {
        "id": "yaJpE1CPp6SB"
      },
      "source": [
        "# Circuitos\n"
      ]
    },
    {
      "cell_type": "code",
      "metadata": {
        "id": "edI21gqimQZH"
      },
      "source": [
        "circuits['circuitRef'] = circuits['circuitRef'].astype('category')\n",
        "circuits['name'] = circuits['name'].astype('category')\n",
        "circuits['location'] = circuits['location'].astype('category')\n",
        "circuits['country'] = circuits['country'].astype('category')\n",
        "circuits['alt'] = circuits['alt'].astype('category')"
      ],
      "execution_count": 3,
      "outputs": []
    },
    {
      "cell_type": "markdown",
      "metadata": {
        "id": "Ti7BBmtFjstM"
      },
      "source": [
        "Descrição dos dados:\n",
        "\n",
        "circuitId: categórico nominal <br/>\n",
        "circuitRef: categórico nominal<br/>\n",
        "name: categórico nominal<br/>\n",
        "location: categórico nominal<br/>\n",
        "country: categórico nominal<br/>\n",
        "lat: Contínuo<br/>\n",
        "lng: Contínuo<br/>\n",
        "alt: categórico nominal </br>\n",
        "url: categórico nominal <br/>\n"
      ]
    },
    {
      "cell_type": "code",
      "metadata": {
        "id": "_nYMtCHpjY1h",
        "outputId": "a477abc1-e16b-41fa-b696-f4c31cb4f80d",
        "colab": {
          "base_uri": "https://localhost:8080/",
          "height": 204
        }
      },
      "source": [
        "circuits.head()"
      ],
      "execution_count": 4,
      "outputs": [
        {
          "output_type": "execute_result",
          "data": {
            "text/html": [
              "<div>\n",
              "<style scoped>\n",
              "    .dataframe tbody tr th:only-of-type {\n",
              "        vertical-align: middle;\n",
              "    }\n",
              "\n",
              "    .dataframe tbody tr th {\n",
              "        vertical-align: top;\n",
              "    }\n",
              "\n",
              "    .dataframe thead th {\n",
              "        text-align: right;\n",
              "    }\n",
              "</style>\n",
              "<table border=\"1\" class=\"dataframe\">\n",
              "  <thead>\n",
              "    <tr style=\"text-align: right;\">\n",
              "      <th></th>\n",
              "      <th>circuitId</th>\n",
              "      <th>circuitRef</th>\n",
              "      <th>name</th>\n",
              "      <th>location</th>\n",
              "      <th>country</th>\n",
              "      <th>lat</th>\n",
              "      <th>lng</th>\n",
              "      <th>alt</th>\n",
              "      <th>url</th>\n",
              "    </tr>\n",
              "  </thead>\n",
              "  <tbody>\n",
              "    <tr>\n",
              "      <th>0</th>\n",
              "      <td>1</td>\n",
              "      <td>albert_park</td>\n",
              "      <td>Albert Park Grand Prix Circuit</td>\n",
              "      <td>Melbourne</td>\n",
              "      <td>Australia</td>\n",
              "      <td>-37.84970</td>\n",
              "      <td>144.96800</td>\n",
              "      <td>10</td>\n",
              "      <td>http://en.wikipedia.org/wiki/Melbourne_Grand_P...</td>\n",
              "    </tr>\n",
              "    <tr>\n",
              "      <th>1</th>\n",
              "      <td>2</td>\n",
              "      <td>sepang</td>\n",
              "      <td>Sepang International Circuit</td>\n",
              "      <td>Kuala Lumpur</td>\n",
              "      <td>Malaysia</td>\n",
              "      <td>2.76083</td>\n",
              "      <td>101.73800</td>\n",
              "      <td>\\N</td>\n",
              "      <td>http://en.wikipedia.org/wiki/Sepang_Internatio...</td>\n",
              "    </tr>\n",
              "    <tr>\n",
              "      <th>2</th>\n",
              "      <td>3</td>\n",
              "      <td>bahrain</td>\n",
              "      <td>Bahrain International Circuit</td>\n",
              "      <td>Sakhir</td>\n",
              "      <td>Bahrain</td>\n",
              "      <td>26.03250</td>\n",
              "      <td>50.51060</td>\n",
              "      <td>\\N</td>\n",
              "      <td>http://en.wikipedia.org/wiki/Bahrain_Internati...</td>\n",
              "    </tr>\n",
              "    <tr>\n",
              "      <th>3</th>\n",
              "      <td>4</td>\n",
              "      <td>catalunya</td>\n",
              "      <td>Circuit de Barcelona-Catalunya</td>\n",
              "      <td>Montmeló</td>\n",
              "      <td>Spain</td>\n",
              "      <td>41.57000</td>\n",
              "      <td>2.26111</td>\n",
              "      <td>\\N</td>\n",
              "      <td>http://en.wikipedia.org/wiki/Circuit_de_Barcel...</td>\n",
              "    </tr>\n",
              "    <tr>\n",
              "      <th>4</th>\n",
              "      <td>5</td>\n",
              "      <td>istanbul</td>\n",
              "      <td>Istanbul Park</td>\n",
              "      <td>Istanbul</td>\n",
              "      <td>Turkey</td>\n",
              "      <td>40.95170</td>\n",
              "      <td>29.40500</td>\n",
              "      <td>\\N</td>\n",
              "      <td>http://en.wikipedia.org/wiki/Istanbul_Park</td>\n",
              "    </tr>\n",
              "  </tbody>\n",
              "</table>\n",
              "</div>"
            ],
            "text/plain": [
              "   circuitId  ...                                                url\n",
              "0          1  ...  http://en.wikipedia.org/wiki/Melbourne_Grand_P...\n",
              "1          2  ...  http://en.wikipedia.org/wiki/Sepang_Internatio...\n",
              "2          3  ...  http://en.wikipedia.org/wiki/Bahrain_Internati...\n",
              "3          4  ...  http://en.wikipedia.org/wiki/Circuit_de_Barcel...\n",
              "4          5  ...         http://en.wikipedia.org/wiki/Istanbul_Park\n",
              "\n",
              "[5 rows x 9 columns]"
            ]
          },
          "metadata": {
            "tags": []
          },
          "execution_count": 4
        }
      ]
    },
    {
      "cell_type": "code",
      "metadata": {
        "id": "vwSfU2BDi1wU",
        "outputId": "542c9250-b20c-41e4-a1fe-197359aa003b",
        "colab": {
          "base_uri": "https://localhost:8080/",
          "height": 187
        }
      },
      "source": [
        "circuits.dtypes"
      ],
      "execution_count": 5,
      "outputs": [
        {
          "output_type": "execute_result",
          "data": {
            "text/plain": [
              "circuitId        int64\n",
              "circuitRef    category\n",
              "name          category\n",
              "location      category\n",
              "country       category\n",
              "lat            float64\n",
              "lng            float64\n",
              "alt           category\n",
              "url             object\n",
              "dtype: object"
            ]
          },
          "metadata": {
            "tags": []
          },
          "execution_count": 5
        }
      ]
    },
    {
      "cell_type": "code",
      "metadata": {
        "id": "7RwDsoUmnPJN",
        "outputId": "3a3a7a7b-cf9c-48c9-c277-b18f5b35b16b",
        "colab": {
          "base_uri": "https://localhost:8080/",
          "height": 136
        }
      },
      "source": [
        "circuits['country'].cat.categories"
      ],
      "execution_count": 6,
      "outputs": [
        {
          "output_type": "execute_result",
          "data": {
            "text/plain": [
              "Index(['Argentina', 'Australia', 'Austria', 'Azerbaijan', 'Bahrain', 'Belgium',\n",
              "       'Brazil', 'Canada', 'China', 'France', 'Germany', 'Hungary', 'India',\n",
              "       'Italy', 'Japan', 'Korea', 'Malaysia', 'Mexico', 'Monaco', 'Morocco',\n",
              "       'Netherlands', 'Portugal', 'Russia', 'Singapore', 'South Africa',\n",
              "       'Spain', 'Sweden', 'Switzerland', 'Turkey', 'UAE', 'UK', 'USA',\n",
              "       'Vietnam'],\n",
              "      dtype='object')"
            ]
          },
          "metadata": {
            "tags": []
          },
          "execution_count": 6
        }
      ]
    },
    {
      "cell_type": "markdown",
      "metadata": {
        "id": "bTQARDpToWv3"
      },
      "source": [
        "Localização dos ciruitos no mapa\n"
      ]
    },
    {
      "cell_type": "code",
      "metadata": {
        "id": "Yv09TrKhjc_G",
        "outputId": "b2189224-b987-4c0d-90d8-a8f65416bb66",
        "colab": {
          "base_uri": "https://localhost:8080/",
          "height": 296
        }
      },
      "source": [
        "circuits.plot.scatter(x='lng', y='lat')"
      ],
      "execution_count": 7,
      "outputs": [
        {
          "output_type": "execute_result",
          "data": {
            "text/plain": [
              "<matplotlib.axes._subplots.AxesSubplot at 0x7fe0a20725c0>"
            ]
          },
          "metadata": {
            "tags": []
          },
          "execution_count": 7
        },
        {
          "output_type": "display_data",
          "data": {
            "image/png": "[encoded data removed]",
            "text/plain": [
              "<Figure size 432x288 with 1 Axes>"
            ]
          },
          "metadata": {
            "tags": [],
            "needs_background": "light"
          }
        }
      ]
    },
    {
      "cell_type": "markdown",
      "metadata": {
        "id": "5oF0hL3yocmx"
      },
      "source": [
        "Países com mais circuitos"
      ]
    },
    {
      "cell_type": "code",
      "metadata": {
        "id": "n_T-L4GioPrQ",
        "outputId": "51bd57ba-b285-419e-da53-32e965c0db15",
        "colab": {
          "base_uri": "https://localhost:8080/",
          "height": 283
        }
      },
      "source": [
        "circuits.groupby(['country']).agg(['count'])[\"circuitId\"].sort_values(by='count', ascending=False).plot.barh()"
      ],
      "execution_count": 8,
      "outputs": [
        {
          "output_type": "execute_result",
          "data": {
            "text/plain": [
              "<matplotlib.axes._subplots.AxesSubplot at 0x7fe0a1fc63c8>"
            ]
          },
          "metadata": {
            "tags": []
          },
          "execution_count": 8
        },
        {
          "output_type": "display_data",
          "data": {
            "image/png": "[encoded data removed]",
            "text/plain": [
              "<Figure size 432x288 with 1 Axes>"
            ]
          },
          "metadata": {
            "tags": [],
            "needs_background": "light"
          }
        }
      ]
    },
    {
      "cell_type": "markdown",
      "metadata": {
        "id": "fYX-kBcnqpMN"
      },
      "source": [
        "# Construtores\n"
      ]
    },
    {
      "cell_type": "code",
      "metadata": {
        "id": "TaV48MjwoDW1"
      },
      "source": [
        "constructors['constructorRef'] = constructors['constructorRef'].astype('category')\n",
        "constructors['name'] = constructors['name'].astype('category')\n",
        "constructors['nationality'] = constructors['nationality'].astype('category')"
      ],
      "execution_count": 9,
      "outputs": []
    },
    {
      "cell_type": "markdown",
      "metadata": {
        "id": "gC_d5cabocwV"
      },
      "source": [
        "Descrição dos dados:\n",
        "\n",
        "constructorId: categórico nominal <br/>\n",
        "name: categórico nominal<br/>\n",
        "nationality: categórico nominal<br/>\n",
        "\n"
      ]
    },
    {
      "cell_type": "code",
      "metadata": {
        "id": "ibArff5enwB1",
        "outputId": "d610ec1c-7a62-4baa-bba0-ef42c0fcd048",
        "colab": {
          "base_uri": "https://localhost:8080/",
          "height": 119
        }
      },
      "source": [
        "constructors.dtypes"
      ],
      "execution_count": 10,
      "outputs": [
        {
          "output_type": "execute_result",
          "data": {
            "text/plain": [
              "constructorId        int64\n",
              "constructorRef    category\n",
              "name              category\n",
              "nationality       category\n",
              "url                 object\n",
              "dtype: object"
            ]
          },
          "metadata": {
            "tags": []
          },
          "execution_count": 10
        }
      ]
    },
    {
      "cell_type": "code",
      "metadata": {
        "id": "-Q8iQTISnq8L",
        "outputId": "b39253d3-80c4-4410-a32b-ab9509320196",
        "colab": {
          "base_uri": "https://localhost:8080/",
          "height": 80
        }
      },
      "source": [
        "constructors[constructors[\"name\"] == \"Red Bull\"]"
      ],
      "execution_count": 70,
      "outputs": [
        {
          "output_type": "execute_result",
          "data": {
            "text/html": [
              "<div>\n",
              "<style scoped>\n",
              "    .dataframe tbody tr th:only-of-type {\n",
              "        vertical-align: middle;\n",
              "    }\n",
              "\n",
              "    .dataframe tbody tr th {\n",
              "        vertical-align: top;\n",
              "    }\n",
              "\n",
              "    .dataframe thead th {\n",
              "        text-align: right;\n",
              "    }\n",
              "</style>\n",
              "<table border=\"1\" class=\"dataframe\">\n",
              "  <thead>\n",
              "    <tr style=\"text-align: right;\">\n",
              "      <th></th>\n",
              "      <th>constructorId</th>\n",
              "      <th>constructorRef</th>\n",
              "      <th>name</th>\n",
              "      <th>nationality</th>\n",
              "      <th>url</th>\n",
              "    </tr>\n",
              "  </thead>\n",
              "  <tbody>\n",
              "    <tr>\n",
              "      <th>8</th>\n",
              "      <td>9</td>\n",
              "      <td>red_bull</td>\n",
              "      <td>Red Bull</td>\n",
              "      <td>Austrian</td>\n",
              "      <td>http://en.wikipedia.org/wiki/Red_Bull_Racing</td>\n",
              "    </tr>\n",
              "  </tbody>\n",
              "</table>\n",
              "</div>"
            ],
            "text/plain": [
              "   constructorId  ...                                           url\n",
              "8              9  ...  http://en.wikipedia.org/wiki/Red_Bull_Racing\n",
              "\n",
              "[1 rows x 5 columns]"
            ]
          },
          "metadata": {
            "tags": []
          },
          "execution_count": 70
        }
      ]
    },
    {
      "cell_type": "markdown",
      "metadata": {
        "id": "EMxBCoGQsj1d"
      },
      "source": [
        "Países com mais equipes"
      ]
    },
    {
      "cell_type": "code",
      "metadata": {
        "id": "Zj6QxVvFqwG7",
        "outputId": "ddf9ef0b-9e91-4f35-c578-5fe20177b6b4",
        "colab": {
          "base_uri": "https://localhost:8080/",
          "height": 282
        }
      },
      "source": [
        "constructors.groupby(['nationality']).agg(['count'])['constructorRef'].sort_values(by='count', ascending=False).plot.barh()"
      ],
      "execution_count": 12,
      "outputs": [
        {
          "output_type": "execute_result",
          "data": {
            "text/plain": [
              "<matplotlib.axes._subplots.AxesSubplot at 0x7fe0a1a71208>"
            ]
          },
          "metadata": {
            "tags": []
          },
          "execution_count": 12
        },
        {
          "output_type": "display_data",
          "data": {
            "image/png": "[encoded data removed]",
            "text/plain": [
              "<Figure size 432x288 with 1 Axes>"
            ]
          },
          "metadata": {
            "tags": [],
            "needs_background": "light"
          }
        }
      ]
    },
    {
      "cell_type": "markdown",
      "metadata": {
        "id": "KyXIav6zOJBf"
      },
      "source": [
        "# Resultados Construtores\n"
      ]
    },
    {
      "cell_type": "markdown",
      "metadata": {
        "id": "LJIqoxNBPxQj"
      },
      "source": [
        "Descrição dos dados </br>\n",
        "status: categórico binário\n"
      ]
    },
    {
      "cell_type": "code",
      "metadata": {
        "id": "NAjZS3UMN6kT",
        "outputId": "3ce65c75-32eb-44a4-96d0-8d660edf53c3",
        "colab": {
          "base_uri": "https://localhost:8080/",
          "height": 0
        }
      },
      "source": [
        "constructor_results.head()"
      ],
      "execution_count": 13,
      "outputs": [
        {
          "output_type": "execute_result",
          "data": {
            "text/html": [
              "<div>\n",
              "<style scoped>\n",
              "    .dataframe tbody tr th:only-of-type {\n",
              "        vertical-align: middle;\n",
              "    }\n",
              "\n",
              "    .dataframe tbody tr th {\n",
              "        vertical-align: top;\n",
              "    }\n",
              "\n",
              "    .dataframe thead th {\n",
              "        text-align: right;\n",
              "    }\n",
              "</style>\n",
              "<table border=\"1\" class=\"dataframe\">\n",
              "  <thead>\n",
              "    <tr style=\"text-align: right;\">\n",
              "      <th></th>\n",
              "      <th>constructorResultsId</th>\n",
              "      <th>raceId</th>\n",
              "      <th>constructorId</th>\n",
              "      <th>points</th>\n",
              "      <th>status</th>\n",
              "    </tr>\n",
              "  </thead>\n",
              "  <tbody>\n",
              "    <tr>\n",
              "      <th>0</th>\n",
              "      <td>1</td>\n",
              "      <td>18</td>\n",
              "      <td>1</td>\n",
              "      <td>14.0</td>\n",
              "      <td>\\N</td>\n",
              "    </tr>\n",
              "    <tr>\n",
              "      <th>1</th>\n",
              "      <td>2</td>\n",
              "      <td>18</td>\n",
              "      <td>2</td>\n",
              "      <td>8.0</td>\n",
              "      <td>\\N</td>\n",
              "    </tr>\n",
              "    <tr>\n",
              "      <th>2</th>\n",
              "      <td>3</td>\n",
              "      <td>18</td>\n",
              "      <td>3</td>\n",
              "      <td>9.0</td>\n",
              "      <td>\\N</td>\n",
              "    </tr>\n",
              "    <tr>\n",
              "      <th>3</th>\n",
              "      <td>4</td>\n",
              "      <td>18</td>\n",
              "      <td>4</td>\n",
              "      <td>5.0</td>\n",
              "      <td>\\N</td>\n",
              "    </tr>\n",
              "    <tr>\n",
              "      <th>4</th>\n",
              "      <td>5</td>\n",
              "      <td>18</td>\n",
              "      <td>5</td>\n",
              "      <td>2.0</td>\n",
              "      <td>\\N</td>\n",
              "    </tr>\n",
              "  </tbody>\n",
              "</table>\n",
              "</div>"
            ],
            "text/plain": [
              "   constructorResultsId  raceId  constructorId  points status\n",
              "0                     1      18              1    14.0     \\N\n",
              "1                     2      18              2     8.0     \\N\n",
              "2                     3      18              3     9.0     \\N\n",
              "3                     4      18              4     5.0     \\N\n",
              "4                     5      18              5     2.0     \\N"
            ]
          },
          "metadata": {
            "tags": []
          },
          "execution_count": 13
        }
      ]
    },
    {
      "cell_type": "code",
      "metadata": {
        "id": "LWRkrl5xOUk6",
        "outputId": "a165b21c-d08e-4642-bb91-91b2de869866",
        "colab": {
          "base_uri": "https://localhost:8080/",
          "height": 0
        }
      },
      "source": [
        "constructor_results.dtypes"
      ],
      "execution_count": 14,
      "outputs": [
        {
          "output_type": "execute_result",
          "data": {
            "text/plain": [
              "constructorResultsId      int64\n",
              "raceId                    int64\n",
              "constructorId             int64\n",
              "points                  float64\n",
              "status                   object\n",
              "dtype: object"
            ]
          },
          "metadata": {
            "tags": []
          },
          "execution_count": 14
        }
      ]
    },
    {
      "cell_type": "code",
      "metadata": {
        "id": "R9fW9MPFOlUX"
      },
      "source": [
        "constructor_results[\"status\"] = constructor_results[\"status\"].astype(\"category\")"
      ],
      "execution_count": 15,
      "outputs": []
    },
    {
      "cell_type": "code",
      "metadata": {
        "id": "j8ounjjlOwfm",
        "outputId": "db3ffc03-85c1-4000-c2ad-d40c64b8b09e",
        "colab": {
          "base_uri": "https://localhost:8080/",
          "height": 0
        }
      },
      "source": [
        "constructor_results[\"status\"].cat.categories"
      ],
      "execution_count": 16,
      "outputs": [
        {
          "output_type": "execute_result",
          "data": {
            "text/plain": [
              "Index(['D', '\\N'], dtype='object')"
            ]
          },
          "metadata": {
            "tags": []
          },
          "execution_count": 16
        }
      ]
    },
    {
      "cell_type": "markdown",
      "metadata": {
        "id": "8XiiUGdHPBm1"
      },
      "source": [
        "# Construtores Standings\n"
      ]
    },
    {
      "cell_type": "markdown",
      "metadata": {
        "id": "FdBRSd2RP9kl"
      },
      "source": [
        "Descrção dos dados </br>\n",
        "positionText: categórico nomimal\n"
      ]
    },
    {
      "cell_type": "code",
      "metadata": {
        "id": "u5ZHOf5aPFPn",
        "outputId": "f7d88b85-cdf1-4f57-a916-440ee9689f5d",
        "colab": {
          "base_uri": "https://localhost:8080/",
          "height": 0
        }
      },
      "source": [
        "constructor_standings.head()"
      ],
      "execution_count": 17,
      "outputs": [
        {
          "output_type": "execute_result",
          "data": {
            "text/html": [
              "<div>\n",
              "<style scoped>\n",
              "    .dataframe tbody tr th:only-of-type {\n",
              "        vertical-align: middle;\n",
              "    }\n",
              "\n",
              "    .dataframe tbody tr th {\n",
              "        vertical-align: top;\n",
              "    }\n",
              "\n",
              "    .dataframe thead th {\n",
              "        text-align: right;\n",
              "    }\n",
              "</style>\n",
              "<table border=\"1\" class=\"dataframe\">\n",
              "  <thead>\n",
              "    <tr style=\"text-align: right;\">\n",
              "      <th></th>\n",
              "      <th>constructorStandingsId</th>\n",
              "      <th>raceId</th>\n",
              "      <th>constructorId</th>\n",
              "      <th>points</th>\n",
              "      <th>position</th>\n",
              "      <th>positionText</th>\n",
              "      <th>wins</th>\n",
              "    </tr>\n",
              "  </thead>\n",
              "  <tbody>\n",
              "    <tr>\n",
              "      <th>0</th>\n",
              "      <td>1</td>\n",
              "      <td>18</td>\n",
              "      <td>1</td>\n",
              "      <td>14.0</td>\n",
              "      <td>1</td>\n",
              "      <td>1</td>\n",
              "      <td>1</td>\n",
              "    </tr>\n",
              "    <tr>\n",
              "      <th>1</th>\n",
              "      <td>2</td>\n",
              "      <td>18</td>\n",
              "      <td>2</td>\n",
              "      <td>8.0</td>\n",
              "      <td>3</td>\n",
              "      <td>3</td>\n",
              "      <td>0</td>\n",
              "    </tr>\n",
              "    <tr>\n",
              "      <th>2</th>\n",
              "      <td>3</td>\n",
              "      <td>18</td>\n",
              "      <td>3</td>\n",
              "      <td>9.0</td>\n",
              "      <td>2</td>\n",
              "      <td>2</td>\n",
              "      <td>0</td>\n",
              "    </tr>\n",
              "    <tr>\n",
              "      <th>3</th>\n",
              "      <td>4</td>\n",
              "      <td>18</td>\n",
              "      <td>4</td>\n",
              "      <td>5.0</td>\n",
              "      <td>4</td>\n",
              "      <td>4</td>\n",
              "      <td>0</td>\n",
              "    </tr>\n",
              "    <tr>\n",
              "      <th>4</th>\n",
              "      <td>5</td>\n",
              "      <td>18</td>\n",
              "      <td>5</td>\n",
              "      <td>2.0</td>\n",
              "      <td>5</td>\n",
              "      <td>5</td>\n",
              "      <td>0</td>\n",
              "    </tr>\n",
              "  </tbody>\n",
              "</table>\n",
              "</div>"
            ],
            "text/plain": [
              "   constructorStandingsId  raceId  constructorId  ...  position  positionText wins\n",
              "0                       1      18              1  ...         1             1    1\n",
              "1                       2      18              2  ...         3             3    0\n",
              "2                       3      18              3  ...         2             2    0\n",
              "3                       4      18              4  ...         4             4    0\n",
              "4                       5      18              5  ...         5             5    0\n",
              "\n",
              "[5 rows x 7 columns]"
            ]
          },
          "metadata": {
            "tags": []
          },
          "execution_count": 17
        }
      ]
    },
    {
      "cell_type": "code",
      "metadata": {
        "id": "fiWTvoXXPPT6"
      },
      "source": [
        "constructor_standings[\"positionText\"] = constructor_standings[\"positionText\"].astype(\"category\")"
      ],
      "execution_count": 18,
      "outputs": []
    },
    {
      "cell_type": "code",
      "metadata": {
        "id": "K8L3oYOVPY4R",
        "outputId": "7797a15a-2415-430e-d737-aa74bef85fbd",
        "colab": {
          "base_uri": "https://localhost:8080/",
          "height": 0
        }
      },
      "source": [
        "constructor_standings[\"positionText\"].cat.categories"
      ],
      "execution_count": 19,
      "outputs": [
        {
          "output_type": "execute_result",
          "data": {
            "text/plain": [
              "Index(['1', '10', '11', '12', '13', '14', '15', '16', '17', '18', '19', '2',\n",
              "       '20', '21', '22', '3', '4', '5', '6', '7', '8', '9', 'E'],\n",
              "      dtype='object')"
            ]
          },
          "metadata": {
            "tags": []
          },
          "execution_count": 19
        }
      ]
    },
    {
      "cell_type": "code",
      "metadata": {
        "id": "zduWI022PKq2",
        "outputId": "1cdab85c-2d8e-4a2d-bfc8-2b011133d2cb",
        "colab": {
          "base_uri": "https://localhost:8080/",
          "height": 0
        }
      },
      "source": [
        "constructor_standings.dtypes"
      ],
      "execution_count": 20,
      "outputs": [
        {
          "output_type": "execute_result",
          "data": {
            "text/plain": [
              "constructorStandingsId       int64\n",
              "raceId                       int64\n",
              "constructorId                int64\n",
              "points                     float64\n",
              "position                     int64\n",
              "positionText              category\n",
              "wins                         int64\n",
              "dtype: object"
            ]
          },
          "metadata": {
            "tags": []
          },
          "execution_count": 20
        }
      ]
    },
    {
      "cell_type": "markdown",
      "metadata": {
        "id": "nQU5Q-ADx9Dj"
      },
      "source": [
        "# Desempenho Construtores"
      ]
    },
    {
      "cell_type": "code",
      "metadata": {
        "id": "uELMjT0Lsw_8"
      },
      "source": [
        "constructor_standings['positionText'] = constructor_standings['positionText'].astype('category')"
      ],
      "execution_count": 21,
      "outputs": []
    },
    {
      "cell_type": "code",
      "metadata": {
        "id": "yYtHML3EsqGm"
      },
      "source": [
        "constructor_standings.dtypes"
      ],
      "execution_count": null,
      "outputs": []
    },
    {
      "cell_type": "code",
      "metadata": {
        "id": "Kz1NDIjRyPxm"
      },
      "source": [
        "constructor_standings.head()"
      ],
      "execution_count": null,
      "outputs": []
    },
    {
      "cell_type": "markdown",
      "metadata": {
        "id": "DQMepxdQZ0j4"
      },
      "source": [
        "Análise de desempenho da ferrari durante os anos"
      ]
    },
    {
      "cell_type": "code",
      "metadata": {
        "id": "KCrtZHQUsw-E"
      },
      "source": [
        "ferrari_standings=constructor_standings[constructor_standings.constructorId == 6]\n",
        "ferrari_standings.sort_values(by=\"raceId\")\n",
        "ferrari_standings.describe()"
      ],
      "execution_count": null,
      "outputs": []
    },
    {
      "cell_type": "code",
      "metadata": {
        "id": "tJKJp1urFI4q"
      },
      "source": [
        "ferrari_standings[\"year\"] = ferrari_standings.raceId.map(races.set_index(\"raceId\")[\"year\"])\n",
        "ferrari_2019 = ferrari_standings[ferrari_standings.year == 2019]\n",
        "ferrari_by_year = ferrari_standings.groupby([\"year\"]).agg(\"max\")[\"points\"]\n",
        "ferrari_by_year"
      ],
      "execution_count": null,
      "outputs": []
    },
    {
      "cell_type": "code",
      "metadata": {
        "id": "GH55uxeoUzTQ"
      },
      "source": [
        "ferrari_by_year"
      ],
      "execution_count": null,
      "outputs": []
    },
    {
      "cell_type": "markdown",
      "metadata": {
        "id": "SLBw6Zh8W6Tc"
      },
      "source": [
        "Filtro na ferrari para comparar com red bull"
      ]
    },
    {
      "cell_type": "code",
      "metadata": {
        "id": "65VwvD09W-JL",
        "outputId": "06f113e3-a0a7-4bd5-c39a-1429791f3f0a",
        "colab": {
          "base_uri": "https://localhost:8080/",
          "height": 296
        }
      },
      "source": [
        "ferrari_from_2005 = ferrari_standings[ferrari_standings.year >= 2005]\n",
        "ferrari_from_2005 = ferrari_from_2005.groupby([\"year\"]).agg(\"max\")[\"points\"]\n",
        "ferrari_from_2005.plot()"
      ],
      "execution_count": 98,
      "outputs": [
        {
          "output_type": "execute_result",
          "data": {
            "text/plain": [
              "<matplotlib.axes._subplots.AxesSubplot at 0x7fe097836f98>"
            ]
          },
          "metadata": {
            "tags": []
          },
          "execution_count": 98
        },
        {
          "output_type": "display_data",
          "data": {
            "image/png": "[encoded data removed]",
            "text/plain": [
              "<Figure size 432x288 with 1 Axes>"
            ]
          },
          "metadata": {
            "tags": [],
            "needs_background": "light"
          }
        }
      ]
    },
    {
      "cell_type": "markdown",
      "metadata": {
        "id": "Vs6clyvEVTsS"
      },
      "source": [
        "Análise de pountuação da Red Bull ao longo dos anos"
      ]
    },
    {
      "cell_type": "code",
      "metadata": {
        "id": "mPlYizclVY7I"
      },
      "source": [
        "rbr_standings=constructor_standings[constructor_standings.constructorId == 9]\n",
        "rbr_standings.sort_values(by=\"raceId\")\n",
        "rbr_standings.describe()"
      ],
      "execution_count": null,
      "outputs": []
    },
    {
      "cell_type": "code",
      "metadata": {
        "id": "fJdXxNSAVhho",
        "outputId": "83eab44c-e5f7-46ad-cfc2-de509c6c9648",
        "colab": {
          "base_uri": "https://localhost:8080/",
          "height": 367
        }
      },
      "source": [
        "rbr_standings[\"year\"] = rbr_standings.raceId.map(races.set_index(\"raceId\")[\"year\"])\n",
        "rbr_year_2019 = rbr_standings[rbr_standings.year == 2019]\n",
        "rbr_by_year = rbr_standings.groupby([\"year\"]).agg(\"max\")[\"points\"]\n",
        "plt.plot(np.arange(2004, 2020,1) ,rbr_by_year, label=\"Red Bull\")\n",
        "plt.plot(np.arange(2004, 2020,1),ferrari_from_2005, label=\"Ferrari\")\n",
        "plt.legend()\n",
        "plt.show()"
      ],
      "execution_count": 120,
      "outputs": [
        {
          "output_type": "stream",
          "text": [
            "/usr/local/lib/python3.6/dist-packages/ipykernel_launcher.py:1: SettingWithCopyWarning: \n",
            "A value is trying to be set on a copy of a slice from a DataFrame.\n",
            "Try using .loc[row_indexer,col_indexer] = value instead\n",
            "\n",
            "See the caveats in the documentation: https://pandas.pydata.org/pandas-docs/stable/user_guide/indexing.html#returning-a-view-versus-a-copy\n",
            "  \"\"\"Entry point for launching an IPython kernel.\n"
          ],
          "name": "stderr"
        },
        {
          "output_type": "display_data",
          "data": {
            "image/png": "[encoded data removed]",
            "text/plain": [
              "<Figure size 432x288 with 1 Axes>"
            ]
          },
          "metadata": {
            "tags": [],
            "needs_background": "light"
          }
        }
      ]
    },
    {
      "cell_type": "markdown",
      "metadata": {
        "id": "Engy74ygNqxt"
      },
      "source": [
        "# Pilotos\n"
      ]
    },
    {
      "cell_type": "code",
      "metadata": {
        "id": "eHz86PlIPmY9"
      },
      "source": [
        "drivers.head()"
      ],
      "execution_count": null,
      "outputs": []
    },
    {
      "cell_type": "markdown",
      "metadata": {
        "id": "bvVArtrDQeR7"
      },
      "source": [
        "Descrição dos tipos <br>\n",
        "nationality: categórico nominal\n"
      ]
    },
    {
      "cell_type": "code",
      "metadata": {
        "id": "ANKZ9HIWQo3j"
      },
      "source": [
        "drivers[\"nationality\"] = drivers[\"nationality\"].astype(\"category\")"
      ],
      "execution_count": null,
      "outputs": []
    },
    {
      "cell_type": "code",
      "metadata": {
        "id": "B290mtzPQwVO"
      },
      "source": [
        "drivers[\"nationality\"].cat.categories"
      ],
      "execution_count": null,
      "outputs": []
    },
    {
      "cell_type": "code",
      "metadata": {
        "id": "lkfDrj83QLUQ"
      },
      "source": [
        "drivers.dtypes"
      ],
      "execution_count": null,
      "outputs": []
    },
    {
      "cell_type": "markdown",
      "metadata": {
        "id": "syF_h7wMQ8zf"
      },
      "source": [
        "# Pilotos Standings\n"
      ]
    },
    {
      "cell_type": "markdown",
      "metadata": {
        "id": "9zkOUL_tRHLO"
      },
      "source": [
        "Descrção dos dados </br>\n",
        "positionText: categórico nomimal"
      ]
    },
    {
      "cell_type": "code",
      "metadata": {
        "id": "vacpm-MwRAFK"
      },
      "source": [
        "driver_standings.head()"
      ],
      "execution_count": null,
      "outputs": []
    },
    {
      "cell_type": "code",
      "metadata": {
        "id": "SVUchNPRRKR_"
      },
      "source": [
        "driver_standings[\"positionText\"] = driver_standings[\"positionText\"].astype(\"category\") "
      ],
      "execution_count": null,
      "outputs": []
    },
    {
      "cell_type": "code",
      "metadata": {
        "id": "CMwDI5YdRXSQ"
      },
      "source": [
        "driver_standings[\"positionText\"].cat.categories"
      ],
      "execution_count": null,
      "outputs": []
    },
    {
      "cell_type": "code",
      "metadata": {
        "id": "dcXldMPPRTiX"
      },
      "source": [
        "driver_standings.dtypes"
      ],
      "execution_count": null,
      "outputs": []
    },
    {
      "cell_type": "markdown",
      "metadata": {
        "id": "HzhIrH6PRiQV"
      },
      "source": [
        "# Tempos de Voltas"
      ]
    },
    {
      "cell_type": "code",
      "metadata": {
        "id": "kKH5pq9wRlxx"
      },
      "source": [
        "lap_times.head()"
      ],
      "execution_count": null,
      "outputs": []
    },
    {
      "cell_type": "code",
      "metadata": {
        "id": "GJvoIpt7Rq2_"
      },
      "source": [
        "lap_times.dtypes"
      ],
      "execution_count": null,
      "outputs": []
    },
    {
      "cell_type": "markdown",
      "metadata": {
        "id": "OPnORTblRx2H"
      },
      "source": [
        "#Pit Stops\n"
      ]
    },
    {
      "cell_type": "code",
      "metadata": {
        "id": "kwuAq6o_R1MB"
      },
      "source": [
        "pit_stops.head()"
      ],
      "execution_count": null,
      "outputs": []
    },
    {
      "cell_type": "code",
      "metadata": {
        "id": "ae65_XCSR3Pf"
      },
      "source": [
        "pit_stops.dtypes"
      ],
      "execution_count": null,
      "outputs": []
    },
    {
      "cell_type": "markdown",
      "metadata": {
        "id": "eweBsr_SR-z5"
      },
      "source": [
        "# Qualificação\n"
      ]
    },
    {
      "cell_type": "code",
      "metadata": {
        "id": "-ayh69pESDeB"
      },
      "source": [
        "qualifying.head()"
      ],
      "execution_count": null,
      "outputs": []
    },
    {
      "cell_type": "code",
      "metadata": {
        "id": "slxHLdITSFpz"
      },
      "source": [
        "qualifying.dtypes"
      ],
      "execution_count": null,
      "outputs": []
    },
    {
      "cell_type": "markdown",
      "metadata": {
        "id": "nmTIj1o7SLVj"
      },
      "source": [
        "# Corridas"
      ]
    },
    {
      "cell_type": "markdown",
      "metadata": {
        "id": "TRRwWdePSVNO"
      },
      "source": [
        "Descrição dos dados </br>\n",
        "name: categórico nominal\n"
      ]
    },
    {
      "cell_type": "code",
      "metadata": {
        "id": "WxS-v2-uSOF5"
      },
      "source": [
        "races.head()"
      ],
      "execution_count": null,
      "outputs": []
    },
    {
      "cell_type": "code",
      "metadata": {
        "id": "FMkGL4TCSZrp"
      },
      "source": [
        "races[\"name\"] = races[\"name\"].astype(\"category\")"
      ],
      "execution_count": null,
      "outputs": []
    },
    {
      "cell_type": "code",
      "metadata": {
        "id": "bGD5DJtCSjGh"
      },
      "source": [
        "races[\"name\"].cat.categories"
      ],
      "execution_count": null,
      "outputs": []
    },
    {
      "cell_type": "code",
      "metadata": {
        "id": "lh_TG5MUSSF1"
      },
      "source": [
        "races.dtypes"
      ],
      "execution_count": null,
      "outputs": []
    },
    {
      "cell_type": "markdown",
      "metadata": {
        "id": "y64yvyykSxwA"
      },
      "source": [
        "#Resultados\n"
      ]
    },
    {
      "cell_type": "code",
      "metadata": {
        "id": "fT45tbZ-SzMx"
      },
      "source": [
        "results.head()"
      ],
      "execution_count": null,
      "outputs": []
    },
    {
      "cell_type": "code",
      "metadata": {
        "id": "EXLhRyZSTBi6"
      },
      "source": [
        "results[\"positionText\"] = results[\"positionText\"].astype(\"category\")"
      ],
      "execution_count": null,
      "outputs": []
    },
    {
      "cell_type": "code",
      "metadata": {
        "id": "zTT3UdCFS5qk"
      },
      "source": [
        "results.dtypes"
      ],
      "execution_count": null,
      "outputs": []
    },
    {
      "cell_type": "code",
      "metadata": {
        "id": "ZirmBE6HTKnM"
      },
      "source": [
        "results[\"positionText\"].cat.categories"
      ],
      "execution_count": null,
      "outputs": []
    },
    {
      "cell_type": "markdown",
      "metadata": {
        "id": "z1pZRqY4TXP-"
      },
      "source": [
        "#Temporadas\n"
      ]
    },
    {
      "cell_type": "code",
      "metadata": {
        "id": "Oo0EQSKoTaV6"
      },
      "source": [
        "seasons.head()"
      ],
      "execution_count": null,
      "outputs": []
    }
  ]
}