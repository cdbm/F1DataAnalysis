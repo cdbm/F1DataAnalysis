{
  "nbformat": 4,
  "nbformat_minor": 0,
  "metadata": {
    "colab": {
      "name": "Untitled4.ipynb",
      "provenance": [],
      "authorship_tag": "ABX9TyOy9K4Qz1K49aszDakwUxZW",
      "include_colab_link": true
    },
    "kernelspec": {
      "name": "python3",
      "display_name": "Python 3"
    }
  },
  "cells": [
    {
      "cell_type": "markdown",
      "metadata": {
        "id": "view-in-github",
        "colab_type": "text"
      },
      "source": [
        "<a href=\"https://colab.research.google.com/github/cdbm/F1DataAnalysis/blob/master/data.ipynb\" target=\"_parent\"><img src=\"https://colab.research.google.com/assets/colab-badge.svg\" alt=\"Open In Colab\"/></a>"
      ]
    },
    {
      "cell_type": "code",
      "metadata": {
        "id": "owvYjtIHfc-A"
      },
      "source": [
        "import numpy as np\n",
        "import pandas as pd\n",
        "import matplotlib.pyplot as plt"
      ],
      "execution_count": 1,
      "outputs": []
    },
    {
      "cell_type": "code",
      "metadata": {
        "id": "DKZdk6iehRAh"
      },
      "source": [
        "circuits=pd.read_csv(\"https://raw.githubusercontent.com/cdbm/F1DataAnalysis/master/f1_data/circuits.csv\")\n",
        "constructor_results=pd.read_csv(\"https://raw.githubusercontent.com/cdbm/F1DataAnalysis/master/f1_data/constructor_results.csv\")\n",
        "constructor_standings=pd.read_csv(\"https://raw.githubusercontent.com/cdbm/F1DataAnalysis/master/f1_data/constructor_standings.csv\")\n",
        "constructors=pd.read_csv(\"https://raw.githubusercontent.com/cdbm/F1DataAnalysis/master/f1_data/constructors.csv\")\n",
        "driver_standings=pd.read_csv(\"https://raw.githubusercontent.com/cdbm/F1DataAnalysis/master/f1_data/driver_standings.csv\")\n",
        "drivers=pd.read_csv(\"https://raw.githubusercontent.com/cdbm/F1DataAnalysis/master/f1_data/drivers.csv\")\n",
        "lap_times=pd.read_csv(\"https://raw.githubusercontent.com/cdbm/F1DataAnalysis/master/f1_data/lap_times.csv\")\n",
        "pit_stops=pd.read_csv(\"https://raw.githubusercontent.com/cdbm/F1DataAnalysis/master/f1_data/pit_stops.csv\")\n",
        "qualifying=pd.read_csv(\"https://raw.githubusercontent.com/cdbm/F1DataAnalysis/master/f1_data/qualifying.csv\")\n",
        "races=pd.read_csv(\"https://raw.githubusercontent.com/cdbm/F1DataAnalysis/master/f1_data/races.csv\")\n",
        "results=pd.read_csv(\"https://raw.githubusercontent.com/cdbm/F1DataAnalysis/master/f1_data/results.csv\")\n",
        "seasons=pd.read_csv(\"https://raw.githubusercontent.com/cdbm/F1DataAnalysis/master/f1_data/seasons.csv\")\n",
        "status=pd.read_csv(\"https://raw.githubusercontent.com/cdbm/F1DataAnalysis/master/f1_data/status.csv\")\n",
        "\n"
      ],
      "execution_count": 2,
      "outputs": []
    },
    {
      "cell_type": "markdown",
      "metadata": {
        "id": "yaJpE1CPp6SB"
      },
      "source": [
        "# Circuitos\n"
      ]
    },
    {
      "cell_type": "markdown",
      "metadata": {
        "id": "qbQxP_5iknu_"
      },
      "source": [
        "Esse dataset mostra uma descrição breve de todos os circuitos que já sediaram alguma corrida de fórmula 1 \n"
      ]
    },
    {
      "cell_type": "code",
      "metadata": {
        "id": "edI21gqimQZH"
      },
      "source": [
        "circuits['circuitRef'] = circuits['circuitRef'].astype('category')\n",
        "circuits['name'] = circuits['name'].astype('category')\n",
        "circuits['location'] = circuits['location'].astype('category')\n",
        "circuits['country'] = circuits['country'].astype('category')\n",
        "circuits['alt'] = circuits['alt'].astype('category')"
      ],
      "execution_count": 3,
      "outputs": []
    },
    {
      "cell_type": "markdown",
      "metadata": {
        "id": "Ti7BBmtFjstM"
      },
      "source": [
        "Descrição dos dados:\n",
        "\n",
        "circuitId: categórico nominal <br/>\n",
        "circuitRef: categórico nominal<br/>\n",
        "name: categórico nominal<br/>\n",
        "location: categórico nominal<br/>\n",
        "country: categórico nominal<br/>\n",
        "lat: Contínuo<br/>\n",
        "lng: Contínuo<br/>\n",
        "alt: categórico nominal </br>\n",
        "url: categórico nominal <br/>\n"
      ]
    },
    {
      "cell_type": "code",
      "metadata": {
        "id": "_nYMtCHpjY1h",
        "outputId": "824c2339-b9ba-4e08-fc5a-97b5ce57a5d3",
        "colab": {
          "base_uri": "https://localhost:8080/",
          "height": 0
        }
      },
      "source": [
        "circuits.head()"
      ],
      "execution_count": 4,
      "outputs": [
        {
          "output_type": "execute_result",
          "data": {
            "text/html": [
              "<div>\n",
              "<style scoped>\n",
              "    .dataframe tbody tr th:only-of-type {\n",
              "        vertical-align: middle;\n",
              "    }\n",
              "\n",
              "    .dataframe tbody tr th {\n",
              "        vertical-align: top;\n",
              "    }\n",
              "\n",
              "    .dataframe thead th {\n",
              "        text-align: right;\n",
              "    }\n",
              "</style>\n",
              "<table border=\"1\" class=\"dataframe\">\n",
              "  <thead>\n",
              "    <tr style=\"text-align: right;\">\n",
              "      <th></th>\n",
              "      <th>circuitId</th>\n",
              "      <th>circuitRef</th>\n",
              "      <th>name</th>\n",
              "      <th>location</th>\n",
              "      <th>country</th>\n",
              "      <th>lat</th>\n",
              "      <th>lng</th>\n",
              "      <th>alt</th>\n",
              "      <th>url</th>\n",
              "    </tr>\n",
              "  </thead>\n",
              "  <tbody>\n",
              "    <tr>\n",
              "      <th>0</th>\n",
              "      <td>1</td>\n",
              "      <td>albert_park</td>\n",
              "      <td>Albert Park Grand Prix Circuit</td>\n",
              "      <td>Melbourne</td>\n",
              "      <td>Australia</td>\n",
              "      <td>-37.84970</td>\n",
              "      <td>144.96800</td>\n",
              "      <td>10</td>\n",
              "      <td>http://en.wikipedia.org/wiki/Melbourne_Grand_P...</td>\n",
              "    </tr>\n",
              "    <tr>\n",
              "      <th>1</th>\n",
              "      <td>2</td>\n",
              "      <td>sepang</td>\n",
              "      <td>Sepang International Circuit</td>\n",
              "      <td>Kuala Lumpur</td>\n",
              "      <td>Malaysia</td>\n",
              "      <td>2.76083</td>\n",
              "      <td>101.73800</td>\n",
              "      <td>\\N</td>\n",
              "      <td>http://en.wikipedia.org/wiki/Sepang_Internatio...</td>\n",
              "    </tr>\n",
              "    <tr>\n",
              "      <th>2</th>\n",
              "      <td>3</td>\n",
              "      <td>bahrain</td>\n",
              "      <td>Bahrain International Circuit</td>\n",
              "      <td>Sakhir</td>\n",
              "      <td>Bahrain</td>\n",
              "      <td>26.03250</td>\n",
              "      <td>50.51060</td>\n",
              "      <td>\\N</td>\n",
              "      <td>http://en.wikipedia.org/wiki/Bahrain_Internati...</td>\n",
              "    </tr>\n",
              "    <tr>\n",
              "      <th>3</th>\n",
              "      <td>4</td>\n",
              "      <td>catalunya</td>\n",
              "      <td>Circuit de Barcelona-Catalunya</td>\n",
              "      <td>Montmeló</td>\n",
              "      <td>Spain</td>\n",
              "      <td>41.57000</td>\n",
              "      <td>2.26111</td>\n",
              "      <td>\\N</td>\n",
              "      <td>http://en.wikipedia.org/wiki/Circuit_de_Barcel...</td>\n",
              "    </tr>\n",
              "    <tr>\n",
              "      <th>4</th>\n",
              "      <td>5</td>\n",
              "      <td>istanbul</td>\n",
              "      <td>Istanbul Park</td>\n",
              "      <td>Istanbul</td>\n",
              "      <td>Turkey</td>\n",
              "      <td>40.95170</td>\n",
              "      <td>29.40500</td>\n",
              "      <td>\\N</td>\n",
              "      <td>http://en.wikipedia.org/wiki/Istanbul_Park</td>\n",
              "    </tr>\n",
              "  </tbody>\n",
              "</table>\n",
              "</div>"
            ],
            "text/plain": [
              "   circuitId  ...                                                url\n",
              "0          1  ...  http://en.wikipedia.org/wiki/Melbourne_Grand_P...\n",
              "1          2  ...  http://en.wikipedia.org/wiki/Sepang_Internatio...\n",
              "2          3  ...  http://en.wikipedia.org/wiki/Bahrain_Internati...\n",
              "3          4  ...  http://en.wikipedia.org/wiki/Circuit_de_Barcel...\n",
              "4          5  ...         http://en.wikipedia.org/wiki/Istanbul_Park\n",
              "\n",
              "[5 rows x 9 columns]"
            ]
          },
          "metadata": {
            "tags": []
          },
          "execution_count": 4
        }
      ]
    },
    {
      "cell_type": "code",
      "metadata": {
        "id": "vwSfU2BDi1wU",
        "outputId": "58504880-7f34-4ce6-ad44-8efe7d30e859",
        "colab": {
          "base_uri": "https://localhost:8080/"
        }
      },
      "source": [
        "circuits.dtypes"
      ],
      "execution_count": 5,
      "outputs": [
        {
          "output_type": "execute_result",
          "data": {
            "text/plain": [
              "circuitId        int64\n",
              "circuitRef    category\n",
              "name          category\n",
              "location      category\n",
              "country       category\n",
              "lat            float64\n",
              "lng            float64\n",
              "alt           category\n",
              "url             object\n",
              "dtype: object"
            ]
          },
          "metadata": {
            "tags": []
          },
          "execution_count": 5
        }
      ]
    },
    {
      "cell_type": "code",
      "metadata": {
        "id": "7RwDsoUmnPJN",
        "outputId": "dd7a24ff-4377-4233-ca49-70ca7ebbce8a",
        "colab": {
          "base_uri": "https://localhost:8080/"
        }
      },
      "source": [
        "circuits['country'].cat.categories"
      ],
      "execution_count": 6,
      "outputs": [
        {
          "output_type": "execute_result",
          "data": {
            "text/plain": [
              "Index(['Argentina', 'Australia', 'Austria', 'Azerbaijan', 'Bahrain', 'Belgium',\n",
              "       'Brazil', 'Canada', 'China', 'France', 'Germany', 'Hungary', 'India',\n",
              "       'Italy', 'Japan', 'Korea', 'Malaysia', 'Mexico', 'Monaco', 'Morocco',\n",
              "       'Netherlands', 'Portugal', 'Russia', 'Singapore', 'South Africa',\n",
              "       'Spain', 'Sweden', 'Switzerland', 'Turkey', 'UAE', 'UK', 'USA',\n",
              "       'Vietnam'],\n",
              "      dtype='object')"
            ]
          },
          "metadata": {
            "tags": []
          },
          "execution_count": 6
        }
      ]
    },
    {
      "cell_type": "markdown",
      "metadata": {
        "id": "bTQARDpToWv3"
      },
      "source": [
        "Localização dos ciruitos no mapa\n"
      ]
    },
    {
      "cell_type": "code",
      "metadata": {
        "id": "Yv09TrKhjc_G",
        "outputId": "85b31f43-aef7-40b1-d521-0e6de8749904",
        "colab": {
          "base_uri": "https://localhost:8080/",
          "height": 0
        }
      },
      "source": [
        "circuits.plot.scatter(x='lng', y='lat')"
      ],
      "execution_count": 7,
      "outputs": [
        {
          "output_type": "execute_result",
          "data": {
            "text/plain": [
              "<matplotlib.axes._subplots.AxesSubplot at 0x7f692637c550>"
            ]
          },
          "metadata": {
            "tags": []
          },
          "execution_count": 7
        },
        {
          "output_type": "display_data",
          "data": {
            "image/png": "[encoded data removed]",
            "text/plain": [
              "<Figure size 432x288 with 1 Axes>"
            ]
          },
          "metadata": {
            "tags": [],
            "needs_background": "light"
          }
        }
      ]
    },
    {
      "cell_type": "markdown",
      "metadata": {
        "id": "5oF0hL3yocmx"
      },
      "source": [
        "Países com mais circuitos a sediar uma corrida de fórmula 1\n"
      ]
    },
    {
      "cell_type": "code",
      "metadata": {
        "id": "n_T-L4GioPrQ",
        "outputId": "bb1ed1b5-de93-47a0-bc1b-16122c551caf",
        "colab": {
          "base_uri": "https://localhost:8080/",
          "height": 0
        }
      },
      "source": [
        "circuits.groupby(['country']).agg(['count'])[\"circuitId\"].sort_values(by='count', ascending=False).plot.barh()"
      ],
      "execution_count": 8,
      "outputs": [
        {
          "output_type": "execute_result",
          "data": {
            "text/plain": [
              "<matplotlib.axes._subplots.AxesSubplot at 0x7f69262d0cf8>"
            ]
          },
          "metadata": {
            "tags": []
          },
          "execution_count": 8
        },
        {
          "output_type": "display_data",
          "data": {
            "image/png": "[encoded data removed]",
            "text/plain": [
              "<Figure size 432x288 with 1 Axes>"
            ]
          },
          "metadata": {
            "tags": [],
            "needs_background": "light"
          }
        }
      ]
    },
    {
      "cell_type": "markdown",
      "metadata": {
        "id": "fYX-kBcnqpMN"
      },
      "source": [
        "# Construtores\n"
      ]
    },
    {
      "cell_type": "markdown",
      "metadata": {
        "id": "3eTDV2m1kxR1"
      },
      "source": [
        "Esse dataset é reservado para mostrar informações das equipes que correm e correram na categoria.\n"
      ]
    },
    {
      "cell_type": "code",
      "metadata": {
        "id": "TaV48MjwoDW1"
      },
      "source": [
        "constructors['constructorRef'] = constructors['constructorRef'].astype('category')\n",
        "constructors['name'] = constructors['name'].astype('category')\n",
        "constructors['nationality'] = constructors['nationality'].astype('category')"
      ],
      "execution_count": 9,
      "outputs": []
    },
    {
      "cell_type": "markdown",
      "metadata": {
        "id": "gC_d5cabocwV"
      },
      "source": [
        "Descrição dos dados:\n",
        "\n",
        "constructorId: categórico nominal <br/>\n",
        "name: categórico nominal<br/>\n",
        "nationality: categórico nominal<br/>\n",
        "\n"
      ]
    },
    {
      "cell_type": "code",
      "metadata": {
        "id": "ibArff5enwB1",
        "outputId": "c8c71eb8-36b3-48e1-81a7-576b4495b879",
        "colab": {
          "base_uri": "https://localhost:8080/"
        }
      },
      "source": [
        "constructors.dtypes"
      ],
      "execution_count": 10,
      "outputs": [
        {
          "output_type": "execute_result",
          "data": {
            "text/plain": [
              "constructorId        int64\n",
              "constructorRef    category\n",
              "name              category\n",
              "nationality       category\n",
              "url                 object\n",
              "dtype: object"
            ]
          },
          "metadata": {
            "tags": []
          },
          "execution_count": 10
        }
      ]
    },
    {
      "cell_type": "markdown",
      "metadata": {
        "id": "EMxBCoGQsj1d"
      },
      "source": [
        "Países com mais equipes <br>\n",
        "A diferença entre as equipes britânicas para o resto se da pelo fato da inglaterra ser o berço da fórmula 1 e além disso varias equipes escolhem a inglaterra como sede pela comodidade."
      ]
    },
    {
      "cell_type": "code",
      "metadata": {
        "id": "Zj6QxVvFqwG7",
        "outputId": "b544b89e-9dbd-4cdf-d41f-4f94235964a9",
        "colab": {
          "base_uri": "https://localhost:8080/",
          "height": 282
        }
      },
      "source": [
        "constructors.groupby(['nationality']).agg(['count'])['constructorRef'].sort_values(by='count', ascending=False).plot.barh()"
      ],
      "execution_count": 11,
      "outputs": [
        {
          "output_type": "execute_result",
          "data": {
            "text/plain": [
              "<matplotlib.axes._subplots.AxesSubplot at 0x7f6925d7cd30>"
            ]
          },
          "metadata": {
            "tags": []
          },
          "execution_count": 11
        },
        {
          "output_type": "display_data",
          "data": {
            "image/png": "[encoded data removed]",
            "text/plain": [
              "<Figure size 432x288 with 1 Axes>"
            ]
          },
          "metadata": {
            "tags": [],
            "needs_background": "light"
          }
        }
      ]
    },
    {
      "cell_type": "code",
      "metadata": {
        "id": "LFFDtzhhng53",
        "outputId": "4b3fbd71-b8f9-4a34-83f3-a9a048ce7a59",
        "colab": {
          "base_uri": "https://localhost:8080/",
          "height": 80
        }
      },
      "source": [
        "constructors[constructors[\"name\"] == \"Mercedes\"]"
      ],
      "execution_count": 12,
      "outputs": [
        {
          "output_type": "execute_result",
          "data": {
            "text/html": [
              "<div>\n",
              "<style scoped>\n",
              "    .dataframe tbody tr th:only-of-type {\n",
              "        vertical-align: middle;\n",
              "    }\n",
              "\n",
              "    .dataframe tbody tr th {\n",
              "        vertical-align: top;\n",
              "    }\n",
              "\n",
              "    .dataframe thead th {\n",
              "        text-align: right;\n",
              "    }\n",
              "</style>\n",
              "<table border=\"1\" class=\"dataframe\">\n",
              "  <thead>\n",
              "    <tr style=\"text-align: right;\">\n",
              "      <th></th>\n",
              "      <th>constructorId</th>\n",
              "      <th>constructorRef</th>\n",
              "      <th>name</th>\n",
              "      <th>nationality</th>\n",
              "      <th>url</th>\n",
              "    </tr>\n",
              "  </thead>\n",
              "  <tbody>\n",
              "    <tr>\n",
              "      <th>129</th>\n",
              "      <td>131</td>\n",
              "      <td>mercedes</td>\n",
              "      <td>Mercedes</td>\n",
              "      <td>German</td>\n",
              "      <td>http://en.wikipedia.org/wiki/Mercedes-Benz_in_...</td>\n",
              "    </tr>\n",
              "  </tbody>\n",
              "</table>\n",
              "</div>"
            ],
            "text/plain": [
              "     constructorId  ...                                                url\n",
              "129            131  ...  http://en.wikipedia.org/wiki/Mercedes-Benz_in_...\n",
              "\n",
              "[1 rows x 5 columns]"
            ]
          },
          "metadata": {
            "tags": []
          },
          "execution_count": 12
        }
      ]
    },
    {
      "cell_type": "markdown",
      "metadata": {
        "id": "KyXIav6zOJBf"
      },
      "source": [
        "# Resultados Construtores\n"
      ]
    },
    {
      "cell_type": "markdown",
      "metadata": {
        "id": "-w2sseX7k60V"
      },
      "source": [
        "Esse dataset mostra os resultados das equipes por corridas, mostrando a pontuação total em cada corrida disputada."
      ]
    },
    {
      "cell_type": "markdown",
      "metadata": {
        "id": "LJIqoxNBPxQj"
      },
      "source": [
        "Descrição dos dados </br>\n",
        "status: categórico binário\n"
      ]
    },
    {
      "cell_type": "code",
      "metadata": {
        "id": "NAjZS3UMN6kT",
        "outputId": "b234af1c-e366-406b-d62c-9934af0bdcc2",
        "colab": {
          "base_uri": "https://localhost:8080/",
          "height": 0
        }
      },
      "source": [
        "constructor_results.head()"
      ],
      "execution_count": 13,
      "outputs": [
        {
          "output_type": "execute_result",
          "data": {
            "text/html": [
              "<div>\n",
              "<style scoped>\n",
              "    .dataframe tbody tr th:only-of-type {\n",
              "        vertical-align: middle;\n",
              "    }\n",
              "\n",
              "    .dataframe tbody tr th {\n",
              "        vertical-align: top;\n",
              "    }\n",
              "\n",
              "    .dataframe thead th {\n",
              "        text-align: right;\n",
              "    }\n",
              "</style>\n",
              "<table border=\"1\" class=\"dataframe\">\n",
              "  <thead>\n",
              "    <tr style=\"text-align: right;\">\n",
              "      <th></th>\n",
              "      <th>constructorResultsId</th>\n",
              "      <th>raceId</th>\n",
              "      <th>constructorId</th>\n",
              "      <th>points</th>\n",
              "      <th>status</th>\n",
              "    </tr>\n",
              "  </thead>\n",
              "  <tbody>\n",
              "    <tr>\n",
              "      <th>0</th>\n",
              "      <td>1</td>\n",
              "      <td>18</td>\n",
              "      <td>1</td>\n",
              "      <td>14.0</td>\n",
              "      <td>\\N</td>\n",
              "    </tr>\n",
              "    <tr>\n",
              "      <th>1</th>\n",
              "      <td>2</td>\n",
              "      <td>18</td>\n",
              "      <td>2</td>\n",
              "      <td>8.0</td>\n",
              "      <td>\\N</td>\n",
              "    </tr>\n",
              "    <tr>\n",
              "      <th>2</th>\n",
              "      <td>3</td>\n",
              "      <td>18</td>\n",
              "      <td>3</td>\n",
              "      <td>9.0</td>\n",
              "      <td>\\N</td>\n",
              "    </tr>\n",
              "    <tr>\n",
              "      <th>3</th>\n",
              "      <td>4</td>\n",
              "      <td>18</td>\n",
              "      <td>4</td>\n",
              "      <td>5.0</td>\n",
              "      <td>\\N</td>\n",
              "    </tr>\n",
              "    <tr>\n",
              "      <th>4</th>\n",
              "      <td>5</td>\n",
              "      <td>18</td>\n",
              "      <td>5</td>\n",
              "      <td>2.0</td>\n",
              "      <td>\\N</td>\n",
              "    </tr>\n",
              "  </tbody>\n",
              "</table>\n",
              "</div>"
            ],
            "text/plain": [
              "   constructorResultsId  raceId  constructorId  points status\n",
              "0                     1      18              1    14.0     \\N\n",
              "1                     2      18              2     8.0     \\N\n",
              "2                     3      18              3     9.0     \\N\n",
              "3                     4      18              4     5.0     \\N\n",
              "4                     5      18              5     2.0     \\N"
            ]
          },
          "metadata": {
            "tags": []
          },
          "execution_count": 13
        }
      ]
    },
    {
      "cell_type": "code",
      "metadata": {
        "id": "LWRkrl5xOUk6",
        "outputId": "8be03481-ff1e-4391-9554-9eedf953d592",
        "colab": {
          "base_uri": "https://localhost:8080/"
        }
      },
      "source": [
        "constructor_results.dtypes"
      ],
      "execution_count": 14,
      "outputs": [
        {
          "output_type": "execute_result",
          "data": {
            "text/plain": [
              "constructorResultsId      int64\n",
              "raceId                    int64\n",
              "constructorId             int64\n",
              "points                  float64\n",
              "status                   object\n",
              "dtype: object"
            ]
          },
          "metadata": {
            "tags": []
          },
          "execution_count": 14
        }
      ]
    },
    {
      "cell_type": "code",
      "metadata": {
        "id": "R9fW9MPFOlUX"
      },
      "source": [
        "constructor_results[\"status\"] = constructor_results[\"status\"].astype(\"category\")"
      ],
      "execution_count": 15,
      "outputs": []
    },
    {
      "cell_type": "code",
      "metadata": {
        "id": "j8ounjjlOwfm",
        "outputId": "6bd5e360-6fce-48bb-dccd-fb8c70f95ad1",
        "colab": {
          "base_uri": "https://localhost:8080/"
        }
      },
      "source": [
        "constructor_results[\"status\"].cat.categories"
      ],
      "execution_count": 16,
      "outputs": [
        {
          "output_type": "execute_result",
          "data": {
            "text/plain": [
              "Index(['D', '\\N'], dtype='object')"
            ]
          },
          "metadata": {
            "tags": []
          },
          "execution_count": 16
        }
      ]
    },
    {
      "cell_type": "markdown",
      "metadata": {
        "id": "8XiiUGdHPBm1"
      },
      "source": [
        "# Construtores Standings\n"
      ]
    },
    {
      "cell_type": "markdown",
      "metadata": {
        "id": "VtXcbBEwlHZK"
      },
      "source": [
        "o dataset de standings mostra uma visão de como a equipe está situada no campeonato após dada corrida, mostrando os pontos conquistados até aqui, corridas vencidas entre outros."
      ]
    },
    {
      "cell_type": "markdown",
      "metadata": {
        "id": "FdBRSd2RP9kl"
      },
      "source": [
        "Descrção dos dados </br>\n",
        "positionText: categórico nomimal\n"
      ]
    },
    {
      "cell_type": "code",
      "metadata": {
        "id": "u5ZHOf5aPFPn",
        "outputId": "f38915d2-6c05-4c2d-ef2f-0e6b345c60f4",
        "colab": {
          "base_uri": "https://localhost:8080/",
          "height": 0
        }
      },
      "source": [
        "constructor_standings.head()"
      ],
      "execution_count": 17,
      "outputs": [
        {
          "output_type": "execute_result",
          "data": {
            "text/html": [
              "<div>\n",
              "<style scoped>\n",
              "    .dataframe tbody tr th:only-of-type {\n",
              "        vertical-align: middle;\n",
              "    }\n",
              "\n",
              "    .dataframe tbody tr th {\n",
              "        vertical-align: top;\n",
              "    }\n",
              "\n",
              "    .dataframe thead th {\n",
              "        text-align: right;\n",
              "    }\n",
              "</style>\n",
              "<table border=\"1\" class=\"dataframe\">\n",
              "  <thead>\n",
              "    <tr style=\"text-align: right;\">\n",
              "      <th></th>\n",
              "      <th>constructorStandingsId</th>\n",
              "      <th>raceId</th>\n",
              "      <th>constructorId</th>\n",
              "      <th>points</th>\n",
              "      <th>position</th>\n",
              "      <th>positionText</th>\n",
              "      <th>wins</th>\n",
              "    </tr>\n",
              "  </thead>\n",
              "  <tbody>\n",
              "    <tr>\n",
              "      <th>0</th>\n",
              "      <td>1</td>\n",
              "      <td>18</td>\n",
              "      <td>1</td>\n",
              "      <td>14.0</td>\n",
              "      <td>1</td>\n",
              "      <td>1</td>\n",
              "      <td>1</td>\n",
              "    </tr>\n",
              "    <tr>\n",
              "      <th>1</th>\n",
              "      <td>2</td>\n",
              "      <td>18</td>\n",
              "      <td>2</td>\n",
              "      <td>8.0</td>\n",
              "      <td>3</td>\n",
              "      <td>3</td>\n",
              "      <td>0</td>\n",
              "    </tr>\n",
              "    <tr>\n",
              "      <th>2</th>\n",
              "      <td>3</td>\n",
              "      <td>18</td>\n",
              "      <td>3</td>\n",
              "      <td>9.0</td>\n",
              "      <td>2</td>\n",
              "      <td>2</td>\n",
              "      <td>0</td>\n",
              "    </tr>\n",
              "    <tr>\n",
              "      <th>3</th>\n",
              "      <td>4</td>\n",
              "      <td>18</td>\n",
              "      <td>4</td>\n",
              "      <td>5.0</td>\n",
              "      <td>4</td>\n",
              "      <td>4</td>\n",
              "      <td>0</td>\n",
              "    </tr>\n",
              "    <tr>\n",
              "      <th>4</th>\n",
              "      <td>5</td>\n",
              "      <td>18</td>\n",
              "      <td>5</td>\n",
              "      <td>2.0</td>\n",
              "      <td>5</td>\n",
              "      <td>5</td>\n",
              "      <td>0</td>\n",
              "    </tr>\n",
              "  </tbody>\n",
              "</table>\n",
              "</div>"
            ],
            "text/plain": [
              "   constructorStandingsId  raceId  constructorId  ...  position  positionText wins\n",
              "0                       1      18              1  ...         1             1    1\n",
              "1                       2      18              2  ...         3             3    0\n",
              "2                       3      18              3  ...         2             2    0\n",
              "3                       4      18              4  ...         4             4    0\n",
              "4                       5      18              5  ...         5             5    0\n",
              "\n",
              "[5 rows x 7 columns]"
            ]
          },
          "metadata": {
            "tags": []
          },
          "execution_count": 17
        }
      ]
    },
    {
      "cell_type": "code",
      "metadata": {
        "id": "fiWTvoXXPPT6"
      },
      "source": [
        "constructor_standings[\"positionText\"] = constructor_standings[\"positionText\"].astype(\"category\")"
      ],
      "execution_count": 18,
      "outputs": []
    },
    {
      "cell_type": "code",
      "metadata": {
        "id": "K8L3oYOVPY4R",
        "outputId": "2ae63147-7012-4130-a9fe-3d78fd550a01",
        "colab": {
          "base_uri": "https://localhost:8080/"
        }
      },
      "source": [
        "constructor_standings[\"positionText\"].cat.categories"
      ],
      "execution_count": 19,
      "outputs": [
        {
          "output_type": "execute_result",
          "data": {
            "text/plain": [
              "Index(['1', '10', '11', '12', '13', '14', '15', '16', '17', '18', '19', '2',\n",
              "       '20', '21', '22', '3', '4', '5', '6', '7', '8', '9', 'E'],\n",
              "      dtype='object')"
            ]
          },
          "metadata": {
            "tags": []
          },
          "execution_count": 19
        }
      ]
    },
    {
      "cell_type": "code",
      "metadata": {
        "id": "zduWI022PKq2",
        "outputId": "91ee6975-b92e-4704-fc0f-285b16044906",
        "colab": {
          "base_uri": "https://localhost:8080/"
        }
      },
      "source": [
        "constructor_standings.dtypes"
      ],
      "execution_count": 20,
      "outputs": [
        {
          "output_type": "execute_result",
          "data": {
            "text/plain": [
              "constructorStandingsId       int64\n",
              "raceId                       int64\n",
              "constructorId                int64\n",
              "points                     float64\n",
              "position                     int64\n",
              "positionText              category\n",
              "wins                         int64\n",
              "dtype: object"
            ]
          },
          "metadata": {
            "tags": []
          },
          "execution_count": 20
        }
      ]
    },
    {
      "cell_type": "markdown",
      "metadata": {
        "id": "nQU5Q-ADx9Dj"
      },
      "source": [
        "# Desempenho Construtores"
      ]
    },
    {
      "cell_type": "markdown",
      "metadata": {
        "id": "bsW7m5GqlXnd"
      },
      "source": [
        "Essa sessão é dedicada a uma análise de desempenho de várias equipes ao longo do tempo, suas pontuações, vitórias e comparações entre elas."
      ]
    },
    {
      "cell_type": "markdown",
      "metadata": {
        "id": "DQMepxdQZ0j4"
      },
      "source": [
        "Análise de desempenho da ferrari durante os anos"
      ]
    },
    {
      "cell_type": "code",
      "metadata": {
        "id": "KCrtZHQUsw-E",
        "outputId": "0c8b2f13-3a70-4d84-da55-655591e304a6",
        "colab": {
          "base_uri": "https://localhost:8080/",
          "height": 297
        }
      },
      "source": [
        "ferrari_standings=constructor_standings[constructor_standings.constructorId == 6]\n",
        "ferrari_standings.sort_values(by=\"raceId\")\n",
        "ferrari_standings.describe()"
      ],
      "execution_count": 21,
      "outputs": [
        {
          "output_type": "execute_result",
          "data": {
            "text/html": [
              "<div>\n",
              "<style scoped>\n",
              "    .dataframe tbody tr th:only-of-type {\n",
              "        vertical-align: middle;\n",
              "    }\n",
              "\n",
              "    .dataframe tbody tr th {\n",
              "        vertical-align: top;\n",
              "    }\n",
              "\n",
              "    .dataframe thead th {\n",
              "        text-align: right;\n",
              "    }\n",
              "</style>\n",
              "<table border=\"1\" class=\"dataframe\">\n",
              "  <thead>\n",
              "    <tr style=\"text-align: right;\">\n",
              "      <th></th>\n",
              "      <th>constructorStandingsId</th>\n",
              "      <th>raceId</th>\n",
              "      <th>constructorId</th>\n",
              "      <th>points</th>\n",
              "      <th>position</th>\n",
              "      <th>wins</th>\n",
              "    </tr>\n",
              "  </thead>\n",
              "  <tbody>\n",
              "    <tr>\n",
              "      <th>count</th>\n",
              "      <td>957.000000</td>\n",
              "      <td>957.000000</td>\n",
              "      <td>957.0</td>\n",
              "      <td>957.000000</td>\n",
              "      <td>957.000000</td>\n",
              "      <td>957.000000</td>\n",
              "    </tr>\n",
              "    <tr>\n",
              "      <th>mean</th>\n",
              "      <td>15762.467085</td>\n",
              "      <td>494.479624</td>\n",
              "      <td>6.0</td>\n",
              "      <td>82.415361</td>\n",
              "      <td>2.789969</td>\n",
              "      <td>1.939394</td>\n",
              "    </tr>\n",
              "    <tr>\n",
              "      <th>std</th>\n",
              "      <td>8972.564223</td>\n",
              "      <td>297.638813</td>\n",
              "      <td>0.0</td>\n",
              "      <td>102.404158</td>\n",
              "      <td>1.928856</td>\n",
              "      <td>2.434172</td>\n",
              "    </tr>\n",
              "    <tr>\n",
              "      <th>min</th>\n",
              "      <td>6.000000</td>\n",
              "      <td>1.000000</td>\n",
              "      <td>6.0</td>\n",
              "      <td>0.000000</td>\n",
              "      <td>1.000000</td>\n",
              "      <td>0.000000</td>\n",
              "    </tr>\n",
              "    <tr>\n",
              "      <th>25%</th>\n",
              "      <td>6508.000000</td>\n",
              "      <td>240.000000</td>\n",
              "      <td>6.0</td>\n",
              "      <td>17.000000</td>\n",
              "      <td>2.000000</td>\n",
              "      <td>0.000000</td>\n",
              "    </tr>\n",
              "    <tr>\n",
              "      <th>50%</th>\n",
              "      <td>19352.000000</td>\n",
              "      <td>481.000000</td>\n",
              "      <td>6.0</td>\n",
              "      <td>43.000000</td>\n",
              "      <td>2.000000</td>\n",
              "      <td>1.000000</td>\n",
              "    </tr>\n",
              "    <tr>\n",
              "      <th>75%</th>\n",
              "      <td>24364.000000</td>\n",
              "      <td>721.000000</td>\n",
              "      <td>6.0</td>\n",
              "      <td>100.000000</td>\n",
              "      <td>3.000000</td>\n",
              "      <td>3.000000</td>\n",
              "    </tr>\n",
              "    <tr>\n",
              "      <th>max</th>\n",
              "      <td>27534.000000</td>\n",
              "      <td>1036.000000</td>\n",
              "      <td>6.0</td>\n",
              "      <td>571.000000</td>\n",
              "      <td>14.000000</td>\n",
              "      <td>15.000000</td>\n",
              "    </tr>\n",
              "  </tbody>\n",
              "</table>\n",
              "</div>"
            ],
            "text/plain": [
              "       constructorStandingsId       raceId  ...    position        wins\n",
              "count              957.000000   957.000000  ...  957.000000  957.000000\n",
              "mean             15762.467085   494.479624  ...    2.789969    1.939394\n",
              "std               8972.564223   297.638813  ...    1.928856    2.434172\n",
              "min                  6.000000     1.000000  ...    1.000000    0.000000\n",
              "25%               6508.000000   240.000000  ...    2.000000    0.000000\n",
              "50%              19352.000000   481.000000  ...    2.000000    1.000000\n",
              "75%              24364.000000   721.000000  ...    3.000000    3.000000\n",
              "max              27534.000000  1036.000000  ...   14.000000   15.000000\n",
              "\n",
              "[8 rows x 6 columns]"
            ]
          },
          "metadata": {
            "tags": []
          },
          "execution_count": 21
        }
      ]
    },
    {
      "cell_type": "markdown",
      "metadata": {
        "id": "0gIGyAV3mH-G"
      },
      "source": [
        "O gráfico a seguir mostra a pontuação final por temporada de uma das equipes mais tradicionais da categoria, a ferrari. É útil observar que o grande aumento de pontos nas últimas décadas se da por mudanças de regulamento que passaram a dar mais pontos para as respectivas colocações"
      ]
    },
    {
      "cell_type": "code",
      "metadata": {
        "id": "tJKJp1urFI4q",
        "outputId": "e940dd81-a221-4a2d-9336-28c7f09211f6",
        "colab": {
          "base_uri": "https://localhost:8080/",
          "height": 398
        }
      },
      "source": [
        "ferrari_standings[\"year\"] = ferrari_standings.raceId.map(races.set_index(\"raceId\")[\"year\"])\n",
        "ferrari_2019 = ferrari_standings[ferrari_standings.year == 2019]\n",
        "ferrari_by_year = ferrari_standings.groupby([\"year\"]).agg(\"max\")[\"points\"]\n",
        "ferrari_by_year.plot()"
      ],
      "execution_count": 22,
      "outputs": [
        {
          "output_type": "stream",
          "text": [
            "/usr/local/lib/python3.6/dist-packages/ipykernel_launcher.py:1: SettingWithCopyWarning: \n",
            "A value is trying to be set on a copy of a slice from a DataFrame.\n",
            "Try using .loc[row_indexer,col_indexer] = value instead\n",
            "\n",
            "See the caveats in the documentation: https://pandas.pydata.org/pandas-docs/stable/user_guide/indexing.html#returning-a-view-versus-a-copy\n",
            "  \"\"\"Entry point for launching an IPython kernel.\n"
          ],
          "name": "stderr"
        },
        {
          "output_type": "execute_result",
          "data": {
            "text/plain": [
              "<matplotlib.axes._subplots.AxesSubplot at 0x7f6925c4eba8>"
            ]
          },
          "metadata": {
            "tags": []
          },
          "execution_count": 22
        },
        {
          "output_type": "display_data",
          "data": {
            "image/png": "[encoded data removed]",
            "text/plain": [
              "<Figure size 432x288 with 1 Axes>"
            ]
          },
          "metadata": {
            "tags": [],
            "needs_background": "light"
          }
        }
      ]
    },
    {
      "cell_type": "markdown",
      "metadata": {
        "id": "SLBw6Zh8W6Tc"
      },
      "source": [
        "Filtro na ferrari para comparar com red bull"
      ]
    },
    {
      "cell_type": "code",
      "metadata": {
        "id": "65VwvD09W-JL",
        "outputId": "5f4038f1-3eb4-43cf-a43b-947e3c99f82c",
        "colab": {
          "base_uri": "https://localhost:8080/",
          "height": 296
        }
      },
      "source": [
        "ferrari_from_2005 = ferrari_standings[ferrari_standings.year >= 2005]\n",
        "ferrari_from_2005 = ferrari_from_2005.groupby([\"year\"]).agg(\"max\")[\"points\"]\n",
        "ferrari_from_2005.plot()"
      ],
      "execution_count": 23,
      "outputs": [
        {
          "output_type": "execute_result",
          "data": {
            "text/plain": [
              "<matplotlib.axes._subplots.AxesSubplot at 0x7f6924966cc0>"
            ]
          },
          "metadata": {
            "tags": []
          },
          "execution_count": 23
        },
        {
          "output_type": "display_data",
          "data": {
            "image/png": "[encoded data removed]",
            "text/plain": [
              "<Figure size 432x288 with 1 Axes>"
            ]
          },
          "metadata": {
            "tags": [],
            "needs_background": "light"
          }
        }
      ]
    },
    {
      "cell_type": "markdown",
      "metadata": {
        "id": "Vs6clyvEVTsS"
      },
      "source": [
        "Análise de pountuação da Red Bull ao longo dos anos"
      ]
    },
    {
      "cell_type": "code",
      "metadata": {
        "id": "mPlYizclVY7I",
        "outputId": "8980d070-8ddf-4834-963a-42dcda1c6dc4",
        "colab": {
          "base_uri": "https://localhost:8080/",
          "height": 297
        }
      },
      "source": [
        "rbr_standings=constructor_standings[constructor_standings.constructorId == 9]\n",
        "rbr_standings.sort_values(by=\"raceId\")\n",
        "rbr_standings.describe()"
      ],
      "execution_count": 24,
      "outputs": [
        {
          "output_type": "execute_result",
          "data": {
            "text/html": [
              "<div>\n",
              "<style scoped>\n",
              "    .dataframe tbody tr th:only-of-type {\n",
              "        vertical-align: middle;\n",
              "    }\n",
              "\n",
              "    .dataframe tbody tr th {\n",
              "        vertical-align: top;\n",
              "    }\n",
              "\n",
              "    .dataframe thead th {\n",
              "        text-align: right;\n",
              "    }\n",
              "</style>\n",
              "<table border=\"1\" class=\"dataframe\">\n",
              "  <thead>\n",
              "    <tr style=\"text-align: right;\">\n",
              "      <th></th>\n",
              "      <th>constructorStandingsId</th>\n",
              "      <th>raceId</th>\n",
              "      <th>constructorId</th>\n",
              "      <th>points</th>\n",
              "      <th>position</th>\n",
              "      <th>wins</th>\n",
              "    </tr>\n",
              "  </thead>\n",
              "  <tbody>\n",
              "    <tr>\n",
              "      <th>count</th>\n",
              "      <td>292.000000</td>\n",
              "      <td>292.000000</td>\n",
              "      <td>292.0</td>\n",
              "      <td>292.000000</td>\n",
              "      <td>292.000000</td>\n",
              "      <td>292.000000</td>\n",
              "    </tr>\n",
              "    <tr>\n",
              "      <th>mean</th>\n",
              "      <td>20727.017123</td>\n",
              "      <td>631.287671</td>\n",
              "      <td>9.0</td>\n",
              "      <td>161.993151</td>\n",
              "      <td>3.356164</td>\n",
              "      <td>1.945205</td>\n",
              "    </tr>\n",
              "    <tr>\n",
              "      <th>std</th>\n",
              "      <td>9595.577586</td>\n",
              "      <td>414.507739</td>\n",
              "      <td>0.0</td>\n",
              "      <td>154.877293</td>\n",
              "      <td>2.099713</td>\n",
              "      <td>2.665242</td>\n",
              "    </tr>\n",
              "    <tr>\n",
              "      <th>min</th>\n",
              "      <td>14.000000</td>\n",
              "      <td>1.000000</td>\n",
              "      <td>9.0</td>\n",
              "      <td>0.000000</td>\n",
              "      <td>1.000000</td>\n",
              "      <td>0.000000</td>\n",
              "    </tr>\n",
              "    <tr>\n",
              "      <th>25%</th>\n",
              "      <td>24267.000000</td>\n",
              "      <td>74.750000</td>\n",
              "      <td>9.0</td>\n",
              "      <td>24.000000</td>\n",
              "      <td>2.000000</td>\n",
              "      <td>0.000000</td>\n",
              "    </tr>\n",
              "    <tr>\n",
              "      <th>50%</th>\n",
              "      <td>25329.500000</td>\n",
              "      <td>879.500000</td>\n",
              "      <td>9.0</td>\n",
              "      <td>112.000000</td>\n",
              "      <td>3.000000</td>\n",
              "      <td>1.000000</td>\n",
              "    </tr>\n",
              "    <tr>\n",
              "      <th>75%</th>\n",
              "      <td>26627.750000</td>\n",
              "      <td>963.250000</td>\n",
              "      <td>9.0</td>\n",
              "      <td>272.000000</td>\n",
              "      <td>5.000000</td>\n",
              "      <td>3.000000</td>\n",
              "    </tr>\n",
              "    <tr>\n",
              "      <th>max</th>\n",
              "      <td>27541.000000</td>\n",
              "      <td>1036.000000</td>\n",
              "      <td>9.0</td>\n",
              "      <td>650.000000</td>\n",
              "      <td>11.000000</td>\n",
              "      <td>13.000000</td>\n",
              "    </tr>\n",
              "  </tbody>\n",
              "</table>\n",
              "</div>"
            ],
            "text/plain": [
              "       constructorStandingsId       raceId  ...    position        wins\n",
              "count              292.000000   292.000000  ...  292.000000  292.000000\n",
              "mean             20727.017123   631.287671  ...    3.356164    1.945205\n",
              "std               9595.577586   414.507739  ...    2.099713    2.665242\n",
              "min                 14.000000     1.000000  ...    1.000000    0.000000\n",
              "25%              24267.000000    74.750000  ...    2.000000    0.000000\n",
              "50%              25329.500000   879.500000  ...    3.000000    1.000000\n",
              "75%              26627.750000   963.250000  ...    5.000000    3.000000\n",
              "max              27541.000000  1036.000000  ...   11.000000   13.000000\n",
              "\n",
              "[8 rows x 6 columns]"
            ]
          },
          "metadata": {
            "tags": []
          },
          "execution_count": 24
        }
      ]
    },
    {
      "cell_type": "code",
      "metadata": {
        "id": "fJdXxNSAVhho",
        "outputId": "03ddf60e-c669-44d7-cc1b-d33a593ee56a",
        "colab": {
          "base_uri": "https://localhost:8080/",
          "height": 384
        }
      },
      "source": [
        "rbr_standings[\"year\"] = rbr_standings.raceId.map(races.set_index(\"raceId\")[\"year\"])\n",
        "rbr_year_2019 = rbr_standings[rbr_standings.year == 2019]\n",
        "rbr_by_year = rbr_standings.groupby([\"year\"]).agg(\"max\")[\"points\"]\n",
        "plt.plot(np.arange(2004, 2020,1) ,rbr_by_year, label=\"Red Bull\")"
      ],
      "execution_count": 25,
      "outputs": [
        {
          "output_type": "stream",
          "text": [
            "/usr/local/lib/python3.6/dist-packages/ipykernel_launcher.py:1: SettingWithCopyWarning: \n",
            "A value is trying to be set on a copy of a slice from a DataFrame.\n",
            "Try using .loc[row_indexer,col_indexer] = value instead\n",
            "\n",
            "See the caveats in the documentation: https://pandas.pydata.org/pandas-docs/stable/user_guide/indexing.html#returning-a-view-versus-a-copy\n",
            "  \"\"\"Entry point for launching an IPython kernel.\n"
          ],
          "name": "stderr"
        },
        {
          "output_type": "execute_result",
          "data": {
            "text/plain": [
              "[<matplotlib.lines.Line2D at 0x7f69248a4940>]"
            ]
          },
          "metadata": {
            "tags": []
          },
          "execution_count": 25
        },
        {
          "output_type": "display_data",
          "data": {
            "image/png": "[encoded data removed]",
            "text/plain": [
              "<Figure size 432x288 with 1 Axes>"
            ]
          },
          "metadata": {
            "tags": [],
            "needs_background": "light"
          }
        }
      ]
    },
    {
      "cell_type": "markdown",
      "metadata": {
        "id": "Z0sgBG6pnMpE"
      },
      "source": [
        "Análise de pontuação da mercedes ao longo dos anos"
      ]
    },
    {
      "cell_type": "code",
      "metadata": {
        "id": "3BtUyaF_nRvM",
        "outputId": "b9d8d9d7-d039-4026-dbd5-e0f32c87a5b5",
        "colab": {
          "base_uri": "https://localhost:8080/",
          "height": 204
        }
      },
      "source": [
        "mercedes_standings=constructor_standings[constructor_standings.constructorId == 131]\n",
        "mercedes_standings.sort_values(by=\"raceId\")\n",
        "mercedes_standings.head()"
      ],
      "execution_count": 26,
      "outputs": [
        {
          "output_type": "execute_result",
          "data": {
            "text/html": [
              "<div>\n",
              "<style scoped>\n",
              "    .dataframe tbody tr th:only-of-type {\n",
              "        vertical-align: middle;\n",
              "    }\n",
              "\n",
              "    .dataframe tbody tr th {\n",
              "        vertical-align: top;\n",
              "    }\n",
              "\n",
              "    .dataframe thead th {\n",
              "        text-align: right;\n",
              "    }\n",
              "</style>\n",
              "<table border=\"1\" class=\"dataframe\">\n",
              "  <thead>\n",
              "    <tr style=\"text-align: right;\">\n",
              "      <th></th>\n",
              "      <th>constructorStandingsId</th>\n",
              "      <th>raceId</th>\n",
              "      <th>constructorId</th>\n",
              "      <th>points</th>\n",
              "      <th>position</th>\n",
              "      <th>positionText</th>\n",
              "      <th>wins</th>\n",
              "    </tr>\n",
              "  </thead>\n",
              "  <tbody>\n",
              "    <tr>\n",
              "      <th>10130</th>\n",
              "      <td>24235</td>\n",
              "      <td>337</td>\n",
              "      <td>131</td>\n",
              "      <td>18.0</td>\n",
              "      <td>3</td>\n",
              "      <td>3</td>\n",
              "      <td>0</td>\n",
              "    </tr>\n",
              "    <tr>\n",
              "      <th>10142</th>\n",
              "      <td>24247</td>\n",
              "      <td>338</td>\n",
              "      <td>131</td>\n",
              "      <td>29.0</td>\n",
              "      <td>3</td>\n",
              "      <td>3</td>\n",
              "      <td>0</td>\n",
              "    </tr>\n",
              "    <tr>\n",
              "      <th>10154</th>\n",
              "      <td>24259</td>\n",
              "      <td>339</td>\n",
              "      <td>131</td>\n",
              "      <td>44.0</td>\n",
              "      <td>4</td>\n",
              "      <td>4</td>\n",
              "      <td>0</td>\n",
              "    </tr>\n",
              "    <tr>\n",
              "      <th>10166</th>\n",
              "      <td>24271</td>\n",
              "      <td>340</td>\n",
              "      <td>131</td>\n",
              "      <td>60.0</td>\n",
              "      <td>4</td>\n",
              "      <td>4</td>\n",
              "      <td>0</td>\n",
              "    </tr>\n",
              "    <tr>\n",
              "      <th>10178</th>\n",
              "      <td>24283</td>\n",
              "      <td>341</td>\n",
              "      <td>131</td>\n",
              "      <td>72.0</td>\n",
              "      <td>4</td>\n",
              "      <td>4</td>\n",
              "      <td>0</td>\n",
              "    </tr>\n",
              "  </tbody>\n",
              "</table>\n",
              "</div>"
            ],
            "text/plain": [
              "       constructorStandingsId  raceId  ...  positionText  wins\n",
              "10130                   24235     337  ...             3     0\n",
              "10142                   24247     338  ...             3     0\n",
              "10154                   24259     339  ...             4     0\n",
              "10166                   24271     340  ...             4     0\n",
              "10178                   24283     341  ...             4     0\n",
              "\n",
              "[5 rows x 7 columns]"
            ]
          },
          "metadata": {
            "tags": []
          },
          "execution_count": 26
        }
      ]
    },
    {
      "cell_type": "code",
      "metadata": {
        "id": "nNEYW8ajoD6f",
        "outputId": "5cb3f299-007d-497e-9b42-29cb643f3bfa",
        "colab": {
          "base_uri": "https://localhost:8080/",
          "height": 398
        }
      },
      "source": [
        "mercedes_standings[\"year\"] = mercedes_standings.raceId.map(races.set_index(\"raceId\")[\"year\"])\n",
        "mercedes_by_year = mercedes_standings.groupby([\"year\"]).agg(\"max\")[\"points\"]\n",
        "mercedes_by_year.plot()"
      ],
      "execution_count": 27,
      "outputs": [
        {
          "output_type": "stream",
          "text": [
            "/usr/local/lib/python3.6/dist-packages/ipykernel_launcher.py:1: SettingWithCopyWarning: \n",
            "A value is trying to be set on a copy of a slice from a DataFrame.\n",
            "Try using .loc[row_indexer,col_indexer] = value instead\n",
            "\n",
            "See the caveats in the documentation: https://pandas.pydata.org/pandas-docs/stable/user_guide/indexing.html#returning-a-view-versus-a-copy\n",
            "  \"\"\"Entry point for launching an IPython kernel.\n"
          ],
          "name": "stderr"
        },
        {
          "output_type": "execute_result",
          "data": {
            "text/plain": [
              "<matplotlib.axes._subplots.AxesSubplot at 0x7f69248f9128>"
            ]
          },
          "metadata": {
            "tags": []
          },
          "execution_count": 27
        },
        {
          "output_type": "display_data",
          "data": {
            "image/png": "[encoded data removed]",
            "text/plain": [
              "<Figure size 432x288 with 1 Axes>"
            ]
          },
          "metadata": {
            "tags": [],
            "needs_background": "light"
          }
        }
      ]
    },
    {
      "cell_type": "markdown",
      "metadata": {
        "id": "FhH4qDgpov-e"
      },
      "source": [
        "Comparação de pontuação das 3 equipes mais influentes da categoria nos últimos anos\n"
      ]
    },
    {
      "cell_type": "code",
      "metadata": {
        "id": "CY_EqxJcovev",
        "outputId": "1f563ec7-f919-47f8-9431-729aaeb8fb3c",
        "colab": {
          "base_uri": "https://localhost:8080/",
          "height": 269
        }
      },
      "source": [
        "plt.plot(np.arange(2004, 2020,1) ,rbr_by_year, label=\"Red Bull\")\n",
        "plt.plot(np.arange(2004, 2020,1),ferrari_from_2005, label=\"Ferrari\")\n",
        "plt.plot(np.arange(2009, 2020, 1), mercedes_by_year, label=\"Mercedes\")\n",
        "plt.legend()\n",
        "plt.show()"
      ],
      "execution_count": 28,
      "outputs": [
        {
          "output_type": "display_data",
          "data": {
            "image/png": "[encoded data removed]",
            "text/plain": [
              "<Figure size 432x288 with 1 Axes>"
            ]
          },
          "metadata": {
            "tags": [],
            "needs_background": "light"
          }
        }
      ]
    },
    {
      "cell_type": "markdown",
      "metadata": {
        "id": "_KWTnTNBqJeW"
      },
      "source": [
        "Análise de desempenho das equipes a partir do ano 2000\n"
      ]
    },
    {
      "cell_type": "code",
      "metadata": {
        "id": "8yq0OyYsqJM8",
        "outputId": "c39e64ae-b18d-4f7d-c60d-b124a2e7d184",
        "colab": {
          "base_uri": "https://localhost:8080/",
          "height": 204
        }
      },
      "source": [
        "constructor_standings[\"year\"] = constructor_standings.raceId.map(races.set_index(\"raceId\")[\"year\"])\n",
        "constructor_standings[\"name\"] = constructor_standings.constructorId.map(constructors.set_index(\"constructorId\")[\"name\"])\n",
        "constructor_standings_from_2000 = constructor_standings[constructor_standings[\"year\"] >= 2000]\n",
        "constructor_standings_from_2000.head()"
      ],
      "execution_count": 29,
      "outputs": [
        {
          "output_type": "execute_result",
          "data": {
            "text/html": [
              "<div>\n",
              "<style scoped>\n",
              "    .dataframe tbody tr th:only-of-type {\n",
              "        vertical-align: middle;\n",
              "    }\n",
              "\n",
              "    .dataframe tbody tr th {\n",
              "        vertical-align: top;\n",
              "    }\n",
              "\n",
              "    .dataframe thead th {\n",
              "        text-align: right;\n",
              "    }\n",
              "</style>\n",
              "<table border=\"1\" class=\"dataframe\">\n",
              "  <thead>\n",
              "    <tr style=\"text-align: right;\">\n",
              "      <th></th>\n",
              "      <th>constructorStandingsId</th>\n",
              "      <th>raceId</th>\n",
              "      <th>constructorId</th>\n",
              "      <th>points</th>\n",
              "      <th>position</th>\n",
              "      <th>positionText</th>\n",
              "      <th>wins</th>\n",
              "      <th>year</th>\n",
              "      <th>name</th>\n",
              "    </tr>\n",
              "  </thead>\n",
              "  <tbody>\n",
              "    <tr>\n",
              "      <th>0</th>\n",
              "      <td>1</td>\n",
              "      <td>18</td>\n",
              "      <td>1</td>\n",
              "      <td>14.0</td>\n",
              "      <td>1</td>\n",
              "      <td>1</td>\n",
              "      <td>1</td>\n",
              "      <td>2008</td>\n",
              "      <td>McLaren</td>\n",
              "    </tr>\n",
              "    <tr>\n",
              "      <th>1</th>\n",
              "      <td>2</td>\n",
              "      <td>18</td>\n",
              "      <td>2</td>\n",
              "      <td>8.0</td>\n",
              "      <td>3</td>\n",
              "      <td>3</td>\n",
              "      <td>0</td>\n",
              "      <td>2008</td>\n",
              "      <td>BMW Sauber</td>\n",
              "    </tr>\n",
              "    <tr>\n",
              "      <th>2</th>\n",
              "      <td>3</td>\n",
              "      <td>18</td>\n",
              "      <td>3</td>\n",
              "      <td>9.0</td>\n",
              "      <td>2</td>\n",
              "      <td>2</td>\n",
              "      <td>0</td>\n",
              "      <td>2008</td>\n",
              "      <td>Williams</td>\n",
              "    </tr>\n",
              "    <tr>\n",
              "      <th>3</th>\n",
              "      <td>4</td>\n",
              "      <td>18</td>\n",
              "      <td>4</td>\n",
              "      <td>5.0</td>\n",
              "      <td>4</td>\n",
              "      <td>4</td>\n",
              "      <td>0</td>\n",
              "      <td>2008</td>\n",
              "      <td>Renault</td>\n",
              "    </tr>\n",
              "    <tr>\n",
              "      <th>4</th>\n",
              "      <td>5</td>\n",
              "      <td>18</td>\n",
              "      <td>5</td>\n",
              "      <td>2.0</td>\n",
              "      <td>5</td>\n",
              "      <td>5</td>\n",
              "      <td>0</td>\n",
              "      <td>2008</td>\n",
              "      <td>Toro Rosso</td>\n",
              "    </tr>\n",
              "  </tbody>\n",
              "</table>\n",
              "</div>"
            ],
            "text/plain": [
              "   constructorStandingsId  raceId  constructorId  ...  wins  year        name\n",
              "0                       1      18              1  ...     1  2008     McLaren\n",
              "1                       2      18              2  ...     0  2008  BMW Sauber\n",
              "2                       3      18              3  ...     0  2008    Williams\n",
              "3                       4      18              4  ...     0  2008     Renault\n",
              "4                       5      18              5  ...     0  2008  Toro Rosso\n",
              "\n",
              "[5 rows x 9 columns]"
            ]
          },
          "metadata": {
            "tags": []
          },
          "execution_count": 29
        }
      ]
    },
    {
      "cell_type": "code",
      "metadata": {
        "id": "saXaWivZuMMd"
      },
      "source": [
        "names = constructor_standings_from_2000[\"name\"].unique().tolist()"
      ],
      "execution_count": 30,
      "outputs": []
    },
    {
      "cell_type": "code",
      "metadata": {
        "id": "waP2fpqRyD3y",
        "outputId": "cfb20948-4898-465a-c4f1-1f1fba4da6fd",
        "colab": {
          "base_uri": "https://localhost:8080/"
        }
      },
      "source": [
        "names"
      ],
      "execution_count": 31,
      "outputs": [
        {
          "output_type": "execute_result",
          "data": {
            "text/plain": [
              "['McLaren',\n",
              " 'BMW Sauber',\n",
              " 'Williams',\n",
              " 'Renault',\n",
              " 'Toro Rosso',\n",
              " 'Ferrari',\n",
              " 'Toyota',\n",
              " 'Red Bull',\n",
              " 'Honda',\n",
              " 'Force India',\n",
              " 'Super Aguri',\n",
              " 'MF1',\n",
              " 'Spyker MF1',\n",
              " 'Sauber',\n",
              " 'Jordan',\n",
              " 'Minardi',\n",
              " 'BAR',\n",
              " 'Jaguar',\n",
              " 'Arrows',\n",
              " 'Benetton',\n",
              " 'Prost',\n",
              " 'Brawn',\n",
              " 'Mercedes',\n",
              " 'Lotus',\n",
              " 'HRT',\n",
              " 'Virgin',\n",
              " 'Marussia',\n",
              " 'Caterham',\n",
              " 'Lotus F1',\n",
              " 'Spyker',\n",
              " 'Manor Marussia',\n",
              " 'Haas F1 Team',\n",
              " 'Alfa Romeo',\n",
              " 'Racing Point',\n",
              " 'AlphaTauri']"
            ]
          },
          "metadata": {
            "tags": []
          },
          "execution_count": 31
        }
      ]
    },
    {
      "cell_type": "code",
      "metadata": {
        "id": "TG5s7ZahxSaQ",
        "outputId": "ce12b2af-4d08-4753-a29e-903ccda3432e",
        "colab": {
          "base_uri": "https://localhost:8080/",
          "height": 419
        }
      },
      "source": [
        "constructor_standings_from_2000.loc[constructor_standings_from_2000[\"name\"] == \"Sauber\"]"
      ],
      "execution_count": 56,
      "outputs": [
        {
          "output_type": "execute_result",
          "data": {
            "text/html": [
              "<div>\n",
              "<style scoped>\n",
              "    .dataframe tbody tr th:only-of-type {\n",
              "        vertical-align: middle;\n",
              "    }\n",
              "\n",
              "    .dataframe tbody tr th {\n",
              "        vertical-align: top;\n",
              "    }\n",
              "\n",
              "    .dataframe thead th {\n",
              "        text-align: right;\n",
              "    }\n",
              "</style>\n",
              "<table border=\"1\" class=\"dataframe\">\n",
              "  <thead>\n",
              "    <tr style=\"text-align: right;\">\n",
              "      <th></th>\n",
              "      <th>constructorStandingsId</th>\n",
              "      <th>raceId</th>\n",
              "      <th>constructorId</th>\n",
              "      <th>points</th>\n",
              "      <th>position</th>\n",
              "      <th>positionText</th>\n",
              "      <th>wins</th>\n",
              "      <th>year</th>\n",
              "      <th>name</th>\n",
              "    </tr>\n",
              "  </thead>\n",
              "  <tbody>\n",
              "    <tr>\n",
              "      <th>553</th>\n",
              "      <td>573</td>\n",
              "      <td>71</td>\n",
              "      <td>15</td>\n",
              "      <td>0.0</td>\n",
              "      <td>7</td>\n",
              "      <td>7</td>\n",
              "      <td>0</td>\n",
              "      <td>2005</td>\n",
              "      <td>Sauber</td>\n",
              "    </tr>\n",
              "    <tr>\n",
              "      <th>562</th>\n",
              "      <td>582</td>\n",
              "      <td>72</td>\n",
              "      <td>15</td>\n",
              "      <td>0.0</td>\n",
              "      <td>7</td>\n",
              "      <td>7</td>\n",
              "      <td>0</td>\n",
              "      <td>2005</td>\n",
              "      <td>Sauber</td>\n",
              "    </tr>\n",
              "    <tr>\n",
              "      <th>567</th>\n",
              "      <td>1806</td>\n",
              "      <td>73</td>\n",
              "      <td>15</td>\n",
              "      <td>2.0</td>\n",
              "      <td>7</td>\n",
              "      <td>7</td>\n",
              "      <td>0</td>\n",
              "      <td>2005</td>\n",
              "      <td>Sauber</td>\n",
              "    </tr>\n",
              "    <tr>\n",
              "      <th>576</th>\n",
              "      <td>1815</td>\n",
              "      <td>74</td>\n",
              "      <td>15</td>\n",
              "      <td>7.0</td>\n",
              "      <td>7</td>\n",
              "      <td>7</td>\n",
              "      <td>0</td>\n",
              "      <td>2005</td>\n",
              "      <td>Sauber</td>\n",
              "    </tr>\n",
              "    <tr>\n",
              "      <th>584</th>\n",
              "      <td>24514</td>\n",
              "      <td>75</td>\n",
              "      <td>15</td>\n",
              "      <td>7.0</td>\n",
              "      <td>7</td>\n",
              "      <td>7</td>\n",
              "      <td>0</td>\n",
              "      <td>2005</td>\n",
              "      <td>Sauber</td>\n",
              "    </tr>\n",
              "    <tr>\n",
              "      <th>...</th>\n",
              "      <td>...</td>\n",
              "      <td>...</td>\n",
              "      <td>...</td>\n",
              "      <td>...</td>\n",
              "      <td>...</td>\n",
              "      <td>...</td>\n",
              "      <td>...</td>\n",
              "      <td>...</td>\n",
              "      <td>...</td>\n",
              "    </tr>\n",
              "    <tr>\n",
              "      <th>12062</th>\n",
              "      <td>27129</td>\n",
              "      <td>1005</td>\n",
              "      <td>15</td>\n",
              "      <td>27.0</td>\n",
              "      <td>9</td>\n",
              "      <td>9</td>\n",
              "      <td>0</td>\n",
              "      <td>2018</td>\n",
              "      <td>Sauber</td>\n",
              "    </tr>\n",
              "    <tr>\n",
              "      <th>12072</th>\n",
              "      <td>27149</td>\n",
              "      <td>1006</td>\n",
              "      <td>15</td>\n",
              "      <td>28.0</td>\n",
              "      <td>9</td>\n",
              "      <td>9</td>\n",
              "      <td>0</td>\n",
              "      <td>2018</td>\n",
              "      <td>Sauber</td>\n",
              "    </tr>\n",
              "    <tr>\n",
              "      <th>12082</th>\n",
              "      <td>27159</td>\n",
              "      <td>1007</td>\n",
              "      <td>15</td>\n",
              "      <td>36.0</td>\n",
              "      <td>8</td>\n",
              "      <td>8</td>\n",
              "      <td>0</td>\n",
              "      <td>2018</td>\n",
              "      <td>Sauber</td>\n",
              "    </tr>\n",
              "    <tr>\n",
              "      <th>12092</th>\n",
              "      <td>27169</td>\n",
              "      <td>1008</td>\n",
              "      <td>15</td>\n",
              "      <td>42.0</td>\n",
              "      <td>8</td>\n",
              "      <td>8</td>\n",
              "      <td>0</td>\n",
              "      <td>2018</td>\n",
              "      <td>Sauber</td>\n",
              "    </tr>\n",
              "    <tr>\n",
              "      <th>12102</th>\n",
              "      <td>27179</td>\n",
              "      <td>1009</td>\n",
              "      <td>15</td>\n",
              "      <td>48.0</td>\n",
              "      <td>8</td>\n",
              "      <td>8</td>\n",
              "      <td>0</td>\n",
              "      <td>2018</td>\n",
              "      <td>Sauber</td>\n",
              "    </tr>\n",
              "  </tbody>\n",
              "</table>\n",
              "<p>277 rows × 9 columns</p>\n",
              "</div>"
            ],
            "text/plain": [
              "       constructorStandingsId  raceId  constructorId  ...  wins  year    name\n",
              "553                       573      71             15  ...     0  2005  Sauber\n",
              "562                       582      72             15  ...     0  2005  Sauber\n",
              "567                      1806      73             15  ...     0  2005  Sauber\n",
              "576                      1815      74             15  ...     0  2005  Sauber\n",
              "584                     24514      75             15  ...     0  2005  Sauber\n",
              "...                       ...     ...            ...  ...   ...   ...     ...\n",
              "12062                   27129    1005             15  ...     0  2018  Sauber\n",
              "12072                   27149    1006             15  ...     0  2018  Sauber\n",
              "12082                   27159    1007             15  ...     0  2018  Sauber\n",
              "12092                   27169    1008             15  ...     0  2018  Sauber\n",
              "12102                   27179    1009             15  ...     0  2018  Sauber\n",
              "\n",
              "[277 rows x 9 columns]"
            ]
          },
          "metadata": {
            "tags": []
          },
          "execution_count": 56
        }
      ]
    },
    {
      "cell_type": "markdown",
      "metadata": {
        "id": "Engy74ygNqxt"
      },
      "source": [
        "# Pilotos\n"
      ]
    },
    {
      "cell_type": "code",
      "metadata": {
        "id": "eHz86PlIPmY9",
        "outputId": "27a548ed-15ca-4ed0-a7b9-58586e226207",
        "colab": {
          "base_uri": "https://localhost:8080/",
          "height": 0
        }
      },
      "source": [
        "drivers.head()"
      ],
      "execution_count": 33,
      "outputs": [
        {
          "output_type": "execute_result",
          "data": {
            "text/html": [
              "<div>\n",
              "<style scoped>\n",
              "    .dataframe tbody tr th:only-of-type {\n",
              "        vertical-align: middle;\n",
              "    }\n",
              "\n",
              "    .dataframe tbody tr th {\n",
              "        vertical-align: top;\n",
              "    }\n",
              "\n",
              "    .dataframe thead th {\n",
              "        text-align: right;\n",
              "    }\n",
              "</style>\n",
              "<table border=\"1\" class=\"dataframe\">\n",
              "  <thead>\n",
              "    <tr style=\"text-align: right;\">\n",
              "      <th></th>\n",
              "      <th>driverId</th>\n",
              "      <th>driverRef</th>\n",
              "      <th>number</th>\n",
              "      <th>code</th>\n",
              "      <th>forename</th>\n",
              "      <th>surname</th>\n",
              "      <th>dob</th>\n",
              "      <th>nationality</th>\n",
              "      <th>url</th>\n",
              "    </tr>\n",
              "  </thead>\n",
              "  <tbody>\n",
              "    <tr>\n",
              "      <th>0</th>\n",
              "      <td>1</td>\n",
              "      <td>hamilton</td>\n",
              "      <td>44</td>\n",
              "      <td>HAM</td>\n",
              "      <td>Lewis</td>\n",
              "      <td>Hamilton</td>\n",
              "      <td>1985-01-07</td>\n",
              "      <td>British</td>\n",
              "      <td>http://en.wikipedia.org/wiki/Lewis_Hamilton</td>\n",
              "    </tr>\n",
              "    <tr>\n",
              "      <th>1</th>\n",
              "      <td>2</td>\n",
              "      <td>heidfeld</td>\n",
              "      <td>\\N</td>\n",
              "      <td>HEI</td>\n",
              "      <td>Nick</td>\n",
              "      <td>Heidfeld</td>\n",
              "      <td>1977-05-10</td>\n",
              "      <td>German</td>\n",
              "      <td>http://en.wikipedia.org/wiki/Nick_Heidfeld</td>\n",
              "    </tr>\n",
              "    <tr>\n",
              "      <th>2</th>\n",
              "      <td>3</td>\n",
              "      <td>rosberg</td>\n",
              "      <td>6</td>\n",
              "      <td>ROS</td>\n",
              "      <td>Nico</td>\n",
              "      <td>Rosberg</td>\n",
              "      <td>1985-06-27</td>\n",
              "      <td>German</td>\n",
              "      <td>http://en.wikipedia.org/wiki/Nico_Rosberg</td>\n",
              "    </tr>\n",
              "    <tr>\n",
              "      <th>3</th>\n",
              "      <td>4</td>\n",
              "      <td>alonso</td>\n",
              "      <td>14</td>\n",
              "      <td>ALO</td>\n",
              "      <td>Fernando</td>\n",
              "      <td>Alonso</td>\n",
              "      <td>1981-07-29</td>\n",
              "      <td>Spanish</td>\n",
              "      <td>http://en.wikipedia.org/wiki/Fernando_Alonso</td>\n",
              "    </tr>\n",
              "    <tr>\n",
              "      <th>4</th>\n",
              "      <td>5</td>\n",
              "      <td>kovalainen</td>\n",
              "      <td>\\N</td>\n",
              "      <td>KOV</td>\n",
              "      <td>Heikki</td>\n",
              "      <td>Kovalainen</td>\n",
              "      <td>1981-10-19</td>\n",
              "      <td>Finnish</td>\n",
              "      <td>http://en.wikipedia.org/wiki/Heikki_Kovalainen</td>\n",
              "    </tr>\n",
              "  </tbody>\n",
              "</table>\n",
              "</div>"
            ],
            "text/plain": [
              "   driverId  ...                                             url\n",
              "0         1  ...     http://en.wikipedia.org/wiki/Lewis_Hamilton\n",
              "1         2  ...      http://en.wikipedia.org/wiki/Nick_Heidfeld\n",
              "2         3  ...       http://en.wikipedia.org/wiki/Nico_Rosberg\n",
              "3         4  ...    http://en.wikipedia.org/wiki/Fernando_Alonso\n",
              "4         5  ...  http://en.wikipedia.org/wiki/Heikki_Kovalainen\n",
              "\n",
              "[5 rows x 9 columns]"
            ]
          },
          "metadata": {
            "tags": []
          },
          "execution_count": 33
        }
      ]
    },
    {
      "cell_type": "markdown",
      "metadata": {
        "id": "bvVArtrDQeR7"
      },
      "source": [
        "Descrição dos tipos <br>\n",
        "nationality: categórico nominal\n"
      ]
    },
    {
      "cell_type": "code",
      "metadata": {
        "id": "ANKZ9HIWQo3j"
      },
      "source": [
        "drivers[\"nationality\"] = drivers[\"nationality\"].astype(\"category\")"
      ],
      "execution_count": 34,
      "outputs": []
    },
    {
      "cell_type": "code",
      "metadata": {
        "id": "B290mtzPQwVO",
        "outputId": "46abaab1-2dec-4fe0-b2a0-a9f44fd0d00f",
        "colab": {
          "base_uri": "https://localhost:8080/"
        }
      },
      "source": [
        "drivers[\"nationality\"].cat.categories"
      ],
      "execution_count": 35,
      "outputs": [
        {
          "output_type": "execute_result",
          "data": {
            "text/plain": [
              "Index(['American', 'American-Italian', 'Argentine', 'Argentine-Italian',\n",
              "       'Australian', 'Austrian', 'Belgian', 'Brazilian', 'British', 'Canadian',\n",
              "       'Chilean', 'Colombian', 'Czech', 'Danish', 'Dutch', 'East German',\n",
              "       'Finnish', 'French', 'German', 'Hungarian', 'Indian', 'Indonesian',\n",
              "       'Irish', 'Italian', 'Japanese', 'Liechtensteiner', 'Malaysian',\n",
              "       'Mexican', 'Monegasque', 'New Zealander', 'Polish', 'Portuguese',\n",
              "       'Rhodesian', 'Russian', 'South African', 'Spanish', 'Swedish', 'Swiss',\n",
              "       'Thai', 'Uruguayan', 'Venezuelan'],\n",
              "      dtype='object')"
            ]
          },
          "metadata": {
            "tags": []
          },
          "execution_count": 35
        }
      ]
    },
    {
      "cell_type": "code",
      "metadata": {
        "id": "lkfDrj83QLUQ",
        "outputId": "9bb5ed3f-65a1-47ea-cfe8-4b3450cd28ea",
        "colab": {
          "base_uri": "https://localhost:8080/"
        }
      },
      "source": [
        "drivers.dtypes"
      ],
      "execution_count": 36,
      "outputs": [
        {
          "output_type": "execute_result",
          "data": {
            "text/plain": [
              "driverId          int64\n",
              "driverRef        object\n",
              "number           object\n",
              "code             object\n",
              "forename         object\n",
              "surname          object\n",
              "dob              object\n",
              "nationality    category\n",
              "url              object\n",
              "dtype: object"
            ]
          },
          "metadata": {
            "tags": []
          },
          "execution_count": 36
        }
      ]
    },
    {
      "cell_type": "markdown",
      "metadata": {
        "id": "syF_h7wMQ8zf"
      },
      "source": [
        "# Pilotos Standings\n"
      ]
    },
    {
      "cell_type": "markdown",
      "metadata": {
        "id": "9zkOUL_tRHLO"
      },
      "source": [
        "Descrção dos dados </br>\n",
        "positionText: categórico nomimal"
      ]
    },
    {
      "cell_type": "code",
      "metadata": {
        "id": "vacpm-MwRAFK",
        "outputId": "a9dcd1e8-af35-45a1-cb97-3b1c7c5f1cd4",
        "colab": {
          "base_uri": "https://localhost:8080/",
          "height": 0
        }
      },
      "source": [
        "driver_standings.head()"
      ],
      "execution_count": 37,
      "outputs": [
        {
          "output_type": "execute_result",
          "data": {
            "text/html": [
              "<div>\n",
              "<style scoped>\n",
              "    .dataframe tbody tr th:only-of-type {\n",
              "        vertical-align: middle;\n",
              "    }\n",
              "\n",
              "    .dataframe tbody tr th {\n",
              "        vertical-align: top;\n",
              "    }\n",
              "\n",
              "    .dataframe thead th {\n",
              "        text-align: right;\n",
              "    }\n",
              "</style>\n",
              "<table border=\"1\" class=\"dataframe\">\n",
              "  <thead>\n",
              "    <tr style=\"text-align: right;\">\n",
              "      <th></th>\n",
              "      <th>driverStandingsId</th>\n",
              "      <th>raceId</th>\n",
              "      <th>driverId</th>\n",
              "      <th>points</th>\n",
              "      <th>position</th>\n",
              "      <th>positionText</th>\n",
              "      <th>wins</th>\n",
              "    </tr>\n",
              "  </thead>\n",
              "  <tbody>\n",
              "    <tr>\n",
              "      <th>0</th>\n",
              "      <td>1</td>\n",
              "      <td>18</td>\n",
              "      <td>1</td>\n",
              "      <td>10.0</td>\n",
              "      <td>1</td>\n",
              "      <td>1</td>\n",
              "      <td>1</td>\n",
              "    </tr>\n",
              "    <tr>\n",
              "      <th>1</th>\n",
              "      <td>2</td>\n",
              "      <td>18</td>\n",
              "      <td>2</td>\n",
              "      <td>8.0</td>\n",
              "      <td>2</td>\n",
              "      <td>2</td>\n",
              "      <td>0</td>\n",
              "    </tr>\n",
              "    <tr>\n",
              "      <th>2</th>\n",
              "      <td>3</td>\n",
              "      <td>18</td>\n",
              "      <td>3</td>\n",
              "      <td>6.0</td>\n",
              "      <td>3</td>\n",
              "      <td>3</td>\n",
              "      <td>0</td>\n",
              "    </tr>\n",
              "    <tr>\n",
              "      <th>3</th>\n",
              "      <td>4</td>\n",
              "      <td>18</td>\n",
              "      <td>4</td>\n",
              "      <td>5.0</td>\n",
              "      <td>4</td>\n",
              "      <td>4</td>\n",
              "      <td>0</td>\n",
              "    </tr>\n",
              "    <tr>\n",
              "      <th>4</th>\n",
              "      <td>5</td>\n",
              "      <td>18</td>\n",
              "      <td>5</td>\n",
              "      <td>4.0</td>\n",
              "      <td>5</td>\n",
              "      <td>5</td>\n",
              "      <td>0</td>\n",
              "    </tr>\n",
              "  </tbody>\n",
              "</table>\n",
              "</div>"
            ],
            "text/plain": [
              "   driverStandingsId  raceId  driverId  points  position positionText  wins\n",
              "0                  1      18         1    10.0         1            1     1\n",
              "1                  2      18         2     8.0         2            2     0\n",
              "2                  3      18         3     6.0         3            3     0\n",
              "3                  4      18         4     5.0         4            4     0\n",
              "4                  5      18         5     4.0         5            5     0"
            ]
          },
          "metadata": {
            "tags": []
          },
          "execution_count": 37
        }
      ]
    },
    {
      "cell_type": "code",
      "metadata": {
        "id": "SVUchNPRRKR_"
      },
      "source": [
        "driver_standings[\"positionText\"] = driver_standings[\"positionText\"].astype(\"category\") "
      ],
      "execution_count": 38,
      "outputs": []
    },
    {
      "cell_type": "code",
      "metadata": {
        "id": "CMwDI5YdRXSQ",
        "outputId": "635e2b8f-3760-4b57-ae94-43e2bfc463e6",
        "colab": {
          "base_uri": "https://localhost:8080/"
        }
      },
      "source": [
        "driver_standings[\"positionText\"].cat.categories"
      ],
      "execution_count": 39,
      "outputs": [
        {
          "output_type": "execute_result",
          "data": {
            "text/plain": [
              "Index(['1', '10', '100', '101', '102', '103', '104', '105', '106', '107',\n",
              "       ...\n",
              "       '91', '92', '93', '94', '95', '96', '97', '98', '99', 'D'],\n",
              "      dtype='object', length=109)"
            ]
          },
          "metadata": {
            "tags": []
          },
          "execution_count": 39
        }
      ]
    },
    {
      "cell_type": "code",
      "metadata": {
        "id": "dcXldMPPRTiX",
        "outputId": "7389ec26-5545-408f-eaa3-4badc167157d",
        "colab": {
          "base_uri": "https://localhost:8080/"
        }
      },
      "source": [
        "driver_standings.dtypes"
      ],
      "execution_count": 40,
      "outputs": [
        {
          "output_type": "execute_result",
          "data": {
            "text/plain": [
              "driverStandingsId       int64\n",
              "raceId                  int64\n",
              "driverId                int64\n",
              "points                float64\n",
              "position                int64\n",
              "positionText         category\n",
              "wins                    int64\n",
              "dtype: object"
            ]
          },
          "metadata": {
            "tags": []
          },
          "execution_count": 40
        }
      ]
    },
    {
      "cell_type": "markdown",
      "metadata": {
        "id": "HzhIrH6PRiQV"
      },
      "source": [
        "# Tempos de Voltas"
      ]
    },
    {
      "cell_type": "code",
      "metadata": {
        "id": "kKH5pq9wRlxx",
        "outputId": "5cf6bba4-40f1-4579-8117-fcd362dab755",
        "colab": {
          "base_uri": "https://localhost:8080/",
          "height": 0
        }
      },
      "source": [
        "lap_times.head()"
      ],
      "execution_count": 41,
      "outputs": [
        {
          "output_type": "execute_result",
          "data": {
            "text/html": [
              "<div>\n",
              "<style scoped>\n",
              "    .dataframe tbody tr th:only-of-type {\n",
              "        vertical-align: middle;\n",
              "    }\n",
              "\n",
              "    .dataframe tbody tr th {\n",
              "        vertical-align: top;\n",
              "    }\n",
              "\n",
              "    .dataframe thead th {\n",
              "        text-align: right;\n",
              "    }\n",
              "</style>\n",
              "<table border=\"1\" class=\"dataframe\">\n",
              "  <thead>\n",
              "    <tr style=\"text-align: right;\">\n",
              "      <th></th>\n",
              "      <th>raceId</th>\n",
              "      <th>driverId</th>\n",
              "      <th>lap</th>\n",
              "      <th>position</th>\n",
              "      <th>time</th>\n",
              "      <th>milliseconds</th>\n",
              "    </tr>\n",
              "  </thead>\n",
              "  <tbody>\n",
              "    <tr>\n",
              "      <th>0</th>\n",
              "      <td>841</td>\n",
              "      <td>20</td>\n",
              "      <td>1</td>\n",
              "      <td>1</td>\n",
              "      <td>1:38.109</td>\n",
              "      <td>98109</td>\n",
              "    </tr>\n",
              "    <tr>\n",
              "      <th>1</th>\n",
              "      <td>841</td>\n",
              "      <td>20</td>\n",
              "      <td>2</td>\n",
              "      <td>1</td>\n",
              "      <td>1:33.006</td>\n",
              "      <td>93006</td>\n",
              "    </tr>\n",
              "    <tr>\n",
              "      <th>2</th>\n",
              "      <td>841</td>\n",
              "      <td>20</td>\n",
              "      <td>3</td>\n",
              "      <td>1</td>\n",
              "      <td>1:32.713</td>\n",
              "      <td>92713</td>\n",
              "    </tr>\n",
              "    <tr>\n",
              "      <th>3</th>\n",
              "      <td>841</td>\n",
              "      <td>20</td>\n",
              "      <td>4</td>\n",
              "      <td>1</td>\n",
              "      <td>1:32.803</td>\n",
              "      <td>92803</td>\n",
              "    </tr>\n",
              "    <tr>\n",
              "      <th>4</th>\n",
              "      <td>841</td>\n",
              "      <td>20</td>\n",
              "      <td>5</td>\n",
              "      <td>1</td>\n",
              "      <td>1:32.342</td>\n",
              "      <td>92342</td>\n",
              "    </tr>\n",
              "  </tbody>\n",
              "</table>\n",
              "</div>"
            ],
            "text/plain": [
              "   raceId  driverId  lap  position      time  milliseconds\n",
              "0     841        20    1         1  1:38.109         98109\n",
              "1     841        20    2         1  1:33.006         93006\n",
              "2     841        20    3         1  1:32.713         92713\n",
              "3     841        20    4         1  1:32.803         92803\n",
              "4     841        20    5         1  1:32.342         92342"
            ]
          },
          "metadata": {
            "tags": []
          },
          "execution_count": 41
        }
      ]
    },
    {
      "cell_type": "code",
      "metadata": {
        "id": "GJvoIpt7Rq2_",
        "outputId": "91259baa-d6b3-48ce-f89e-d7d46a55aee1",
        "colab": {
          "base_uri": "https://localhost:8080/"
        }
      },
      "source": [
        "lap_times.dtypes"
      ],
      "execution_count": 42,
      "outputs": [
        {
          "output_type": "execute_result",
          "data": {
            "text/plain": [
              "raceId           int64\n",
              "driverId         int64\n",
              "lap              int64\n",
              "position         int64\n",
              "time            object\n",
              "milliseconds     int64\n",
              "dtype: object"
            ]
          },
          "metadata": {
            "tags": []
          },
          "execution_count": 42
        }
      ]
    },
    {
      "cell_type": "markdown",
      "metadata": {
        "id": "OPnORTblRx2H"
      },
      "source": [
        "#Pit Stops\n"
      ]
    },
    {
      "cell_type": "code",
      "metadata": {
        "id": "kwuAq6o_R1MB",
        "outputId": "6c946c5a-9c5c-46ce-9cfc-7a001482081a",
        "colab": {
          "base_uri": "https://localhost:8080/",
          "height": 0
        }
      },
      "source": [
        "pit_stops.head()"
      ],
      "execution_count": 43,
      "outputs": [
        {
          "output_type": "execute_result",
          "data": {
            "text/html": [
              "<div>\n",
              "<style scoped>\n",
              "    .dataframe tbody tr th:only-of-type {\n",
              "        vertical-align: middle;\n",
              "    }\n",
              "\n",
              "    .dataframe tbody tr th {\n",
              "        vertical-align: top;\n",
              "    }\n",
              "\n",
              "    .dataframe thead th {\n",
              "        text-align: right;\n",
              "    }\n",
              "</style>\n",
              "<table border=\"1\" class=\"dataframe\">\n",
              "  <thead>\n",
              "    <tr style=\"text-align: right;\">\n",
              "      <th></th>\n",
              "      <th>raceId</th>\n",
              "      <th>driverId</th>\n",
              "      <th>stop</th>\n",
              "      <th>lap</th>\n",
              "      <th>time</th>\n",
              "      <th>duration</th>\n",
              "      <th>milliseconds</th>\n",
              "    </tr>\n",
              "  </thead>\n",
              "  <tbody>\n",
              "    <tr>\n",
              "      <th>0</th>\n",
              "      <td>841</td>\n",
              "      <td>153</td>\n",
              "      <td>1</td>\n",
              "      <td>1</td>\n",
              "      <td>17:05:23</td>\n",
              "      <td>26.898</td>\n",
              "      <td>26898</td>\n",
              "    </tr>\n",
              "    <tr>\n",
              "      <th>1</th>\n",
              "      <td>841</td>\n",
              "      <td>30</td>\n",
              "      <td>1</td>\n",
              "      <td>1</td>\n",
              "      <td>17:05:52</td>\n",
              "      <td>25.021</td>\n",
              "      <td>25021</td>\n",
              "    </tr>\n",
              "    <tr>\n",
              "      <th>2</th>\n",
              "      <td>841</td>\n",
              "      <td>17</td>\n",
              "      <td>1</td>\n",
              "      <td>11</td>\n",
              "      <td>17:20:48</td>\n",
              "      <td>23.426</td>\n",
              "      <td>23426</td>\n",
              "    </tr>\n",
              "    <tr>\n",
              "      <th>3</th>\n",
              "      <td>841</td>\n",
              "      <td>4</td>\n",
              "      <td>1</td>\n",
              "      <td>12</td>\n",
              "      <td>17:22:34</td>\n",
              "      <td>23.251</td>\n",
              "      <td>23251</td>\n",
              "    </tr>\n",
              "    <tr>\n",
              "      <th>4</th>\n",
              "      <td>841</td>\n",
              "      <td>13</td>\n",
              "      <td>1</td>\n",
              "      <td>13</td>\n",
              "      <td>17:24:10</td>\n",
              "      <td>23.842</td>\n",
              "      <td>23842</td>\n",
              "    </tr>\n",
              "  </tbody>\n",
              "</table>\n",
              "</div>"
            ],
            "text/plain": [
              "   raceId  driverId  stop  lap      time duration  milliseconds\n",
              "0     841       153     1    1  17:05:23   26.898         26898\n",
              "1     841        30     1    1  17:05:52   25.021         25021\n",
              "2     841        17     1   11  17:20:48   23.426         23426\n",
              "3     841         4     1   12  17:22:34   23.251         23251\n",
              "4     841        13     1   13  17:24:10   23.842         23842"
            ]
          },
          "metadata": {
            "tags": []
          },
          "execution_count": 43
        }
      ]
    },
    {
      "cell_type": "code",
      "metadata": {
        "id": "ae65_XCSR3Pf",
        "outputId": "11f212c7-0fb8-4dcc-e813-44e3cce0b6e8",
        "colab": {
          "base_uri": "https://localhost:8080/"
        }
      },
      "source": [
        "pit_stops.dtypes"
      ],
      "execution_count": 44,
      "outputs": [
        {
          "output_type": "execute_result",
          "data": {
            "text/plain": [
              "raceId           int64\n",
              "driverId         int64\n",
              "stop             int64\n",
              "lap              int64\n",
              "time            object\n",
              "duration        object\n",
              "milliseconds     int64\n",
              "dtype: object"
            ]
          },
          "metadata": {
            "tags": []
          },
          "execution_count": 44
        }
      ]
    },
    {
      "cell_type": "markdown",
      "metadata": {
        "id": "eweBsr_SR-z5"
      },
      "source": [
        "# Qualificação\n"
      ]
    },
    {
      "cell_type": "code",
      "metadata": {
        "id": "-ayh69pESDeB",
        "outputId": "95c0c36c-509c-4f21-8b85-ed2891d3a41e",
        "colab": {
          "base_uri": "https://localhost:8080/",
          "height": 0
        }
      },
      "source": [
        "qualifying.head()"
      ],
      "execution_count": 45,
      "outputs": [
        {
          "output_type": "execute_result",
          "data": {
            "text/html": [
              "<div>\n",
              "<style scoped>\n",
              "    .dataframe tbody tr th:only-of-type {\n",
              "        vertical-align: middle;\n",
              "    }\n",
              "\n",
              "    .dataframe tbody tr th {\n",
              "        vertical-align: top;\n",
              "    }\n",
              "\n",
              "    .dataframe thead th {\n",
              "        text-align: right;\n",
              "    }\n",
              "</style>\n",
              "<table border=\"1\" class=\"dataframe\">\n",
              "  <thead>\n",
              "    <tr style=\"text-align: right;\">\n",
              "      <th></th>\n",
              "      <th>qualifyId</th>\n",
              "      <th>raceId</th>\n",
              "      <th>driverId</th>\n",
              "      <th>constructorId</th>\n",
              "      <th>number</th>\n",
              "      <th>position</th>\n",
              "      <th>q1</th>\n",
              "      <th>q2</th>\n",
              "      <th>q3</th>\n",
              "    </tr>\n",
              "  </thead>\n",
              "  <tbody>\n",
              "    <tr>\n",
              "      <th>0</th>\n",
              "      <td>1</td>\n",
              "      <td>18</td>\n",
              "      <td>1</td>\n",
              "      <td>1</td>\n",
              "      <td>22</td>\n",
              "      <td>1</td>\n",
              "      <td>1:26.572</td>\n",
              "      <td>1:25.187</td>\n",
              "      <td>1:26.714</td>\n",
              "    </tr>\n",
              "    <tr>\n",
              "      <th>1</th>\n",
              "      <td>2</td>\n",
              "      <td>18</td>\n",
              "      <td>9</td>\n",
              "      <td>2</td>\n",
              "      <td>4</td>\n",
              "      <td>2</td>\n",
              "      <td>1:26.103</td>\n",
              "      <td>1:25.315</td>\n",
              "      <td>1:26.869</td>\n",
              "    </tr>\n",
              "    <tr>\n",
              "      <th>2</th>\n",
              "      <td>3</td>\n",
              "      <td>18</td>\n",
              "      <td>5</td>\n",
              "      <td>1</td>\n",
              "      <td>23</td>\n",
              "      <td>3</td>\n",
              "      <td>1:25.664</td>\n",
              "      <td>1:25.452</td>\n",
              "      <td>1:27.079</td>\n",
              "    </tr>\n",
              "    <tr>\n",
              "      <th>3</th>\n",
              "      <td>4</td>\n",
              "      <td>18</td>\n",
              "      <td>13</td>\n",
              "      <td>6</td>\n",
              "      <td>2</td>\n",
              "      <td>4</td>\n",
              "      <td>1:25.994</td>\n",
              "      <td>1:25.691</td>\n",
              "      <td>1:27.178</td>\n",
              "    </tr>\n",
              "    <tr>\n",
              "      <th>4</th>\n",
              "      <td>5</td>\n",
              "      <td>18</td>\n",
              "      <td>2</td>\n",
              "      <td>2</td>\n",
              "      <td>3</td>\n",
              "      <td>5</td>\n",
              "      <td>1:25.960</td>\n",
              "      <td>1:25.518</td>\n",
              "      <td>1:27.236</td>\n",
              "    </tr>\n",
              "  </tbody>\n",
              "</table>\n",
              "</div>"
            ],
            "text/plain": [
              "   qualifyId  raceId  driverId  ...        q1        q2        q3\n",
              "0          1      18         1  ...  1:26.572  1:25.187  1:26.714\n",
              "1          2      18         9  ...  1:26.103  1:25.315  1:26.869\n",
              "2          3      18         5  ...  1:25.664  1:25.452  1:27.079\n",
              "3          4      18        13  ...  1:25.994  1:25.691  1:27.178\n",
              "4          5      18         2  ...  1:25.960  1:25.518  1:27.236\n",
              "\n",
              "[5 rows x 9 columns]"
            ]
          },
          "metadata": {
            "tags": []
          },
          "execution_count": 45
        }
      ]
    },
    {
      "cell_type": "code",
      "metadata": {
        "id": "slxHLdITSFpz",
        "outputId": "9b122bc7-d244-43c1-f252-75454c4ec406",
        "colab": {
          "base_uri": "https://localhost:8080/"
        }
      },
      "source": [
        "qualifying.dtypes"
      ],
      "execution_count": 46,
      "outputs": [
        {
          "output_type": "execute_result",
          "data": {
            "text/plain": [
              "qualifyId         int64\n",
              "raceId            int64\n",
              "driverId          int64\n",
              "constructorId     int64\n",
              "number            int64\n",
              "position          int64\n",
              "q1               object\n",
              "q2               object\n",
              "q3               object\n",
              "dtype: object"
            ]
          },
          "metadata": {
            "tags": []
          },
          "execution_count": 46
        }
      ]
    },
    {
      "cell_type": "markdown",
      "metadata": {
        "id": "nmTIj1o7SLVj"
      },
      "source": [
        "# Corridas"
      ]
    },
    {
      "cell_type": "markdown",
      "metadata": {
        "id": "TRRwWdePSVNO"
      },
      "source": [
        "Descrição dos dados </br>\n",
        "name: categórico nominal\n"
      ]
    },
    {
      "cell_type": "code",
      "metadata": {
        "id": "WxS-v2-uSOF5",
        "outputId": "c0e1f05d-fa23-420c-c16d-6b839be1349d",
        "colab": {
          "base_uri": "https://localhost:8080/",
          "height": 0
        }
      },
      "source": [
        "races.head()"
      ],
      "execution_count": 47,
      "outputs": [
        {
          "output_type": "execute_result",
          "data": {
            "text/html": [
              "<div>\n",
              "<style scoped>\n",
              "    .dataframe tbody tr th:only-of-type {\n",
              "        vertical-align: middle;\n",
              "    }\n",
              "\n",
              "    .dataframe tbody tr th {\n",
              "        vertical-align: top;\n",
              "    }\n",
              "\n",
              "    .dataframe thead th {\n",
              "        text-align: right;\n",
              "    }\n",
              "</style>\n",
              "<table border=\"1\" class=\"dataframe\">\n",
              "  <thead>\n",
              "    <tr style=\"text-align: right;\">\n",
              "      <th></th>\n",
              "      <th>raceId</th>\n",
              "      <th>year</th>\n",
              "      <th>round</th>\n",
              "      <th>circuitId</th>\n",
              "      <th>name</th>\n",
              "      <th>date</th>\n",
              "      <th>time</th>\n",
              "      <th>url</th>\n",
              "    </tr>\n",
              "  </thead>\n",
              "  <tbody>\n",
              "    <tr>\n",
              "      <th>0</th>\n",
              "      <td>1</td>\n",
              "      <td>2009</td>\n",
              "      <td>1</td>\n",
              "      <td>1</td>\n",
              "      <td>Australian Grand Prix</td>\n",
              "      <td>2009-03-29</td>\n",
              "      <td>06:00:00</td>\n",
              "      <td>http://en.wikipedia.org/wiki/2009_Australian_G...</td>\n",
              "    </tr>\n",
              "    <tr>\n",
              "      <th>1</th>\n",
              "      <td>2</td>\n",
              "      <td>2009</td>\n",
              "      <td>2</td>\n",
              "      <td>2</td>\n",
              "      <td>Malaysian Grand Prix</td>\n",
              "      <td>2009-04-05</td>\n",
              "      <td>09:00:00</td>\n",
              "      <td>http://en.wikipedia.org/wiki/2009_Malaysian_Gr...</td>\n",
              "    </tr>\n",
              "    <tr>\n",
              "      <th>2</th>\n",
              "      <td>3</td>\n",
              "      <td>2009</td>\n",
              "      <td>3</td>\n",
              "      <td>17</td>\n",
              "      <td>Chinese Grand Prix</td>\n",
              "      <td>2009-04-19</td>\n",
              "      <td>07:00:00</td>\n",
              "      <td>http://en.wikipedia.org/wiki/2009_Chinese_Gran...</td>\n",
              "    </tr>\n",
              "    <tr>\n",
              "      <th>3</th>\n",
              "      <td>4</td>\n",
              "      <td>2009</td>\n",
              "      <td>4</td>\n",
              "      <td>3</td>\n",
              "      <td>Bahrain Grand Prix</td>\n",
              "      <td>2009-04-26</td>\n",
              "      <td>12:00:00</td>\n",
              "      <td>http://en.wikipedia.org/wiki/2009_Bahrain_Gran...</td>\n",
              "    </tr>\n",
              "    <tr>\n",
              "      <th>4</th>\n",
              "      <td>5</td>\n",
              "      <td>2009</td>\n",
              "      <td>5</td>\n",
              "      <td>4</td>\n",
              "      <td>Spanish Grand Prix</td>\n",
              "      <td>2009-05-10</td>\n",
              "      <td>12:00:00</td>\n",
              "      <td>http://en.wikipedia.org/wiki/2009_Spanish_Gran...</td>\n",
              "    </tr>\n",
              "  </tbody>\n",
              "</table>\n",
              "</div>"
            ],
            "text/plain": [
              "   raceId  year  ...      time                                                url\n",
              "0       1  2009  ...  06:00:00  http://en.wikipedia.org/wiki/2009_Australian_G...\n",
              "1       2  2009  ...  09:00:00  http://en.wikipedia.org/wiki/2009_Malaysian_Gr...\n",
              "2       3  2009  ...  07:00:00  http://en.wikipedia.org/wiki/2009_Chinese_Gran...\n",
              "3       4  2009  ...  12:00:00  http://en.wikipedia.org/wiki/2009_Bahrain_Gran...\n",
              "4       5  2009  ...  12:00:00  http://en.wikipedia.org/wiki/2009_Spanish_Gran...\n",
              "\n",
              "[5 rows x 8 columns]"
            ]
          },
          "metadata": {
            "tags": []
          },
          "execution_count": 47
        }
      ]
    },
    {
      "cell_type": "code",
      "metadata": {
        "id": "FMkGL4TCSZrp"
      },
      "source": [
        "races[\"name\"] = races[\"name\"].astype(\"category\")"
      ],
      "execution_count": 48,
      "outputs": []
    },
    {
      "cell_type": "code",
      "metadata": {
        "id": "bGD5DJtCSjGh",
        "outputId": "ef4b6a6d-247e-436e-9a99-4e068a01dc7f",
        "colab": {
          "base_uri": "https://localhost:8080/"
        }
      },
      "source": [
        "races[\"name\"].cat.categories"
      ],
      "execution_count": 49,
      "outputs": [
        {
          "output_type": "execute_result",
          "data": {
            "text/plain": [
              "Index(['70th Anniversary Grand Prix', 'Abu Dhabi Grand Prix',\n",
              "       'Argentine Grand Prix', 'Australian Grand Prix', 'Austrian Grand Prix',\n",
              "       'Azerbaijan Grand Prix', 'Bahrain Grand Prix', 'Belgian Grand Prix',\n",
              "       'Brazilian Grand Prix', 'British Grand Prix',\n",
              "       'Caesars Palace Grand Prix', 'Canadian Grand Prix',\n",
              "       'Chinese Grand Prix', 'Dallas Grand Prix', 'Detroit Grand Prix',\n",
              "       'Dutch Grand Prix', 'Eifel Grand Prix', 'Emilia Romagna Grand Prix',\n",
              "       'European Grand Prix', 'French Grand Prix', 'German Grand Prix',\n",
              "       'Hungarian Grand Prix', 'Indian Grand Prix', 'Indianapolis 500',\n",
              "       'Italian Grand Prix', 'Japanese Grand Prix', 'Korean Grand Prix',\n",
              "       'Luxembourg Grand Prix', 'Malaysian Grand Prix', 'Mexican Grand Prix',\n",
              "       'Monaco Grand Prix', 'Moroccan Grand Prix', 'Pacific Grand Prix',\n",
              "       'Pescara Grand Prix', 'Portuguese Grand Prix', 'Russian Grand Prix',\n",
              "       'San Marino Grand Prix', 'Singapore Grand Prix',\n",
              "       'South African Grand Prix', 'Spanish Grand Prix', 'Styrian Grand Prix',\n",
              "       'Swedish Grand Prix', 'Swiss Grand Prix', 'Turkish Grand Prix',\n",
              "       'Tuscan Grand Prix', 'United States Grand Prix',\n",
              "       'United States Grand Prix West'],\n",
              "      dtype='object')"
            ]
          },
          "metadata": {
            "tags": []
          },
          "execution_count": 49
        }
      ]
    },
    {
      "cell_type": "code",
      "metadata": {
        "id": "lh_TG5MUSSF1",
        "outputId": "567ed99f-2ff5-4073-b7db-14ae75f0d2cc",
        "colab": {
          "base_uri": "https://localhost:8080/"
        }
      },
      "source": [
        "races.dtypes"
      ],
      "execution_count": 50,
      "outputs": [
        {
          "output_type": "execute_result",
          "data": {
            "text/plain": [
              "raceId          int64\n",
              "year            int64\n",
              "round           int64\n",
              "circuitId       int64\n",
              "name         category\n",
              "date           object\n",
              "time           object\n",
              "url            object\n",
              "dtype: object"
            ]
          },
          "metadata": {
            "tags": []
          },
          "execution_count": 50
        }
      ]
    },
    {
      "cell_type": "markdown",
      "metadata": {
        "id": "y64yvyykSxwA"
      },
      "source": [
        "#Resultados\n"
      ]
    },
    {
      "cell_type": "code",
      "metadata": {
        "id": "fT45tbZ-SzMx",
        "outputId": "a578a080-7b77-4461-cb9c-0d7e6771bac1",
        "colab": {
          "base_uri": "https://localhost:8080/",
          "height": 0
        }
      },
      "source": [
        "results.head()"
      ],
      "execution_count": 51,
      "outputs": [
        {
          "output_type": "execute_result",
          "data": {
            "text/html": [
              "<div>\n",
              "<style scoped>\n",
              "    .dataframe tbody tr th:only-of-type {\n",
              "        vertical-align: middle;\n",
              "    }\n",
              "\n",
              "    .dataframe tbody tr th {\n",
              "        vertical-align: top;\n",
              "    }\n",
              "\n",
              "    .dataframe thead th {\n",
              "        text-align: right;\n",
              "    }\n",
              "</style>\n",
              "<table border=\"1\" class=\"dataframe\">\n",
              "  <thead>\n",
              "    <tr style=\"text-align: right;\">\n",
              "      <th></th>\n",
              "      <th>resultId</th>\n",
              "      <th>raceId</th>\n",
              "      <th>driverId</th>\n",
              "      <th>constructorId</th>\n",
              "      <th>number</th>\n",
              "      <th>grid</th>\n",
              "      <th>position</th>\n",
              "      <th>positionText</th>\n",
              "      <th>positionOrder</th>\n",
              "      <th>points</th>\n",
              "      <th>laps</th>\n",
              "      <th>time</th>\n",
              "      <th>milliseconds</th>\n",
              "      <th>fastestLap</th>\n",
              "      <th>rank</th>\n",
              "      <th>fastestLapTime</th>\n",
              "      <th>fastestLapSpeed</th>\n",
              "      <th>statusId</th>\n",
              "    </tr>\n",
              "  </thead>\n",
              "  <tbody>\n",
              "    <tr>\n",
              "      <th>0</th>\n",
              "      <td>1</td>\n",
              "      <td>18</td>\n",
              "      <td>1</td>\n",
              "      <td>1</td>\n",
              "      <td>22</td>\n",
              "      <td>1</td>\n",
              "      <td>1</td>\n",
              "      <td>1</td>\n",
              "      <td>1</td>\n",
              "      <td>10.0</td>\n",
              "      <td>58</td>\n",
              "      <td>1:34:50.616</td>\n",
              "      <td>5690616</td>\n",
              "      <td>39</td>\n",
              "      <td>2</td>\n",
              "      <td>1:27.452</td>\n",
              "      <td>218.300</td>\n",
              "      <td>1</td>\n",
              "    </tr>\n",
              "    <tr>\n",
              "      <th>1</th>\n",
              "      <td>2</td>\n",
              "      <td>18</td>\n",
              "      <td>2</td>\n",
              "      <td>2</td>\n",
              "      <td>3</td>\n",
              "      <td>5</td>\n",
              "      <td>2</td>\n",
              "      <td>2</td>\n",
              "      <td>2</td>\n",
              "      <td>8.0</td>\n",
              "      <td>58</td>\n",
              "      <td>+5.478</td>\n",
              "      <td>5696094</td>\n",
              "      <td>41</td>\n",
              "      <td>3</td>\n",
              "      <td>1:27.739</td>\n",
              "      <td>217.586</td>\n",
              "      <td>1</td>\n",
              "    </tr>\n",
              "    <tr>\n",
              "      <th>2</th>\n",
              "      <td>3</td>\n",
              "      <td>18</td>\n",
              "      <td>3</td>\n",
              "      <td>3</td>\n",
              "      <td>7</td>\n",
              "      <td>7</td>\n",
              "      <td>3</td>\n",
              "      <td>3</td>\n",
              "      <td>3</td>\n",
              "      <td>6.0</td>\n",
              "      <td>58</td>\n",
              "      <td>+8.163</td>\n",
              "      <td>5698779</td>\n",
              "      <td>41</td>\n",
              "      <td>5</td>\n",
              "      <td>1:28.090</td>\n",
              "      <td>216.719</td>\n",
              "      <td>1</td>\n",
              "    </tr>\n",
              "    <tr>\n",
              "      <th>3</th>\n",
              "      <td>4</td>\n",
              "      <td>18</td>\n",
              "      <td>4</td>\n",
              "      <td>4</td>\n",
              "      <td>5</td>\n",
              "      <td>11</td>\n",
              "      <td>4</td>\n",
              "      <td>4</td>\n",
              "      <td>4</td>\n",
              "      <td>5.0</td>\n",
              "      <td>58</td>\n",
              "      <td>+17.181</td>\n",
              "      <td>5707797</td>\n",
              "      <td>58</td>\n",
              "      <td>7</td>\n",
              "      <td>1:28.603</td>\n",
              "      <td>215.464</td>\n",
              "      <td>1</td>\n",
              "    </tr>\n",
              "    <tr>\n",
              "      <th>4</th>\n",
              "      <td>5</td>\n",
              "      <td>18</td>\n",
              "      <td>5</td>\n",
              "      <td>1</td>\n",
              "      <td>23</td>\n",
              "      <td>3</td>\n",
              "      <td>5</td>\n",
              "      <td>5</td>\n",
              "      <td>5</td>\n",
              "      <td>4.0</td>\n",
              "      <td>58</td>\n",
              "      <td>+18.014</td>\n",
              "      <td>5708630</td>\n",
              "      <td>43</td>\n",
              "      <td>1</td>\n",
              "      <td>1:27.418</td>\n",
              "      <td>218.385</td>\n",
              "      <td>1</td>\n",
              "    </tr>\n",
              "  </tbody>\n",
              "</table>\n",
              "</div>"
            ],
            "text/plain": [
              "   resultId  raceId  driverId  ...  fastestLapTime fastestLapSpeed  statusId\n",
              "0         1      18         1  ...        1:27.452         218.300         1\n",
              "1         2      18         2  ...        1:27.739         217.586         1\n",
              "2         3      18         3  ...        1:28.090         216.719         1\n",
              "3         4      18         4  ...        1:28.603         215.464         1\n",
              "4         5      18         5  ...        1:27.418         218.385         1\n",
              "\n",
              "[5 rows x 18 columns]"
            ]
          },
          "metadata": {
            "tags": []
          },
          "execution_count": 51
        }
      ]
    },
    {
      "cell_type": "code",
      "metadata": {
        "id": "EXLhRyZSTBi6"
      },
      "source": [
        "results[\"positionText\"] = results[\"positionText\"].astype(\"category\")"
      ],
      "execution_count": 52,
      "outputs": []
    },
    {
      "cell_type": "code",
      "metadata": {
        "id": "zTT3UdCFS5qk",
        "outputId": "fbc903b5-8191-468b-9515-57dc0da5a5c1",
        "colab": {
          "base_uri": "https://localhost:8080/"
        }
      },
      "source": [
        "results.dtypes"
      ],
      "execution_count": 53,
      "outputs": [
        {
          "output_type": "execute_result",
          "data": {
            "text/plain": [
              "resultId              int64\n",
              "raceId                int64\n",
              "driverId              int64\n",
              "constructorId         int64\n",
              "number               object\n",
              "grid                  int64\n",
              "position             object\n",
              "positionText       category\n",
              "positionOrder         int64\n",
              "points              float64\n",
              "laps                  int64\n",
              "time                 object\n",
              "milliseconds         object\n",
              "fastestLap           object\n",
              "rank                 object\n",
              "fastestLapTime       object\n",
              "fastestLapSpeed      object\n",
              "statusId              int64\n",
              "dtype: object"
            ]
          },
          "metadata": {
            "tags": []
          },
          "execution_count": 53
        }
      ]
    },
    {
      "cell_type": "code",
      "metadata": {
        "id": "ZirmBE6HTKnM",
        "outputId": "8100965b-07cf-4eb7-e249-f82a93ee90ae",
        "colab": {
          "base_uri": "https://localhost:8080/"
        }
      },
      "source": [
        "results[\"positionText\"].cat.categories"
      ],
      "execution_count": 54,
      "outputs": [
        {
          "output_type": "execute_result",
          "data": {
            "text/plain": [
              "Index(['1', '10', '11', '12', '13', '14', '15', '16', '17', '18', '19', '2',\n",
              "       '20', '21', '22', '23', '24', '25', '26', '27', '28', '29', '3', '30',\n",
              "       '31', '32', '33', '4', '5', '6', '7', '8', '9', 'D', 'E', 'F', 'N', 'R',\n",
              "       'W'],\n",
              "      dtype='object')"
            ]
          },
          "metadata": {
            "tags": []
          },
          "execution_count": 54
        }
      ]
    },
    {
      "cell_type": "markdown",
      "metadata": {
        "id": "z1pZRqY4TXP-"
      },
      "source": [
        "#Temporadas\n"
      ]
    },
    {
      "cell_type": "code",
      "metadata": {
        "id": "Oo0EQSKoTaV6",
        "outputId": "38f50c0b-1c9a-4f40-c4e3-547d4052ab98",
        "colab": {
          "base_uri": "https://localhost:8080/",
          "height": 0
        }
      },
      "source": [
        "seasons.head()"
      ],
      "execution_count": 55,
      "outputs": [
        {
          "output_type": "execute_result",
          "data": {
            "text/html": [
              "<div>\n",
              "<style scoped>\n",
              "    .dataframe tbody tr th:only-of-type {\n",
              "        vertical-align: middle;\n",
              "    }\n",
              "\n",
              "    .dataframe tbody tr th {\n",
              "        vertical-align: top;\n",
              "    }\n",
              "\n",
              "    .dataframe thead th {\n",
              "        text-align: right;\n",
              "    }\n",
              "</style>\n",
              "<table border=\"1\" class=\"dataframe\">\n",
              "  <thead>\n",
              "    <tr style=\"text-align: right;\">\n",
              "      <th></th>\n",
              "      <th>year</th>\n",
              "      <th>url</th>\n",
              "    </tr>\n",
              "  </thead>\n",
              "  <tbody>\n",
              "    <tr>\n",
              "      <th>0</th>\n",
              "      <td>2009</td>\n",
              "      <td>https://en.wikipedia.org/wiki/2009_Formula_One...</td>\n",
              "    </tr>\n",
              "    <tr>\n",
              "      <th>1</th>\n",
              "      <td>2008</td>\n",
              "      <td>https://en.wikipedia.org/wiki/2008_Formula_One...</td>\n",
              "    </tr>\n",
              "    <tr>\n",
              "      <th>2</th>\n",
              "      <td>2007</td>\n",
              "      <td>https://en.wikipedia.org/wiki/2007_Formula_One...</td>\n",
              "    </tr>\n",
              "    <tr>\n",
              "      <th>3</th>\n",
              "      <td>2006</td>\n",
              "      <td>https://en.wikipedia.org/wiki/2006_Formula_One...</td>\n",
              "    </tr>\n",
              "    <tr>\n",
              "      <th>4</th>\n",
              "      <td>2005</td>\n",
              "      <td>https://en.wikipedia.org/wiki/2005_Formula_One...</td>\n",
              "    </tr>\n",
              "  </tbody>\n",
              "</table>\n",
              "</div>"
            ],
            "text/plain": [
              "   year                                                url\n",
              "0  2009  https://en.wikipedia.org/wiki/2009_Formula_One...\n",
              "1  2008  https://en.wikipedia.org/wiki/2008_Formula_One...\n",
              "2  2007  https://en.wikipedia.org/wiki/2007_Formula_One...\n",
              "3  2006  https://en.wikipedia.org/wiki/2006_Formula_One...\n",
              "4  2005  https://en.wikipedia.org/wiki/2005_Formula_One..."
            ]
          },
          "metadata": {
            "tags": []
          },
          "execution_count": 55
        }
      ]
    }
  ]
}